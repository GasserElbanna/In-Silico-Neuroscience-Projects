{
 "cells": [
  {
   "cell_type": "markdown",
   "metadata": {},
   "source": [
    "<center><font size = \"10\"> Week 8 - Synapses <center>\n",
    "<center><font size = \"8\">Home work - Solutions<center>"
   ]
  },
  {
   "cell_type": "markdown",
   "metadata": {},
   "source": [
    "<font size = \"3\">Please, write your group number and the names and surnames of the group members here\n",
    "<br>Group number:\n",
    "<br>Group member1:\n",
    "<br>Group member2:\n",
    "<br>Group member3:"
   ]
  },
  {
   "cell_type": "markdown",
   "metadata": {},
   "source": [
    "## Ex1. Plot the dependence of the NMDA conductance on Mg<sup>2+</sup>.\n",
    "\n",
    "<font sie='3'>Create a single compartmental soma neuron to host the synpase modeled in SimpleAMPA_NMDA.mod file. Using the stimulation pattern and the values for the peak synaptic conductances used in tutorial 01, plot the NMDA conductance after removing the magnesium block, without changing the Mg<sup>2+</sup> concentration. Show how the NMDA conductance changes as the magnesium block is gradually removed.\n",
    "    \n",
    "<font sie='3'>Explain what happens to the NMDA conductance and why, in a mechanistic sense, does this happen. What could be the functional purpose of this behavior? [1.5 pts]"
   ]
  },
  {
   "cell_type": "markdown",
   "metadata": {},
   "source": [
    "## Ex2. Configure a pseudolinear synapse (E3)\n",
    "\n",
    "<font size='3'> Create a single compartmental soma neuron, add to it passive properties, add to the center of the neuron a synapse with the mechanism modeled in TsodyksMarkram_AMPA_NMDA.mod file, inject a stimulation pattern and define the conductances for NMDA and AMPA receptors, as it was done in tutorial 02. \n",
    "\n",
    "<font size='3'>Find the values for U1, tau_rec and tau_facil that would make the synapse behave as a pseudolinear synapse and plot the R, Use and conductance curves.\n",
    "    \n",
    "<font size='3'>Define U1, tau_rec and tau_facil. Would you be able to define any relation between these variables depending on the synapse type? If yes, please explain. [1.5 pts]    "
   ]
  },
  {
   "cell_type": "markdown",
   "metadata": {},
   "source": [
    "# Ex 3. Ornstein-Uhlenbeck Process\n",
    "\n",
    "<font size='3'> Based on the data from one of connections in your group folder (.h5 files), calculate the parameters reuqired for an Ornstein-Uhlenbeck process, and plot their distributions as shown in [Barros-Zulaica et al., 2019](https://www.ncbi.nlm.nih.gov/pubmed/31680928). Note that you don't need to plot the smoothed histogram overlay shown in the paper [1.5 pts]\n"
   ]
  },
  {
   "cell_type": "markdown",
   "metadata": {},
   "source": [
    "# Ex 4. Compute failure rate\n",
    "\n",
    "<font size='3'>Compute the failure rate of the EPSPs from the connections of your group folder. The failure rate is the fraction of trials from which no PSP is generated above certain threshold. You can find a way of computing the failure rate in [Feldmeyer et al., 1999](https://www.ncbi.nlm.nih.gov/pmc/articles/PMC2269646/). Plot the mean failure rate for each of the three connections, as a function of the thresholds used in the definition of a failure. What does this tell you about your three different connections? [1.5 pts]"
   ]
  }
 ],
 "metadata": {
  "kernelspec": {
   "display_name": "Python 3",
   "language": "python",
   "name": "python3"
  },
  "language_info": {
   "codemirror_mode": {
    "name": "ipython",
    "version": 3
   },
   "file_extension": ".py",
   "mimetype": "text/x-python",
   "name": "python",
   "nbconvert_exporter": "python",
   "pygments_lexer": "ipython3",
   "version": "3.6.9"
  }
 },
 "nbformat": 4,
 "nbformat_minor": 4
}
