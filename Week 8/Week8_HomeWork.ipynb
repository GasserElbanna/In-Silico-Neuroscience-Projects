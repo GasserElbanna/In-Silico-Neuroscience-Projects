{
 "cells": [
  {
   "cell_type": "markdown",
   "metadata": {},
   "source": [
    "<center><font size = \"10\"> Week 8 - Synapses <center>\n",
    "<center><font size = \"8\">Home work - Solutions<center>"
   ]
  },
  {
   "cell_type": "markdown",
   "metadata": {},
   "source": [
    "<font size = \"3\">Please, write your group number and the names and surnames of the group members here\n",
    "<br>Group number: 1\n",
    "<br>Group member1: Gasser\n",
    "<br>Group member2: Louise\n",
    "<br>Group member3: Milo"
   ]
  },
  {
   "cell_type": "code",
   "execution_count": 1,
   "metadata": {},
   "outputs": [
    {
     "name": "stdout",
     "output_type": "stream",
     "text": [
      "x86_64-w64-mingw32-gcc -DDLL_EXPORT -DPIC -I/cygdrive/c/nrn/bin//../src/scopmath -I/cygdrive/c/nrn/bin//../src/nrnoc -I/cygdrive/c/nrn/bin//../src/oc  -c mod_func.c\n",
      "x86_64-w64-mingw32-gcc  -shared mod_func.o SimpleAMPA_NMDA.o TsodyksMarkram_AMPA_NMDA.o vecevent.o \\\n",
      "  -L/cygdrive/c/nrn/bin//../bin -lnrniv -lpthread -o 917.nrnmech.dll\n",
      "#rebase -b 0x64000000 -v nrnmech.dll\n",
      "\n",
      "nrnmech.dll was built successfully.\n"
     ]
    }
   ],
   "source": [
    "!nrnivmodl "
   ]
  },
  {
   "cell_type": "code",
   "execution_count": 42,
   "metadata": {},
   "outputs": [],
   "source": [
    "#Import packages\n",
    "import neuron\n",
    "from neuron import h\n",
    "import numpy as np\n",
    "import matplotlib.pyplot as plt\n",
    "import h5py\n",
    "%matplotlib inline\n",
    "\n",
    "# Load external files & initialize\n",
    "h.load_file(\"stdrun.hoc\");\n",
    "h.stdinit();"
   ]
  },
  {
   "cell_type": "markdown",
   "metadata": {},
   "source": [
    "## Ex1. Plot the dependence of the NMDA conductance on Mg<sup>2+</sup>.\n",
    "\n",
    "<font sie='3'>Create a single compartmental soma neuron to host the synpase modeled in SimpleAMPA_NMDA.mod file. Using the stimulation pattern and the values for the peak synaptic conductances used in tutorial 01, plot the NMDA conductance after removing the magnesium block, without changing the Mg<sup>2+</sup> concentration. Show how the NMDA conductance changes as the magnesium block is gradually removed.\n",
    "    \n",
    "<font sie='3'>Explain what happens to the NMDA conductance and why, in a mechanistic sense, does this happen. What could be the functional purpose of this behavior? [1.5 pts]"
   ]
  },
  {
   "cell_type": "code",
   "execution_count": 37,
   "metadata": {},
   "outputs": [
    {
     "data": {
      "text/plain": [
       "0.0"
      ]
     },
     "execution_count": 37,
     "metadata": {},
     "output_type": "execute_result"
    }
   ],
   "source": [
    "# Build Soma compartment\n",
    "soma = neuron.h.Section()\n",
    "soma.L = 40\n",
    "soma.diam = 40\n",
    "soma.insert('pas')\n",
    "\n",
    "# Configure the passive biophysics\n",
    "for sec in h.allsec():\n",
    "    sec.Ra = 100\n",
    "    sec.cm = 1\n",
    "    \n",
    "# Create a synapse\n",
    "synapse = h.SimpleAMPA_NMDA(soma(0.5))\n",
    "\n",
    "# Define stimulus\n",
    "stimulator = h.VecStim()\n",
    "spike_fast = np.arange(100,950,5)\n",
    "spike_times = [100.0, 150.0, 200.0, 250.0, 300.0, 350.0, 400.0, 450.0, 950.0]\n",
    "spikes_vector = h.Vector(spike_times)\n",
    "stimulator.play(spikes_vector)\n",
    "\n",
    "connection = h.NetCon(stimulator, synapse)\n",
    "connection.weight[0] = 1.0        # In units of [nS] due to the gmax scaling factor in our .mod file\n",
    "\n",
    "# Build Recording Electrodes\n",
    "g_syn = h.Vector()\n",
    "g_syn.record(synapse._ref_g)\n",
    "i_syn = h.Vector()\n",
    "i_syn.record(synapse._ref_i)\n",
    "v_soma = h.Vector()\n",
    "v_soma.record(soma(0.5)._ref_v)\n",
    "time = h.Vector()\n",
    "time.record(neuron.h._ref_t)\n",
    "\n",
    "# Set synapses conductances (AMPA & NMDA)\n",
    "synapse.gmax_AMPA = 0.001 # uS\n",
    "synapse.gmax_NMDA = 0.7 * 0.001 # uS - 0.7 is a biologically typical ratio of NMDA to AMPA conductance\n",
    "synapse.mg = 1 # mM\n",
    "g_NMDA = h.Vector()\n",
    "g_NMDA.record(synapse._ref_g_NMDA)\n",
    "g_AMPA = h.Vector()\n",
    "g_AMPA.record(synapse._ref_g_AMPA)\n",
    "\n",
    "h.tstop = 1100.0 # ms\n",
    "h.run()"
   ]
  },
  {
   "cell_type": "code",
   "execution_count": 38,
   "metadata": {},
   "outputs": [],
   "source": [
    "def dual_exp(t, tau_r, tau_d, t_start):\n",
    "    \"\"\"Compute the dual exponential time course using the closed form expression.\"\"\"\n",
    "    t = np.array(t)\n",
    "    time_to_peak = (tau_r*tau_d)/(tau_d-tau_r)*np.log(tau_d/tau_r)\n",
    "    factor = -np.exp(-time_to_peak/tau_r)+np.exp(-time_to_peak/tau_d)\n",
    "    f_dual_exp = lambda t: (np.exp(-t/tau_d) - np.exp(-t/tau_r))/factor\n",
    "    dual_exp = np.zeros_like(t)\n",
    "    dual_exp[t>=t_start] = f_dual_exp(t[t>=t_start]-t_start)\n",
    "    return dual_exp"
   ]
  },
  {
   "cell_type": "code",
   "execution_count": 39,
   "metadata": {},
   "outputs": [
    {
     "data": {
      "text/plain": [
       "<matplotlib.legend.Legend at 0x89420c1c88>"
      ]
     },
     "execution_count": 39,
     "metadata": {},
     "output_type": "execute_result"
    },
    {
     "data": {
      "image/png": "[encoded data removed]",
      "text/plain": [
       "<Figure size 432x288 with 1 Axes>"
      ]
     },
     "metadata": {
      "needs_background": "light"
     },
     "output_type": "display_data"
    }
   ],
   "source": [
    "plt.figure()\n",
    "plt.plot(time, v_soma, label='Soma')\n",
    "plt.legend()"
   ]
  },
  {
   "cell_type": "code",
   "execution_count": 40,
   "metadata": {},
   "outputs": [
    {
     "data": {
      "text/plain": [
       "(80.0, 1100.0, 0.0, 0.0011)"
      ]
     },
     "execution_count": 40,
     "metadata": {},
     "output_type": "execute_result"
    },
    {
     "data": {
      "image/png": "[encoded data removed]",
      "text/plain": [
       "<Figure size 432x288 with 1 Axes>"
      ]
     },
     "metadata": {
      "needs_background": "light"
     },
     "output_type": "display_data"
    }
   ],
   "source": [
    "plt.figure()\n",
    "# plt.plot(time, g_syn, label='g')\n",
    "plt.plot(time, g_NMDA, label= 'g_NMDA')\n",
    "# plt.plot(time, g_AMPA, label = 'g_AMPA')\n",
    "plt.axis([80.0, 1100.0, 0.0, 0.0011])"
   ]
  },
  {
   "cell_type": "markdown",
   "metadata": {},
   "source": [
    "### Conclusion:\n",
    "\n",
    "Current flow through NMDAR channels is largely blocked by external Mg2+ ions at resting membrane potentials, but can be relieved by depolarization. NMDARs receptors play a key role in the induction of many forms of synaptic plasticity. As NMDARs are largely blocked by Mg2+ at resting membrane potentials, the kinetics of Mg2+ unblock of NMDAR channels will influence NMDAR activation during synaptic plasticity induction. This is likely to be particularly important during spike-timing dependent plasticity (STDP), where the coincidence of EPSPs and action potentials (APs) within a brief time window determines the magnitude and sign of changes in synaptic strength."
   ]
  },
  {
   "cell_type": "markdown",
   "metadata": {},
   "source": [
    "## Ex2. Configure a pseudolinear synapse (E3)\n",
    "\n",
    "<font size='3'> Create a single compartmental soma neuron, add to it passive properties, add to the center of the neuron a synapse with the mechanism modeled in TsodyksMarkram_AMPA_NMDA.mod file, inject a stimulation pattern and define the conductances for NMDA and AMPA receptors, as it was done in tutorial 02. \n",
    "\n",
    "<font size='3'>Find the values for U1, tau_rec and tau_facil that would make the synapse behave as a pseudolinear synapse and plot the R, Use and conductance curves.\n",
    "    \n",
    "<font size='3'>Define U1, tau_rec and tau_facil. Would you be able to define any relation between these variables depending on the synapse type? If yes, please explain. [1.5 pts]    "
   ]
  },
  {
   "cell_type": "code",
   "execution_count": 41,
   "metadata": {},
   "outputs": [
    {
     "ename": "AttributeError",
     "evalue": "'hoc.HocObject' object has no attribute '_ref_R'",
     "output_type": "error",
     "traceback": [
      "\u001b[1;31m---------------------------------------------------------------------------\u001b[0m",
      "\u001b[1;31mAttributeError\u001b[0m                            Traceback (most recent call last)",
      "\u001b[1;32m<ipython-input-41-881ba3c9ae0d>\u001b[0m in \u001b[0;36m<module>\u001b[1;34m\u001b[0m\n\u001b[0;32m     33\u001b[0m \u001b[0mtime\u001b[0m\u001b[1;33m.\u001b[0m\u001b[0mrecord\u001b[0m\u001b[1;33m(\u001b[0m\u001b[0mneuron\u001b[0m\u001b[1;33m.\u001b[0m\u001b[0mh\u001b[0m\u001b[1;33m.\u001b[0m\u001b[0m_ref_t\u001b[0m\u001b[1;33m)\u001b[0m\u001b[1;33m\u001b[0m\u001b[0m\n\u001b[0;32m     34\u001b[0m \u001b[0mR_syn\u001b[0m \u001b[1;33m=\u001b[0m \u001b[0mh\u001b[0m\u001b[1;33m.\u001b[0m\u001b[0mVector\u001b[0m\u001b[1;33m(\u001b[0m\u001b[1;33m)\u001b[0m\u001b[1;33m\u001b[0m\u001b[0m\n\u001b[1;32m---> 35\u001b[1;33m \u001b[0mR_syn\u001b[0m\u001b[1;33m.\u001b[0m\u001b[0mrecord\u001b[0m\u001b[1;33m(\u001b[0m\u001b[0msynapse\u001b[0m\u001b[1;33m.\u001b[0m\u001b[0m_ref_R\u001b[0m\u001b[1;33m)\u001b[0m\u001b[1;33m\u001b[0m\u001b[0m\n\u001b[0m\u001b[0;32m     36\u001b[0m \u001b[0mUse_syn\u001b[0m \u001b[1;33m=\u001b[0m \u001b[0mh\u001b[0m\u001b[1;33m.\u001b[0m\u001b[0mVector\u001b[0m\u001b[1;33m(\u001b[0m\u001b[1;33m)\u001b[0m\u001b[1;33m\u001b[0m\u001b[0m\n\u001b[0;32m     37\u001b[0m \u001b[0mUse_syn\u001b[0m\u001b[1;33m.\u001b[0m\u001b[0mrecord\u001b[0m\u001b[1;33m(\u001b[0m\u001b[0msynapse\u001b[0m\u001b[1;33m.\u001b[0m\u001b[0m_ref_Use\u001b[0m\u001b[1;33m)\u001b[0m\u001b[1;33m\u001b[0m\u001b[0m\n",
      "\u001b[1;31mAttributeError\u001b[0m: 'hoc.HocObject' object has no attribute '_ref_R'"
     ]
    }
   ],
   "source": [
    "# Build Soma compartment\n",
    "soma = neuron.h.Section()\n",
    "soma.L = 40\n",
    "soma.diam = 40\n",
    "soma.insert('pas')\n",
    "\n",
    "# Configure the passive biophysics\n",
    "for sec in h.allsec():\n",
    "    sec.Ra = 100\n",
    "    sec.cm = 1\n",
    "    \n",
    "# Create a synapse\n",
    "synapse = h.SimpleAMPA_NMDA(soma(0.5))\n",
    "\n",
    "# Define stimulus\n",
    "stimulator = h.VecStim()\n",
    "spike_fast = np.arange(100,950,5)\n",
    "spike_times = [100.0, 150.0, 200.0, 250.0, 300.0, 350.0, 400.0, 450.0, 950.0]\n",
    "spikes_vector = h.Vector(spike_times)\n",
    "stimulator.play(spikes_vector)\n",
    "\n",
    "connection = h.NetCon(stimulator, synapse)\n",
    "connection.weight[0] = 1.0        # In units of [nS] due to the gmax scaling factor in our .mod file\n",
    "\n",
    "# Build Recording Electrodes\n",
    "g_syn = h.Vector()\n",
    "g_syn.record(synapse._ref_g)\n",
    "i_syn = h.Vector()\n",
    "i_syn.record(synapse._ref_i)\n",
    "v_soma = h.Vector()\n",
    "v_soma.record(soma(0.5)._ref_v)\n",
    "time = h.Vector()\n",
    "time.record(neuron.h._ref_t)\n",
    "R_syn = h.Vector()\n",
    "R_syn.record(synapse._ref_R)\n",
    "Use_syn = h.Vector()\n",
    "Use_syn.record(synapse._ref_Use)\n",
    "\n",
    "# Set synapses conductances (AMPA & NMDA)\n",
    "synapse.gmax_AMPA = 0.001 # uS\n",
    "synapse.gmax_NMDA = 0.7 * 0.001 # uS - 0.7 is a biologically typical ratio of NMDA to AMPA conductance\n",
    "synapse.mg = 1 # mM\n",
    "g_NMDA = h.Vector()\n",
    "g_NMDA.record(synapse._ref_g_NMDA)\n",
    "g_AMPA = h.Vector()\n",
    "g_AMPA.record(synapse._ref_g_AMPA)\n",
    "\n",
    "h.tstop = 1000.0 # ms\n",
    "h.run()"
   ]
  },
  {
   "cell_type": "code",
   "execution_count": null,
   "metadata": {},
   "outputs": [],
   "source": [
    "synapse.U1 = ?? # Baseline release probability\n",
    "synapse.tau_rec = ?? # ms - recovery from depression\n",
    "synapse.tau_facil = ?? # ms - relaxation from facilitation"
   ]
  },
  {
   "cell_type": "markdown",
   "metadata": {},
   "source": [
    "# Ex 3. Ornstein-Uhlenbeck Process\n",
    "\n",
    "<font size='3'> Based on the data from one of connections in your group folder (.h5 files), calculate the parameters reuqired for an Ornstein-Uhlenbeck process, and plot their distributions as shown in [Barros-Zulaica et al., 2019](https://www.ncbi.nlm.nih.gov/pubmed/31680928). Note that you don't need to plot the smoothed histogram overlay shown in the paper [1.5 pts]\n"
   ]
  },
  {
   "cell_type": "code",
   "execution_count": 56,
   "metadata": {},
   "outputs": [
    {
     "name": "stdout",
     "output_type": "stream",
     "text": [
      "<KeysViewHDF5 ['v0', 'v1', 'v10', 'v11', 'v12', 'v13', 'v14', 'v15', 'v16', 'v17', 'v18', 'v19', 'v2', 'v20', 'v3', 'v4', 'v5', 'v6', 'v7', 'v8', 'v9']>\n"
     ]
    }
   ],
   "source": [
    "data1 = h5py.File('connection_c1.h5', 'r')\n",
    "data2 = h5py.File('connection_c2.h5', 'r')\n",
    "data3 = h5py.File('connection_c4.h5', 'r')\n",
    "\n",
    "print(data.keys())"
   ]
  },
  {
   "cell_type": "code",
   "execution_count": 50,
   "metadata": {},
   "outputs": [
    {
     "data": {
      "text/plain": [
       "[<matplotlib.lines.Line2D at 0x8943354c88>]"
      ]
     },
     "execution_count": 50,
     "metadata": {},
     "output_type": "execute_result"
    },
    {
     "data": {
      "image/png": "[encoded data removed]",
      "text/plain": [
       "<Figure size 432x288 with 1 Axes>"
      ]
     },
     "metadata": {
      "needs_background": "light"
     },
     "output_type": "display_data"
    }
   ],
   "source": [
    "# Create an array with the data\n",
    "\n",
    "connection_array = []\n",
    "for v in data.keys():\n",
    "    dat = data.get(v)\n",
    "    dat = np.array(dat)\n",
    "    connection_array.append(dat)\n",
    "\n",
    "mean_trace = np.mean(connection_array, axis = 0)\n",
    "\n",
    "plt.figure()\n",
    "for rep in connection_array:\n",
    "    plt.plot(rep, 'b--')\n",
    "plt.plot(mean_trace, 'r')\n"
   ]
  },
  {
   "cell_type": "code",
   "execution_count": 51,
   "metadata": {},
   "outputs": [],
   "source": [
    "def amp_rise_lat_firstEPSP(sample_connection, STIM_TIMES, time, t_wind_bef, t_wind_aft, PLOT = False):\n",
    "    \"\"\"\n",
    "    This function selects the rise curve (first EPSP) and find the  5, 20 and 80 % of the amplitude.\n",
    "    Firstly computes the amplitude as the difference minimum - maximum in the interval (first_stimulus, max_peak).\n",
    "    Secondly computes the percentages and find the times for these respective values.\n",
    "    Tau_rise = 80%_time - 20%_time (Feldmeyer et al., 1999)\n",
    "    latency = 5%_time - first_stimulus\n",
    "    :param sample_connection: array with voltage traces oriented (voltage vs trials)(row vs column)\n",
    "    :param STIM_TIMES: list with the stimuli points\n",
    "    :param time: list with time steps in s\n",
    "    :param t_wind_aft: time window after the stim time to compute max and min\n",
    "    :param t_wind_bef: time window before the stim time to compute max and min\n",
    "    :return amp_value: amplitude of the first EPSP computed as the difference between the 20 and the 80 % of rise\n",
    "    :return TAU_rise: list with tau_rise values in ms. Computed as the distance between the times when\n",
    "    the 20 and 80 % of the rise part for the first EPSP happens\n",
    "    :return latency: list with latency values in ms. Computed as the time between the AP of the presynaptic cell\n",
    "    and the 5% of the first EPSP\n",
    "    \"\"\"\n",
    "    # The analysis are performed over the mean trace\n",
    "    conn = np.mean(sample_connection, axis=0)\n",
    "\n",
    "    # save only the trace part for the first peak for voltage and time\n",
    "    rise_curve = conn[STIM_TIMES[0] - t_wind_bef:STIM_TIMES[0] + t_wind_aft]\n",
    "    rise_curve_time = time[STIM_TIMES[0] - t_wind_bef:STIM_TIMES[0] + t_wind_aft]\n",
    "\n",
    "    # find max, min and compute amplitude\n",
    "    max_value = np.max(rise_curve)\n",
    "    min_value = np.min(rise_curve)\n",
    "    amp_value_total = np.abs(max_value - min_value)\n",
    "\n",
    "    # compute percentages\n",
    "    twenty_peak_value = amp_value_total * 80.0 / 100.0\n",
    "    eighty_peak_value = amp_value_total * 20.0 / 100.0\n",
    "    five_peak_value = amp_value_total * 95.0 / 100.0\n",
    "    amp_value = eighty_peak_value - twenty_peak_value\n",
    "\n",
    "    # Find the exact voltage point\n",
    "    twenty_curve_value = -(twenty_peak_value - max_value)\n",
    "    eighty_curve_value = -(eighty_peak_value - max_value)\n",
    "    five_curve_value = -(five_peak_value - max_value)\n",
    "\n",
    "    # Find time point for the minimum\n",
    "    for x, s in zip(rise_curve, rise_curve_time):\n",
    "        if (x == min_value):\n",
    "            min_time = s\n",
    "\n",
    "    # Find time points for the 5, 20 and 80 % of the first EPSP\n",
    "    n = 0\n",
    "    m = 0\n",
    "    l = 0\n",
    "    for i, j in zip(rise_curve, rise_curve_time):\n",
    "        if (n == 0) and (i > twenty_curve_value) and (j > min_time):\n",
    "            twenty_time = j\n",
    "            n = 1\n",
    "        if (m == 0) and (i > eighty_curve_value) and (j > min_time):\n",
    "            eighty_time = j\n",
    "            m = 1\n",
    "        if (l == 0) and (i > five_curve_value) and (j > min_time):\n",
    "            five_time = j\n",
    "            l = 1\n",
    "    \n",
    "    pre_AP = time[STIM_TIMES[0]]\n",
    "    TAU_rise = np.abs((twenty_time-eighty_time))\n",
    "    latency = np.abs((five_time)-pre_AP)\n",
    "\n",
    "    # PLOT first EPSP with the computed points for the 5, 20 and 80 % of the first EPSP\n",
    "    if PLOT == True:\n",
    "        plt.figure()\n",
    "        plt.plot(rise_curve_time, rise_curve, label='first EPSP')\n",
    "        plt.plot(twenty_time, twenty_curve_value, 'ro', label='20%')\n",
    "        plt.plot(eighty_time, eighty_curve_value, 'mo', label='80%')\n",
    "        plt.plot(five_time, five_curve_value, 'go', label='5%')\n",
    "        plt.legend()\n",
    "        plt.show()\n",
    "\n",
    "    return amp_value, TAU_rise, latency"
   ]
  },
  {
   "cell_type": "code",
   "execution_count": 52,
   "metadata": {},
   "outputs": [
    {
     "data": {
      "image/png": "[encoded data removed]",
      "text/plain": [
       "<Figure size 432x288 with 1 Axes>"
      ]
     },
     "metadata": {
      "needs_background": "light"
     },
     "output_type": "display_data"
    },
    {
     "name": "stdout",
     "output_type": "stream",
     "text": [
      "Amplitude =  -0.7139286824635049 mV\n",
      "Tau_rise =  0.001899999999999999 s\n",
      "latency =  0.005099999999999993 s\n"
     ]
    }
   ],
   "source": [
    "# times where a stimulus is performed\n",
    "STIM_TIMES = [1000, 1500, 2000, 2500, 3000, 3500, 4000, 4500, 10000]\n",
    "t_wind_aft = 300\n",
    "t_wind_bef = 50\n",
    "time = np.arange(0,1.3,0.0001)\n",
    "\n",
    "\n",
    "amp_value, TAU_rise, latency = amp_rise_lat_firstEPSP(connection_array, STIM_TIMES, time, t_wind_bef, t_wind_aft, PLOT = True)\n",
    "\n",
    "print('Amplitude = ', amp_value*1000.0, 'mV')\n",
    "print('Tau_rise = ', TAU_rise, 's')\n",
    "print('latency = ', latency, 's')"
   ]
  },
  {
   "cell_type": "code",
   "execution_count": 54,
   "metadata": {},
   "outputs": [],
   "source": [
    "def compute_amplitude(mean_trace, STIM_TIMES, t_wind_bef, t_wind_aft):\n",
    "    \"\"\"\n",
    "    This function compute the amplitudes of the EPSPs in mean_trace\n",
    "    :param mean_trace: deconvelved voltage data 1D-array (list)\n",
    "    :param STIM_TIMES: times where a stimulus is performed\n",
    "    :param t_wind_bef: time window before the stimulus\n",
    "    :param t_wind_aft: time window after the stimulus \n",
    "    :return amplitudes: list with amplitude values\n",
    "    \"\"\"\n",
    "    amplitudes = []\n",
    "    max_list = []\n",
    "    min_list = []\n",
    "    for t in STIM_TIMES:\n",
    "        mx = np.max(mean_trace[(t-t_wind_bef):(t + t_wind_aft)])\n",
    "        mn = np.min(mean_trace[(t-t_wind_bef):(t + t_wind_aft)])\n",
    "        amp = np.abs(mx - mn) \n",
    "        max_list.append(mx*1000.0) # multiply by 1000.0 to convert values to mV\n",
    "        min_list.append(mn*1000.0)\n",
    "        amplitudes.append(amp*1000.0)\n",
    "    return max_list, min_list, amplitudes"
   ]
  },
  {
   "cell_type": "code",
   "execution_count": 55,
   "metadata": {},
   "outputs": [
    {
     "name": "stdout",
     "output_type": "stream",
     "text": [
      "Amps =  [1.189881137439175, 0.6511899686994921, 0.41517863670985367, 0.3678564514432575, 0.34226299751373424, 0.3038698009082269, 0.3047620966320913, 0.275296824319024, 0.9407748778661185]\n"
     ]
    }
   ],
   "source": [
    "max_list, min_list, amps = compute_amplitude(mean_trace, STIM_TIMES, t_wind_bef, t_wind_aft)\n",
    "\n",
    "print('Amps = ', amps)"
   ]
  },
  {
   "cell_type": "markdown",
   "metadata": {},
   "source": [
    "# Ex 4. Compute failure rate\n",
    "\n",
    "<font size='3'>Compute the failure rate of the EPSPs from the connections of your group folder. The failure rate is the fraction of trials from which no PSP is generated above certain threshold. You can find a way of computing the failure rate in [Feldmeyer et al., 1999](https://www.ncbi.nlm.nih.gov/pmc/articles/PMC2269646/). Plot the mean failure rate for each of the three connections, as a function of the thresholds used in the definition of a failure. What does this tell you about your three different connections? [1.5 pts]"
   ]
  }
 ],
 "metadata": {
  "kernelspec": {
   "display_name": "Python 3",
   "language": "python",
   "name": "python3"
  },
  "language_info": {
   "codemirror_mode": {
    "name": "ipython",
    "version": 3
   },
   "file_extension": ".py",
   "mimetype": "text/x-python",
   "name": "python",
   "nbconvert_exporter": "python",
   "pygments_lexer": "ipython3",
   "version": "3.6.2rc2"
  }
 },
 "nbformat": 4,
 "nbformat_minor": 4
}
