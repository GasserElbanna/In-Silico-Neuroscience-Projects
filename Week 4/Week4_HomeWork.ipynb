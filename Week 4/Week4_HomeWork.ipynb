{
 "cells": [
  {
   "cell_type": "markdown",
   "metadata": {},
   "source": [
    "<center><font size = \"10\"> Week 4 - Cable Theory <center>\n",
    "<center><font size = \"8\">Home work<center>"
   ]
  },
  {
   "cell_type": "markdown",
   "metadata": {},
   "source": [
    "#### Group: Group 1"
   ]
  },
  {
   "cell_type": "markdown",
   "metadata": {},
   "source": [
    "# Ex1: Voltage variation in space\n",
    "\n",
    "<font size=\"3\">Create a simple morphology with only one section called soma, as it is done in tutorial 01 of this week 4, point 1. Perform a curret clamp experiment in which the stimulation has the following parameters: delay 1 ms, amplitud 1 nA and duration 10 ms. Then do the following:\n",
    "    \n",
    "<font size=\"3\">- instead of injecting current at the middle of the section, inject current simultaneously at the two endpoints\n",
    "        \n",
    "<font size=\"3\">- without changing the morphology, increase the voltage attenuation from the center of the section to the ends. \n",
    "     \n",
    "\n",
    "<font size=\"3\">Plot the result for each of the previous points and explain what is happening in each situation. In this exercise is important to keep the previous values each time you change some parameter.\n",
    "If not, you won’t be able to compare them.\n",
    "    \n",
    "[0.5 points]"
   ]
  },
  {
   "cell_type": "code",
   "execution_count": 133,
   "metadata": {},
   "outputs": [],
   "source": [
    "# Importing Libraries\n",
    "\n",
    "%matplotlib inline\n",
    "from neuron import h\n",
    "import matplotlib.pyplot as plt\n",
    "import numpy as np\n",
    "import math as m\n",
    "import neurom as nm\n",
    "from neurom import viewer\n",
    "from hoc2swc import neuron2swc"
   ]
  },
  {
   "cell_type": "code",
   "execution_count": 134,
   "metadata": {},
   "outputs": [],
   "source": [
    "# Global containers for objects\n",
    "stimdictlst = [] # stimulations\n",
    "vdictlst = []    # voltage recordings\n",
    "idictlst = []    # current recordings\n",
    "\n",
    "def reset():\n",
    "    del stimdictlst[:]\n",
    "    del vdictlst[:]\n",
    "    del idictlst[:]\n",
    "\n",
    "# Inject a current step with parameters at location\n",
    "def iclamp(location, delay, amplitude, duration):\n",
    "    stim = h.IClamp(location) # Place a stimulation electrode at location\n",
    "    stim.delay = delay   # stim delay (ms)\n",
    "    stim.amp = amplitude # stim amplitude (pA)\n",
    "    stim.dur = duration  # stim duration (ms)\n",
    "    stimdictlst.append({ 'stim': stim, 'loc': str(location) })\n",
    "    return stim\n",
    "\n",
    "# Setup recording of voltage at location\n",
    "def vrecord(location):\n",
    "    vec = h.Vector()\n",
    "    vec.record(location._ref_v) # record voltage at location\n",
    "    vdictlst.append({ 'vec': vec, 'loc': str(location) })\n",
    "    return vec\n",
    "\n",
    "# Setup recording of stimulation current\n",
    "def irecord(stimdict):\n",
    "    vec = h.Vector()\n",
    "    vec.record(stimdict['stim']._ref_i) # record stimulation current\n",
    "    idictlst.append({ 'vec': vec, 'loc': stimdict['loc'] })\n",
    "    return vec\n",
    "\n",
    "# Initialize and run a simulation\n",
    "def initrun(v_i,t_stop):\n",
    "    # Record time\n",
    "    rec_t = h.Vector()\n",
    "    rec_t.record(h._ref_t)\n",
    "    # Record current for all stimuli\n",
    "    for stimdict in stimdictlst:\n",
    "        irecord(stimdict)\n",
    "    # Setup simulation and run\n",
    "    h.load_file('stdrun.hoc')\n",
    "    h.finitialize(v_i) # initial voltage\n",
    "    h.continuerun(t_stop) # final time\n",
    "    return rec_t\n",
    "\n",
    "# Plot current and voltage for all stims and recordings\n",
    "def tvi_plots(t, vdictlst, idictlst, vmax = 70, imax = 2):\n",
    "    plt.figure()\n",
    "    plt.title('currents')\n",
    "    plt.ylim((-0.01,imax))\n",
    "    plt.xlabel('t (ms)')\n",
    "    plt.ylabel('I (nA)')\n",
    "    for i, idict in enumerate(idictlst):\n",
    "        plt.plot(t,idict['vec'],label=('Soma'+str(i)))\n",
    "    plt.legend(loc=1)\n",
    "    \n",
    "    plt.figure()\n",
    "    plt.title('voltages')\n",
    "#     plt.ylim((-71,vmax))\n",
    "    plt.ylabel('V (mV)')\n",
    "    plt.xlabel('t (ms)')\n",
    "    for vdict in vdictlst:\n",
    "        plt.plot(t,vdict['vec'],label='Soma(0.5)')\n",
    "    plt.legend(loc=1)"
   ]
  },
  {
   "cell_type": "code",
   "execution_count": 135,
   "metadata": {},
   "outputs": [],
   "source": [
    "# Create a section \n",
    "soma = h.Section()\n",
    "soma.Ra = 1\n",
    "soma.L = 100\n",
    "soma.diam = 10\n",
    "soma.cm = 1"
   ]
  },
  {
   "cell_type": "code",
   "execution_count": 136,
   "metadata": {},
   "outputs": [],
   "source": [
    "# Inject a current step into the soma\n",
    "reset()\n",
    "delay = 1 #ms\n",
    "amp = 1 #nA\n",
    "dur = 10 #ms\n",
    "stim_1 = iclamp(soma(0), delay, amp, dur)\n",
    "stim_2 = iclamp(soma(1), delay, amp, dur)\n",
    "\n",
    "vec_v = vrecord(soma(0.5))"
   ]
  },
  {
   "cell_type": "code",
   "execution_count": 137,
   "metadata": {},
   "outputs": [
    {
     "data": {
      "image/png": "[encoded data removed]",
      "text/plain": [
       "<Figure size 432x288 with 1 Axes>"
      ]
     },
     "metadata": {
      "needs_background": "light"
     },
     "output_type": "display_data"
    },
    {
     "data": {
      "image/png": "[encoded data removed]",
      "text/plain": [
       "<Figure size 432x288 with 1 Axes>"
      ]
     },
     "metadata": {
      "needs_background": "light"
     },
     "output_type": "display_data"
    }
   ],
   "source": [
    "# Simulate and plot\n",
    "v_init = -70\n",
    "t_stop = 20\n",
    "tvi_plots(initrun(v_init,t_stop),vdictlst,idictlst)"
   ]
  },
  {
   "cell_type": "markdown",
   "metadata": {},
   "source": [
    "#### - What is happening in this first situation:\n",
    "When plotting the recorded current and voltage in the middle of the soma (soma(0.5)) without any voltage attenuation, the steepness of linear voltage response is the combination of both injections.  Indeed, when we delay one of the injection compared to the other, we notice that the voltage ramps is divided into two steepness and there is coherent dissymmetry."
   ]
  },
  {
   "cell_type": "markdown",
   "metadata": {},
   "source": [
    "#### - Without changing the morphology, increase the voltage attenuation from the center of the section to the ends:"
   ]
  },
  {
   "cell_type": "code",
   "execution_count": 153,
   "metadata": {},
   "outputs": [],
   "source": [
    "# Create a section \n",
    "soma = h.Section()\n",
    "soma.Ra = 0.00000000000001\n",
    "soma.L = 100\n",
    "soma.diam = 10\n",
    "soma.cm = 1"
   ]
  },
  {
   "cell_type": "code",
   "execution_count": 154,
   "metadata": {},
   "outputs": [],
   "source": [
    "# Inject a current step into the soma\n",
    "reset()\n",
    "delay = 1 #ms\n",
    "amp = 1 #nA\n",
    "dur = 10 #ms\n",
    "stim_1 = iclamp(soma(0), delay, amp, dur)\n",
    "stim_2 = iclamp(soma(1), delay, amp, dur)\n",
    "\n",
    "vec_v = vrecord(soma(0.5))"
   ]
  },
  {
   "cell_type": "code",
   "execution_count": 155,
   "metadata": {},
   "outputs": [
    {
     "data": {
      "image/png": "[encoded data removed]",
      "text/plain": [
       "<Figure size 432x288 with 1 Axes>"
      ]
     },
     "metadata": {
      "needs_background": "light"
     },
     "output_type": "display_data"
    },
    {
     "data": {
      "image/png": "[encoded data removed]",
      "text/plain": [
       "<Figure size 432x288 with 1 Axes>"
      ]
     },
     "metadata": {
      "needs_background": "light"
     },
     "output_type": "display_data"
    }
   ],
   "source": [
    "# Simulate and plot\n",
    "v_init = -70\n",
    "t_stop = 20\n",
    "tvi_plots(initrun(v_init,t_stop),vdictlst,idictlst)"
   ]
  },
  {
   "cell_type": "markdown",
   "metadata": {},
   "source": [
    "#### - What is happening in second situation:\n",
    "\n",
    "When increasing the axial resisitivity, the length constant from the cable equation is reduced.  As a result, in order to increase the voltage attenuation, one therefore needs to increase the axial resisitivity.  Indeed, from the plots above, when increasing the voltage attenuation, one can see ...\n",
    "# !!!!! ADD CONCLUSION AND WHAT WE CAN SEE !!!! (and for exo 2 check out if closest to soma is axon(0) or axon(1))"
   ]
  },
  {
   "cell_type": "markdown",
   "metadata": {},
   "source": [
    "# Ex 2. Action Potential Propagation. \n",
    "\n",
    "<font size='3'>Create a neuron with a soma, an axon with three segments, and a dendrite with three branches, each of the branches with different diameters but with the same length. Add passive properties to every section and add active properties (hh) to the soma, axon and the dendrite, but not to the branches. You can use the parameters from tutorial 02. Perform a current clamp experiment in which the axon is stimulated at the end closest to the soma and the branches are recorded at the far end. Choose the best stimulation parameters to see the signal attenuation in the branches.\n",
    "    \n",
    "<font size='3'>Explain with your own words:\n",
    "    \n",
    "<font size='3'>- What are passive and active membrane properties?\n",
    "    \n",
    "<font size='3'>- What is going on with the signal propagation from the soma to the branches?\n",
    "    \n",
    "<font size='3'>- What happen if the active properties of the dendrite are removed?\n",
    "    \n",
    "<font size='3'>- Record the potential at the end of the axon. What happens if the active properties of the middle axonal section are removed? What could this represent biologically?\n",
    "    \n",
    "[1.5 points]"
   ]
  },
  {
   "cell_type": "code",
   "execution_count": 67,
   "metadata": {},
   "outputs": [],
   "source": [
    "%matplotlib inline\n",
    "\n",
    "from neuron import h\n",
    "import matplotlib.pyplot as plt\n",
    "import numpy as np\n",
    "import math as m\n",
    "import neurom as nm\n",
    "from neurom import viewer\n",
    "from hoc2swc import neuron2swc"
   ]
  },
  {
   "cell_type": "code",
   "execution_count": 94,
   "metadata": {},
   "outputs": [],
   "source": [
    "# Functions needed to run simulation and record (put here again, supposing that we have restarted the kernel in between exo 1 and exo 2)\n",
    "\n",
    "# Global containers for objects\n",
    "stimdictlst = [] # stimulations\n",
    "vdictlst = []    # voltage recordings\n",
    "idictlst = []    # current recordings\n",
    "\n",
    "# Convenience functions for setting up stimulation, recording and simulation\n",
    "\n",
    "def reset():\n",
    "    del stimdictlst[:]\n",
    "    del vdictlst[:]\n",
    "    del idictlst[:]\n",
    "\n",
    "# Inject a current step with parameters at location\n",
    "def iclamp(location, delay = 100, amplitude = 0.1, duration = 500):\n",
    "    stim = h.IClamp(location) # Place a stimulation electrode at location\n",
    "    stim.delay = delay   # stim delay (ms)\n",
    "    stim.amp = amplitude # stim amplitude (pA)\n",
    "    stim.dur = duration  # stim duration (ms)\n",
    "    stimdictlst.append({ 'stim': stim, 'loc': str(location) })\n",
    "\n",
    "# Initialize and run a simulation\n",
    "def initrun(v_i,t_stop):\n",
    "    # Record time\n",
    "    rec_t = h.Vector()\n",
    "    rec_t.record(h._ref_t)\n",
    "    # Record current for all stimuli\n",
    "    for stimdict in stimdictlst:\n",
    "        irecord(stimdict)\n",
    "    # Setup simulation and run\n",
    "    h.load_file('stdrun.hoc')\n",
    "    h.finitialize(v_i) # initial voltage\n",
    "    h.continuerun(t_stop) # final time\n",
    "    return rec_t\n",
    "\n",
    "# Plot current and voltage for all stims and recordings\n",
    "def tvi_plots(t, vdictlst = [], idictlst = [], vmax = 40, imax = 0.5):\n",
    "    plt.figure()\n",
    "    plt.title('currents')\n",
    "    #plt.ylim((-0.01,imax))\n",
    "    plt.xlabel('t (ms)')\n",
    "    plt.ylabel('I (pA)')\n",
    "    for idict in idictlst:\n",
    "        plt.plot(t,idict['vec'],label=idict['loc'])\n",
    "    plt.legend(loc=1)\n",
    "    \n",
    "    plt.figure()\n",
    "    plt.title('voltages')\n",
    "    #plt.ylim((-71,vmax))\n",
    "    plt.ylabel('V (mV)')\n",
    "    plt.xlabel('t (ms)')\n",
    "    for vdict in vdictlst:\n",
    "        plt.plot(t,vdict['vec'],label=vdict['loc'])\n",
    "    plt.legend(loc=1)\n",
    "\n",
    "# Setup recording of voltage at location\n",
    "def vrecord(location):\n",
    "    vec = h.Vector()\n",
    "    vec.record(location._ref_v) # record voltage at location\n",
    "    vdictlst.append({ 'vec': vec, 'loc': str(location) })\n",
    "\n",
    "# Setup recording of stimulation current\n",
    "def irecord(stimdict):\n",
    "    vec = h.Vector()\n",
    "    vec.record(stimdict['stim']._ref_i) # record stimulation current\n",
    "    idictlst.append({ 'vec': vec, 'loc': stimdict['loc'] })\n",
    "    \n",
    "# Plot morphology\n",
    "def plot_morpho(fname = 'cell_01'):\n",
    "    fname = '{}.swc'.format(fname)\n",
    "    h.define_shape()\n",
    "    h.topology()\n",
    "    neuron2swc(fname, swap_yz=False)\n",
    "    neuron1 = nm.load_neuron(fname)\n",
    "    viewer.draw(neuron1)"
   ]
  },
  {
   "cell_type": "code",
   "execution_count": 95,
   "metadata": {},
   "outputs": [],
   "source": [
    "# Creating Neuron Sections\n",
    "soma, dend, db1, db2, db3, axon = [h.Section(name=n) for n in ['soma', 'dend', 'dend_branch1', 'dend_branch2', 'dend_branch3', 'axon']]\n",
    "\n",
    "# SOMA SECTION\n",
    "soma.L = 20       # length (µm)\n",
    "soma.diam = 20    # diameter (µm)\n",
    "soma.Ra = 123.0   # axial resistivity (Ω*cm)\n",
    "soma.cm = 1       # capacitance (µF/cm^2) \n",
    "\n",
    "# AXON SECTION\n",
    "axon.diam = 3\n",
    "axon.L = 100      # length (µm)\n",
    "axon.nseg = 3     # diameter (µm)\n",
    "axon.Ra = 123.0   # axial resistivity (Ω*cm)\n",
    "axon.cm = 1       # capacitance (µF/cm^2) \n",
    "\n",
    "\n",
    "# DENDRITE SECTION\n",
    "dend.L = 200       # length (µm)\n",
    "dend.diam = 1     # diameter (µm)\n",
    "dend.nseg = 5     # number of segments\n",
    "dend.Ra = 123.0   # axial resistivity (Ω*cm)\n",
    "dend.cm = 1       # capacitance (µF/cm^2) \n",
    "\n",
    "# DENDRITE BRANCHES SECTIONS\n",
    "# Long and thick\n",
    "db1.L = 100\n",
    "db1.diam = 3\n",
    "db2.L = 100\n",
    "db2.diam = 0.1\n",
    "db3.L = 100\n",
    "db3.diam = 0.01\n",
    "\n",
    "# TOPOLOGY\n",
    "axon.connect(soma(0))\n",
    "dend.connect(soma(1))\n",
    "db1.connect(dend(1))\n",
    "db2.connect(dend(1))\n",
    "db3.connect(dend(1))\n",
    "\n",
    "# INSERT PASSIVE PROPERTIES\n",
    "soma.insert('pas')\n",
    "for seg in soma:\n",
    "    seg.pas.g = 0.0003 # Conductance of the leak channels (in S/cm2)\n",
    "    seg.pas.e = -70    # Leak reversal potential, it influences the steady state membrane potential\n",
    "\n",
    "axon.insert('pas')\n",
    "for seg in axon:\n",
    "    seg.pas.g = 0.0003 # Conductance of the leak channels (in S/cm2)\n",
    "    seg.pas.e = -70    # Leak reversal potential, it influences the steady state membrane potential\n",
    "    \n",
    "dend.insert('pas')\n",
    "for seg in dend:\n",
    "    seg.pas.g = 0.0003 # Conductance of the leak channels (in S/cm2)\n",
    "    seg.pas.e = -70    # Leak reversal potential, it influences the steady state membrane potential\n",
    "\n",
    "branchlst = [db1, db2, db3]\n",
    "\n",
    "for branch in branchlst:\n",
    "    branch.Ra = 130.0   # axial resistivity (Ω*cm)\n",
    "    branch.cm = 1       # capacitance (µF/cm^2) \n",
    "    branch.insert('pas')\n",
    "    for seg in branch:\n",
    "        seg.pas.g = 0.0003 # Conductance of the leak channels (in S/cm2)\n",
    "        seg.pas.e = -70    # Leak reversal potential, it influences the steady state membrane potential\n",
    "    \n",
    "# INSERT ACTIVE PROPERTIES\n",
    "soma.insert('hh')\n",
    "for seg in soma:\n",
    "    seg.hh.gkbar = 0.1   # Maximal conductance of the potassium channels\n",
    "    seg.hh.gnabar = 0.4  # Maximal conductance of the sodium channels\n",
    "    \n",
    "axon.insert('hh')\n",
    "for seg in axon:\n",
    "    seg.hh.gkbar = 0.1   # Maximal conductance of the potassium channels\n",
    "    seg.hh.gnabar = 0.4  # Maximal conductance of the sodium channels\n",
    "\n",
    "dend.insert('hh')\n",
    "for seg in dend:\n",
    "    seg.hh.gkbar = 0.1   # Maximal conductance of the potassium channels\n",
    "    seg.hh.gnabar = 0.4  # Maximal conductance of the sodium channels"
   ]
  },
  {
   "cell_type": "code",
   "execution_count": 96,
   "metadata": {},
   "outputs": [
    {
     "name": "stdout",
     "output_type": "stream",
     "text": [
      "\n",
      "|-|       dend1(0-1)\n",
      "|-|       soma(0-1)\n",
      "   `----|       dend(0-1)\n",
      "         `|       dend_branch1(0-1)\n",
      "         `|       dend_branch2(0-1)\n",
      "         `|       dend_branch3(0-1)\n",
      " `--|       axon(0-1)\n",
      "\n"
     ]
    },
    {
     "data": {
      "text/plain": [
       "1.0"
      ]
     },
     "execution_count": 96,
     "metadata": {},
     "output_type": "execute_result"
    }
   ],
   "source": [
    "# VISUALIZING TOPOLOGY\n",
    "h.topology()"
   ]
  },
  {
   "cell_type": "code",
   "execution_count": 97,
   "metadata": {},
   "outputs": [
    {
     "data": {
      "image/png": "[encoded data removed]",
      "text/plain": [
       "<Figure size 432x288 with 1 Axes>"
      ]
     },
     "metadata": {
      "needs_background": "light"
     },
     "output_type": "display_data"
    },
    {
     "data": {
      "image/png": "[encoded data removed]",
      "text/plain": [
       "<Figure size 432x288 with 1 Axes>"
      ]
     },
     "metadata": {
      "needs_background": "light"
     },
     "output_type": "display_data"
    }
   ],
   "source": [
    "# Parameters testing:\n",
    "\n",
    "time_delay = 10\n",
    "amp = 0.1\n",
    "dur = 500\n",
    "\n",
    "##### Perform a current clamp experiment in which the axon is stimulated at the end closest to the soma\n",
    "### and the branches are recorded at the far end\n",
    "\n",
    "reset()\n",
    "\n",
    "## Setup stimulations and recordings\n",
    "\n",
    "# Axon stimulated at the end closest to the soma\n",
    "iclamp(axon(0), delay = time_delay, amplitude = amp, duration = dur) # CHEEECKKK if closest to the soma is 0 or 1\n",
    "\n",
    "# Record at the branches at the far end\n",
    "vrecord(db1(1))\n",
    "vrecord(db2(1))\n",
    "vrecord(db3(1))\n",
    "\n",
    "# Simulate and plot\n",
    "v_init = -70\n",
    "t_stop = 100\n",
    "\n",
    "tvi_plots(initrun(v_init,t_stop),vdictlst,idictlst)"
   ]
  },
  {
   "cell_type": "markdown",
   "metadata": {},
   "source": [
    "#### - What are passive and active membrane properties?\n",
    "\n",
    "The active membrane properties can be associated with the voltage-gated or ligand-gated ion channels.  These gated ion channels contribute to generating action potential and electrical signalling across neurons.  These active membrane properties sit on top of the passive properties linked to the cable properties of the membrane.  Indeed, the passive membrane properties don't have any gating system: the flow of ions depend mainly on the difference between intracellular and extracellular difference.  These leaky currents are also mediated by membrane protein, but they are not gated.\n",
    "\n",
    "#### - What is going on with the signal propagation from the soma to the branches?\n",
    "\n",
    "When the signal is emitted from the soma and propagates to the branches, the leaky properties of the membrane will induce a reduction of voltage.  Indeed, when looking at the cable equations that are used to model the membrane properties of neurons, a length constant is defined to characterize this voltage attenuation.  When the length constant is shorter, the signal is attenuated more strongly as it propagates and its amplitude is more and more reduced.  This length constant is defined as the square root of the ratio between the membrane resistance and the axial resistance.\n",
    "$$ \\lambda = \\sqrt{\\frac{r_{membrane}}{r_{axial}}} $$\n",
    "\n",
    "Moreover, the smaller a surface is (ie the smaller the diameter is), the harder it is for ions to flow through and therefore the higher the axial resistance is.\n",
    "For this reason, when decreasing the diameter of the branches, the axon resistance considerably increases and leads to a decrease of the length constant.  Therefore, the voltage amplitude is strongly attenuated in branches with smaller diameter, as observed in the plot above."
   ]
  },
  {
   "cell_type": "markdown",
   "metadata": {},
   "source": [
    "#### - What happen if the active properties of the dendrite are removed?\n",
    "\n",
    "The same experiment is repeated, but the active properties of the dendrites are removed:"
   ]
  },
  {
   "cell_type": "code",
   "execution_count": 98,
   "metadata": {},
   "outputs": [],
   "source": [
    "# Creating Neuron Sections\n",
    "soma, dend, db1, db2, db3, axon = [h.Section(name=n) for n in ['soma', 'dend', 'dend_branch1', 'dend_branch2', 'dend_branch3', 'axon']]\n",
    "\n",
    "# SOMA SECTION\n",
    "soma.L = 20       # length (µm)\n",
    "soma.diam = 20    # diameter (µm)\n",
    "soma.Ra = 123.0   # axial resistivity (Ω*cm)\n",
    "soma.cm = 1       # capacitance (µF/cm^2) \n",
    "\n",
    "# AXON SECTION\n",
    "axon.diam = 3\n",
    "axon.L = 100      # length (µm)\n",
    "axon.nseg = 3     # diameter (µm)\n",
    "axon.Ra = 123.0   # axial resistivity (Ω*cm)\n",
    "axon.cm = 1       # capacitance (µF/cm^2) \n",
    "\n",
    "\n",
    "# DENDRITE SECTION\n",
    "dend.L = 200       # length (µm)\n",
    "dend.diam = 1     # diameter (µm)\n",
    "dend.nseg = 5     # number of segments\n",
    "dend.Ra = 123.0   # axial resistivity (Ω*cm)\n",
    "dend.cm = 1       # capacitance (µF/cm^2) \n",
    "\n",
    "# DENDRITE BRANCHES SECTIONS\n",
    "# Long and thick\n",
    "db1.L = 100\n",
    "db1.diam = 3\n",
    "db2.L = 100\n",
    "db2.diam = 0.1\n",
    "db3.L = 100\n",
    "db3.diam = 0.01\n",
    "\n",
    "# TOPOLOGY\n",
    "axon.connect(soma(0))\n",
    "dend.connect(soma(1))\n",
    "db1.connect(dend(1))\n",
    "db2.connect(dend(1))\n",
    "db3.connect(dend(1))\n",
    "\n",
    "# INSERT PASSIVE PROPERTIES\n",
    "soma.insert('pas')\n",
    "for seg in soma:\n",
    "    seg.pas.g = 0.0003 # Conductance of the leak channels (in S/cm2)\n",
    "    seg.pas.e = -70    # Leak reversal potential, it influences the steady state membrane potential\n",
    "\n",
    "axon.insert('pas')\n",
    "for seg in axon:\n",
    "    seg.pas.g = 0.0003 # Conductance of the leak channels (in S/cm2)\n",
    "    seg.pas.e = -70    # Leak reversal potential, it influences the steady state membrane potential\n",
    "    \n",
    "dend.insert('pas')\n",
    "for seg in dend:\n",
    "    seg.pas.g = 0.0003 # Conductance of the leak channels (in S/cm2)\n",
    "    seg.pas.e = -70    # Leak reversal potential, it influences the steady state membrane potential\n",
    "\n",
    "branchlst = [db1, db2, db3]\n",
    "\n",
    "for branch in branchlst:\n",
    "    branch.Ra = 130.0   # axial resistivity (Ω*cm)\n",
    "    branch.cm = 1       # capacitance (µF/cm^2) \n",
    "    branch.insert('pas')\n",
    "    for seg in branch:\n",
    "        seg.pas.g = 0.0003 # Conductance of the leak channels (in S/cm2)\n",
    "        seg.pas.e = -70    # Leak reversal potential, it influences the steady state membrane potential\n",
    "    \n",
    "# INSERT ACTIVE PROPERTIES IN AXON AND SOMA BUT NOT IN DENDRITE\n",
    "soma.insert('hh')\n",
    "for seg in soma:\n",
    "    seg.hh.gkbar = 0.1   # Maximal conductance of the potassium channels\n",
    "    seg.hh.gnabar = 0.4  # Maximal conductance of the sodium channels\n",
    "    \n",
    "axon.insert('hh')\n",
    "for seg in axon:\n",
    "    seg.hh.gkbar = 0.1   # Maximal conductance of the potassium channels\n",
    "    seg.hh.gnabar = 0.4  # Maximal conductance of the sodium channels"
   ]
  },
  {
   "cell_type": "code",
   "execution_count": 99,
   "metadata": {},
   "outputs": [
    {
     "data": {
      "image/png": "[encoded data removed]",
      "text/plain": [
       "<Figure size 432x288 with 1 Axes>"
      ]
     },
     "metadata": {
      "needs_background": "light"
     },
     "output_type": "display_data"
    },
    {
     "data": {
      "image/png": "[encoded data removed]",
      "text/plain": [
       "<Figure size 432x288 with 1 Axes>"
      ]
     },
     "metadata": {
      "needs_background": "light"
     },
     "output_type": "display_data"
    }
   ],
   "source": [
    "# Parameters testing:\n",
    "\n",
    "time_delay = 10\n",
    "amp = 0.1\n",
    "dur = 500\n",
    "\n",
    "##### Perform a current clamp experiment in which the axon is stimulated at the end closest to the soma\n",
    "### and the branches are recorded at the far end\n",
    "\n",
    "reset()\n",
    "\n",
    "## Setup stimulations and recordings\n",
    "\n",
    "# Axon stimulated at the end closest to the soma\n",
    "iclamp(axon(0), delay = time_delay, amplitude = amp, duration = dur) # CHEEECKKK if closest to the soma is 0 or 1\n",
    "\n",
    "# Record at the branches at the far end\n",
    "vrecord(db1(1))\n",
    "vrecord(db2(1))\n",
    "vrecord(db3(1))\n",
    "\n",
    "# Simulate and plot\n",
    "v_init = -70\n",
    "t_stop = 100\n",
    "\n",
    "tvi_plots(initrun(v_init,t_stop),vdictlst,idictlst)"
   ]
  },
  {
   "cell_type": "markdown",
   "metadata": {},
   "source": [
    "#### - What happen if the active properties of the dendrite are removed?\n",
    "\n",
    "The same experience is realized and the active properties of the dendrites are removed. For the same exact conditions, we quickly realize that the voltage amplitude of the spikes is considerably reduced when the active properties of the dendrites are removed.\n",
    "Indeed, the active properties of the dendrites allowed to activate the ion channels and help contribute to the propagation of the signal.  Whereas when they are turned off, the voltage is considerably reduced.  Moreover, one can note that the length constant reasoning in the previous section is (logically) conserved.  Indeed, the branch with the largest section and thus the lowest axial resisitivity has the biggest peak."
   ]
  },
  {
   "cell_type": "markdown",
   "metadata": {},
   "source": [
    "#### - Record the potential at the end of the axon. What happens if the active properties of the middle axonal section are removed? What could this represent biologically?"
   ]
  },
  {
   "cell_type": "code",
   "execution_count": 129,
   "metadata": {},
   "outputs": [],
   "source": [
    "# RECORDING POTENTIAL AT THE END OF AXON WHEN ALL SEGMENTS OF AXON HAVE ACTIVE PROPERTIES\n",
    "# Creating Neuron Sections\n",
    "soma, dend, db1, db2, db3, axon = [h.Section(name=n) for n in ['soma', 'dend', 'dend_branch1', 'dend_branch2', 'dend_branch3', 'axon']]\n",
    "\n",
    "# SOMA SECTION\n",
    "soma.L = 20       # length (µm)\n",
    "soma.diam = 20    # diameter (µm)\n",
    "soma.Ra = 123.0   # axial resistivity (Ω*cm)\n",
    "soma.cm = 1       # capacitance (µF/cm^2) \n",
    "\n",
    "# AXON SECTION\n",
    "axon.diam = 3\n",
    "axon.L = 100      # length (µm)\n",
    "axon.nseg = 3     # diameter (µm)\n",
    "axon.Ra = 123.0   # axial resistivity (Ω*cm)\n",
    "axon.cm = 1       # capacitance (µF/cm^2) \n",
    "\n",
    "\n",
    "# DENDRITE SECTION\n",
    "dend.L = 200       # length (µm)\n",
    "dend.diam = 1     # diameter (µm)\n",
    "dend.nseg = 5     # number of segments\n",
    "dend.Ra = 123.0   # axial resistivity (Ω*cm)\n",
    "dend.cm = 1       # capacitance (µF/cm^2) \n",
    "\n",
    "# DENDRITE BRANCHES SECTIONS\n",
    "# Long and thick\n",
    "db1.L = 100\n",
    "db1.diam = 3\n",
    "db2.L = 100\n",
    "db2.diam = 0.1\n",
    "db3.L = 100\n",
    "db3.diam = 0.01\n",
    "\n",
    "# TOPOLOGY\n",
    "axon.connect(soma(0))\n",
    "dend.connect(soma(1))\n",
    "db1.connect(dend(1))\n",
    "db2.connect(dend(1))\n",
    "db3.connect(dend(1))\n",
    "\n",
    "# INSERT PASSIVE PROPERTIES\n",
    "soma.insert('pas')\n",
    "for seg in soma:\n",
    "    seg.pas.g = 0.0003 # Conductance of the leak channels (in S/cm2)\n",
    "    seg.pas.e = -70    # Leak reversal potential, it influences the steady state membrane potential\n",
    "\n",
    "axon.insert('pas')\n",
    "for seg in axon:\n",
    "    seg.pas.g = 0.0003 # Conductance of the leak channels (in S/cm2)\n",
    "    seg.pas.e = -70    # Leak reversal potential, it influences the steady state membrane potential\n",
    "    \n",
    "dend.insert('pas')\n",
    "for seg in dend:\n",
    "    seg.pas.g = 0.0003 # Conductance of the leak channels (in S/cm2)\n",
    "    seg.pas.e = -70    # Leak reversal potential, it influences the steady state membrane potential\n",
    "\n",
    "branchlst = [db1, db2, db3]\n",
    "\n",
    "for branch in branchlst:\n",
    "    branch.Ra = 130.0   # axial resistivity (Ω*cm)\n",
    "    branch.cm = 1       # capacitance (µF/cm^2) \n",
    "    branch.insert('pas')\n",
    "    for seg in branch:\n",
    "        seg.pas.g = 0.0003 # Conductance of the leak channels (in S/cm2)\n",
    "        seg.pas.e = -70    # Leak reversal potential, it influences the steady state membrane potential\n",
    "    \n",
    "# INSERT ACTIVE PROPERTIES\n",
    "soma.insert('hh')\n",
    "for seg in soma:\n",
    "    seg.hh.gkbar = 0.1   # Maximal conductance of the potassium channels\n",
    "    seg.hh.gnabar = 0.4  # Maximal conductance of the sodium channels\n",
    "    \n",
    "axon.insert('hh')\n",
    "for seg in axon:\n",
    "    seg.hh.gkbar = 0.1   # Maximal conductance of the potassium channels\n",
    "    seg.hh.gnabar = 0.4  # Maximal conductance of the sodium channels\n",
    "\n",
    "dend.insert('hh')\n",
    "for seg in dend:\n",
    "    seg.hh.gkbar = 0.1   # Maximal conductance of the potassium channels\n",
    "    seg.hh.gnabar = 0.4  # Maximal conductance of the sodium channels"
   ]
  },
  {
   "cell_type": "code",
   "execution_count": 130,
   "metadata": {},
   "outputs": [
    {
     "data": {
      "image/png": "[encoded data removed]",
      "text/plain": [
       "<Figure size 432x288 with 1 Axes>"
      ]
     },
     "metadata": {
      "needs_background": "light"
     },
     "output_type": "display_data"
    },
    {
     "data": {
      "image/png": "[encoded data removed]",
      "text/plain": [
       "<Figure size 432x288 with 1 Axes>"
      ]
     },
     "metadata": {
      "needs_background": "light"
     },
     "output_type": "display_data"
    }
   ],
   "source": [
    "# Parameters testing:\n",
    "\n",
    "time_delay = 10\n",
    "amp = 10\n",
    "dur = 500\n",
    "\n",
    "##### Perform a current clamp experiment in which the axon is stimulated at the end closest to the soma\n",
    "### and the branches are recorded at the far end\n",
    "\n",
    "reset()\n",
    "\n",
    "## Setup stimulations and recordings\n",
    "\n",
    "# Axon stimulated at the end closest to the soma\n",
    "iclamp(axon(0), delay = time_delay, amplitude = amp, duration = dur) # CHEEECKKK if closest to the soma is 0 or 1\n",
    "\n",
    "# Record at the middle segment of the axon\n",
    "vrecord(axon(1))\n",
    "\n",
    "# Simulate and plot\n",
    "v_init = -70\n",
    "t_stop = 100\n",
    "\n",
    "tvi_plots(initrun(v_init,t_stop),vdictlst,idictlst)"
   ]
  },
  {
   "cell_type": "code",
   "execution_count": 131,
   "metadata": {},
   "outputs": [],
   "source": [
    "# RECORDING POTENTIAL AT THE END OF AXON WHEN MIDDLE SEGMENT OF AXON HAS NO ACTIVE PROPERTIES\n",
    "\n",
    "# Creating Neuron Sections\n",
    "soma, dend, db1, db2, db3, axon = [h.Section(name=n) for n in ['soma', 'dend', 'dend_branch1', 'dend_branch2', 'dend_branch3', 'axon']]\n",
    "\n",
    "# SOMA SECTION\n",
    "soma.L = 20       # length (µm)\n",
    "soma.diam = 20    # diameter (µm)\n",
    "soma.Ra = 123.0   # axial resistivity (Ω*cm)\n",
    "soma.cm = 1       # capacitance (µF/cm^2) \n",
    "\n",
    "# AXON SECTION\n",
    "axon.diam = 3\n",
    "axon.L = 100      # length (µm)\n",
    "axon.nseg = 3     # diameter (µm)\n",
    "axon.Ra = 123.0   # axial resistivity (Ω*cm)\n",
    "axon.cm = 1       # capacitance (µF/cm^2) \n",
    "\n",
    "\n",
    "# DENDRITE SECTION\n",
    "dend.L = 200       # length (µm)\n",
    "dend.diam = 1     # diameter (µm)\n",
    "dend.nseg = 5     # number of segments\n",
    "dend.Ra = 123.0   # axial resistivity (Ω*cm)\n",
    "dend.cm = 1       # capacitance (µF/cm^2) \n",
    "\n",
    "# DENDRITE BRANCHES SECTIONS\n",
    "# Long and thick\n",
    "db1.L = 100\n",
    "db1.diam = 3\n",
    "db2.L = 100\n",
    "db2.diam = 0.1\n",
    "db3.L = 100\n",
    "db3.diam = 0.01\n",
    "\n",
    "# TOPOLOGY\n",
    "axon.connect(soma(0))\n",
    "dend.connect(soma(1))\n",
    "db1.connect(dend(1))\n",
    "db2.connect(dend(1))\n",
    "db3.connect(dend(1))\n",
    "\n",
    "# INSERT PASSIVE PROPERTIES\n",
    "soma.insert('pas')\n",
    "for seg in soma:\n",
    "    seg.pas.g = 0.0003 # Conductance of the leak channels (in S/cm2)\n",
    "    seg.pas.e = -70    # Leak reversal potential, it influences the steady state membrane potential\n",
    "\n",
    "axon.insert('pas')\n",
    "for seg in axon:\n",
    "    seg.pas.g = 0.0003 # Conductance of the leak channels (in S/cm2)\n",
    "    seg.pas.e = -70    # Leak reversal potential, it influences the steady state membrane potential\n",
    "    \n",
    "dend.insert('pas')\n",
    "for seg in dend:\n",
    "    seg.pas.g = 0.0003 # Conductance of the leak channels (in S/cm2)\n",
    "    seg.pas.e = -70    # Leak reversal potential, it influences the steady state membrane potential\n",
    "\n",
    "branchlst = [db1, db2, db3]\n",
    "\n",
    "for branch in branchlst:\n",
    "    branch.Ra = 130.0   # axial resistivity (Ω*cm)\n",
    "    branch.cm = 1       # capacitance (µF/cm^2) \n",
    "    branch.insert('pas')\n",
    "    for seg in branch:\n",
    "        seg.pas.g = 0.0003 # Conductance of the leak channels (in S/cm2)\n",
    "        seg.pas.e = -70    # Leak reversal potential, it influences the steady state membrane potential\n",
    "    \n",
    "# INSERT ACTIVE PROPERTIES\n",
    "soma.insert('hh')\n",
    "for seg in soma:\n",
    "    seg.hh.gkbar = 0.1   # Maximal conductance of the potassium channels\n",
    "    seg.hh.gnabar = 0.4  # Maximal conductance of the sodium channels\n",
    "\n",
    "# NOT ADDING ACTIVE PROPERTIES OF THE MIDDLE SEGMENT\n",
    "axon.insert('hh')\n",
    "i = 1\n",
    "for seg in axon:\n",
    "    if i != 2: # If we are not on the second segment out of three, meaning the middle one\n",
    "        seg.hh.gkbar = 0.1   # Maximal conductance of the potassium channels\n",
    "        seg.hh.gnabar = 0.4  # Maximal conductance of the sodium channels\n",
    "    if i == 2:\n",
    "        seg.hh.gkbar = 0\n",
    "        seg.hh.gnabar = 0\n",
    "    i = i+1\n",
    "\n",
    "dend.insert('hh')\n",
    "for seg in dend:\n",
    "    seg.hh.gkbar = 0.1   # Maximal conductance of the potassium channels\n",
    "    seg.hh.gnabar = 0.4  # Maximal conductance of the sodium channels"
   ]
  },
  {
   "cell_type": "code",
   "execution_count": 132,
   "metadata": {},
   "outputs": [
    {
     "data": {
      "image/png": "[encoded data removed]",
      "text/plain": [
       "<Figure size 432x288 with 1 Axes>"
      ]
     },
     "metadata": {
      "needs_background": "light"
     },
     "output_type": "display_data"
    },
    {
     "data": {
      "image/png": "[encoded data removed]",
      "text/plain": [
       "<Figure size 432x288 with 1 Axes>"
      ]
     },
     "metadata": {
      "needs_background": "light"
     },
     "output_type": "display_data"
    }
   ],
   "source": [
    "# Parameters testing:\n",
    "\n",
    "time_delay = 2\n",
    "amp = 10\n",
    "dur = 500\n",
    "\n",
    "##### Perform a current clamp experiment in which the axon is stimulated at the end closest to the soma\n",
    "### and the branches are recorded at the far end\n",
    "\n",
    "reset()\n",
    "\n",
    "## Setup stimulations and recordings\n",
    "\n",
    "# Axon stimulated at the end closest to the soma\n",
    "iclamp(axon(0), delay = time_delay, amplitude = amp, duration = dur) # CHEEECKKK if closest to the soma is 0 or 1\n",
    "\n",
    "# Record at the middle segment of the axon\n",
    "vrecord(axon(1))\n",
    "\n",
    "# Simulate and plot\n",
    "v_init = -70\n",
    "t_stop = 100\n",
    "\n",
    "tvi_plots(initrun(v_init,t_stop),vdictlst,idictlst)"
   ]
  },
  {
   "cell_type": "markdown",
   "metadata": {},
   "source": [
    "#### - What happens if the active properties of the middle axonal section are removed? What could this represent biologically?\n",
    "\n",
    "When the active properties of the middle axonal section are removed, then the signal propagation is considerably reduced.  Indeed, the signal propagates much less efficiently as the leaky currents contribute to reducing the length constant.  This could represent the biological phenomenon of axonal myelination and the presence of Nodes of Ranvier.  Indeed, myelination wrapping helps increase the axonal resistance and thus very little leak occurs across myelinated axons, and the Nodes of Ranvier have a higher presence of sodium channels which decrease its action potential firing threshold and contributes to facilitating the propagation of the signals (saltatory conduction).\n",
    "\n",
    "As seen in the plot above: when injecting a high current in both segments, the one without active properties shows a considerably rapid attenuation."
   ]
  },
  {
   "cell_type": "markdown",
   "metadata": {},
   "source": [
    "# Ex 3. Dendritic input signal sumation in the soma\n",
    "\n",
    "<font size=\"3\">Load the morphology file for your group, and instanciate it as it is done on tutorial 03. Perform a current clamp experiment that stimulates all the dendrites (basal and apical) in the middle. Play arround with the different stimulation parameters: delay, amplitude and duration.\n",
    "\n",
    "<font size=\"3\">Plot some results that would help you to explain: what is dendritic signal integration? and in your opinion, what is the importance of this in biology?\n",
    "    \n",
    "<font size=\"3\">What happens when you stimulate only the basal or only the apical dendrites? Why is this?\n",
    "    \n",
    "[3 points]"
   ]
  },
  {
   "cell_type": "code",
   "execution_count": null,
   "metadata": {},
   "outputs": [],
   "source": []
  },
  {
   "cell_type": "markdown",
   "metadata": {},
   "source": [
    "# Ex 4. Signal attenuation: dendrites vs axon\n",
    "\n",
    "<font size=\"3\">Load the morphology file for your group, and instanciate it as it is done on tutorial 03. Perform a current clamp experiment in which the soma is stimulated in the middle (find the stimulation parameters that support your explanation better). Record the back propagating signals of the dendrites and the forward signal in the axon.\n",
    "\n",
    "<font size=\"3\">What would you expect in terms of attenuation? Would you expect the signal to be more attenuated in the axon or in the dendrites? Why? Change the properties of some of the sections, such that you get a different result. Explain why this works\n",
    "    \n",
    "[1.75 points]"
   ]
  },
  {
   "cell_type": "code",
   "execution_count": null,
   "metadata": {},
   "outputs": [],
   "source": []
  }
 ],
 "metadata": {
  "kernelspec": {
   "display_name": "Python 3",
   "language": "python",
   "name": "python3"
  },
  "language_info": {
   "codemirror_mode": {
    "name": "ipython",
    "version": 3
   },
   "file_extension": ".py",
   "mimetype": "text/x-python",
   "name": "python",
   "nbconvert_exporter": "python",
   "pygments_lexer": "ipython3",
   "version": "3.6.9"
  }
 },
 "nbformat": 4,
 "nbformat_minor": 4
}
