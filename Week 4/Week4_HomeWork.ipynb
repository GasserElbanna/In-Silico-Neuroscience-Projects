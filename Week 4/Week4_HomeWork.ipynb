{
 "cells": [
  {
   "cell_type": "markdown",
   "metadata": {},
   "source": [
    "<center><font size = \"10\"> Week 4 - Cable Theory <center>\n",
    "<center><font size = \"8\">Home work<center>"
   ]
  },
  {
   "cell_type": "markdown",
   "metadata": {},
   "source": [
    "# Ex1: Voltage variation in space\n",
    "\n",
    "<font size=\"3\">Create a simple morphology with only one section called soma, as it is done in tutorial 01 of this week 4, point 1. Perform a curret clamp experiment in which the stimulation has the following parameters: delay 1 ms, amplitud 1 pA and duration 10 ms. Then do the following:\n",
    "    \n",
    "<font size=\"3\">- instead of injecting current at the middle of the section, inject current simultaneously at the two endpoints\n",
    "        \n",
    "<font size=\"3\">- without changing the morphology, increase the voltage attenuation from the center of the section to the ends. \n",
    "     \n",
    "\n",
    "<font size=\"3\">Plot the result for each of the previous points and explain what is happening in each situation. In this exercise is important to keep the previous values each time you change some parameter.\n",
    "If not, you won’t be able to compare them.\n",
    "    \n",
    "[0.5 points]"
   ]
  },
  {
   "cell_type": "code",
   "execution_count": 9,
   "metadata": {},
   "outputs": [],
   "source": [
    "# Importing Libraries\n",
    "\n",
    "%matplotlib inline\n",
    "from neuron import h\n",
    "import matplotlib.pyplot as plt\n",
    "import numpy as np\n",
    "import math as m\n",
    "import neurom as nm\n",
    "from neurom import viewer\n",
    "from hoc2swc import neuron2swc"
   ]
  },
  {
   "cell_type": "code",
   "execution_count": 154,
   "metadata": {},
   "outputs": [],
   "source": [
    "# Global containers for objects\n",
    "stimdictlst = [] # stimulations\n",
    "vdictlst = []    # voltage recordings\n",
    "idictlst = []    # current recordings\n",
    "\n",
    "def reset():\n",
    "    del stimdictlst[:]\n",
    "    del vdictlst[:]\n",
    "    del idictlst[:]\n",
    "\n",
    "# Inject a current step with parameters at location\n",
    "def iclamp(location, delay, amplitude, duration):\n",
    "    stim = h.IClamp(location) # Place a stimulation electrode at location\n",
    "    stim.delay = delay   # stim delay (ms)\n",
    "    stim.amp = amplitude # stim amplitude (pA)\n",
    "    stim.dur = duration  # stim duration (ms)\n",
    "    stimdictlst.append({ 'stim': stim, 'loc': str(location) })\n",
    "    return stim\n",
    "\n",
    "# Setup recording of voltage at location\n",
    "def vrecord(location):\n",
    "    vec = h.Vector()\n",
    "    vec.record(location._ref_v) # record voltage at location\n",
    "    vdictlst.append({ 'vec': vec, 'loc': str(location) })\n",
    "    return vec\n",
    "\n",
    "# Setup recording of stimulation current\n",
    "def irecord(stimdict):\n",
    "    vec = h.Vector()\n",
    "    vec.record(stimdict['stim']._ref_i) # record stimulation current\n",
    "    idictlst.append({ 'vec': vec, 'loc': stimdict['loc'] })\n",
    "    return vec\n",
    "\n",
    "# Initialize and run a simulation\n",
    "def initrun(v_i,t_stop):\n",
    "    # Record time\n",
    "    rec_t = h.Vector()\n",
    "    rec_t.record(h._ref_t)\n",
    "    # Record current for all stimuli\n",
    "    for stimdict in stimdictlst:\n",
    "        irecord(stimdict)\n",
    "    # Setup simulation and run\n",
    "    h.load_file('stdrun.hoc')\n",
    "    h.finitialize(v_i) # initial voltage\n",
    "    h.continuerun(t_stop) # final time\n",
    "    return rec_t\n",
    "\n",
    "# Plot current and voltage for all stims and recordings\n",
    "def tvi_plots(t, vdictlst, idictlst, vmax = 70, imax = 2):\n",
    "    plt.figure()\n",
    "    plt.title('currents')\n",
    "    plt.ylim((-0.01,imax))\n",
    "    plt.xlabel('t (ms)')\n",
    "    plt.ylabel('I (nA)')\n",
    "    for i, idict in enumerate(idictlst):\n",
    "        plt.plot(t,idict['vec'],label=('Soma'+str(i)))\n",
    "    plt.legend(loc=1)\n",
    "    \n",
    "    plt.figure()\n",
    "    plt.title('voltages')\n",
    "#     plt.ylim((-71,vmax))\n",
    "    plt.ylabel('V (mV)')\n",
    "    plt.xlabel('t (ms)')\n",
    "    for vdict in vdictlst:\n",
    "        plt.plot(t,vdict['vec'],label='Soma(0.5)')\n",
    "    plt.legend(loc=1)"
   ]
  },
  {
   "cell_type": "code",
   "execution_count": 155,
   "metadata": {},
   "outputs": [
    {
     "ename": "SyntaxError",
     "evalue": "invalid syntax (<ipython-input-155-f4835ea22197>, line 1)",
     "output_type": "error",
     "traceback": [
      "\u001b[1;36m  File \u001b[1;32m\"<ipython-input-155-f4835ea22197>\"\u001b[1;36m, line \u001b[1;32m1\u001b[0m\n\u001b[1;33m    When plotting the recorded current and voltage in the middle of the soma (soma(0.5)) without any voltage attenuation, the steepness of linear voltage response is the combination of both injections.  Indeed, when we delay one of the injection compared to the other, we notice that the voltage ramps is divided into two steepness and there is coherent dissymmetry.\u001b[0m\n\u001b[1;37m                ^\u001b[0m\n\u001b[1;31mSyntaxError\u001b[0m\u001b[1;31m:\u001b[0m invalid syntax\n"
     ]
    }
   ],
   "source": [
    "When plotting the recorded current and voltage in the middle of the soma (soma(0.5)) without any voltage attenuation, the steepness of linear voltage response is the combination of both injections.  Indeed, when we delay one of the injection compared to the other, we notice that the voltage ramps is divided into two steepness and there is coherent dissymmetry.\n"
   ]
  },
  {
   "cell_type": "code",
   "execution_count": 156,
   "metadata": {},
   "outputs": [],
   "source": [
    "# Create a section \n",
    "soma = h.Section()\n",
    "soma.Ra = 1\n",
    "soma.L = 100\n",
    "soma.diam = 10\n",
    "soma.cm = 1"
   ]
  },
  {
   "cell_type": "code",
   "execution_count": 157,
   "metadata": {},
   "outputs": [],
   "source": [
    "# Inject a current step into the soma\n",
    "reset()\n",
    "delay = 1 #ms\n",
    "amp = 1 #nA\n",
    "dur = 10 #ms\n",
    "stim_1 = iclamp(soma(0), delay, amp, dur)\n",
    "stim_2 = iclamp(soma(1), delay, amp, dur)"
   ]
  },
  {
   "cell_type": "code",
   "execution_count": 158,
   "metadata": {},
   "outputs": [
    {
     "name": "stdout",
     "output_type": "stream",
     "text": [
      "[{'stim': IClamp[63], 'loc': '__nrnsec_000000c95cab1630(0)'}, {'stim': IClamp[64], 'loc': '__nrnsec_000000c95cab1630(1)'}]\n"
     ]
    }
   ],
   "source": [
    "print(stimdictlst)"
   ]
  },
  {
   "cell_type": "code",
   "execution_count": 159,
   "metadata": {},
   "outputs": [],
   "source": [
    "vec_v = vrecord(soma(0.5))"
   ]
  },
  {
   "cell_type": "code",
   "execution_count": 160,
   "metadata": {},
   "outputs": [
    {
     "data": {
      "image/png": "[encoded data removed]",
      "text/plain": [
       "<Figure size 432x288 with 1 Axes>"
      ]
     },
     "metadata": {
      "needs_background": "light"
     },
     "output_type": "display_data"
    },
    {
     "data": {
      "image/png": "[encoded data removed]",
      "text/plain": [
       "<Figure size 432x288 with 1 Axes>"
      ]
     },
     "metadata": {
      "needs_background": "light"
     },
     "output_type": "display_data"
    }
   ],
   "source": [
    "# Simulate and plot\n",
    "v_init = -70\n",
    "t_stop = 20\n",
    "tvi_plots(initrun(v_init,t_stop),vdictlst,idictlst)"
   ]
  },
  {
   "cell_type": "markdown",
   "metadata": {},
   "source": [
    "# Ex 2. Action Potential Propagation. \n",
    "\n",
    "<font size='3'>Create a neuron with a soma, an axon with three sections, and a dendrite with three branches, each of the branches with different diameters but with the same length. Add passive properties to every section and add active properties (hh) to the soma, axon and the dendrite, but not to the branches. You can use the parameters from tutorial 03. Perform a current clamp experiment in which the axon is stimulated at the end closest to the soma and the branches are recorded at the far end. Choose the best stimulation parameters to see the signal attenuation in the branches.\n",
    "    \n",
    "<font size='3'>Explain with your own words:\n",
    "    \n",
    "<font size='3'>- What are passive and active membrane properties?\n",
    "    \n",
    "<font size='3'>- What is going on with the signal propagation from the soma to the branches?\n",
    "    \n",
    "<font size='3'>- What happen if the active properties of the dendrite are removed?\n",
    "    \n",
    "<font size='3'>- Record the potential at the end of the axon. What happens if the active properties of the middle axonal section are removed? What could this represent biologically?\n",
    "    \n",
    "[1.5 points]"
   ]
  },
  {
   "cell_type": "code",
   "execution_count": null,
   "metadata": {},
   "outputs": [],
   "source": []
  },
  {
   "cell_type": "markdown",
   "metadata": {},
   "source": [
    "# Ex 3. Dendritic input signal sumation in the soma\n",
    "\n",
    "<font size=\"3\">Load the morphology file for your group, and instanciate it as it is done on tutorial 03. Perform a current clamp experiment that stimulates all the dendrites (basal and apical) in the middle. Play arround with the different stimulation parameters: delay, amplitude and duration.\n",
    "\n",
    "<font size=\"3\">Plot some results that would help you to explain: what is dendritic signal integration? and in your opinion, what is the importance of this in biology?\n",
    "    \n",
    "<font size=\"3\">What happens when you stimulate only the basal or only the apical dendrites? Why is this?\n",
    "    \n",
    "[3 points]"
   ]
  },
  {
   "cell_type": "code",
   "execution_count": null,
   "metadata": {},
   "outputs": [],
   "source": []
  },
  {
   "cell_type": "markdown",
   "metadata": {},
   "source": [
    "# Ex 4. Signal attenuation: dendrites vs axon\n",
    "\n",
    "<font size=\"3\">Load the morphology file for your group, and instanciate it as it is done on tutorial 03. Perform a current clamp experiment in which the soma is stimulated in the middle (find the stimulation parameters that support your explanation better). Record the back propagating signals of the dendrites and the forward signal in the axon.\n",
    "\n",
    "<font size=\"3\">What would you expect in terms of attenuation? Would you expect the signal to be more attenuated in the axon or in the dendrites? Why? Change the properties of some of the sections, such that you get a different result. Explain why this works\n",
    "    \n",
    "[1.75 points]"
   ]
  },
  {
   "cell_type": "code",
   "execution_count": null,
   "metadata": {},
   "outputs": [],
   "source": []
  }
 ],
 "metadata": {
  "kernelspec": {
   "display_name": "Python 3",
   "language": "python",
   "name": "python3"
  },
  "language_info": {
   "codemirror_mode": {
    "name": "ipython",
    "version": 3
   },
   "file_extension": ".py",
   "mimetype": "text/x-python",
   "name": "python",
   "nbconvert_exporter": "python",
   "pygments_lexer": "ipython3",
   "version": "3.6.2rc2"
  }
 },
 "nbformat": 4,
 "nbformat_minor": 4
}
