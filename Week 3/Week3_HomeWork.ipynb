{
 "cells": [
  {
   "cell_type": "markdown",
   "metadata": {},
   "source": [
    "<center><font size = \"10\"> Week 3 - Ion Channels <center>\n",
    "<center><font size = \"8\">Home work<center>"
   ]
  },
  {
   "cell_type": "markdown",
   "metadata": {},
   "source": [
    "<font size = \"3\">Please, write your group number and the names and surnames of the group members here\n",
    "<br>Group number: 1\n",
    "<br>Group member1: Gasser Elbanna\n",
    "<br>Group member2: Milo Imbeni\n",
    "<br>Group member3: Louise Placidet"
   ]
  },
  {
   "cell_type": "markdown",
   "metadata": {},
   "source": [
    "# Ex1. Fit data to sigmoid curve\n",
    "\n",
    "<font size = \"3\">Fit the data in Sigmoid.dat file located in your group folder. \n",
    "\n",
    "<font size = \"3\">The function of a sigmoid is:\n",
    "\\begin{equation}  \n",
    "    y = \\frac {1}{(1 + e^{(\\frac{x - vh}{-slope})})}\n",
    "\\end{equation}\n",
    "    \n",
    "<font size = \"3\">Show the data and the fitted curve on the same plot (as it was done in tutorial 1), label the axes and create a legend to differentiate the data from the fitted curve. Evaluate how well the curve fits the data. [0.5 pts]"
   ]
  },
  {
   "cell_type": "code",
   "execution_count": null,
   "metadata": {},
   "outputs": [],
   "source": []
  },
  {
   "cell_type": "markdown",
   "metadata": {},
   "source": [
    "# Ex2. Analysing an activation curve.\n",
    "\n",
    "<font size = \"3\">Using the .NWB file in your folder group, fit each of the traces between 100 ms and the maximum amplitude of the trace to an exponential, to find the time constant at every voltage step. What does this time constant represent ? Plot the time constants for the activation, considering that the clamped voltage stimulation is between -90 and +80 mV with a 10mV step interval. [2 pts]\n"
   ]
  },
  {
   "cell_type": "code",
   "execution_count": null,
   "metadata": {},
   "outputs": [],
   "source": []
  },
  {
   "cell_type": "markdown",
   "metadata": {},
   "source": [
    "# Ex3. Find the minimum current amplitud to make the cell fire\n",
    "\n",
    "<font size = \"3\">Create a cell in Neuron with the fillowing characteristics: 1 section (soma) with one segment, 15 µm of length and diameter, 120 Ω*cm of axial radius and 1.6 µF/cm^2 of capacitance. Add passive and active (gNa = 0.1 S and gK = 0.015 S) membrane properties to this cell. Generate a current clamp experiment in which you will inject a current into the cell soma with 50 ms delay, 500 ms of duration. The total recording duration of the experiment would be 800 ms and the voltage base -70 mV. Find the minimum ammount of current that has to be injected in this cell in order to make it fire (an automated way of finding this value is an option). What is the threshold membrane voltage? How do the rheobase and theshold voltage change when the membrane properties are changed?\n",
    "    \n",
    "<font size = \"3\">Keep in mind that square current pulses are not biologically realistic. Discuss why finding the minimum ammount of current that makes a neuron fire could be interesting to study the cell. [1 pt]"
   ]
  },
  {
   "cell_type": "code",
   "execution_count": null,
   "metadata": {},
   "outputs": [],
   "source": []
  },
  {
   "cell_type": "markdown",
   "metadata": {},
   "source": [
    "# Ex4. Modifing K+ channel kinetics\n",
    "\n",
    "<font size = \"3\">Create a cell in Neuron with the following characteristics: 1 section (soma) with one segment, 17.0 µm of length and diameter, 122 Ω*cm of axial radious and 1.2 µF/cm^2 of capacitance. Add passive and active (gNa = 0.09 S and gK = 0.01 S) membrane properties to this cell. Generate a current clamp experiment in which you will inject a current into the cell soma with 150 ms delay, 600 ms of duration. The total recording duration of the experiment would be 1000 ms and the voltage base -70 mV. \n",
    "\n",
    "<font size = \"3\">Increase and decrase the v_half parameter on the mod file with the K+ channel kinetics. Plot the resulting voltage curves and the I-V and tau-V curves. \n",
    "\n",
    "<font size = \"3\">Explain what is going on. What is the meaning of v_half? Why does changing this parameter affect the resultant action potential? [2.5 pts]"
   ]
  },
  {
   "cell_type": "code",
   "execution_count": null,
   "metadata": {},
   "outputs": [],
   "source": []
  }
 ],
 "metadata": {
  "kernelspec": {
   "display_name": "Python 3",
   "language": "python",
   "name": "python3"
  },
  "language_info": {
   "codemirror_mode": {
    "name": "ipython",
    "version": 3
   },
   "file_extension": ".py",
   "mimetype": "text/x-python",
   "name": "python",
   "nbconvert_exporter": "python",
   "pygments_lexer": "ipython3",
   "version": "3.6.9"
  }
 },
 "nbformat": 4,
 "nbformat_minor": 4
}
