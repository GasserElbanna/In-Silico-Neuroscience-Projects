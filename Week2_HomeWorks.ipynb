{
 "cells": [
  {
   "cell_type": "markdown",
   "metadata": {},
   "source": [
    "<center><font size = \"10\"> Week 2 - Morphologies <center>\n",
    "<center><font size = \"8\">Home work<center>"
   ]
  },
  {
   "cell_type": "markdown",
   "metadata": {},
   "source": [
    "<font size = \"3\">Please, write your group number and the names and surnames of the group members here\n",
    "<br>Group number: 1\n",
    "<br>Group member1: Gasser Elbanna\n",
    "<br>Group member2: Louise Placidet\n",
    "<br>Group member3: Milo Imbeni"
   ]
  },
  {
   "cell_type": "markdown",
   "metadata": {},
   "source": [
    "# Ex1: Create your favorite neuron\n",
    "\n",
    "<font size =\"3\">Write some code that builds a geometrical model of a neuron with one soma, one axon and two dendrites. One dendrite with three branches and the other with four branches. Show the resulting model. [0.5 pts]"
   ]
  },
  {
   "cell_type": "code",
   "execution_count": 60,
   "metadata": {},
   "outputs": [
    {
     "name": "stdout",
     "output_type": "stream",
     "text": [
      "\n",
      "|----------|       soma(0-1)\n",
      "            `---------|       dend1(0-1)\n",
      "                       `---------|       dend_branch1(0-1)\n",
      "                       `---------|       dend_branch2(0-1)\n",
      "                       `---------|       dend_branch3(0-1)\n",
      "            `---------|       dend2(0-1)\n",
      "                       `---------|       dend_branch4(0-1)\n",
      "                       `---------|       dend_branch5(0-1)\n",
      "                       `---------|       dend_branch6(0-1)\n",
      "                       `---------|       dend_branch7(0-1)\n",
      " `---------|       axon(0-1)\n",
      "\n",
      "Wrote cell 0 to cell_trial.swc\n"
     ]
    },
    {
     "data": {
      "text/plain": [
       "1.0"
      ]
     },
     "execution_count": 60,
     "metadata": {},
     "output_type": "execute_result"
    },
    {
     "data": {
      "image/png": "[encoded data removed]",
      "text/plain": [
       "<Figure size 432x288 with 1 Axes>"
      ]
     },
     "metadata": {
      "needs_background": "light"
     },
     "output_type": "display_data"
    }
   ],
   "source": [
    "from neuron import h\n",
    "import neurom as nm\n",
    "from neurom import viewer\n",
    "from hoc2swc import neuron2swc\n",
    "import numpy\n",
    "\n",
    "# Creating Neuron Sections\n",
    "soma, dend1, dend2, db1, db2, db3, db4, db5, db6, db7, axon = [h.Section(name=n) for n in ['soma', 'dend1', 'dend2', 'dend_branch1', 'dend_branch2', 'dend_branch3', 'dend_branch4', 'dend_branch5', 'dend_branch6', 'dend_branch7', 'axon']]\n",
    "\n",
    "# Geometry \n",
    "for sec in h.allsec():\n",
    "    if sec == 'soma':\n",
    "        sec.L = sec.diam = 15\n",
    "    else:\n",
    "        sec.nseg = 10\n",
    "        sec.L = 100\n",
    "        for seg in sec:\n",
    "            seg.diam = numpy.interp(seg.x, [0, 1], [1, 10])\n",
    "\n",
    "# Connecting Sections\n",
    "dend1.connect(soma(1))\n",
    "dend2.connect(soma(1))\n",
    "\n",
    "db1.connect(dend1(1))\n",
    "db2.connect(dend1(1))\n",
    "db3.connect(dend1(1))\n",
    "\n",
    "db4.connect(dend2(1))\n",
    "db5.connect(dend2(1))\n",
    "db6.connect(dend2(1))\n",
    "db7.connect(dend2(1))\n",
    "\n",
    "axon.connect(soma(0))\n",
    "h.topology()\n",
    "        \n",
    "\n",
    "neuron2swc('cell_trial.swc', swap_yz=False)\n",
    "neuron_trial = nm.load_neuron('cell_trial.swc')\n",
    "viewer.draw(neuron_trial)\n",
    "\n",
    "# In your laptop\n",
    "# Visualize in the Neuron GUI\n",
    "s = h.Shape()\n",
    "s.show(False)"
   ]
  },
  {
   "cell_type": "markdown",
   "metadata": {},
   "source": [
    "# Ex2: Visualizing neurons\n",
    "\n",
    "<font size =\"3\">Select one of the neurons from your group data set. Write a code that visualize the neuron oriented on the three possible planes (xy, xz and yz), and in 3D, and plot each of its neurites (the neurites only need to be plotted in a single plane). Represent everything in the same plot (subplot). The main title of the figure should be the cell name. The subplots should have also their title (for example: 'plane xy' or 'neurite 2') and the axes of each subplot should be labeled. [1.5 pts]"
   ]
  },
  {
   "cell_type": "code",
   "execution_count": null,
   "metadata": {},
   "outputs": [],
   "source": [
    "import neurom as nm\n",
    "from neurom import viewer\n",
    "from neurom.view import view\n",
    "from neurom.view.common import update_plot_limits\n",
    "import matplotlib.pyplot as plt\n",
    "\n",
    "#Get Neuron Path, Load Neuron Morphology, Extract Neurites from Neuron object\n",
    "nrn = 'Group_01/00/morph_03.swc'\n",
    "neuron = nm.load_neuron(nrn)\n",
    "neurites = neuron.neurites\n",
    "\n",
    "# Create Figure to include all subplots\n",
    "fig = plt.figure(figsize=(20, 6))\n",
    "\n",
    "# Plot neuron in 3D in a subplot\n",
    "axes = fig.add_subplot(1, 8, 8, projection='3d') # Add to the last subplot\n",
    "nm.viewer.plot_neuron3d(axes, neuron)\n",
    "axes.axis('off')\n",
    "axes.set_title('3D')\n",
    "\n",
    "# Plot Neuron in 2D in 3 planes\n",
    "planes = ['xy', 'yz', 'xz']\n",
    "for i, plane in enumerate(planes):\n",
    "    axes = fig.add_subplot(1, 8, i+5)\n",
    "    nm.viewer.plot_neuron(axes, neuron, plane=plane)\n",
    "    axes.axis('off')\n",
    "    axes.set_title(str(plane))\n",
    "\n",
    "# Plot Neurites separately\n",
    "for i, neurite in enumerate(neurites):\n",
    "    # If condition is just to preserve the order and shape of subplots\n",
    "    if i < 4:\n",
    "        current_axes = fig.add_subplot(2, 8, i+1)\n",
    "    else:\n",
    "        current_axes = fig.add_subplot(2, 8, i+5)\n",
    "    view.plot_tree(current_axes, neurite, plane='xy')\n",
    "    update_plot_limits(current_axes, white_space=10)\n",
    "    current_axes.axis('off')\n",
    "    current_axes.set_title(str(neurite.type).split('.')[1])\n",
    "\n",
    "# set a global title for the figure\n",
    "fig.suptitle(neuron.name, fontsize=20)"
   ]
  },
  {
   "cell_type": "markdown",
   "metadata": {},
   "source": [
    "# Ex3: Check your set of morphologies for mistakes\n",
    "\n",
    "<font size = \"3\">Work with the morphology files that correspond to your group, some of them are good morphology files and some have mistakes. Write down which files have errors, enumerate the errors in each file. You can use or copy here the code on Week2_Morphologies_CheckErrors_tut02.ipynb. Explain, on your own words, what each of these errors means, and give some ideas about how would you correct the mistakes from your bad morphology files. [1.5 pts]"
   ]
  },
  {
   "cell_type": "code",
   "execution_count": null,
   "metadata": {},
   "outputs": [],
   "source": []
  },
  {
   "cell_type": "markdown",
   "metadata": {},
   "source": [
    "# Ex4: Morphometrics\n",
    "\n",
    "<font size = \"3\">Now that you know which cells, out of your set of cells, are morphologically correct its time to analyze some characteristics of them. \n",
    "\n",
    "<font size = \"3\">Compute some morphometric characteristics of all the cells in your cell set that have no mistakes. Represent the result of all the cells using histograms. Find the morphometric charachteristics that best enable you to classify the cells into different groups. Would using a combination of morphometric characteristics improve the classification? Plot the results in a scatter plot[2.5 pts]"
   ]
  },
  {
   "cell_type": "code",
   "execution_count": null,
   "metadata": {},
   "outputs": [],
   "source": []
  },
  {
   "cell_type": "markdown",
   "metadata": {},
   "source": [
    "<font size = \"3\">__IMPORTANT:__ as we have seen in the lecture, neurons have very different shapes. Some of them may even missed some parts that other neurons have, but this doesn't mean that their reconstruction is wrong. \n",
    "\n",
    "<font size = \"3\">Use the information given on the following papers to help you answer Ex3 and Ex4.\n",
    "\n",
    "<font size = \"3\">[paper 1](https://www.nature.com/articles/nrn1519.pdf) \n",
    "    \n",
    "<font size = \"3\">[paper 2](https://www.nature.com/articles/nrn2402.pdf)\n",
    "    \n",
    "<font size = \"3\">[paper 3](https://watermark.silverchair.com/bhy339.pdf?token=AQECAHi208BE49Ooan9kkhW_Ercy7Dm3ZL_9Cf3qfKAc485ysgAAAnwwggJ4BgkqhkiG9w0BBwagggJpMIICZQIBADCCAl4GCSqGSIb3DQEHATAeBglghkgBZQMEAS4wEQQMjL2dxX4XnctI8PSkAgEQgIICL871rzxAccwBPnWDWJYXnmhez2c206RYVCnDmVVfJdui3Y0__27wwcSCeSvs8bMO-ySrUsntk8bkKC0g0_2zqK9F-IRlkpL4X120sWQoyjsnZSRgpQgBRjhTGqEiQFSv6VpT1NS7tw8Ytgz0nxRzd6uVmAJmm4hA3Qt6xerIeKCuUP2LZhWFPCkCqY9Z6vrTWs31nKibrYQyhfebtfrjQUXZM41f-jg19pGQW353OY8X8EHbnlzljAF25bPO1dFcoJ9z1YrIavhUJvrC_ROcrQ_xFpf43nLKtv44PxSR8ynIh1W87NKQjMy09q_SeEqL2rQcbMm_GxJp11_T39iAZeoghTOsj9nbJM1DcZ_EHiPDUimGWP-zX3GgPa5OFMYDW99UlS7aoEhLUMeNOagm1McT8U3SYyKYUSmKuWbxSE4vzzl6i4kfVTZinPCc2pJUO7foA11nzp8Od-BadQFDv4oC306nDSWJWe62Y4qbGmzR4MLnO_Gunf9wmszwyNHckn81sxPmTBmnTKYkYNJLUGjZFluRgw_Ssjvk42kBawDJ338-CdN0zTm7paxSSDTu32ZKLLaEjchehmkt5ecY3qn5cNXgAo-BGoMDN2Cl9h5F_NZlR4vTg2B3vRKKmKfjt1tLqoG8K4FrO3LNE8cmCZ-f3iFGSeDOD_VMFb5O0q68uqnlfRN6Ep56WChWSWRS92wNhGx7rUQAOvK7dJWK7oIPaxXBh55_RpZn2BQI0WQ)"
   ]
  }
 ],
 "metadata": {
  "kernelspec": {
   "display_name": "Python 3",
   "language": "python",
   "name": "python3"
  },
  "language_info": {
   "codemirror_mode": {
    "name": "ipython",
    "version": 3
   },
   "file_extension": ".py",
   "mimetype": "text/x-python",
   "name": "python",
   "nbconvert_exporter": "python",
   "pygments_lexer": "ipython3",
   "version": "3.6.2rc2"
  }
 },
 "nbformat": 4,
 "nbformat_minor": 4
}
