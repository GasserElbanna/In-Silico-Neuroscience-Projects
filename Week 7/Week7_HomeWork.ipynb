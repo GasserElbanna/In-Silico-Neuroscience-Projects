{
 "cells": [
  {
   "cell_type": "markdown",
   "metadata": {},
   "source": [
    "<center><font size = \"10\"> Week 7 - Connections <center>\n",
    "<center><font size = \"8\">Home work<center>"
   ]
  },
  {
   "cell_type": "markdown",
   "metadata": {},
   "source": [
    "<font size = \"3\">Please, write your group number and the names and surnames of the group members here\n",
    "<br>Group number: 1\n",
    "<br>Group member1: Gasser Elbanna\n",
    "<br>Group member2: Milo Imbeni\n",
    "<br>Group member3: Louise Placidet"
   ]
  },
  {
   "cell_type": "markdown",
   "metadata": {},
   "source": [
    "### From Homework 2: The morphologies we identified that did not have any errors are\n",
    "\n",
    "### Cells: 3, 6, 7, 9, 10"
   ]
  },
  {
   "cell_type": "markdown",
   "metadata": {},
   "source": [
    "# Ex1. Connect all-to-all with random weights.\n",
    "\n",
    "<font size='3'>In week 2 Home Work (Morphologies) you've received a set of ten morphology files you were asked to check for quality. Each set of cells contains __FIVE__ good-quality morphology files you were asked to make note of and keep for future assignments. If you think that you only have three, please go through Week2_HomeWorks_Solutions.ipynb posted on Moodle to help you identify good morphologies for your group. For this exercise, connect your five cells all to all (unidirectionally) with uniform probability and display a connectivity matrix with weights and cell labels. (refer to tutorial 01 of this week for sample code). [1 pt]"
   ]
  },
  {
   "cell_type": "code",
   "execution_count": 1,
   "metadata": {},
   "outputs": [],
   "source": [
    "# Importing usefull packages:\n",
    "%matplotlib inline\n",
    "\n",
    "from neuron import h, gui\n",
    "import matplotlib.pyplot as plt\n",
    "import numpy as np"
   ]
  },
  {
   "cell_type": "markdown",
   "metadata": {},
   "source": [
    "### Step 1: Creating the Cell Class"
   ]
  },
  {
   "cell_type": "code",
   "execution_count": 4,
   "metadata": {},
   "outputs": [],
   "source": [
    "class Cell:\n",
    "    def __init__(self, filename, name, cell_type):\n",
    "        self.name = name\n",
    "        self.type = cell_type\n",
    "        self.synapses = []\n",
    "        self.build_morphology(filename)\n",
    "        self.biophysics()\n",
    "        \n",
    "    def build_morphology(self, filename):\n",
    "        h.load_file('import3d.hoc')\n",
    "        h.load_file('stdlib.hoc')\n",
    "        #morph_reader = h.Import3d_Neurolucida3()\n",
    "        morph_reader = h.Import3d_SWC_read()\n",
    "        morph_reader.input(filename)\n",
    "        i3d = h.Import3d_GUI(morph_reader, 0)\n",
    "        i3d.instantiate(self) # Notice this change to be able to instantiate several cells\n",
    "    \n",
    "    def biophysics(self):\n",
    "        for sec in h.allsec():\n",
    "            sec.Ra = 100    # Axial resistance in Ohm * cm\n",
    "            sec.cm = 1      # Membrane capacitance in micro Farads / cm^2\n",
    "            sec.insert(\"pas\")\n",
    "            for seg in sec:\n",
    "                seg.pas.g = 0.00003\n",
    "                seg.pas.e = -75\n",
    "        \n",
    "        # Insert passive current in the dendrite\n",
    "        for sec in self.soma:\n",
    "            sec.insert('hh')\n",
    "            for seg in sec:\n",
    "                seg.hh.gnabar = 0.12  # Sodium conductance in S/cm2\n",
    "                seg.hh.gkbar = 0.036  # Potassium conductance in S/cm2\n",
    "        \n",
    "        if hasattr(self, 'apic'):\n",
    "            for sec in self.apic:\n",
    "                sec.insert('hh')\n",
    "                for seg in sec:\n",
    "                    seg.hh.gnabar = 0.12  # Sodium conductance in S/cm2\n",
    "                    seg.hh.gkbar = 0.036  # Potassium conductance in S/cm2\n",
    "        \n",
    "        for sec in self.dend:\n",
    "            sec.insert('hh')\n",
    "            for seg in sec:\n",
    "                seg.hh.gnabar = 0.12  # Sodium conductance in S/cm2\n",
    "                seg.hh.gkbar = 0.036  # Potassium conductance in S/cm2\n",
    "                \n",
    "        for sec in self.axon:\n",
    "            sec.insert('hh')\n",
    "            for seg in sec:    \n",
    "                seg.hh.gnabar = 0.12  # Sodium conductance in S/cm2\n",
    "                seg.hh.gkbar = 0.036  # Potassium conductance in S/cm2"
   ]
  },
  {
   "cell_type": "markdown",
   "metadata": {},
   "source": [
    "### Step 2: Instanciate the Cells from Homework 2"
   ]
  },
  {
   "cell_type": "code",
   "execution_count": 5,
   "metadata": {},
   "outputs": [
    {
     "name": "stdout",
     "output_type": "stream",
     "text": [
      "error morph_06.swc line 17828: could not parse: \n",
      "error morph_07.swc line 19678: could not parse: \n",
      "error morph_09.swc line 6173: could not parse: \n",
      "error morph_03.swc line 7281: could not parse: \n",
      "error morph_10.swc line 3377: could not parse: \n"
     ]
    }
   ],
   "source": [
    "Pyr1 = Cell('morph_06.swc','Pyr1','Pyr')\n",
    "Pyr2 = Cell('morph_07.swc','Pyr2','Pyr')\n",
    "Pyr3 = Cell('morph_09.swc','Pyr3','Pyr')\n",
    "Int1 = Cell('morph_03.swc','Int1','Int')\n",
    "Int2 = Cell('morph_10.swc','Int2','Int')\n",
    "\n",
    "# Classing the cells by group:\n",
    "cells_Pyr = [Pyr1, Pyr2, Pyr3]\n",
    "cells_Int = [Int1, Int2]\n",
    "cells = cells_Pyr + cells_Int"
   ]
  },
  {
   "cell_type": "code",
   "execution_count": 6,
   "metadata": {},
   "outputs": [
    {
     "name": "stdout",
     "output_type": "stream",
     "text": [
      "Pyr1: 95 apical sections, 72 basal sections, 2 soma sections and 131 axon senctions\n",
      "Pyr2: 131 apical sections, 82 basal sections, 2 soma sections and 125 axon senctions\n",
      "Pyr3: 37 apical sections, 69 basal sections, 2 soma sections and 67 axon senctions\n",
      "Int1: 45 basal sections, 2 soma sections and 103 axon senctions\n",
      "Int2: 33 basal sections, 2 soma sections and 120 axon senctions\n"
     ]
    }
   ],
   "source": [
    "for c in cells_Pyr:\n",
    "    print('%s: %d apical sections, %d basal sections, %d soma sections and %d axon senctions' % (c.name,len(c.apic),len(c.dend), len(c.soma), len(c.axon)))\n",
    "for c in cells_Int:\n",
    "    print('%s: %d basal sections, %d soma sections and %d axon senctions' % (c.name,len(c.dend), len(c.soma), len(c.axon)))"
   ]
  },
  {
   "cell_type": "markdown",
   "metadata": {},
   "source": [
    "### Step 3: Connecting the Cells All-to-All with Random Weights"
   ]
  },
  {
   "cell_type": "code",
   "execution_count": 7,
   "metadata": {},
   "outputs": [],
   "source": [
    "# returns NxN matrix of random weights in [0,1) with zero diagonal\n",
    "def random_weights(n):\n",
    "    rng = np.random.default_rng()\n",
    "    weights = rng.random((n,n))\n",
    "    np.fill_diagonal(weights,0.0)\n",
    "    return weights"
   ]
  },
  {
   "cell_type": "code",
   "execution_count": 8,
   "metadata": {},
   "outputs": [],
   "source": [
    "# connect two cells with an exponential synapse at given locations\n",
    "# returns the netcon\n",
    "def connect(source, target, weight = None, delay = 5, source_sec = None, source_neurite = 'axon', target_sec = None, target_neurite = 'dend'):\n",
    "    rng = np.random.default_rng()\n",
    "    \n",
    "    if weight is None:\n",
    "        weight = rng.uniform() # random weight\n",
    "    \n",
    "    target_neurite_ = getattr(target, target_neurite)\n",
    "    if target_sec is None:\n",
    "        target_sec = rng.integers(0,len(target_neurite_)) # random dendritic section\n",
    "    \n",
    "    source_neurite_ = getattr(source, source_neurite)\n",
    "    if source_sec is None:\n",
    "        source_sec = rng.integers(0,len(source_neurite_)) # random axonal section\n",
    "    \n",
    "    target_syn = h.ExpSyn(target_neurite_[target_sec](0.5))\n",
    "    target.synapses.append(target_syn) # store synapse\n",
    "    \n",
    "    netcon = h.NetCon(source_neurite_[source_sec](0.5)._ref_v, target_syn, sec=source_neurite_[source_sec])\n",
    "    netcon.weight[0] = weight\n",
    "    netcon.delay = delay\n",
    "    \n",
    "    print('Connected cells %s -> %s with weight %g and delay %g, from %s[%d] to %s[%d]' % (source.name,target.name,weight,delay,source_neurite,source_sec,target_neurite,target_sec))\n",
    "    return netcon"
   ]
  },
  {
   "cell_type": "code",
   "execution_count": 10,
   "metadata": {},
   "outputs": [
    {
     "name": "stdout",
     "output_type": "stream",
     "text": [
      "Connected cells Pyr2 -> Pyr1 with weight 0.994253 and delay 5, from axon[46] to dend[47]\n",
      "Connected cells Pyr3 -> Pyr1 with weight 0.575284 and delay 5, from axon[46] to dend[31]\n",
      "Connected cells Int1 -> Pyr1 with weight 0.71154 and delay 5, from axon[75] to soma[1]\n",
      "Connected cells Int2 -> Pyr1 with weight 0.496651 and delay 5, from axon[97] to soma[1]\n",
      "Connected cells Pyr1 -> Pyr2 with weight 0.277002 and delay 5, from axon[42] to dend[12]\n",
      "Connected cells Pyr3 -> Pyr2 with weight 0.370892 and delay 5, from axon[38] to dend[40]\n",
      "Connected cells Int1 -> Pyr2 with weight 0.96336 and delay 5, from axon[97] to soma[1]\n",
      "Connected cells Int2 -> Pyr2 with weight 0.496284 and delay 5, from axon[5] to soma[0]\n",
      "Connected cells Pyr1 -> Pyr3 with weight 0.449776 and delay 5, from axon[80] to dend[5]\n",
      "Connected cells Pyr2 -> Pyr3 with weight 0.539133 and delay 5, from axon[73] to dend[52]\n",
      "Connected cells Int1 -> Pyr3 with weight 0.785511 and delay 5, from axon[19] to soma[1]\n",
      "Connected cells Int2 -> Pyr3 with weight 0.337451 and delay 5, from axon[41] to soma[0]\n",
      "Connected cells Pyr1 -> Int1 with weight 0.0332189 and delay 5, from axon[124] to dend[0]\n",
      "Connected cells Pyr2 -> Int1 with weight 0.744126 and delay 5, from axon[7] to dend[0]\n",
      "Connected cells Pyr3 -> Int1 with weight 0.810194 and delay 5, from axon[42] to dend[0]\n",
      "Connected cells Int2 -> Int1 with weight 0.767651 and delay 5, from axon[38] to soma[0]\n",
      "Connected cells Pyr1 -> Int2 with weight 0.513101 and delay 5, from axon[24] to dend[24]\n",
      "Connected cells Pyr2 -> Int2 with weight 0.954777 and delay 5, from axon[96] to dend[31]\n",
      "Connected cells Pyr3 -> Int2 with weight 0.103063 and delay 5, from axon[7] to dend[18]\n",
      "Connected cells Int1 -> Int2 with weight 0.718238 and delay 5, from axon[97] to soma[0]\n"
     ]
    }
   ],
   "source": [
    "weight_matrix = random_weights(5)\n",
    "\n",
    "netcons = [] # save the netcons in case we want to modify them later\n",
    "\n",
    "# Connect Pyr2, Pyr3, Int1 and Int2 to Pyr1\n",
    "nc = connect(Pyr2,Pyr1,weight_matrix[0,1])\n",
    "netcons.append(nc)\n",
    "nc = connect(Pyr3,Pyr1,weight_matrix[0,2])\n",
    "netcons.append(nc)\n",
    "nc = connect(Int1,Pyr1,weight_matrix[0,3],target_neurite='soma')\n",
    "netcons.append(nc)\n",
    "nc = connect(Int2,Pyr1,weight_matrix[0,4],target_neurite='soma')\n",
    "netcons.append(nc)\n",
    "\n",
    "# Connect Pyr1, Pyr3, Int1 and Int2 to Pyr2\n",
    "nc = connect(Pyr1,Pyr2,weight_matrix[1,0])\n",
    "netcons.append(nc)\n",
    "nc = connect(Pyr3,Pyr2,weight_matrix[1,2])\n",
    "netcons.append(nc)\n",
    "nc = connect(Int1,Pyr2,weight_matrix[1,3],target_neurite='soma')\n",
    "netcons.append(nc)\n",
    "nc = connect(Int2,Pyr2,weight_matrix[1,4],target_neurite='soma')\n",
    "netcons.append(nc)\n",
    "\n",
    "# Connect Pyr1, Pyr2, Int1 and Int2 to Pyr3\n",
    "nc = connect(Pyr1,Pyr3,weight_matrix[2,0])\n",
    "netcons.append(nc)\n",
    "nc = connect(Pyr2,Pyr3,weight_matrix[2,1])\n",
    "netcons.append(nc)\n",
    "nc = connect(Int1,Pyr3,weight_matrix[2,3],target_neurite='soma')\n",
    "netcons.append(nc)\n",
    "nc = connect(Int2,Pyr3,weight_matrix[2,4],target_neurite='soma')\n",
    "netcons.append(nc)\n",
    "\n",
    "# Connect Pyr1, Pyr2, Pyr3 and Int2 to Int1\n",
    "nc = connect(Pyr1,Int1,weight_matrix[3,0])\n",
    "netcons.append(nc)\n",
    "nc = connect(Pyr2,Int1,weight_matrix[3,1])\n",
    "netcons.append(nc)\n",
    "nc = connect(Pyr3,Int1,weight_matrix[3,2])\n",
    "netcons.append(nc)\n",
    "nc = connect(Int2,Int1,weight_matrix[3,4],target_neurite='soma')\n",
    "netcons.append(nc)\n",
    "               \n",
    "# Connect Pyr1, Pyr2, Pyr3 and Int1 to Int2\n",
    "nc = connect(Pyr1,Int2,weight_matrix[4,0])\n",
    "netcons.append(nc)\n",
    "nc = connect(Pyr2,Int2,weight_matrix[4,1])\n",
    "netcons.append(nc)\n",
    "nc = connect(Pyr3,Int2,weight_matrix[4,2])\n",
    "netcons.append(nc)\n",
    "nc = connect(Int1,Int2,weight_matrix[4,3],target_neurite='soma')\n",
    "netcons.append(nc)"
   ]
  },
  {
   "cell_type": "markdown",
   "metadata": {},
   "source": [
    "### Step 4: Plotting the Weight Matrix with Weights and Cell Labels"
   ]
  },
  {
   "cell_type": "code",
   "execution_count": 24,
   "metadata": {},
   "outputs": [],
   "source": [
    "def heatmap(data, row_labels, col_labels, ax=None, cbar_kw={}, cbarlabel=\"\", **kwargs):\n",
    "    \"\"\"\n",
    "    Create a heatmap from a numpy array and two lists of labels.\n",
    "\n",
    "    Parameters\n",
    "    ----------\n",
    "    data\n",
    "        A 2D numpy array of shape (N, M).\n",
    "    row_labels\n",
    "        A list or array of length N with the labels for the rows.\n",
    "    col_labels\n",
    "        A list or array of length M with the labels for the columns.\n",
    "    ax\n",
    "        A `matplotlib.axes.Axes` instance to which the heatmap is plotted.  If\n",
    "        not provided, use current axes or create a new one.  Optional.\n",
    "    cbar_kw\n",
    "        A dictionary with arguments to `matplotlib.Figure.colorbar`.  Optional.\n",
    "    cbarlabel\n",
    "        The label for the colorbar.  Optional.\n",
    "    **kwargs\n",
    "        All other arguments are forwarded to `imshow`.\n",
    "    \"\"\"\n",
    "\n",
    "    if not ax:\n",
    "        ax = plt.gca()\n",
    "\n",
    "    # Plot the heatmap\n",
    "    im = ax.imshow(data, **kwargs)\n",
    "\n",
    "    # Create colorbar\n",
    "    cbar = ax.figure.colorbar(im, ax=ax, **cbar_kw)\n",
    "    cbar.ax.set_ylabel(cbarlabel, rotation=-90, va=\"bottom\")\n",
    "\n",
    "    # We want to show all ticks...\n",
    "    ax.set_xticks(np.arange(data.shape[1]))\n",
    "    ax.set_yticks(np.arange(data.shape[0]))\n",
    "    # ... and label them with the respective list entries.\n",
    "    ax.set_xticklabels(col_labels)\n",
    "    ax.set_yticklabels(row_labels)\n",
    "\n",
    "    # Let the horizontal axes labeling appear on top.\n",
    "    ax.tick_params(top=True, bottom=False,\n",
    "                   labeltop=True, labelbottom=False)\n",
    "\n",
    "    # Rotate the tick labels and set their alignment.\n",
    "    plt.setp(ax.get_xticklabels(), rotation=-30, ha=\"right\",\n",
    "             rotation_mode=\"anchor\")\n",
    "\n",
    "    # Loop over data dimensions and create text annotations.\n",
    "    for i in range(5):\n",
    "        for j in range(5):\n",
    "            text = ax.text(j, i, \"%.2f\" %data[i, j],\n",
    "                           ha=\"center\", va=\"center\", color=\"w\")\n",
    "    \n",
    "    # Turn spines off and create white grid.\n",
    "    for edge, spine in ax.spines.items():\n",
    "        spine.set_visible(False)\n",
    "\n",
    "    ax.set_xticks(np.arange(data.shape[1]+1)-.5, minor=True)\n",
    "    ax.set_yticks(np.arange(data.shape[0]+1)-.5, minor=True)\n",
    "    ax.grid(which=\"minor\", color=\"w\", linestyle='-', linewidth=3)\n",
    "    ax.tick_params(which=\"minor\", bottom=False, left=False)\n",
    "    ax.set_title(\"Connectivity Matrix\")\n",
    "    \n",
    "    \n",
    "    return im, cbar"
   ]
  },
  {
   "cell_type": "code",
   "execution_count": 25,
   "metadata": {},
   "outputs": [
    {
     "data": {
      "image/png": "[encoded data removed]",
      "text/plain": [
       "<Figure size 432x288 with 2 Axes>"
      ]
     },
     "metadata": {
      "needs_background": "light"
     },
     "output_type": "display_data"
    }
   ],
   "source": [
    "fig, ax = plt.subplots()\n",
    "\n",
    "im, cbar = heatmap(weight_matrix, ['Pyr1', 'Pyr2', 'Pyr3', 'Inh1', 'Inh2'], ['Pyr1', 'Pyr2', 'Pyr3','Inh1', 'Inh2'], ax=ax, cmap=\"viridis\", cbarlabel=\"connection probability\")\n",
    "\n",
    "fig.tight_layout()"
   ]
  },
  {
   "cell_type": "markdown",
   "metadata": {},
   "source": [
    "# Ex2. Connect your cells considering connection probability\n",
    "\n",
    "<font size='3'>Connect your five cells as it is done in tutorial 02, considering the following connection probabilities between cell types:\n",
    "<br> PC - PC: 75 %\n",
    "<br> PC - Inh: 19 %\n",
    "<br> Inh - PC: 48 %\n",
    "<br> Inh - Inh: 23 %\n",
    "\n",
    "<font size='3'>Show the results on a probability matrix and the number of contacts each of your cells has. [1 pt]"
   ]
  },
  {
   "cell_type": "markdown",
   "metadata": {},
   "source": [
    "<span style=\"color:red\"> Restaring Kernel out of precaution...\n",
    "    \n",
    "    \n",
    "### Step 1: Creating Cell Class"
   ]
  },
  {
   "cell_type": "code",
   "execution_count": 2,
   "metadata": {},
   "outputs": [],
   "source": [
    "# Importing usefull packages:\n",
    "%matplotlib inline\n",
    "\n",
    "from neuron import h, gui\n",
    "import matplotlib.pyplot as plt\n",
    "import numpy as np\n",
    "\n",
    "class Cell:\n",
    "    def __init__(self, filename, name, cell_type):\n",
    "        self.name = name\n",
    "        self.type = cell_type\n",
    "        self.synapses = []\n",
    "        self.build_morphology(filename)\n",
    "        self.biophysics()\n",
    "        \n",
    "    def build_morphology(self, filename):\n",
    "        h.load_file('import3d.hoc')\n",
    "        h.load_file('stdlib.hoc')\n",
    "        #morph_reader = h.Import3d_Neurolucida3()\n",
    "        morph_reader = h.Import3d_SWC_read()\n",
    "        morph_reader.input(filename)\n",
    "        i3d = h.Import3d_GUI(morph_reader, 0)\n",
    "        i3d.instantiate(self) # Notice this change to be able to instantiate several cells\n",
    "    \n",
    "    def biophysics(self):\n",
    "        for sec in h.allsec():\n",
    "            sec.Ra = 100    # Axial resistance in Ohm * cm\n",
    "            sec.cm = 1      # Membrane capacitance in micro Farads / cm^2\n",
    "            sec.insert(\"pas\")\n",
    "            for seg in sec:\n",
    "                seg.pas.g = 0.00003\n",
    "                seg.pas.e = -75\n",
    "        \n",
    "        # Insert passive current in the dendrite\n",
    "        for sec in self.soma:\n",
    "            sec.insert('hh')\n",
    "            for seg in sec:\n",
    "                seg.hh.gnabar = 0.12  # Sodium conductance in S/cm2\n",
    "                seg.hh.gkbar = 0.036  # Potassium conductance in S/cm2\n",
    "        \n",
    "        if hasattr(self, 'apic'):\n",
    "            for sec in self.apic:\n",
    "                sec.insert('hh')\n",
    "                for seg in sec:\n",
    "                    seg.hh.gnabar = 0.12  # Sodium conductance in S/cm2\n",
    "                    seg.hh.gkbar = 0.036  # Potassium conductance in S/cm2\n",
    "        \n",
    "        for sec in self.dend:\n",
    "            sec.insert('hh')\n",
    "            for seg in sec:\n",
    "                seg.hh.gnabar = 0.12  # Sodium conductance in S/cm2\n",
    "                seg.hh.gkbar = 0.036  # Potassium conductance in S/cm2\n",
    "                \n",
    "        for sec in self.axon:\n",
    "            sec.insert('hh')\n",
    "            for seg in sec:    \n",
    "                seg.hh.gnabar = 0.12  # Sodium conductance in S/cm2\n",
    "                seg.hh.gkbar = 0.036  # Potassium conductance in S/cm2"
   ]
  },
  {
   "cell_type": "markdown",
   "metadata": {},
   "source": [
    "### Step 2: Instanciate our Cells from Homework 2"
   ]
  },
  {
   "cell_type": "code",
   "execution_count": 3,
   "metadata": {},
   "outputs": [
    {
     "name": "stdout",
     "output_type": "stream",
     "text": [
      "error morph_06.swc line 17828: could not parse: \n",
      "error morph_07.swc line 19678: could not parse: \n",
      "error morph_09.swc line 6173: could not parse: \n",
      "error morph_03.swc line 7281: could not parse: \n",
      "error morph_10.swc line 3377: could not parse: \n"
     ]
    }
   ],
   "source": [
    "Pyr1 = Cell('morph_06.swc','Pyr1','Pyr')\n",
    "Pyr2 = Cell('morph_07.swc','Pyr2','Pyr')\n",
    "Pyr3 = Cell('morph_09.swc','Pyr3','Pyr')\n",
    "Int1 = Cell('morph_03.swc','Int1','Int')\n",
    "Int2 = Cell('morph_10.swc','Int2','Int')\n",
    "\n",
    "# Classing the cells by group:\n",
    "cells_Pyr = [Pyr1, Pyr2, Pyr3]\n",
    "cells_Int = [Int1, Int2]\n",
    "cells = cells_Pyr + cells_Int"
   ]
  },
  {
   "cell_type": "code",
   "execution_count": 4,
   "metadata": {},
   "outputs": [
    {
     "name": "stdout",
     "output_type": "stream",
     "text": [
      "Pyr1: 95 apical sections, 72 basal sections, 2 soma sections and 131 axon senctions\n",
      "Pyr2: 131 apical sections, 82 basal sections, 2 soma sections and 125 axon senctions\n",
      "Pyr3: 37 apical sections, 69 basal sections, 2 soma sections and 67 axon senctions\n",
      "Int1: 45 basal sections, 2 soma sections and 103 axon senctions\n",
      "Int2: 33 basal sections, 2 soma sections and 120 axon senctions\n"
     ]
    }
   ],
   "source": [
    "for c in cells_Pyr:\n",
    "    print('%s: %d apical sections, %d basal sections, %d soma sections and %d axon senctions' % (c.name,len(c.apic),len(c.dend), len(c.soma), len(c.axon)))\n",
    "for c in cells_Int:\n",
    "    print('%s: %d basal sections, %d soma sections and %d axon senctions' % (c.name,len(c.dend), len(c.soma), len(c.axon)))"
   ]
  },
  {
   "cell_type": "markdown",
   "metadata": {},
   "source": [
    "### Step 3: Connecting Cells based on Connection Probabilities"
   ]
  },
  {
   "cell_type": "code",
   "execution_count": 5,
   "metadata": {},
   "outputs": [],
   "source": [
    "# connect two cells with an exponential synapse at given locations\n",
    "# returns the netcon\n",
    "def connect(source, target, weight = None, delay = 5, source_sec = None, source_neurite = 'axon', target_sec = None, target_neurite = 'dend'):\n",
    "    rng = np.random.default_rng()\n",
    "    \n",
    "    if weight is None:\n",
    "        weight = rng.uniform() # random weight\n",
    "    \n",
    "    target_neurite_ = getattr(target, target_neurite)\n",
    "    if target_sec is None:\n",
    "        target_sec = rng.integers(0,len(target_neurite_)) # random dendritic section\n",
    "    \n",
    "    source_neurite_ = getattr(source, source_neurite)\n",
    "    if source_sec is None:\n",
    "        source_sec = rng.integers(0,len(source_neurite_)) # random axonal section\n",
    "    \n",
    "    target_syn = h.ExpSyn(target_neurite_[target_sec](0.5))\n",
    "    target.synapses.append(target_syn) # store synapse\n",
    "    \n",
    "    netcon = h.NetCon(source_neurite_[source_sec](0.5)._ref_v, target_syn, sec=source_neurite_[source_sec])\n",
    "    netcon.weight[0] = weight\n",
    "    netcon.delay = delay\n",
    "    \n",
    "    print('Connected cells %s -> %s with weight %g and delay %g, from %s[%d] to %s[%d]' % (source.name,target.name,weight,delay,source_neurite,source_sec,target_neurite,target_sec))\n",
    "    return netcon"
   ]
  },
  {
   "cell_type": "code",
   "execution_count": 6,
   "metadata": {},
   "outputs": [],
   "source": [
    "# specify connection probabilites between cell types\n",
    "conn_prob_matrix = np.zeros((2,2))\n",
    "conn_prob_matrix[0,0] = 0.75 # Pyr to Pyr\n",
    "conn_prob_matrix[0,1] = 0.19 # Pyr to Int\n",
    "conn_prob_matrix[1,0] = 0.48 # Int to Pyr\n",
    "conn_prob_matrix[1,1] = 0.23 # Int to Int"
   ]
  },
  {
   "cell_type": "code",
   "execution_count": 8,
   "metadata": {},
   "outputs": [
    {
     "name": "stdout",
     "output_type": "stream",
     "text": [
      "Connected cells Pyr2 -> Pyr1 with weight 0.818443 and delay 5, from axon[38] to dend[47]\n",
      "Connected cells Pyr3 -> Pyr1 with weight 0.774485 and delay 5, from axon[8] to dend[40]\n",
      "Connected cells Int1 -> Pyr1 with weight 0.937916 and delay 5, from axon[11] to soma[0]\n",
      "Connected cells Pyr3 -> Pyr2 with weight 0.818971 and delay 5, from axon[3] to dend[4]\n",
      "Connected cells Int2 -> Pyr2 with weight 0.0295302 and delay 5, from axon[14] to soma[1]\n",
      "Connected cells Pyr1 -> Pyr2 with weight 0.746709 and delay 5, from axon[97] to dend[4]\n",
      "Connected cells Pyr2 -> Pyr3 with weight 0.0849614 and delay 5, from axon[77] to dend[39]\n",
      "Connected cells Int1 -> Pyr3 with weight 0.747828 and delay 5, from axon[12] to soma[0]\n",
      "Connected cells Int2 -> Pyr3 with weight 0.465465 and delay 5, from axon[32] to soma[0]\n",
      "Connected cells Int1 -> Int2 with weight 0.524803 and delay 5, from axon[62] to soma[1]\n"
     ]
    }
   ],
   "source": [
    "netcons = [] # store all netcons\n",
    "\n",
    "rng = np.random.default_rng()\n",
    "\n",
    "################ Pyramidal 1\n",
    "# Connect Pyr2 to Pyr1\n",
    "if rng.random() < conn_prob_matrix[0,0]:\n",
    "    nc = connect(Pyr2, Pyr1)\n",
    "    netcons.append(nc)\n",
    "    \n",
    "# Connect Pyr3 to Pyr1\n",
    "if rng.random() < conn_prob_matrix[0,0]:\n",
    "    nc = connect(Pyr3, Pyr1)\n",
    "    netcons.append(nc)\n",
    "\n",
    "# Connect Int1 to Pyr1\n",
    "if rng.random() < conn_prob_matrix[1,0]:\n",
    "    nc = connect(Int1, Pyr1, target_neurite='soma')\n",
    "    netcons.append(nc)\n",
    "\n",
    "# Connect Int2 to Pyr1\n",
    "if rng.random() < conn_prob_matrix[1,0]:\n",
    "    nc = connect(Int2, Pyr1, target_neurite='soma')\n",
    "    netcons.append(nc)\n",
    "\n",
    "################ Pyramidal 2\n",
    "# Connect Pyr1 to Pyr2\n",
    "if rng.random() < conn_prob_matrix[0,0]:\n",
    "    nc = connect(Pyr2, Pyr2)\n",
    "    netcons.append(nc)\n",
    "    \n",
    "# Connect Pyr3 to Pyr2\n",
    "if rng.random() < conn_prob_matrix[0,0]:\n",
    "    nc = connect(Pyr3, Pyr2)\n",
    "    netcons.append(nc)\n",
    "\n",
    "# Connect Int1 to Pyr2\n",
    "if rng.random() < conn_prob_matrix[1,0]:\n",
    "    nc = connect(Int1, Pyr2, target_neurite='soma')\n",
    "    netcons.append(nc)\n",
    "\n",
    "# Connect Int2 to Pyr2\n",
    "if rng.random() < conn_prob_matrix[1,0]:\n",
    "    nc = connect(Int2, Pyr2, target_neurite='soma')\n",
    "    netcons.append(nc)\n",
    "\n",
    "################ Pyramidal 3\n",
    "# Connect Pyr1 to Pyr3\n",
    "if rng.random() < conn_prob_matrix[0,0]:\n",
    "    nc = connect(Pyr1, Pyr2)\n",
    "    netcons.append(nc)\n",
    "    \n",
    "# Connect Pyr2 to Pyr3\n",
    "if rng.random() < conn_prob_matrix[0,0]:\n",
    "    nc = connect(Pyr2, Pyr3)\n",
    "    netcons.append(nc)\n",
    "\n",
    "# Connect Int1 to Pyr3\n",
    "if rng.random() < conn_prob_matrix[1,0]:\n",
    "    nc = connect(Int1, Pyr3, target_neurite='soma')\n",
    "    netcons.append(nc)\n",
    "\n",
    "# Connect Int2 to Pyr3\n",
    "if rng.random() < conn_prob_matrix[1,0]:\n",
    "    nc = connect(Int2, Pyr3, target_neurite='soma')\n",
    "    netcons.append(nc)\n",
    "\n",
    "################ Inhibitory 1\n",
    "# Connect Pyr1 to Int1\n",
    "if rng.random() < conn_prob_matrix[0,1]:\n",
    "    nc = connect(Pyr1, Int1)\n",
    "    netcons.append(nc)\n",
    "\n",
    "# Connect Pyr2 to Int1\n",
    "if rng.random() < conn_prob_matrix[0,1]:\n",
    "    nc = connect(Pyr2, Int1)\n",
    "    netcons.append(nc)\n",
    "\n",
    "# Connect Pyr3 to Int1\n",
    "if rng.random() < conn_prob_matrix[0,1]:\n",
    "    nc = connect(Pyr3, Int1)\n",
    "    netcons.append(nc)\n",
    "\n",
    "# Connect Int2 to Int1\n",
    "if rng.random() < conn_prob_matrix[1,1]:\n",
    "    nc = connect(Int2, Int1, target_neurite='soma')\n",
    "    netcons.append(nc)\n",
    "\n",
    "################ Inhibitory 2\n",
    "# Connect Pyr1 to Int2\n",
    "if rng.random() < conn_prob_matrix[0,1]:\n",
    "    nc = connect(Pyr1, Int2)\n",
    "    netcons.append(nc)\n",
    "\n",
    "# Connect Pyr2 to Int2\n",
    "if rng.random() < conn_prob_matrix[0,1]:\n",
    "    nc = connect(Pyr2, Int2)\n",
    "    netcons.append(nc)\n",
    "\n",
    "# Connect Pyr3 to Int2\n",
    "if rng.random() < conn_prob_matrix[0,1]:\n",
    "    nc = connect(Pyr3, Int2)\n",
    "    netcons.append(nc)\n",
    "\n",
    "# Connect Int1 to Int2\n",
    "if rng.random() < conn_prob_matrix[1,1]:\n",
    "    nc = connect(Int1, Int2, target_neurite='soma')\n",
    "    netcons.append(nc)"
   ]
  },
  {
   "cell_type": "code",
   "execution_count": 12,
   "metadata": {},
   "outputs": [
    {
     "name": "stdout",
     "output_type": "stream",
     "text": [
      "10\n"
     ]
    }
   ],
   "source": [
    "print(len(netcons))"
   ]
  },
  {
   "cell_type": "markdown",
   "metadata": {},
   "source": [
    "### Step 4: Probability Matrix and number of contacts each of our cell has"
   ]
  },
  {
   "cell_type": "markdown",
   "metadata": {},
   "source": [
    "#### -->Displaying Connection Probability Matrix (between cell types)"
   ]
  },
  {
   "cell_type": "code",
   "execution_count": 10,
   "metadata": {},
   "outputs": [
    {
     "data": {
      "text/plain": [
       "<matplotlib.colorbar.Colorbar at 0x7f06d64c46a0>"
      ]
     },
     "execution_count": 10,
     "metadata": {},
     "output_type": "execute_result"
    },
    {
     "data": {
      "image/png": "[encoded data removed]",
      "text/plain": [
       "<Figure size 432x288 with 2 Axes>"
      ]
     },
     "metadata": {
      "needs_background": "light"
     },
     "output_type": "display_data"
    }
   ],
   "source": [
    "# Displaying Connection Probability Matrix (between cell types)\n",
    "plt.imshow(conn_prob_matrix, cmap=\"viridis\", vmin=0.0, vmax=1.0)\n",
    "plt.colorbar()"
   ]
  },
  {
   "cell_type": "markdown",
   "metadata": {},
   "source": [
    "#### -->Displaying Connection Probability Matrix (between all the different cells)"
   ]
  },
  {
   "cell_type": "code",
   "execution_count": 23,
   "metadata": {},
   "outputs": [],
   "source": [
    "# Creating the Weight Matrix that will be plotted as a Heatmap\n",
    "weight_matrix = np.zeros((5,5))\n",
    "cellnames = [x.name for x in cells]\n",
    "\n",
    "for nc in netcons:\n",
    "    pre = nc.precell().name\n",
    "    pos = nc.postcell().name\n",
    "    ipre = cellnames.index(pre)\n",
    "    ipos = cellnames.index(pos)\n",
    "    weight_matrix[ipre,ipos] = nc.weight[0]\n",
    "    "
   ]
  },
  {
   "cell_type": "code",
   "execution_count": 24,
   "metadata": {},
   "outputs": [],
   "source": [
    "# Displaying Connection Probability Matrix (between all the different cells)\n",
    "\n",
    "def heatmap(data, row_labels, col_labels, ax=None, cbar_kw={}, cbarlabel=\"\", **kwargs):\n",
    "    \"\"\"\n",
    "    Create a heatmap from a numpy array and two lists of labels.\n",
    "\n",
    "    Parameters\n",
    "    ----------\n",
    "    data\n",
    "        A 2D numpy array of shape (N, M).\n",
    "    row_labels\n",
    "        A list or array of length N with the labels for the rows.\n",
    "    col_labels\n",
    "        A list or array of length M with the labels for the columns.\n",
    "    ax\n",
    "        A `matplotlib.axes.Axes` instance to which the heatmap is plotted.  If\n",
    "        not provided, use current axes or create a new one.  Optional.\n",
    "    cbar_kw\n",
    "        A dictionary with arguments to `matplotlib.Figure.colorbar`.  Optional.\n",
    "    cbarlabel\n",
    "        The label for the colorbar.  Optional.\n",
    "    **kwargs\n",
    "        All other arguments are forwarded to `imshow`.\n",
    "    \"\"\"\n",
    "\n",
    "    if not ax:\n",
    "        ax = plt.gca()\n",
    "\n",
    "    # Plot the heatmap\n",
    "    im = ax.imshow(data, **kwargs)\n",
    "\n",
    "    # Create colorbar\n",
    "    cbar = ax.figure.colorbar(im, ax=ax, **cbar_kw)\n",
    "    cbar.ax.set_ylabel(cbarlabel, rotation=-90, va=\"bottom\")\n",
    "\n",
    "    # We want to show all ticks...\n",
    "    ax.set_xticks(np.arange(data.shape[1]))\n",
    "    ax.set_yticks(np.arange(data.shape[0]))\n",
    "    # ... and label them with the respective list entries.\n",
    "    ax.set_xticklabels(col_labels)\n",
    "    ax.set_yticklabels(row_labels)\n",
    "\n",
    "    # Let the horizontal axes labeling appear on top.\n",
    "    ax.tick_params(top=True, bottom=False,\n",
    "                   labeltop=True, labelbottom=False)\n",
    "\n",
    "    # Rotate the tick labels and set their alignment.\n",
    "    plt.setp(ax.get_xticklabels(), rotation=-30, ha=\"right\",\n",
    "             rotation_mode=\"anchor\")\n",
    "\n",
    "    # Loop over data dimensions and create text annotations.\n",
    "    for i in range(5):\n",
    "        for j in range(5):\n",
    "            text = ax.text(j, i, \"%.2f\" %data[i, j],\n",
    "                           ha=\"center\", va=\"center\", color=\"w\")\n",
    "    \n",
    "    # Turn spines off and create white grid.\n",
    "    for edge, spine in ax.spines.items():\n",
    "        spine.set_visible(False)\n",
    "\n",
    "    ax.set_xticks(np.arange(data.shape[1]+1)-.5, minor=True)\n",
    "    ax.set_yticks(np.arange(data.shape[0]+1)-.5, minor=True)\n",
    "    ax.grid(which=\"minor\", color=\"w\", linestyle='-', linewidth=3)\n",
    "    ax.tick_params(which=\"minor\", bottom=False, left=False)\n",
    "    ax.set_title(\"Connectivity Matrix\")\n",
    "    \n",
    "    \n",
    "    return im, cbar"
   ]
  },
  {
   "cell_type": "code",
   "execution_count": 25,
   "metadata": {},
   "outputs": [
    {
     "data": {
      "image/png": "[encoded data removed]",
      "text/plain": [
       "<Figure size 432x288 with 2 Axes>"
      ]
     },
     "metadata": {
      "needs_background": "light"
     },
     "output_type": "display_data"
    }
   ],
   "source": [
    "fig, ax = plt.subplots()\n",
    "\n",
    "im, cbar = heatmap(weight_matrix, ['Pyr1', 'Pyr2', 'Pyr3', 'Inh1', 'Inh2'], ['Pyr1', 'Pyr2', 'Pyr3','Inh1', 'Inh2'], ax=ax, cmap=\"viridis\", cbarlabel=\"connection probability\")\n",
    "\n",
    "fig.tight_layout()"
   ]
  },
  {
   "cell_type": "markdown",
   "metadata": {},
   "source": [
    "### -->Number of contacts for each of our cell"
   ]
  },
  {
   "cell_type": "code",
   "execution_count": 27,
   "metadata": {},
   "outputs": [
    {
     "name": "stdout",
     "output_type": "stream",
     "text": [
      "In total, 10 connections were made\n",
      "Pyramidal cell 1 made 1 contacts\n",
      "Pyramidal cell 2 made 2 contacts\n",
      "Pyramidal cell 3 made 2 contacts\n",
      "Inhibitory cell 1 made 3 contacts\n",
      "Inhibitory cell 2 made 2 contacts\n"
     ]
    }
   ],
   "source": [
    "## Printing the number of contacts each of our cell has:\n",
    "\n",
    "print(\"In total, \"+str(len(netcons))+' connections were made')\n",
    "\n",
    "count_pyr1 = 0\n",
    "count_pyr2 = 0\n",
    "count_pyr3 = 0\n",
    "count_inh1 = 0\n",
    "count_inh2 = 0\n",
    "\n",
    "for nc in netcons:\n",
    "    pre = nc.precell().name\n",
    "    ipre = cellnames.index(pre)\n",
    "    if ipre == 0: # Pyramidal cell 1\n",
    "        count_pyr1 += 1\n",
    "    if ipre == 1: # Pyramidal cell 2\n",
    "        count_pyr2 += 1\n",
    "    if ipre == 2: # Pyramidal cell 3\n",
    "        count_pyr3 += 1\n",
    "    if ipre == 3: # Inhibitory cell 1\n",
    "        count_inh1 += 1\n",
    "    if ipre == 4: # Inhibitory cell 2\n",
    "        count_inh2 += 1\n",
    "\n",
    "print(\"Pyramidal cell 1 made \"+str(count_pyr1)+\" contacts\")\n",
    "print(\"Pyramidal cell 2 made \"+str(count_pyr2)+\" contacts\")\n",
    "print(\"Pyramidal cell 3 made \"+str(count_pyr3)+\" contacts\")\n",
    "print(\"Inhibitory cell 1 made \"+str(count_inh1)+\" contacts\")\n",
    "print(\"Inhibitory cell 2 made \"+str(count_inh2)+\" contacts\")"
   ]
  },
  {
   "cell_type": "markdown",
   "metadata": {},
   "source": [
    "# Ex3. Distribution of contacts: Convergence Matrix\n",
    "\n",
    "<font size='3'>Considering the following mean contact points between cell types: \n",
    "<br> PC_axon - PC_basal: 3\n",
    "<br> PC_axon - PC_apical: 1.5\n",
    "<br> PC_axon - Inh_basal: 4\n",
    "<br> Inh_axon - PC_soma: 3.5\n",
    "<br> Inh_axon - PC_basal: 2.2\n",
    "<br> Inh_axon - Inh_soma: 3.8\n",
    "<br> Inh_axon - Inh_basal: 1.9\n",
    "\n",
    "<font size='3'>Connect your cells by selecting the contact points from a normal distribution with a specific mean value per connection (values above). What is the maximum number of contacts you observe in your connectome ? Between which two cells ? Show the results on a __convergence__ matrix (how many contacts each of the cells receives from the others). [1.5 pts] "
   ]
  },
  {
   "cell_type": "markdown",
   "metadata": {},
   "source": [
    "<span style=\"color:red\"> Restarting Kernel out of precaution..."
   ]
  },
  {
   "cell_type": "markdown",
   "metadata": {},
   "source": [
    "### Step 1: Defining Cell Class"
   ]
  },
  {
   "cell_type": "code",
   "execution_count": 1,
   "metadata": {},
   "outputs": [],
   "source": [
    "# Load usefull packages\n",
    "%matplotlib inline\n",
    "\n",
    "from neuron import h, gui\n",
    "import matplotlib.pyplot as plt\n",
    "import numpy as np\n",
    "import math as m"
   ]
  },
  {
   "cell_type": "code",
   "execution_count": 2,
   "metadata": {},
   "outputs": [],
   "source": [
    "class Cell:\n",
    "    def __init__(self, filename, name, cell_type):\n",
    "        self.name = name\n",
    "        self.type = cell_type\n",
    "        self.synapses = []\n",
    "        self.build_morphology(filename)\n",
    "        self.biophysics()\n",
    "        \n",
    "    def build_morphology(self, filename):\n",
    "        h.load_file('import3d.hoc')\n",
    "        h.load_file('stdlib.hoc')\n",
    "        #morph_reader = h.Import3d_Neurolucida3()\n",
    "        morph_reader = h.Import3d_SWC_read()\n",
    "        morph_reader.input(filename)\n",
    "        i3d = h.Import3d_GUI(morph_reader, 0)\n",
    "        i3d.instantiate(self)\n",
    "    \n",
    "    def biophysics(self):\n",
    "        for sec in h.allsec():\n",
    "            sec.Ra = 100    # Axial resistance in Ohm * cm\n",
    "            sec.cm = 1      # Membrane capacitance in micro Farads / cm^2\n",
    "            sec.insert(\"pas\")\n",
    "            for seg in sec:\n",
    "                seg.pas.g = 0.00003\n",
    "                seg.pas.e = -75\n",
    "        \n",
    "        # Insert passive current in the dendrite\n",
    "        for sec in self.soma:\n",
    "            sec.insert('hh')\n",
    "            for seg in sec:\n",
    "                seg.hh.gnabar = 0.12  # Sodium conductance in S/cm2\n",
    "                seg.hh.gkbar = 0.036  # Potassium conductance in S/cm2\n",
    "        \n",
    "        if hasattr(self, 'apic'):\n",
    "            for sec in self.apic:\n",
    "                sec.insert('hh')\n",
    "                for seg in sec:\n",
    "                    seg.hh.gnabar = 0.12  # Sodium conductance in S/cm2\n",
    "                    seg.hh.gkbar = 0.036  # Potassium conductance in S/cm2\n",
    "        \n",
    "        for sec in self.dend:\n",
    "            sec.insert('hh')\n",
    "            for seg in sec:\n",
    "                seg.hh.gnabar = 0.12  # Sodium conductance in S/cm2\n",
    "                seg.hh.gkbar = 0.036  # Potassium conductance in S/cm2\n",
    "                \n",
    "        for sec in self.axon:\n",
    "            sec.insert('hh')\n",
    "            for seg in sec:    \n",
    "                seg.hh.gnabar = 0.12  # Sodium conductance in S/cm2\n",
    "                seg.hh.gkbar = 0.036  # Potassium conductance in S/cm2"
   ]
  },
  {
   "cell_type": "markdown",
   "metadata": {},
   "source": [
    "### Step 2: Instanciating the Cells from Homework 2"
   ]
  },
  {
   "cell_type": "code",
   "execution_count": 3,
   "metadata": {},
   "outputs": [
    {
     "name": "stdout",
     "output_type": "stream",
     "text": [
      "error morph_06.swc line 17828: could not parse: \n",
      "error morph_07.swc line 19678: could not parse: \n",
      "error morph_09.swc line 6173: could not parse: \n",
      "error morph_03.swc line 7281: could not parse: \n",
      "error morph_10.swc line 3377: could not parse: \n"
     ]
    }
   ],
   "source": [
    "Pyr1 = Cell('morph_06.swc','Pyr1','Pyr')\n",
    "Pyr2 = Cell('morph_07.swc','Pyr2','Pyr')\n",
    "Pyr3 = Cell('morph_09.swc','Pyr3','Pyr')\n",
    "Int1 = Cell('morph_03.swc','Int1','Int')\n",
    "Int2 = Cell('morph_10.swc','Int2','Int')\n",
    "\n",
    "# Classing the cells by group:\n",
    "cells_Pyr = [Pyr1, Pyr2, Pyr3]\n",
    "cells_Int = [Int1, Int2]\n",
    "cells = cells_Pyr + cells_Int"
   ]
  },
  {
   "cell_type": "code",
   "execution_count": 4,
   "metadata": {},
   "outputs": [
    {
     "name": "stdout",
     "output_type": "stream",
     "text": [
      "Pyr1: 95 apical sections, 72 basal sections, 2 soma sections and 131 axon senctions\n",
      "Pyr2: 131 apical sections, 82 basal sections, 2 soma sections and 125 axon senctions\n",
      "Pyr3: 37 apical sections, 69 basal sections, 2 soma sections and 67 axon senctions\n",
      "Int1: 45 basal sections, 2 soma sections and 103 axon senctions\n",
      "Int2: 33 basal sections, 2 soma sections and 120 axon senctions\n"
     ]
    }
   ],
   "source": [
    "for c in cells_Pyr:\n",
    "    print('%s: %d apical sections, %d basal sections, %d soma sections and %d axon senctions' % (c.name,len(c.apic),len(c.dend), len(c.soma), len(c.axon)))\n",
    "for c in cells_Int:\n",
    "    print('%s: %d basal sections, %d soma sections and %d axon senctions' % (c.name,len(c.dend), len(c.soma), len(c.axon)))"
   ]
  },
  {
   "cell_type": "markdown",
   "metadata": {},
   "source": [
    "### Step 3: Connecting Cells by selecting contact point distribution"
   ]
  },
  {
   "cell_type": "code",
   "execution_count": 5,
   "metadata": {},
   "outputs": [],
   "source": [
    "# connect two cells with an exponential synapse at given locations\n",
    "# returns the netcon\n",
    "def connect(source, target, weight = None, delay = 5, source_sec = None, source_neurite = 'axon', target_sec = None, target_neurite = 'dend'):\n",
    "    rng = np.random.default_rng()\n",
    "    \n",
    "    if weight is None:\n",
    "        weight = rng.uniform() # random weight\n",
    "    \n",
    "    target_neurite_ = getattr(target, target_neurite)\n",
    "    if target_sec is None:\n",
    "        target_sec = rng.integers(0,len(target_neurite_)) # random dendritic section\n",
    "    \n",
    "    source_neurite_ = getattr(source, source_neurite)\n",
    "    if source_sec is None:\n",
    "        source_sec = rng.integers(0,len(source_neurite_)) # random axonal section\n",
    "    \n",
    "    target_syn = h.ExpSyn(target_neurite_[target_sec](0.5))\n",
    "    target.synapses.append(target_syn) # store synapse\n",
    "    \n",
    "    netcon = h.NetCon(source_neurite_[source_sec](0.5)._ref_v, target_syn, sec=source_neurite_[source_sec])\n",
    "    netcon.weight[0] = weight\n",
    "    netcon.delay = delay\n",
    "    \n",
    "    print('Connected cells %s -> %s with weight %g and delay %g, from %s[%d] to %s[%d]' % (source.name,target.name,weight,delay,source_neurite,source_sec,target_neurite,target_sec))\n",
    "    return netcon"
   ]
  },
  {
   "cell_type": "code",
   "execution_count": 6,
   "metadata": {},
   "outputs": [],
   "source": [
    "# specify connection probabilites between cell types\n",
    "conn_prob_matrix = np.zeros((2,2))\n",
    "conn_prob_matrix[0,0] = 0.75 # Pyr to Pyr\n",
    "conn_prob_matrix[0,1] = 0.19 # Pyr to Int\n",
    "conn_prob_matrix[1,0] = 0.48 # Int to Pyr\n",
    "conn_prob_matrix[1,1] = 0.23 # Int to Int"
   ]
  },
  {
   "cell_type": "code",
   "execution_count": 8,
   "metadata": {},
   "outputs": [],
   "source": [
    "# specify expected number of contacts between cell types, considering target neurite\n",
    "expected_contacts = np.zeros((2,2,3), dtype=int)\n",
    "\n",
    "expected_contacts[0,0,0] = 0 # Pyr to Pyr (soma)\n",
    "expected_contacts[0,0,1] = 3 # Pyr to Pyr (dend)\n",
    "expected_contacts[0,0,2] = 1.5 # Pyr to Pyr (apic)\n",
    "\n",
    "expected_contacts[1,0,0] = 3.5 # Int to Pyr (soma)\n",
    "expected_contacts[1,0,1] = 2.2 # Int to Pyr (dend)\n",
    "expected_contacts[1,0,2] = 0 # Int to Pyr (apic)\n",
    "\n",
    "expected_contacts[0,1,0] = 0 # Pyr to Int (soma)\n",
    "expected_contacts[0,1,1] = 4 # Pyr to Int (dend)\n",
    "\n",
    "expected_contacts[1,1,0] = 3.8 # Int to Int (soma)\n",
    "expected_contacts[1,1,1] = 1.9 # Int to Int (dend)"
   ]
  },
  {
   "cell_type": "code",
   "execution_count": 9,
   "metadata": {},
   "outputs": [
    {
     "name": "stdout",
     "output_type": "stream",
     "text": [
      "Connected cells Int1 -> Pyr1 with weight 0.689197 and delay 5, from axon[26] to soma[1]\n",
      "Connected cells Int1 -> Pyr1 with weight 0.603507 and delay 5, from axon[64] to soma[1]\n",
      "Connected cells Int1 -> Pyr1 with weight 0.565734 and delay 5, from axon[33] to soma[1]\n",
      "Connected cells Pyr1 -> Pyr2 with weight 0.0623651 and delay 5, from axon[126] to dend[7]\n",
      "Connected cells Pyr1 -> Pyr2 with weight 0.355298 and delay 5, from axon[103] to dend[79]\n",
      "Connected cells Pyr1 -> Pyr2 with weight 0.315569 and delay 5, from axon[110] to apic[89]\n",
      "Connected cells Pyr1 -> Pyr2 with weight 0.306294 and delay 5, from axon[58] to apic[24]\n",
      "Connected cells Int2 -> Pyr2 with weight 0.102874 and delay 5, from axon[8] to soma[1]\n",
      "Connected cells Int2 -> Pyr2 with weight 0.531291 and delay 5, from axon[22] to soma[0]\n",
      "Connected cells Int2 -> Pyr2 with weight 0.0621575 and delay 5, from axon[56] to soma[0]\n",
      "Connected cells Int2 -> Pyr2 with weight 0.729268 and delay 5, from axon[34] to dend[68]\n",
      "Connected cells Int2 -> Pyr2 with weight 0.132174 and delay 5, from axon[2] to dend[21]\n",
      "Connected cells Pyr1 -> Pyr3 with weight 0.00396365 and delay 5, from axon[11] to dend[36]\n",
      "Connected cells Pyr1 -> Pyr3 with weight 0.393842 and delay 5, from axon[98] to apic[8]\n",
      "Connected cells Int1 -> Pyr3 with weight 0.578157 and delay 5, from axon[33] to soma[1]\n",
      "Connected cells Int1 -> Pyr3 with weight 0.842917 and delay 5, from axon[51] to dend[44]\n",
      "Connected cells Int1 -> Pyr3 with weight 0.184869 and delay 5, from axon[67] to dend[66]\n",
      "Connected cells Pyr3 -> Int1 with weight 0.951436 and delay 5, from axon[44] to dend[27]\n",
      "Connected cells Pyr3 -> Int1 with weight 0.279342 and delay 5, from axon[2] to dend[27]\n",
      "Connected cells Pyr3 -> Int1 with weight 0.663791 and delay 5, from axon[46] to dend[42]\n",
      "Connected cells Int1 -> Int2 with weight 0.862455 and delay 5, from axon[28] to soma[1]\n",
      "Connected cells Int1 -> Int2 with weight 0.176782 and delay 5, from axon[6] to soma[1]\n",
      "Connected cells Int1 -> Int2 with weight 0.879069 and delay 5, from axon[16] to soma[0]\n"
     ]
    }
   ],
   "source": [
    "# generate number of contacts per cell type, by selecting them from a normal distribution \n",
    "# in which the mean is the expected_contacts value\n",
    "\n",
    "netcons = [] # store all netcons\n",
    "\n",
    "rng = np.random.default_rng()\n",
    "\n",
    "############ Pyramidal 1\n",
    "# Connect Pyr2 to Pyr1\n",
    "if rng.random() < conn_prob_matrix[0,0]:\n",
    "    for i,neurite in enumerate(['soma','dend','apic']):\n",
    "        contacts = expected_contacts[0,0,i]\n",
    "        if contacts > 0:\n",
    "            contacts = m.floor(rng.normal(contacts))\n",
    "        if contacts < 0:\n",
    "            contacts = 0\n",
    "        for i in range(0,contacts):\n",
    "            nc = connect(Pyr2, Pyr1, target_neurite=neurite)\n",
    "            netcons.append(nc)\n",
    "\n",
    "# Connect Pyr3 to Pyr1\n",
    "if rng.random() < conn_prob_matrix[0,0]:\n",
    "    for i,neurite in enumerate(['soma','dend','apic']):\n",
    "        contacts = expected_contacts[0,0,i]\n",
    "        if contacts > 0:\n",
    "            contacts = m.floor(rng.normal(contacts))\n",
    "        if contacts < 0:\n",
    "            contacts = 0\n",
    "        for i in range(0,contacts):\n",
    "            nc = connect(Pyr3, Pyr1, target_neurite=neurite)\n",
    "            netcons.append(nc)\n",
    "\n",
    "# Connect Int1 to Pyr1\n",
    "if rng.random() < conn_prob_matrix[1,0]:\n",
    "    for i,neurite in enumerate(['soma','dend','apic']):\n",
    "        contacts = expected_contacts[1,0,i]\n",
    "        if contacts > 0:\n",
    "            contacts = m.floor(rng.normal(contacts))\n",
    "        if contacts < 0:\n",
    "            contacts = 0\n",
    "        for i in range(0,contacts):\n",
    "            nc = connect(Int1, Pyr1, target_neurite=neurite)\n",
    "            netcons.append(nc)\n",
    "            \n",
    "# Connect Int2 to Pyr1\n",
    "if rng.random() < conn_prob_matrix[1,0]:\n",
    "    for i,neurite in enumerate(['soma','dend','apic']):\n",
    "        contacts = expected_contacts[1,0,i]\n",
    "        if contacts > 0:\n",
    "            contacts = m.floor(rng.normal(contacts))\n",
    "        if contacts < 0:\n",
    "            contacts = 0\n",
    "        for i in range(0,contacts):\n",
    "            nc = connect(Int2, Pyr1, target_neurite=neurite)\n",
    "            netcons.append(nc)\n",
    "\n",
    "############ Pyramidal 2\n",
    "# Connect Pyr1 to Pyr2\n",
    "if rng.random() < conn_prob_matrix[0,0]:\n",
    "    for i,neurite in enumerate(['soma','dend','apic']):\n",
    "        contacts = expected_contacts[0,0,i]\n",
    "        if contacts > 0:\n",
    "            contacts = m.floor(rng.normal(contacts))\n",
    "        if contacts < 0:\n",
    "            contacts = 0\n",
    "        for i in range(0,contacts):\n",
    "            nc = connect(Pyr1, Pyr2, target_neurite=neurite)\n",
    "            netcons.append(nc)\n",
    "\n",
    "# Connect Pyr3 to Pyr2\n",
    "if rng.random() < conn_prob_matrix[0,0]:\n",
    "    for i,neurite in enumerate(['soma','dend','apic']):\n",
    "        contacts = expected_contacts[0,0,i]\n",
    "        if contacts > 0:\n",
    "            contacts = m.floor(rng.normal(contacts))\n",
    "        if contacts < 0:\n",
    "            contacts = 0\n",
    "        for i in range(0,contacts):\n",
    "            nc = connect(Pyr3, Pyr2, target_neurite=neurite)\n",
    "            netcons.append(nc)\n",
    "\n",
    "# Connect Int1 to Pyr2\n",
    "if rng.random() < conn_prob_matrix[1,0]:\n",
    "    for i,neurite in enumerate(['soma','dend','apic']):\n",
    "        contacts = expected_contacts[1,0,i]\n",
    "        if contacts > 0:\n",
    "            contacts = m.floor(rng.normal(contacts))\n",
    "        if contacts < 0:\n",
    "            contacts = 0\n",
    "        for i in range(0,contacts):\n",
    "            nc = connect(Int1, Pyr2, target_neurite=neurite)\n",
    "            netcons.append(nc)\n",
    "            \n",
    "# Connect Int2 to Pyr2\n",
    "if rng.random() < conn_prob_matrix[1,0]:\n",
    "    for i,neurite in enumerate(['soma','dend','apic']):\n",
    "        contacts = expected_contacts[1,0,i]\n",
    "        if contacts > 0:\n",
    "            contacts = m.floor(rng.normal(contacts))\n",
    "        if contacts < 0:\n",
    "            contacts = 0\n",
    "        for i in range(0,contacts):\n",
    "            nc = connect(Int2, Pyr2, target_neurite=neurite)\n",
    "            netcons.append(nc)\n",
    "\n",
    "############ Pyramidal 3\n",
    "# Connect Pyr1 to Pyr3\n",
    "if rng.random() < conn_prob_matrix[0,0]:\n",
    "    for i,neurite in enumerate(['soma','dend','apic']):\n",
    "        contacts = expected_contacts[0,0,i]\n",
    "        if contacts > 0:\n",
    "            contacts = m.floor(rng.normal(contacts))\n",
    "        if contacts < 0:\n",
    "            contacts = 0\n",
    "        for i in range(0,contacts):\n",
    "            nc = connect(Pyr1, Pyr3, target_neurite=neurite)\n",
    "            netcons.append(nc)\n",
    "\n",
    "# Connect Pyr2 to Pyr3\n",
    "if rng.random() < conn_prob_matrix[0,0]:\n",
    "    for i,neurite in enumerate(['soma','dend','apic']):\n",
    "        contacts = expected_contacts[0,0,i]\n",
    "        if contacts > 0:\n",
    "            contacts = m.floor(rng.normal(contacts))\n",
    "        if contacts < 0:\n",
    "            contacts = 0\n",
    "        for i in range(0,contacts):\n",
    "            nc = connect(Pyr2, Pyr3, target_neurite=neurite)\n",
    "            netcons.append(nc)\n",
    "\n",
    "# Connect Int1 to Pyr3\n",
    "if rng.random() < conn_prob_matrix[1,0]:\n",
    "    for i,neurite in enumerate(['soma','dend','apic']):\n",
    "        contacts = expected_contacts[1,0,i]\n",
    "        if contacts > 0:\n",
    "            contacts = m.floor(rng.normal(contacts))\n",
    "        if contacts < 0:\n",
    "            contacts = 0\n",
    "        for i in range(0,contacts):\n",
    "            nc = connect(Int1, Pyr3, target_neurite=neurite)\n",
    "            netcons.append(nc)\n",
    "            \n",
    "# Connect Int2 to Pyr3\n",
    "if rng.random() < conn_prob_matrix[1,0]:\n",
    "    for i,neurite in enumerate(['soma','dend','apic']):\n",
    "        contacts = expected_contacts[1,0,i]\n",
    "        if contacts > 0:\n",
    "            contacts = m.floor(rng.normal(contacts))\n",
    "        if contacts < 0:\n",
    "            contacts = 0\n",
    "        for i in range(0,contacts):\n",
    "            nc = connect(Int2, Pyr3, target_neurite=neurite)\n",
    "            netcons.append(nc)\n",
    "\n",
    "############ Inhibitory 1\n",
    "# Connect Pyr1 to Int1\n",
    "if rng.random() < conn_prob_matrix[0,1]:\n",
    "    for i,neurite in enumerate(['soma','dend']):\n",
    "        contacts = expected_contacts[0,1,i]\n",
    "        if contacts > 0:\n",
    "            contacts = m.floor(rng.normal(contacts))\n",
    "        if contacts < 0:\n",
    "            contacts = 0\n",
    "        for i in range(0,contacts):\n",
    "            nc = connect(Pyr1, Int1, target_neurite=neurite)\n",
    "            netcons.append(nc)\n",
    "\n",
    "# Connect Pyr2 to Int1\n",
    "if rng.random() < conn_prob_matrix[0,1]:\n",
    "    for i,neurite in enumerate(['soma','dend']):\n",
    "        contacts = expected_contacts[0,1,i]\n",
    "        if contacts > 0:\n",
    "            contacts = m.floor(rng.normal(contacts))\n",
    "        if contacts < 0:\n",
    "            contacts = 0\n",
    "        for i in range(0,contacts):\n",
    "            nc = connect(Pyr2, Int1, target_neurite=neurite)\n",
    "            netcons.append(nc)\n",
    "\n",
    "# Connect Pyr3 to Int1\n",
    "if rng.random() < conn_prob_matrix[0,1]:\n",
    "    for i,neurite in enumerate(['soma','dend']):\n",
    "        contacts = expected_contacts[0,1,i]\n",
    "        if contacts > 0:\n",
    "            contacts = m.floor(rng.normal(contacts))\n",
    "        if contacts < 0:\n",
    "            contacts = 0\n",
    "        for i in range(0,contacts):\n",
    "            nc = connect(Pyr3, Int1, target_neurite=neurite)\n",
    "            netcons.append(nc)\n",
    "\n",
    "# Connect Int2 to Int1\n",
    "if rng.random() < conn_prob_matrix[1,1]:\n",
    "    for i,neurite in enumerate(['soma','dend']):\n",
    "        contacts = expected_contacts[1,1,i]\n",
    "        if contacts > 0:\n",
    "            contacts = m.floor(rng.normal(contacts))\n",
    "        if contacts < 0:\n",
    "            contacts = 0\n",
    "        for i in range(0,contacts):\n",
    "            nc = connect(Int2, Int1, target_neurite=neurite)\n",
    "            netcons.append(nc)\n",
    "\n",
    "############ Inhibitory 2\n",
    "# Connect Pyr1 to Int2\n",
    "if rng.random() < conn_prob_matrix[0,1]:\n",
    "    for i,neurite in enumerate(['soma','dend']):\n",
    "        contacts = expected_contacts[0,1,i]\n",
    "        if contacts > 0:\n",
    "            contacts = m.floor(rng.normal(contacts))\n",
    "        if contacts < 0:\n",
    "            contacts = 0\n",
    "        for i in range(0,contacts):\n",
    "            nc = connect(Pyr1, Int2, target_neurite=neurite)\n",
    "            netcons.append(nc)\n",
    "\n",
    "# Connect Pyr2 to Int2\n",
    "if rng.random() < conn_prob_matrix[0,1]:\n",
    "    for i,neurite in enumerate(['soma','dend']):\n",
    "        contacts = expected_contacts[0,1,i]\n",
    "        if contacts > 0:\n",
    "            contacts = m.floor(rng.normal(contacts))\n",
    "        if contacts < 0:\n",
    "            contacts = 0\n",
    "        for i in range(0,contacts):\n",
    "            nc = connect(Pyr2, Int2, target_neurite=neurite)\n",
    "            netcons.append(nc)\n",
    "\n",
    "# Connect Pyr3 to Int2\n",
    "if rng.random() < conn_prob_matrix[0,1]:\n",
    "    for i,neurite in enumerate(['soma','dend']):\n",
    "        contacts = expected_contacts[0,1,i]\n",
    "        if contacts > 0:\n",
    "            contacts = m.floor(rng.normal(contacts))\n",
    "        if contacts < 0:\n",
    "            contacts = 0\n",
    "        for i in range(0,contacts):\n",
    "            nc = connect(Pyr3, Int2, target_neurite=neurite)\n",
    "            netcons.append(nc)\n",
    "\n",
    "# Connect Int1 to Int2\n",
    "if rng.random() < conn_prob_matrix[1,1]:\n",
    "    for i,neurite in enumerate(['soma','dend']):\n",
    "        contacts = expected_contacts[1,1,i]\n",
    "        if contacts > 0:\n",
    "            contacts = m.floor(rng.normal(contacts))\n",
    "        if contacts < 0:\n",
    "            contacts = 0\n",
    "        for i in range(0,contacts):\n",
    "            nc = connect(Int1, Int2, target_neurite=neurite)\n",
    "            netcons.append(nc)"
   ]
  },
  {
   "cell_type": "code",
   "execution_count": 13,
   "metadata": {},
   "outputs": [
    {
     "data": {
      "text/plain": [
       "23"
      ]
     },
     "execution_count": 13,
     "metadata": {},
     "output_type": "execute_result"
    }
   ],
   "source": [
    "len(netcons)"
   ]
  },
  {
   "cell_type": "markdown",
   "metadata": {},
   "source": [
    "### What is the maximum number of contacts you observe in your connectome ? Between which two cells ? Show the results on a convergence matrix (how many contacts each of the cells receives from the others)."
   ]
  },
  {
   "cell_type": "markdown",
   "metadata": {},
   "source": [
    "#### --> Computing maximum number of contacts:"
   ]
  },
  {
   "cell_type": "code",
   "execution_count": 38,
   "metadata": {},
   "outputs": [
    {
     "name": "stdout",
     "output_type": "stream",
     "text": [
      "For pyramidal cell 1, it made at most 4 with Pyr2\n",
      "For pyramidal cell 2, it made at most 0 with Pyr1\n",
      "For pyramidal cell 3, it made at most 3 with Int1\n",
      "For inhibitory cell 1, it made at most 3 with Pyr1\n",
      "For inhibitory cell 2, it made at most 5 with Pyr2\n"
     ]
    }
   ],
   "source": [
    "cellnames = [x.name for x in cells]\n",
    "\n",
    "pyr_1_contacts = np.zeros((1,5))\n",
    "pyr_2_contacts = np.zeros((1,5))\n",
    "pyr_3_contacts = np.zeros((1,5))\n",
    "int_1_contacts = np.zeros((1,5))\n",
    "int_2_contacts = np.zeros((1,5))\n",
    "\n",
    "# iterate over netcons and count\n",
    "for nc in netcons:\n",
    "    pre = nc.precell().name\n",
    "    pos = nc.postcell().name\n",
    "    ipre = cellnames.index(pre)\n",
    "    ipos = cellnames.index(pos)\n",
    "    if ipre == 0:\n",
    "        pyr_1_contacts[0][ipos] += 1\n",
    "    if ipre == 1:\n",
    "        pyr_2_contacts[0][ipos] += 1\n",
    "    if ipre == 2:\n",
    "        pyr_3_contacts[0][ipos] += 1\n",
    "    if ipre == 3:\n",
    "        int_1_contacts[0][ipos] += 1\n",
    "    if ipre == 4:\n",
    "        int_2_contacts[0][ipos] += 1\n",
    "\n",
    "\n",
    "print(\"For pyramidal cell 1, it made at most \"+str(int(np.max(pyr_1_contacts)))+' with '+str(cellnames[np.argmax(pyr_1_contacts)]))\n",
    "print(\"For pyramidal cell 2, it made at most \"+str(int(np.max(pyr_2_contacts)))+' with '+str(cellnames[np.argmax(pyr_2_contacts)]))\n",
    "print(\"For pyramidal cell 3, it made at most \"+str(int(np.max(pyr_3_contacts)))+' with '+str(cellnames[np.argmax(pyr_3_contacts)]))\n",
    "print(\"For inhibitory cell 1, it made at most \"+str(int(np.max(int_1_contacts)))+' with '+str(cellnames[np.argmax(int_1_contacts)]))\n",
    "print(\"For inhibitory cell 2, it made at most \"+str(int(np.max(int_2_contacts)))+' with '+str(cellnames[np.argmax(int_2_contacts)]))"
   ]
  },
  {
   "cell_type": "markdown",
   "metadata": {},
   "source": [
    "In this particular connectome, we can deduce that the maximal number of contacts made was 5, and it was between inhibitory cell 2 and pyramidal cell 2."
   ]
  },
  {
   "cell_type": "markdown",
   "metadata": {},
   "source": [
    "#### --> Computing maximum number of contacts:"
   ]
  },
  {
   "cell_type": "code",
   "execution_count": 47,
   "metadata": {},
   "outputs": [],
   "source": [
    "# Convergence Matrix:\n",
    "\n",
    "convergence_matrix = np.zeros((5,5))\n",
    "cellnames = [x.name for x in cells]\n",
    "\n",
    "# iterate over netcons and count\n",
    "for nc in netcons:\n",
    "    pre = nc.precell().name\n",
    "    pos = nc.postcell().name\n",
    "    ipre = cellnames.index(pre)\n",
    "    ipos = cellnames.index(pos)\n",
    "    convergence_matrix[ipos,ipre] += 1 "
   ]
  },
  {
   "cell_type": "code",
   "execution_count": 48,
   "metadata": {},
   "outputs": [],
   "source": [
    "# Displaying Connection Probability Matrix (between all the different cells)\n",
    "\n",
    "def heatmap(data, row_labels, col_labels, ax=None, cbar_kw={}, cbarlabel=\"\", **kwargs):\n",
    "    \"\"\"\n",
    "    Create a heatmap from a numpy array and two lists of labels.\n",
    "\n",
    "    Parameters\n",
    "    ----------\n",
    "    data\n",
    "        A 2D numpy array of shape (N, M).\n",
    "    row_labels\n",
    "        A list or array of length N with the labels for the rows.\n",
    "    col_labels\n",
    "        A list or array of length M with the labels for the columns.\n",
    "    ax\n",
    "        A `matplotlib.axes.Axes` instance to which the heatmap is plotted.  If\n",
    "        not provided, use current axes or create a new one.  Optional.\n",
    "    cbar_kw\n",
    "        A dictionary with arguments to `matplotlib.Figure.colorbar`.  Optional.\n",
    "    cbarlabel\n",
    "        The label for the colorbar.  Optional.\n",
    "    **kwargs\n",
    "        All other arguments are forwarded to `imshow`.\n",
    "    \"\"\"\n",
    "\n",
    "    if not ax:\n",
    "        ax = plt.gca()\n",
    "\n",
    "    # Plot the heatmap\n",
    "    im = ax.imshow(data, **kwargs)\n",
    "\n",
    "    # Create colorbar\n",
    "    cbar = ax.figure.colorbar(im, ax=ax, **cbar_kw)\n",
    "    cbar.ax.set_ylabel(cbarlabel, rotation=-90, va=\"bottom\")\n",
    "\n",
    "    # We want to show all ticks...\n",
    "    ax.set_xticks(np.arange(data.shape[1]))\n",
    "    ax.set_yticks(np.arange(data.shape[0]))\n",
    "    # ... and label them with the respective list entries.\n",
    "    ax.set_xticklabels(col_labels)\n",
    "    ax.set_yticklabels(row_labels)\n",
    "\n",
    "    # Let the horizontal axes labeling appear on top.\n",
    "    ax.tick_params(top=True, bottom=False,\n",
    "                   labeltop=True, labelbottom=False)\n",
    "\n",
    "    # Rotate the tick labels and set their alignment.\n",
    "    plt.setp(ax.get_xticklabels(), rotation=-30, ha=\"right\",\n",
    "             rotation_mode=\"anchor\")\n",
    "\n",
    "    # Loop over data dimensions and create text annotations.\n",
    "    for i in range(5):\n",
    "        for j in range(5):\n",
    "            text = ax.text(j, i, \"%.0f\" %data[i, j],\n",
    "                           ha=\"center\", va=\"center\", color=\"w\")\n",
    "    \n",
    "    # Turn spines off and create white grid.\n",
    "    for edge, spine in ax.spines.items():\n",
    "        spine.set_visible(False)\n",
    "\n",
    "    ax.set_xticks(np.arange(data.shape[1]+1)-.5, minor=True)\n",
    "    ax.set_yticks(np.arange(data.shape[0]+1)-.5, minor=True)\n",
    "    ax.grid(which=\"minor\", color=\"w\", linestyle='-', linewidth=3)\n",
    "    ax.tick_params(which=\"minor\", bottom=False, left=False)\n",
    "    ax.set_title(\"Convergence Matrix\")\n",
    "    \n",
    "    \n",
    "    return im, cbar"
   ]
  },
  {
   "cell_type": "code",
   "execution_count": 55,
   "metadata": {},
   "outputs": [
    {
     "data": {
      "image/png": "[encoded data removed]",
      "text/plain": [
       "<Figure size 432x288 with 2 Axes>"
      ]
     },
     "metadata": {
      "needs_background": "light"
     },
     "output_type": "display_data"
    }
   ],
   "source": [
    "fig, ax = plt.subplots()\n",
    "\n",
    "im, cbar = heatmap(convergence_matrix, ['Pyr1', 'Pyr2', 'Pyr3', 'Inh1', 'Inh2'], ['Pyr1', 'Pyr2', 'Pyr3','Inh1', 'Inh2'], ax=ax, cmap=\"BuGn\", cbarlabel=\"Number of Contacts\")\n",
    "\n",
    "fig.tight_layout()"
   ]
  },
  {
   "cell_type": "markdown",
   "metadata": {},
   "source": [
    "# Ex4. Real Connectivity Rules\n",
    "\n",
    "<font size='3'>Read the articles uploaded on the HomeWork folder (Markram_1997.pdf and Gupta_2000.pdf). \n",
    "\n",
    "<font size='3'>Imaging that you have to build a network with your five cells (3 pyramidals and 2 GABAergic interneurons) from rat somatosensory cortex. Extract from the papers the data that you would need to connect your cells (connectivity rules). Enumerate the data chosen to connect your cells. Using and modifying (if needed) the code from the tutorials, connect your five cells in a more biological way using the connectivity rules found in the papers. [2.5 pts]"
   ]
  },
  {
   "cell_type": "markdown",
   "metadata": {},
   "source": [
    "#### Connectivity rules for the Pyramidal Excitatory Cells: (Markram 1997):\n",
    "\n",
    "According to the paper:\n",
    "\n",
    "- For both unidirectional and bidirectional:\n",
    "    - the synaptic connections between pairs of pyramidal neurons 70% were unidirectional and 30% were bidirectional\n",
    "    - Probability of finding a synaptic correction in dual recordings was: 0.1% (but this could be higher if no artefacts introduced with to the brain slices)\n",
    "    - number of potential synaptic contacts formed by a presynaptic neuron on a target neuron varied between 4 and 8 (mean 5.5 contacts)\n",
    "    - synaptic contacts were preferenteially located on basal dendrites (63%), and apical oblique dendrites (27%) and 35% of all contacts were located on tertiatry basal dendritic branches\n",
    "    \n",
    "- For unidirectional synaptic connections:\n",
    "   - five or more contacts were established with the target neuron and these contacts were found on the entire dendritic tree\n",
    "   - 58% of all potential synaptic contacts identified were located on basal dendrites (of these, 91% were located on secondary and tertiary dendritic branches), and tertiary dendritic branches are at a distance of 60-100 µm from the soma\n",
    "   \n",
    "   \n",
    "- For bidirectional synaptic connections:\n",
    "    - mean number of potential synaptic connections on target neurons is 5.5\n",
    "    - distribution of synaptic contacts was also similar to that found on target neurons of unidirectional pairs\n",
    "    - of all potential synaptic contacts identified: (66.7%) was located on basal dendrites\n",
    "\n",
    "#### Connectivity rules for the Inhibitory Interneuron Cells: (Gupta 2000):\n",
    "\n",
    "According to this paper:\n",
    "\n",
    "- 800 quadruple recordings, yielding 3000 potential GABAergic connections, and there were more than 240 GABAergic connections: the connection probability can be deduced as 240/3000\n",
    "- "
   ]
  },
  {
   "cell_type": "code",
   "execution_count": null,
   "metadata": {},
   "outputs": [],
   "source": []
  },
  {
   "cell_type": "code",
   "execution_count": null,
   "metadata": {},
   "outputs": [],
   "source": []
  },
  {
   "cell_type": "code",
   "execution_count": null,
   "metadata": {},
   "outputs": [],
   "source": []
  }
 ],
 "metadata": {
  "kernelspec": {
   "display_name": "Python 3",
   "language": "python",
   "name": "python3"
  },
  "language_info": {
   "codemirror_mode": {
    "name": "ipython",
    "version": 3
   },
   "file_extension": ".py",
   "mimetype": "text/x-python",
   "name": "python",
   "nbconvert_exporter": "python",
   "pygments_lexer": "ipython3",
   "version": "3.6.9"
  }
 },
 "nbformat": 4,
 "nbformat_minor": 4
}
