{
 "cells": [
  {
   "cell_type": "markdown",
   "metadata": {},
   "source": [
    "<center><font size = \"10\"> Week 7 - Connections <center>\n",
    "<center><font size = \"8\">Home work<center>"
   ]
  },
  {
   "cell_type": "markdown",
   "metadata": {},
   "source": [
    "<font size = \"3\">Please, write your group number and the names and surnames of the group members here\n",
    "<br>Group number: 1\n",
    "<br>Group member1: Gasser Elbanna\n",
    "<br>Group member2: Milo Imbeni\n",
    "<br>Group member3: Louise Placidet"
   ]
  },
  {
   "cell_type": "markdown",
   "metadata": {},
   "source": [
    "### From Homework 2: The morphologies we identified that did not have any errors are\n",
    "\n",
    "### Cells: 3, 6, 7, 9, 10"
   ]
  },
  {
   "cell_type": "markdown",
   "metadata": {},
   "source": [
    "# Ex1. Connect all-to-all with random weights.\n",
    "\n",
    "<font size='3'>In week 2 Home Work (Morphologies) you've received a set of ten morphology files you were asked to check for quality. Each set of cells contains __FIVE__ good-quality morphology files you were asked to make note of and keep for future assignments. If you think that you only have three, please go through Week2_HomeWorks_Solutions.ipynb posted on Moodle to help you identify good morphologies for your group. For this exercise, connect your five cells all to all (unidirectionally) with uniform probability and display a connectivity matrix with weights and cell labels. (refer to tutorial 01 of this week for sample code). [1 pt]"
   ]
  },
  {
   "cell_type": "code",
   "execution_count": 1,
   "metadata": {},
   "outputs": [],
   "source": [
    "# Importing usefull packages:\n",
    "%matplotlib inline\n",
    "\n",
    "from neuron import h, gui\n",
    "import matplotlib.pyplot as plt\n",
    "import numpy as np"
   ]
  },
  {
   "cell_type": "markdown",
   "metadata": {},
   "source": [
    "### Step 1: Creating the Cell Class"
   ]
  },
  {
   "cell_type": "code",
   "execution_count": 2,
   "metadata": {},
   "outputs": [],
   "source": [
    "class Cell:\n",
    "    def __init__(self, filename, name, cell_type):\n",
    "        self.name = name\n",
    "        self.type = cell_type\n",
    "        self.synapses = []\n",
    "        self.build_morphology(filename)\n",
    "        self.biophysics()\n",
    "        \n",
    "    def build_morphology(self, filename):\n",
    "        h.load_file('import3d.hoc')\n",
    "        h.load_file('stdlib.hoc')\n",
    "        #morph_reader = h.Import3d_Neurolucida3()\n",
    "        morph_reader = h.Import3d_SWC_read()\n",
    "        morph_reader.input(filename)\n",
    "        i3d = h.Import3d_GUI(morph_reader, 0)\n",
    "        i3d.instantiate(self) # Notice this change to be able to instantiate several cells\n",
    "    \n",
    "    def biophysics(self):\n",
    "        for sec in h.allsec():\n",
    "            sec.Ra = 100    # Axial resistance in Ohm * cm\n",
    "            sec.cm = 1      # Membrane capacitance in micro Farads / cm^2\n",
    "            sec.insert(\"pas\")\n",
    "            for seg in sec:\n",
    "                seg.pas.g = 0.00003\n",
    "                seg.pas.e = -75\n",
    "        \n",
    "        # Insert passive current in the dendrite\n",
    "        for sec in self.soma:\n",
    "            sec.insert('hh')\n",
    "            for seg in sec:\n",
    "                seg.hh.gnabar = 0.12  # Sodium conductance in S/cm2\n",
    "                seg.hh.gkbar = 0.036  # Potassium conductance in S/cm2\n",
    "        \n",
    "        if hasattr(self, 'apic'):\n",
    "            for sec in self.apic:\n",
    "                sec.insert('hh')\n",
    "                for seg in sec:\n",
    "                    seg.hh.gnabar = 0.12  # Sodium conductance in S/cm2\n",
    "                    seg.hh.gkbar = 0.036  # Potassium conductance in S/cm2\n",
    "        \n",
    "        for sec in self.dend:\n",
    "            sec.insert('hh')\n",
    "            for seg in sec:\n",
    "                seg.hh.gnabar = 0.12  # Sodium conductance in S/cm2\n",
    "                seg.hh.gkbar = 0.036  # Potassium conductance in S/cm2\n",
    "                \n",
    "        for sec in self.axon:\n",
    "            sec.insert('hh')\n",
    "            for seg in sec:    \n",
    "                seg.hh.gnabar = 0.12  # Sodium conductance in S/cm2\n",
    "                seg.hh.gkbar = 0.036  # Potassium conductance in S/cm2"
   ]
  },
  {
   "cell_type": "markdown",
   "metadata": {},
   "source": [
    "### Step 2: Instanciate the Cells from Homework 2"
   ]
  },
  {
   "cell_type": "code",
   "execution_count": 3,
   "metadata": {},
   "outputs": [
    {
     "name": "stdout",
     "output_type": "stream",
     "text": [
      "error morph_06.swc line 17828: could not parse: \n",
      "error morph_07.swc line 19678: could not parse: \n",
      "error morph_09.swc line 6173: could not parse: \n",
      "error morph_03.swc line 7281: could not parse: \n",
      "error morph_10.swc line 3377: could not parse: \n"
     ]
    }
   ],
   "source": [
    "Pyr1 = Cell('morph_06.swc','Pyr1','Pyr')\n",
    "Pyr2 = Cell('morph_07.swc','Pyr2','Pyr')\n",
    "Pyr3 = Cell('morph_09.swc','Pyr3','Pyr')\n",
    "Int1 = Cell('morph_03.swc','Int1','Int')\n",
    "Int2 = Cell('morph_10.swc','Int2','Int')\n",
    "\n",
    "# Classing the cells by group:\n",
    "cells_Pyr = [Pyr1, Pyr2, Pyr3]\n",
    "cells_Int = [Int1, Int2]\n",
    "cells = cells_Pyr + cells_Int"
   ]
  },
  {
   "cell_type": "code",
   "execution_count": 4,
   "metadata": {},
   "outputs": [
    {
     "name": "stdout",
     "output_type": "stream",
     "text": [
      "Pyr1: 95 apical sections, 72 basal sections, 2 soma sections and 131 axon senctions\n",
      "Pyr2: 131 apical sections, 82 basal sections, 2 soma sections and 125 axon senctions\n",
      "Pyr3: 37 apical sections, 69 basal sections, 2 soma sections and 67 axon senctions\n",
      "Int1: 45 basal sections, 2 soma sections and 103 axon senctions\n",
      "Int2: 33 basal sections, 2 soma sections and 120 axon senctions\n"
     ]
    }
   ],
   "source": [
    "for c in cells_Pyr:\n",
    "    print('%s: %d apical sections, %d basal sections, %d soma sections and %d axon senctions' % (c.name,len(c.apic),len(c.dend), len(c.soma), len(c.axon)))\n",
    "for c in cells_Int:\n",
    "    print('%s: %d basal sections, %d soma sections and %d axon senctions' % (c.name,len(c.dend), len(c.soma), len(c.axon)))"
   ]
  },
  {
   "cell_type": "markdown",
   "metadata": {},
   "source": [
    "### Step 3: Connecting the Cells All-to-All with Random Weights"
   ]
  },
  {
   "cell_type": "code",
   "execution_count": 5,
   "metadata": {},
   "outputs": [],
   "source": [
    "# returns NxN matrix of random weights in [0,1) with zero diagonal\n",
    "def random_weights(n):\n",
    "    rng = np.random.default_rng()\n",
    "    weights = rng.random((n,n))\n",
    "    np.fill_diagonal(weights,0.0)\n",
    "    return weights"
   ]
  },
  {
   "cell_type": "code",
   "execution_count": 6,
   "metadata": {},
   "outputs": [],
   "source": [
    "# connect two cells with an exponential synapse at given locations\n",
    "# returns the netcon\n",
    "def connect(source, target, weight = None, delay = 5, source_sec = None, source_neurite = 'axon', target_sec = None, target_neurite = 'dend'):\n",
    "    rng = np.random.default_rng()\n",
    "    \n",
    "    if weight is None:\n",
    "        weight = rng.uniform() # random weight\n",
    "    \n",
    "    target_neurite_ = getattr(target, target_neurite)\n",
    "    if target_sec is None:\n",
    "        target_sec = rng.integers(0,len(target_neurite_)) # random dendritic section\n",
    "    \n",
    "    source_neurite_ = getattr(source, source_neurite)\n",
    "    if source_sec is None:\n",
    "        source_sec = rng.integers(0,len(source_neurite_)) # random axonal section\n",
    "    \n",
    "    target_syn = h.ExpSyn(target_neurite_[target_sec](0.5))\n",
    "    target.synapses.append(target_syn) # store synapse\n",
    "    \n",
    "    netcon = h.NetCon(source_neurite_[source_sec](0.5)._ref_v, target_syn, sec=source_neurite_[source_sec])\n",
    "    netcon.weight[0] = weight\n",
    "    netcon.delay = delay\n",
    "    \n",
    "    print('Connected cells %s -> %s with weight %g and delay %g, from %s[%d] to %s[%d]' % (source.name,target.name,weight,delay,source_neurite,source_sec,target_neurite,target_sec))\n",
    "    return netcon"
   ]
  },
  {
   "cell_type": "code",
   "execution_count": 7,
   "metadata": {},
   "outputs": [
    {
     "name": "stdout",
     "output_type": "stream",
     "text": [
      "Connected cells Pyr2 -> Pyr1 with weight 0.269128 and delay 5, from axon[69] to dend[28]\n",
      "Connected cells Pyr3 -> Pyr1 with weight 0.10243 and delay 5, from axon[6] to dend[52]\n",
      "Connected cells Int1 -> Pyr1 with weight 0.212742 and delay 5, from axon[34] to soma[0]\n",
      "Connected cells Int2 -> Pyr1 with weight 0.891416 and delay 5, from axon[5] to soma[0]\n",
      "Connected cells Pyr1 -> Pyr2 with weight 0.24321 and delay 5, from axon[19] to dend[26]\n",
      "Connected cells Pyr3 -> Pyr2 with weight 0.796344 and delay 5, from axon[36] to dend[1]\n",
      "Connected cells Int1 -> Pyr2 with weight 0.751017 and delay 5, from axon[53] to soma[0]\n",
      "Connected cells Int2 -> Pyr2 with weight 0.909585 and delay 5, from axon[45] to soma[0]\n",
      "Connected cells Pyr1 -> Pyr3 with weight 0.338617 and delay 5, from axon[40] to dend[51]\n",
      "Connected cells Pyr2 -> Pyr3 with weight 0.582355 and delay 5, from axon[111] to dend[15]\n",
      "Connected cells Int1 -> Pyr3 with weight 0.245736 and delay 5, from axon[93] to soma[1]\n",
      "Connected cells Int2 -> Pyr3 with weight 0.424915 and delay 5, from axon[119] to soma[0]\n",
      "Connected cells Pyr1 -> Int1 with weight 0.49763 and delay 5, from axon[56] to dend[44]\n",
      "Connected cells Pyr2 -> Int1 with weight 0.611399 and delay 5, from axon[88] to dend[11]\n",
      "Connected cells Pyr3 -> Int1 with weight 0.602915 and delay 5, from axon[54] to dend[38]\n",
      "Connected cells Int2 -> Int1 with weight 0.570665 and delay 5, from axon[30] to soma[1]\n",
      "Connected cells Pyr1 -> Int2 with weight 0.959551 and delay 5, from axon[16] to dend[16]\n",
      "Connected cells Pyr2 -> Int2 with weight 0.670315 and delay 5, from axon[88] to dend[29]\n",
      "Connected cells Pyr3 -> Int2 with weight 0.659475 and delay 5, from axon[17] to dend[8]\n",
      "Connected cells Int1 -> Int2 with weight 0.0592224 and delay 5, from axon[75] to soma[1]\n"
     ]
    }
   ],
   "source": [
    "weight_matrix = random_weights(5)\n",
    "\n",
    "netcons = [] # save the netcons in case we want to modify them later\n",
    "\n",
    "# Connect Pyr2, Pyr3, Int1 and Int2 to Pyr1\n",
    "nc = connect(Pyr2,Pyr1,weight_matrix[0,1])\n",
    "netcons.append(nc)\n",
    "nc = connect(Pyr3,Pyr1,weight_matrix[0,2])\n",
    "netcons.append(nc)\n",
    "nc = connect(Int1,Pyr1,weight_matrix[0,3],target_neurite='soma')\n",
    "netcons.append(nc)\n",
    "nc = connect(Int2,Pyr1,weight_matrix[0,4],target_neurite='soma')\n",
    "netcons.append(nc)\n",
    "\n",
    "# Connect Pyr1, Pyr3, Int1 and Int2 to Pyr2\n",
    "nc = connect(Pyr1,Pyr2,weight_matrix[1,0])\n",
    "netcons.append(nc)\n",
    "nc = connect(Pyr3,Pyr2,weight_matrix[1,2])\n",
    "netcons.append(nc)\n",
    "nc = connect(Int1,Pyr2,weight_matrix[1,3],target_neurite='soma')\n",
    "netcons.append(nc)\n",
    "nc = connect(Int2,Pyr2,weight_matrix[1,4],target_neurite='soma')\n",
    "netcons.append(nc)\n",
    "\n",
    "# Connect Pyr1, Pyr2, Int1 and Int2 to Pyr3\n",
    "nc = connect(Pyr1,Pyr3,weight_matrix[2,0])\n",
    "netcons.append(nc)\n",
    "nc = connect(Pyr2,Pyr3,weight_matrix[2,1])\n",
    "netcons.append(nc)\n",
    "nc = connect(Int1,Pyr3,weight_matrix[2,3],target_neurite='soma')\n",
    "netcons.append(nc)\n",
    "nc = connect(Int2,Pyr3,weight_matrix[2,4],target_neurite='soma')\n",
    "netcons.append(nc)\n",
    "\n",
    "# Connect Pyr1, Pyr2, Pyr3 and Int2 to Int1\n",
    "nc = connect(Pyr1,Int1,weight_matrix[3,0])\n",
    "netcons.append(nc)\n",
    "nc = connect(Pyr2,Int1,weight_matrix[3,1])\n",
    "netcons.append(nc)\n",
    "nc = connect(Pyr3,Int1,weight_matrix[3,2])\n",
    "netcons.append(nc)\n",
    "nc = connect(Int2,Int1,weight_matrix[3,4],target_neurite='soma')\n",
    "netcons.append(nc)\n",
    "               \n",
    "# Connect Pyr1, Pyr2, Pyr3 and Int1 to Int2\n",
    "nc = connect(Pyr1,Int2,weight_matrix[4,0])\n",
    "netcons.append(nc)\n",
    "nc = connect(Pyr2,Int2,weight_matrix[4,1])\n",
    "netcons.append(nc)\n",
    "nc = connect(Pyr3,Int2,weight_matrix[4,2])\n",
    "netcons.append(nc)\n",
    "nc = connect(Int1,Int2,weight_matrix[4,3],target_neurite='soma')\n",
    "netcons.append(nc)"
   ]
  },
  {
   "cell_type": "markdown",
   "metadata": {},
   "source": [
    "### Step 4: Plotting the Weight Matrix with Weights and Cell Labels"
   ]
  },
  {
   "cell_type": "code",
   "execution_count": 8,
   "metadata": {},
   "outputs": [],
   "source": [
    "def heatmap(data, row_labels, col_labels, ax=None, cbar_kw={}, cbarlabel=\"\", **kwargs):\n",
    "    \"\"\"\n",
    "    Create a heatmap from a numpy array and two lists of labels.\n",
    "\n",
    "    Parameters\n",
    "    ----------\n",
    "    data\n",
    "        A 2D numpy array of shape (N, M).\n",
    "    row_labels\n",
    "        A list or array of length N with the labels for the rows.\n",
    "    col_labels\n",
    "        A list or array of length M with the labels for the columns.\n",
    "    ax\n",
    "        A `matplotlib.axes.Axes` instance to which the heatmap is plotted.  If\n",
    "        not provided, use current axes or create a new one.  Optional.\n",
    "    cbar_kw\n",
    "        A dictionary with arguments to `matplotlib.Figure.colorbar`.  Optional.\n",
    "    cbarlabel\n",
    "        The label for the colorbar.  Optional.\n",
    "    **kwargs\n",
    "        All other arguments are forwarded to `imshow`.\n",
    "    \"\"\"\n",
    "\n",
    "    if not ax:\n",
    "        ax = plt.gca()\n",
    "\n",
    "    # Plot the heatmap\n",
    "    im = ax.imshow(data, **kwargs)\n",
    "\n",
    "    # Create colorbar\n",
    "    cbar = ax.figure.colorbar(im, ax=ax, **cbar_kw)\n",
    "    cbar.ax.set_ylabel(cbarlabel, rotation=-90, va=\"bottom\")\n",
    "\n",
    "    # We want to show all ticks...\n",
    "    ax.set_xticks(np.arange(data.shape[1]))\n",
    "    ax.set_yticks(np.arange(data.shape[0]))\n",
    "    # ... and label them with the respective list entries.\n",
    "    ax.set_xticklabels(col_labels)\n",
    "    ax.set_yticklabels(row_labels)\n",
    "\n",
    "    # Let the horizontal axes labeling appear on top.\n",
    "    ax.tick_params(top=True, bottom=False,\n",
    "                   labeltop=True, labelbottom=False)\n",
    "\n",
    "    # Rotate the tick labels and set their alignment.\n",
    "    plt.setp(ax.get_xticklabels(), rotation=-30, ha=\"right\",\n",
    "             rotation_mode=\"anchor\")\n",
    "\n",
    "    # Loop over data dimensions and create text annotations.\n",
    "    for i in range(5):\n",
    "        for j in range(5):\n",
    "            text = ax.text(j, i, \"%.2f\" %data[i, j],\n",
    "                           ha=\"center\", va=\"center\", color=\"w\")\n",
    "    \n",
    "    # Turn spines off and create white grid.\n",
    "    for edge, spine in ax.spines.items():\n",
    "        spine.set_visible(False)\n",
    "\n",
    "    ax.set_xticks(np.arange(data.shape[1]+1)-.5, minor=True)\n",
    "    ax.set_yticks(np.arange(data.shape[0]+1)-.5, minor=True)\n",
    "    ax.grid(which=\"minor\", color=\"w\", linestyle='-', linewidth=3)\n",
    "    ax.tick_params(which=\"minor\", bottom=False, left=False)\n",
    "    ax.set_title(\"Connectivity Matrix\")\n",
    "    \n",
    "    \n",
    "    return im, cbar"
   ]
  },
  {
   "cell_type": "code",
   "execution_count": 9,
   "metadata": {},
   "outputs": [
    {
     "data": {
      "image/png": "[encoded data removed]",
      "text/plain": [
       "<Figure size 432x288 with 2 Axes>"
      ]
     },
     "metadata": {
      "needs_background": "light"
     },
     "output_type": "display_data"
    }
   ],
   "source": [
    "fig, ax = plt.subplots()\n",
    "\n",
    "im, cbar = heatmap(weight_matrix, ['Pyr1', 'Pyr2', 'Pyr3', 'Inh1', 'Inh2'], ['Pyr1', 'Pyr2', 'Pyr3','Inh1', 'Inh2'], ax=ax, cmap=\"viridis\", cbarlabel=\"connection probability\")\n",
    "\n",
    "fig.tight_layout()"
   ]
  },
  {
   "cell_type": "markdown",
   "metadata": {},
   "source": [
    "# Ex2. Connect your cells considering connection probability\n",
    "\n",
    "<font size='3'>Connect your five cells as it is done in tutorial 02, considering the following connection probabilities between cell types:\n",
    "<br> PC - PC: 75 %\n",
    "<br> PC - Inh: 19 %\n",
    "<br> Inh - PC: 48 %\n",
    "<br> Inh - Inh: 23 %\n",
    "\n",
    "<font size='3'>Show the results on a probability matrix and the number of contacts each of your cells has. [1 pt]"
   ]
  },
  {
   "cell_type": "markdown",
   "metadata": {},
   "source": [
    "<span style=\"color:red\"> Restaring Kernel out of precaution...\n",
    "    \n",
    "    \n",
    "### Step 1: Creating Cell Class"
   ]
  },
  {
   "cell_type": "code",
   "execution_count": 10,
   "metadata": {},
   "outputs": [],
   "source": [
    "# Importing usefull packages:\n",
    "%matplotlib inline\n",
    "\n",
    "from neuron import h, gui\n",
    "import matplotlib.pyplot as plt\n",
    "import numpy as np\n",
    "\n",
    "class Cell:\n",
    "    def __init__(self, filename, name, cell_type):\n",
    "        self.name = name\n",
    "        self.type = cell_type\n",
    "        self.synapses = []\n",
    "        self.build_morphology(filename)\n",
    "        self.biophysics()\n",
    "        \n",
    "    def build_morphology(self, filename):\n",
    "        h.load_file('import3d.hoc')\n",
    "        h.load_file('stdlib.hoc')\n",
    "        #morph_reader = h.Import3d_Neurolucida3()\n",
    "        morph_reader = h.Import3d_SWC_read()\n",
    "        morph_reader.input(filename)\n",
    "        i3d = h.Import3d_GUI(morph_reader, 0)\n",
    "        i3d.instantiate(self) # Notice this change to be able to instantiate several cells\n",
    "    \n",
    "    def biophysics(self):\n",
    "        for sec in h.allsec():\n",
    "            sec.Ra = 100    # Axial resistance in Ohm * cm\n",
    "            sec.cm = 1      # Membrane capacitance in micro Farads / cm^2\n",
    "            sec.insert(\"pas\")\n",
    "            for seg in sec:\n",
    "                seg.pas.g = 0.00003\n",
    "                seg.pas.e = -75\n",
    "        \n",
    "        # Insert passive current in the dendrite\n",
    "        for sec in self.soma:\n",
    "            sec.insert('hh')\n",
    "            for seg in sec:\n",
    "                seg.hh.gnabar = 0.12  # Sodium conductance in S/cm2\n",
    "                seg.hh.gkbar = 0.036  # Potassium conductance in S/cm2\n",
    "        \n",
    "        if hasattr(self, 'apic'):\n",
    "            for sec in self.apic:\n",
    "                sec.insert('hh')\n",
    "                for seg in sec:\n",
    "                    seg.hh.gnabar = 0.12  # Sodium conductance in S/cm2\n",
    "                    seg.hh.gkbar = 0.036  # Potassium conductance in S/cm2\n",
    "        \n",
    "        for sec in self.dend:\n",
    "            sec.insert('hh')\n",
    "            for seg in sec:\n",
    "                seg.hh.gnabar = 0.12  # Sodium conductance in S/cm2\n",
    "                seg.hh.gkbar = 0.036  # Potassium conductance in S/cm2\n",
    "                \n",
    "        for sec in self.axon:\n",
    "            sec.insert('hh')\n",
    "            for seg in sec:    \n",
    "                seg.hh.gnabar = 0.12  # Sodium conductance in S/cm2\n",
    "                seg.hh.gkbar = 0.036  # Potassium conductance in S/cm2"
   ]
  },
  {
   "cell_type": "markdown",
   "metadata": {},
   "source": [
    "### Step 2: Instanciate our Cells from Homework 2"
   ]
  },
  {
   "cell_type": "code",
   "execution_count": 11,
   "metadata": {},
   "outputs": [
    {
     "name": "stdout",
     "output_type": "stream",
     "text": [
      "error morph_06.swc line 17828: could not parse: \n",
      "error morph_07.swc line 19678: could not parse: \n",
      "error morph_09.swc line 6173: could not parse: \n",
      "error morph_03.swc line 7281: could not parse: \n",
      "error morph_10.swc line 3377: could not parse: \n"
     ]
    }
   ],
   "source": [
    "Pyr1 = Cell('morph_06.swc','Pyr1','Pyr')\n",
    "Pyr2 = Cell('morph_07.swc','Pyr2','Pyr')\n",
    "Pyr3 = Cell('morph_09.swc','Pyr3','Pyr')\n",
    "Int1 = Cell('morph_03.swc','Int1','Int')\n",
    "Int2 = Cell('morph_10.swc','Int2','Int')\n",
    "\n",
    "# Classing the cells by group:\n",
    "cells_Pyr = [Pyr1, Pyr2, Pyr3]\n",
    "cells_Int = [Int1, Int2]\n",
    "cells = cells_Pyr + cells_Int"
   ]
  },
  {
   "cell_type": "code",
   "execution_count": 12,
   "metadata": {},
   "outputs": [
    {
     "name": "stdout",
     "output_type": "stream",
     "text": [
      "Pyr1: 95 apical sections, 72 basal sections, 2 soma sections and 131 axon senctions\n",
      "Pyr2: 131 apical sections, 82 basal sections, 2 soma sections and 125 axon senctions\n",
      "Pyr3: 37 apical sections, 69 basal sections, 2 soma sections and 67 axon senctions\n",
      "Int1: 45 basal sections, 2 soma sections and 103 axon senctions\n",
      "Int2: 33 basal sections, 2 soma sections and 120 axon senctions\n"
     ]
    }
   ],
   "source": [
    "for c in cells_Pyr:\n",
    "    print('%s: %d apical sections, %d basal sections, %d soma sections and %d axon senctions' % (c.name,len(c.apic),len(c.dend), len(c.soma), len(c.axon)))\n",
    "for c in cells_Int:\n",
    "    print('%s: %d basal sections, %d soma sections and %d axon senctions' % (c.name,len(c.dend), len(c.soma), len(c.axon)))"
   ]
  },
  {
   "cell_type": "markdown",
   "metadata": {},
   "source": [
    "### Step 3: Connecting Cells based on Connection Probabilities"
   ]
  },
  {
   "cell_type": "code",
   "execution_count": 13,
   "metadata": {},
   "outputs": [],
   "source": [
    "# connect two cells with an exponential synapse at given locations\n",
    "# returns the netcon\n",
    "def connect(source, target, weight = None, delay = 5, source_sec = None, source_neurite = 'axon', target_sec = None, target_neurite = 'dend'):\n",
    "    rng = np.random.default_rng()\n",
    "    \n",
    "    if weight is None:\n",
    "        weight = rng.uniform() # random weight\n",
    "    \n",
    "    target_neurite_ = getattr(target, target_neurite)\n",
    "    if target_sec is None:\n",
    "        target_sec = rng.integers(0,len(target_neurite_)) # random dendritic section\n",
    "    \n",
    "    source_neurite_ = getattr(source, source_neurite)\n",
    "    if source_sec is None:\n",
    "        source_sec = rng.integers(0,len(source_neurite_)) # random axonal section\n",
    "    \n",
    "    target_syn = h.ExpSyn(target_neurite_[target_sec](0.5))\n",
    "    target.synapses.append(target_syn) # store synapse\n",
    "    \n",
    "    netcon = h.NetCon(source_neurite_[source_sec](0.5)._ref_v, target_syn, sec=source_neurite_[source_sec])\n",
    "    netcon.weight[0] = weight\n",
    "    netcon.delay = delay\n",
    "    \n",
    "    print('Connected cells %s -> %s with weight %g and delay %g, from %s[%d] to %s[%d]' % (source.name,target.name,weight,delay,source_neurite,source_sec,target_neurite,target_sec))\n",
    "    return netcon"
   ]
  },
  {
   "cell_type": "code",
   "execution_count": 14,
   "metadata": {},
   "outputs": [],
   "source": [
    "# specify connection probabilites between cell types\n",
    "conn_prob_matrix = np.zeros((2,2))\n",
    "conn_prob_matrix[0,0] = 0.75 # Pyr to Pyr\n",
    "conn_prob_matrix[0,1] = 0.19 # Pyr to Int\n",
    "conn_prob_matrix[1,0] = 0.48 # Int to Pyr\n",
    "conn_prob_matrix[1,1] = 0.23 # Int to Int"
   ]
  },
  {
   "cell_type": "code",
   "execution_count": 15,
   "metadata": {},
   "outputs": [
    {
     "name": "stdout",
     "output_type": "stream",
     "text": [
      "Connected cells Pyr3 -> Pyr1 with weight 0.994685 and delay 5, from axon[3] to dend[53]\n",
      "Connected cells Int1 -> Pyr1 with weight 0.0866629 and delay 5, from axon[46] to soma[0]\n",
      "Connected cells Pyr2 -> Pyr2 with weight 0.268783 and delay 5, from axon[63] to dend[9]\n",
      "Connected cells Pyr3 -> Pyr2 with weight 0.866126 and delay 5, from axon[13] to dend[6]\n",
      "Connected cells Int1 -> Pyr2 with weight 0.458499 and delay 5, from axon[11] to soma[0]\n",
      "Connected cells Int2 -> Pyr2 with weight 0.821092 and delay 5, from axon[100] to soma[1]\n",
      "Connected cells Pyr2 -> Pyr3 with weight 0.169115 and delay 5, from axon[75] to dend[15]\n",
      "Connected cells Int1 -> Pyr3 with weight 0.469477 and delay 5, from axon[12] to soma[1]\n",
      "Connected cells Pyr1 -> Int2 with weight 0.31316 and delay 5, from axon[103] to dend[14]\n",
      "Connected cells Pyr3 -> Int2 with weight 0.41244 and delay 5, from axon[8] to dend[14]\n",
      "Connected cells Int1 -> Int2 with weight 0.328775 and delay 5, from axon[86] to soma[0]\n"
     ]
    }
   ],
   "source": [
    "netcons = [] # store all netcons\n",
    "\n",
    "rng = np.random.default_rng()\n",
    "\n",
    "################ Pyramidal 1\n",
    "# Connect Pyr2 to Pyr1\n",
    "if rng.random() < conn_prob_matrix[0,0]:\n",
    "    nc = connect(Pyr2, Pyr1)\n",
    "    netcons.append(nc)\n",
    "    \n",
    "# Connect Pyr3 to Pyr1\n",
    "if rng.random() < conn_prob_matrix[0,0]:\n",
    "    nc = connect(Pyr3, Pyr1)\n",
    "    netcons.append(nc)\n",
    "\n",
    "# Connect Int1 to Pyr1\n",
    "if rng.random() < conn_prob_matrix[1,0]:\n",
    "    nc = connect(Int1, Pyr1, target_neurite='soma')\n",
    "    netcons.append(nc)\n",
    "\n",
    "# Connect Int2 to Pyr1\n",
    "if rng.random() < conn_prob_matrix[1,0]:\n",
    "    nc = connect(Int2, Pyr1, target_neurite='soma')\n",
    "    netcons.append(nc)\n",
    "\n",
    "################ Pyramidal 2\n",
    "# Connect Pyr1 to Pyr2\n",
    "if rng.random() < conn_prob_matrix[0,0]:\n",
    "    nc = connect(Pyr2, Pyr2)\n",
    "    netcons.append(nc)\n",
    "    \n",
    "# Connect Pyr3 to Pyr2\n",
    "if rng.random() < conn_prob_matrix[0,0]:\n",
    "    nc = connect(Pyr3, Pyr2)\n",
    "    netcons.append(nc)\n",
    "\n",
    "# Connect Int1 to Pyr2\n",
    "if rng.random() < conn_prob_matrix[1,0]:\n",
    "    nc = connect(Int1, Pyr2, target_neurite='soma')\n",
    "    netcons.append(nc)\n",
    "\n",
    "# Connect Int2 to Pyr2\n",
    "if rng.random() < conn_prob_matrix[1,0]:\n",
    "    nc = connect(Int2, Pyr2, target_neurite='soma')\n",
    "    netcons.append(nc)\n",
    "\n",
    "################ Pyramidal 3\n",
    "# Connect Pyr1 to Pyr3\n",
    "if rng.random() < conn_prob_matrix[0,0]:\n",
    "    nc = connect(Pyr1, Pyr2)\n",
    "    netcons.append(nc)\n",
    "    \n",
    "# Connect Pyr2 to Pyr3\n",
    "if rng.random() < conn_prob_matrix[0,0]:\n",
    "    nc = connect(Pyr2, Pyr3)\n",
    "    netcons.append(nc)\n",
    "\n",
    "# Connect Int1 to Pyr3\n",
    "if rng.random() < conn_prob_matrix[1,0]:\n",
    "    nc = connect(Int1, Pyr3, target_neurite='soma')\n",
    "    netcons.append(nc)\n",
    "\n",
    "# Connect Int2 to Pyr3\n",
    "if rng.random() < conn_prob_matrix[1,0]:\n",
    "    nc = connect(Int2, Pyr3, target_neurite='soma')\n",
    "    netcons.append(nc)\n",
    "\n",
    "################ Inhibitory 1\n",
    "# Connect Pyr1 to Int1\n",
    "if rng.random() < conn_prob_matrix[0,1]:\n",
    "    nc = connect(Pyr1, Int1)\n",
    "    netcons.append(nc)\n",
    "\n",
    "# Connect Pyr2 to Int1\n",
    "if rng.random() < conn_prob_matrix[0,1]:\n",
    "    nc = connect(Pyr2, Int1)\n",
    "    netcons.append(nc)\n",
    "\n",
    "# Connect Pyr3 to Int1\n",
    "if rng.random() < conn_prob_matrix[0,1]:\n",
    "    nc = connect(Pyr3, Int1)\n",
    "    netcons.append(nc)\n",
    "\n",
    "# Connect Int2 to Int1\n",
    "if rng.random() < conn_prob_matrix[1,1]:\n",
    "    nc = connect(Int2, Int1, target_neurite='soma')\n",
    "    netcons.append(nc)\n",
    "\n",
    "################ Inhibitory 2\n",
    "# Connect Pyr1 to Int2\n",
    "if rng.random() < conn_prob_matrix[0,1]:\n",
    "    nc = connect(Pyr1, Int2)\n",
    "    netcons.append(nc)\n",
    "\n",
    "# Connect Pyr2 to Int2\n",
    "if rng.random() < conn_prob_matrix[0,1]:\n",
    "    nc = connect(Pyr2, Int2)\n",
    "    netcons.append(nc)\n",
    "\n",
    "# Connect Pyr3 to Int2\n",
    "if rng.random() < conn_prob_matrix[0,1]:\n",
    "    nc = connect(Pyr3, Int2)\n",
    "    netcons.append(nc)\n",
    "\n",
    "# Connect Int1 to Int2\n",
    "if rng.random() < conn_prob_matrix[1,1]:\n",
    "    nc = connect(Int1, Int2, target_neurite='soma')\n",
    "    netcons.append(nc)"
   ]
  },
  {
   "cell_type": "code",
   "execution_count": 16,
   "metadata": {},
   "outputs": [
    {
     "name": "stdout",
     "output_type": "stream",
     "text": [
      "11\n"
     ]
    }
   ],
   "source": [
    "print(len(netcons))"
   ]
  },
  {
   "cell_type": "markdown",
   "metadata": {},
   "source": [
    "### Step 4: Probability Matrix and number of contacts each of our cell has"
   ]
  },
  {
   "cell_type": "markdown",
   "metadata": {},
   "source": [
    "#### -->Displaying Connection Probability Matrix (between cell types)"
   ]
  },
  {
   "cell_type": "code",
   "execution_count": 17,
   "metadata": {},
   "outputs": [
    {
     "data": {
      "text/plain": [
       "<matplotlib.colorbar.Colorbar at 0x7fe1334811d0>"
      ]
     },
     "execution_count": 17,
     "metadata": {},
     "output_type": "execute_result"
    },
    {
     "data": {
      "image/png": "[encoded data removed]",
      "text/plain": [
       "<Figure size 432x288 with 2 Axes>"
      ]
     },
     "metadata": {
      "needs_background": "light"
     },
     "output_type": "display_data"
    }
   ],
   "source": [
    "# Displaying Connection Probability Matrix (between cell types)\n",
    "plt.imshow(conn_prob_matrix, cmap=\"viridis\", vmin=0.0, vmax=1.0)\n",
    "plt.colorbar()"
   ]
  },
  {
   "cell_type": "markdown",
   "metadata": {},
   "source": [
    "#### -->Displaying Connection Probability Matrix (between all the different cells)"
   ]
  },
  {
   "cell_type": "code",
   "execution_count": 18,
   "metadata": {},
   "outputs": [],
   "source": [
    "# Creating the Weight Matrix that will be plotted as a Heatmap\n",
    "weight_matrix = np.zeros((5,5))\n",
    "cellnames = [x.name for x in cells]\n",
    "\n",
    "for nc in netcons:\n",
    "    pre = nc.precell().name\n",
    "    pos = nc.postcell().name\n",
    "    ipre = cellnames.index(pre)\n",
    "    ipos = cellnames.index(pos)\n",
    "    weight_matrix[ipre,ipos] = nc.weight[0]\n",
    "    "
   ]
  },
  {
   "cell_type": "code",
   "execution_count": 19,
   "metadata": {},
   "outputs": [],
   "source": [
    "# Displaying Connection Probability Matrix (between all the different cells)\n",
    "\n",
    "def heatmap(data, row_labels, col_labels, ax=None, cbar_kw={}, cbarlabel=\"\", **kwargs):\n",
    "    \"\"\"\n",
    "    Create a heatmap from a numpy array and two lists of labels.\n",
    "\n",
    "    Parameters\n",
    "    ----------\n",
    "    data\n",
    "        A 2D numpy array of shape (N, M).\n",
    "    row_labels\n",
    "        A list or array of length N with the labels for the rows.\n",
    "    col_labels\n",
    "        A list or array of length M with the labels for the columns.\n",
    "    ax\n",
    "        A `matplotlib.axes.Axes` instance to which the heatmap is plotted.  If\n",
    "        not provided, use current axes or create a new one.  Optional.\n",
    "    cbar_kw\n",
    "        A dictionary with arguments to `matplotlib.Figure.colorbar`.  Optional.\n",
    "    cbarlabel\n",
    "        The label for the colorbar.  Optional.\n",
    "    **kwargs\n",
    "        All other arguments are forwarded to `imshow`.\n",
    "    \"\"\"\n",
    "\n",
    "    if not ax:\n",
    "        ax = plt.gca()\n",
    "\n",
    "    # Plot the heatmap\n",
    "    im = ax.imshow(data, **kwargs)\n",
    "\n",
    "    # Create colorbar\n",
    "    cbar = ax.figure.colorbar(im, ax=ax, **cbar_kw)\n",
    "    cbar.ax.set_ylabel(cbarlabel, rotation=-90, va=\"bottom\")\n",
    "\n",
    "    # We want to show all ticks...\n",
    "    ax.set_xticks(np.arange(data.shape[1]))\n",
    "    ax.set_yticks(np.arange(data.shape[0]))\n",
    "    # ... and label them with the respective list entries.\n",
    "    ax.set_xticklabels(col_labels)\n",
    "    ax.set_yticklabels(row_labels)\n",
    "\n",
    "    # Let the horizontal axes labeling appear on top.\n",
    "    ax.tick_params(top=True, bottom=False,\n",
    "                   labeltop=True, labelbottom=False)\n",
    "\n",
    "    # Rotate the tick labels and set their alignment.\n",
    "    plt.setp(ax.get_xticklabels(), rotation=-30, ha=\"right\",\n",
    "             rotation_mode=\"anchor\")\n",
    "\n",
    "    # Loop over data dimensions and create text annotations.\n",
    "    for i in range(5):\n",
    "        for j in range(5):\n",
    "            text = ax.text(j, i, \"%.2f\" %data[i, j],\n",
    "                           ha=\"center\", va=\"center\", color=\"w\")\n",
    "    \n",
    "    # Turn spines off and create white grid.\n",
    "    for edge, spine in ax.spines.items():\n",
    "        spine.set_visible(False)\n",
    "\n",
    "    ax.set_xticks(np.arange(data.shape[1]+1)-.5, minor=True)\n",
    "    ax.set_yticks(np.arange(data.shape[0]+1)-.5, minor=True)\n",
    "    ax.grid(which=\"minor\", color=\"w\", linestyle='-', linewidth=3)\n",
    "    ax.tick_params(which=\"minor\", bottom=False, left=False)\n",
    "    ax.set_title(\"Connectivity Matrix\")\n",
    "    \n",
    "    \n",
    "    return im, cbar"
   ]
  },
  {
   "cell_type": "code",
   "execution_count": 20,
   "metadata": {},
   "outputs": [
    {
     "data": {
      "image/png": "[encoded data removed]",
      "text/plain": [
       "<Figure size 432x288 with 2 Axes>"
      ]
     },
     "metadata": {
      "needs_background": "light"
     },
     "output_type": "display_data"
    }
   ],
   "source": [
    "fig, ax = plt.subplots()\n",
    "\n",
    "im, cbar = heatmap(weight_matrix, ['Pyr1', 'Pyr2', 'Pyr3', 'Inh1', 'Inh2'], ['Pyr1', 'Pyr2', 'Pyr3','Inh1', 'Inh2'], ax=ax, cmap=\"viridis\", cbarlabel=\"connection probability\")\n",
    "\n",
    "fig.tight_layout()"
   ]
  },
  {
   "cell_type": "markdown",
   "metadata": {},
   "source": [
    "### -->Number of contacts for each of our cell"
   ]
  },
  {
   "cell_type": "code",
   "execution_count": 21,
   "metadata": {},
   "outputs": [
    {
     "name": "stdout",
     "output_type": "stream",
     "text": [
      "In total, 11 connections were made\n",
      "Pyramidal cell 1 made 1 contacts\n",
      "Pyramidal cell 2 made 2 contacts\n",
      "Pyramidal cell 3 made 3 contacts\n",
      "Inhibitory cell 1 made 4 contacts\n",
      "Inhibitory cell 2 made 1 contacts\n"
     ]
    }
   ],
   "source": [
    "## Printing the number of contacts each of our cell has:\n",
    "\n",
    "print(\"In total, \"+str(len(netcons))+' connections were made')\n",
    "\n",
    "count_pyr1 = 0\n",
    "count_pyr2 = 0\n",
    "count_pyr3 = 0\n",
    "count_inh1 = 0\n",
    "count_inh2 = 0\n",
    "\n",
    "for nc in netcons:\n",
    "    pre = nc.precell().name\n",
    "    ipre = cellnames.index(pre)\n",
    "    if ipre == 0: # Pyramidal cell 1\n",
    "        count_pyr1 += 1\n",
    "    if ipre == 1: # Pyramidal cell 2\n",
    "        count_pyr2 += 1\n",
    "    if ipre == 2: # Pyramidal cell 3\n",
    "        count_pyr3 += 1\n",
    "    if ipre == 3: # Inhibitory cell 1\n",
    "        count_inh1 += 1\n",
    "    if ipre == 4: # Inhibitory cell 2\n",
    "        count_inh2 += 1\n",
    "\n",
    "print(\"Pyramidal cell 1 made \"+str(count_pyr1)+\" contacts\")\n",
    "print(\"Pyramidal cell 2 made \"+str(count_pyr2)+\" contacts\")\n",
    "print(\"Pyramidal cell 3 made \"+str(count_pyr3)+\" contacts\")\n",
    "print(\"Inhibitory cell 1 made \"+str(count_inh1)+\" contacts\")\n",
    "print(\"Inhibitory cell 2 made \"+str(count_inh2)+\" contacts\")"
   ]
  },
  {
   "cell_type": "markdown",
   "metadata": {},
   "source": [
    "# Ex3. Distribution of contacts: Convergence Matrix\n",
    "\n",
    "<font size='3'>Considering the following mean contact points between cell types: \n",
    "<br> PC_axon - PC_basal: 3\n",
    "<br> PC_axon - PC_apical: 1.5\n",
    "<br> PC_axon - Inh_basal: 4\n",
    "<br> Inh_axon - PC_soma: 3.5\n",
    "<br> Inh_axon - PC_basal: 2.2\n",
    "<br> Inh_axon - Inh_soma: 3.8\n",
    "<br> Inh_axon - Inh_basal: 1.9\n",
    "\n",
    "<font size='3'>Connect your cells by selecting the contact points from a normal distribution with a specific mean value per connection (values above). What is the maximum number of contacts you observe in your connectome ? Between which two cells ? Show the results on a __convergence__ matrix (how many contacts each of the cells receives from the others). [1.5 pts] "
   ]
  },
  {
   "cell_type": "markdown",
   "metadata": {},
   "source": [
    "<span style=\"color:red\"> Restarting Kernel out of precaution..."
   ]
  },
  {
   "cell_type": "markdown",
   "metadata": {},
   "source": [
    "### Step 1: Defining Cell Class"
   ]
  },
  {
   "cell_type": "code",
   "execution_count": 22,
   "metadata": {},
   "outputs": [],
   "source": [
    "# Load usefull packages\n",
    "%matplotlib inline\n",
    "\n",
    "from neuron import h, gui\n",
    "import matplotlib.pyplot as plt\n",
    "import numpy as np\n",
    "import math as m"
   ]
  },
  {
   "cell_type": "code",
   "execution_count": 23,
   "metadata": {},
   "outputs": [],
   "source": [
    "class Cell:\n",
    "    def __init__(self, filename, name, cell_type):\n",
    "        self.name = name\n",
    "        self.type = cell_type\n",
    "        self.synapses = []\n",
    "        self.build_morphology(filename)\n",
    "        self.biophysics()\n",
    "        \n",
    "    def build_morphology(self, filename):\n",
    "        h.load_file('import3d.hoc')\n",
    "        h.load_file('stdlib.hoc')\n",
    "        #morph_reader = h.Import3d_Neurolucida3()\n",
    "        morph_reader = h.Import3d_SWC_read()\n",
    "        morph_reader.input(filename)\n",
    "        i3d = h.Import3d_GUI(morph_reader, 0)\n",
    "        i3d.instantiate(self)\n",
    "    \n",
    "    def biophysics(self):\n",
    "        for sec in h.allsec():\n",
    "            sec.Ra = 100    # Axial resistance in Ohm * cm\n",
    "            sec.cm = 1      # Membrane capacitance in micro Farads / cm^2\n",
    "            sec.insert(\"pas\")\n",
    "            for seg in sec:\n",
    "                seg.pas.g = 0.00003\n",
    "                seg.pas.e = -75\n",
    "        \n",
    "        # Insert passive current in the dendrite\n",
    "        for sec in self.soma:\n",
    "            sec.insert('hh')\n",
    "            for seg in sec:\n",
    "                seg.hh.gnabar = 0.12  # Sodium conductance in S/cm2\n",
    "                seg.hh.gkbar = 0.036  # Potassium conductance in S/cm2\n",
    "        \n",
    "        if hasattr(self, 'apic'):\n",
    "            for sec in self.apic:\n",
    "                sec.insert('hh')\n",
    "                for seg in sec:\n",
    "                    seg.hh.gnabar = 0.12  # Sodium conductance in S/cm2\n",
    "                    seg.hh.gkbar = 0.036  # Potassium conductance in S/cm2\n",
    "        \n",
    "        for sec in self.dend:\n",
    "            sec.insert('hh')\n",
    "            for seg in sec:\n",
    "                seg.hh.gnabar = 0.12  # Sodium conductance in S/cm2\n",
    "                seg.hh.gkbar = 0.036  # Potassium conductance in S/cm2\n",
    "                \n",
    "        for sec in self.axon:\n",
    "            sec.insert('hh')\n",
    "            for seg in sec:    \n",
    "                seg.hh.gnabar = 0.12  # Sodium conductance in S/cm2\n",
    "                seg.hh.gkbar = 0.036  # Potassium conductance in S/cm2"
   ]
  },
  {
   "cell_type": "markdown",
   "metadata": {},
   "source": [
    "### Step 2: Instanciating the Cells from Homework 2"
   ]
  },
  {
   "cell_type": "code",
   "execution_count": 24,
   "metadata": {},
   "outputs": [
    {
     "name": "stdout",
     "output_type": "stream",
     "text": [
      "error morph_06.swc line 17828: could not parse: \n",
      "error morph_07.swc line 19678: could not parse: \n",
      "error morph_09.swc line 6173: could not parse: \n",
      "error morph_03.swc line 7281: could not parse: \n",
      "error morph_10.swc line 3377: could not parse: \n"
     ]
    }
   ],
   "source": [
    "Pyr1 = Cell('morph_06.swc','Pyr1','Pyr')\n",
    "Pyr2 = Cell('morph_07.swc','Pyr2','Pyr')\n",
    "Pyr3 = Cell('morph_09.swc','Pyr3','Pyr')\n",
    "Int1 = Cell('morph_03.swc','Int1','Int')\n",
    "Int2 = Cell('morph_10.swc','Int2','Int')\n",
    "\n",
    "# Classing the cells by group:\n",
    "cells_Pyr = [Pyr1, Pyr2, Pyr3]\n",
    "cells_Int = [Int1, Int2]\n",
    "cells = cells_Pyr + cells_Int"
   ]
  },
  {
   "cell_type": "code",
   "execution_count": 25,
   "metadata": {},
   "outputs": [
    {
     "name": "stdout",
     "output_type": "stream",
     "text": [
      "Pyr1: 95 apical sections, 72 basal sections, 2 soma sections and 131 axon senctions\n",
      "Pyr2: 131 apical sections, 82 basal sections, 2 soma sections and 125 axon senctions\n",
      "Pyr3: 37 apical sections, 69 basal sections, 2 soma sections and 67 axon senctions\n",
      "Int1: 45 basal sections, 2 soma sections and 103 axon senctions\n",
      "Int2: 33 basal sections, 2 soma sections and 120 axon senctions\n"
     ]
    }
   ],
   "source": [
    "for c in cells_Pyr:\n",
    "    print('%s: %d apical sections, %d basal sections, %d soma sections and %d axon senctions' % (c.name,len(c.apic),len(c.dend), len(c.soma), len(c.axon)))\n",
    "for c in cells_Int:\n",
    "    print('%s: %d basal sections, %d soma sections and %d axon senctions' % (c.name,len(c.dend), len(c.soma), len(c.axon)))"
   ]
  },
  {
   "cell_type": "markdown",
   "metadata": {},
   "source": [
    "### Step 3: Connecting Cells by selecting contact point distribution"
   ]
  },
  {
   "cell_type": "code",
   "execution_count": 26,
   "metadata": {},
   "outputs": [],
   "source": [
    "# connect two cells with an exponential synapse at given locations\n",
    "# returns the netcon\n",
    "def connect(source, target, weight = None, delay = 5, source_sec = None, source_neurite = 'axon', target_sec = None, target_neurite = 'dend'):\n",
    "    rng = np.random.default_rng()\n",
    "    \n",
    "    if weight is None:\n",
    "        weight = rng.uniform() # random weight\n",
    "    \n",
    "    target_neurite_ = getattr(target, target_neurite)\n",
    "    if target_sec is None:\n",
    "        target_sec = rng.integers(0,len(target_neurite_)) # random dendritic section\n",
    "    \n",
    "    source_neurite_ = getattr(source, source_neurite)\n",
    "    if source_sec is None:\n",
    "        source_sec = rng.integers(0,len(source_neurite_)) # random axonal section\n",
    "    \n",
    "    target_syn = h.ExpSyn(target_neurite_[target_sec](0.5))\n",
    "    target.synapses.append(target_syn) # store synapse\n",
    "    \n",
    "    netcon = h.NetCon(source_neurite_[source_sec](0.5)._ref_v, target_syn, sec=source_neurite_[source_sec])\n",
    "    netcon.weight[0] = weight\n",
    "    netcon.delay = delay\n",
    "    \n",
    "    print('Connected cells %s -> %s with weight %g and delay %g, from %s[%d] to %s[%d]' % (source.name,target.name,weight,delay,source_neurite,source_sec,target_neurite,target_sec))\n",
    "    return netcon"
   ]
  },
  {
   "cell_type": "code",
   "execution_count": 27,
   "metadata": {},
   "outputs": [],
   "source": [
    "# specify connection probabilites between cell types\n",
    "conn_prob_matrix = np.zeros((2,2))\n",
    "conn_prob_matrix[0,0] = 0.75 # Pyr to Pyr\n",
    "conn_prob_matrix[0,1] = 0.19 # Pyr to Int\n",
    "conn_prob_matrix[1,0] = 0.48 # Int to Pyr\n",
    "conn_prob_matrix[1,1] = 0.23 # Int to Int"
   ]
  },
  {
   "cell_type": "code",
   "execution_count": 28,
   "metadata": {},
   "outputs": [],
   "source": [
    "# specify expected number of contacts between cell types, considering target neurite\n",
    "expected_contacts = np.zeros((2,2,3), dtype=int)\n",
    "\n",
    "expected_contacts[0,0,0] = 0 # Pyr to Pyr (soma)\n",
    "expected_contacts[0,0,1] = 3 # Pyr to Pyr (dend)\n",
    "expected_contacts[0,0,2] = 1.5 # Pyr to Pyr (apic)\n",
    "\n",
    "expected_contacts[1,0,0] = 3.5 # Int to Pyr (soma)\n",
    "expected_contacts[1,0,1] = 2.2 # Int to Pyr (dend)\n",
    "expected_contacts[1,0,2] = 0 # Int to Pyr (apic)\n",
    "\n",
    "expected_contacts[0,1,0] = 0 # Pyr to Int (soma)\n",
    "expected_contacts[0,1,1] = 4 # Pyr to Int (dend)\n",
    "\n",
    "expected_contacts[1,1,0] = 3.8 # Int to Int (soma)\n",
    "expected_contacts[1,1,1] = 1.9 # Int to Int (dend)"
   ]
  },
  {
   "cell_type": "code",
   "execution_count": 29,
   "metadata": {},
   "outputs": [
    {
     "name": "stdout",
     "output_type": "stream",
     "text": [
      "Connected cells Pyr2 -> Pyr1 with weight 0.325292 and delay 5, from axon[63] to dend[16]\n",
      "Connected cells Pyr2 -> Pyr1 with weight 0.697693 and delay 5, from axon[88] to dend[19]\n",
      "Connected cells Pyr2 -> Pyr1 with weight 0.71405 and delay 5, from axon[116] to dend[3]\n",
      "Connected cells Int2 -> Pyr1 with weight 0.985602 and delay 5, from axon[67] to soma[0]\n",
      "Connected cells Int2 -> Pyr1 with weight 0.0412634 and delay 5, from axon[45] to soma[1]\n",
      "Connected cells Int2 -> Pyr1 with weight 0.25047 and delay 5, from axon[92] to dend[37]\n",
      "Connected cells Int2 -> Pyr1 with weight 0.467512 and delay 5, from axon[98] to dend[70]\n",
      "Connected cells Pyr3 -> Pyr2 with weight 0.66406 and delay 5, from axon[27] to dend[54]\n",
      "Connected cells Pyr3 -> Pyr2 with weight 0.296535 and delay 5, from axon[57] to dend[43]\n",
      "Connected cells Int1 -> Pyr2 with weight 0.775922 and delay 5, from axon[30] to soma[0]\n",
      "Connected cells Int1 -> Pyr2 with weight 0.930918 and delay 5, from axon[29] to soma[0]\n",
      "Connected cells Int1 -> Pyr2 with weight 0.733362 and delay 5, from axon[22] to dend[56]\n",
      "Connected cells Int2 -> Pyr2 with weight 0.345365 and delay 5, from axon[29] to soma[1]\n",
      "Connected cells Int2 -> Pyr2 with weight 0.877233 and delay 5, from axon[22] to soma[0]\n",
      "Connected cells Int2 -> Pyr2 with weight 0.352339 and delay 5, from axon[35] to soma[1]\n",
      "Connected cells Int2 -> Pyr2 with weight 0.0670886 and delay 5, from axon[30] to dend[31]\n",
      "Connected cells Int2 -> Pyr2 with weight 0.991337 and delay 5, from axon[46] to dend[25]\n",
      "Connected cells Pyr1 -> Pyr3 with weight 0.549747 and delay 5, from axon[115] to dend[47]\n",
      "Connected cells Pyr1 -> Pyr3 with weight 0.966638 and delay 5, from axon[115] to dend[6]\n",
      "Connected cells Pyr2 -> Pyr3 with weight 0.0798428 and delay 5, from axon[82] to dend[43]\n",
      "Connected cells Pyr2 -> Pyr3 with weight 0.147925 and delay 5, from axon[33] to dend[66]\n",
      "Connected cells Int2 -> Pyr3 with weight 0.906579 and delay 5, from axon[75] to soma[0]\n",
      "Connected cells Int2 -> Pyr3 with weight 0.588948 and delay 5, from axon[89] to soma[0]\n",
      "Connected cells Int2 -> Pyr3 with weight 0.0591644 and delay 5, from axon[114] to soma[1]\n",
      "Connected cells Int2 -> Pyr3 with weight 0.498712 and delay 5, from axon[33] to dend[8]\n",
      "Connected cells Int2 -> Pyr3 with weight 0.175424 and delay 5, from axon[85] to dend[19]\n",
      "Connected cells Int2 -> Pyr3 with weight 0.469445 and delay 5, from axon[12] to dend[42]\n",
      "Connected cells Int1 -> Int2 with weight 0.738425 and delay 5, from axon[102] to soma[0]\n",
      "Connected cells Int1 -> Int2 with weight 0.774414 and delay 5, from axon[49] to soma[0]\n",
      "Connected cells Int1 -> Int2 with weight 0.575616 and delay 5, from axon[47] to soma[1]\n"
     ]
    }
   ],
   "source": [
    "# generate number of contacts per cell type, by selecting them from a normal distribution \n",
    "# in which the mean is the expected_contacts value\n",
    "\n",
    "netcons = [] # store all netcons\n",
    "\n",
    "rng = np.random.default_rng()\n",
    "\n",
    "############ Pyramidal 1\n",
    "# Connect Pyr2 to Pyr1\n",
    "if rng.random() < conn_prob_matrix[0,0]:\n",
    "    for i,neurite in enumerate(['soma','dend','apic']):\n",
    "        contacts = expected_contacts[0,0,i]\n",
    "        if contacts > 0:\n",
    "            contacts = m.floor(rng.normal(contacts))\n",
    "        if contacts < 0:\n",
    "            contacts = 0\n",
    "        for i in range(0,contacts):\n",
    "            nc = connect(Pyr2, Pyr1, target_neurite=neurite)\n",
    "            netcons.append(nc)\n",
    "\n",
    "# Connect Pyr3 to Pyr1\n",
    "if rng.random() < conn_prob_matrix[0,0]:\n",
    "    for i,neurite in enumerate(['soma','dend','apic']):\n",
    "        contacts = expected_contacts[0,0,i]\n",
    "        if contacts > 0:\n",
    "            contacts = m.floor(rng.normal(contacts))\n",
    "        if contacts < 0:\n",
    "            contacts = 0\n",
    "        for i in range(0,contacts):\n",
    "            nc = connect(Pyr3, Pyr1, target_neurite=neurite)\n",
    "            netcons.append(nc)\n",
    "\n",
    "# Connect Int1 to Pyr1\n",
    "if rng.random() < conn_prob_matrix[1,0]:\n",
    "    for i,neurite in enumerate(['soma','dend','apic']):\n",
    "        contacts = expected_contacts[1,0,i]\n",
    "        if contacts > 0:\n",
    "            contacts = m.floor(rng.normal(contacts))\n",
    "        if contacts < 0:\n",
    "            contacts = 0\n",
    "        for i in range(0,contacts):\n",
    "            nc = connect(Int1, Pyr1, target_neurite=neurite)\n",
    "            netcons.append(nc)\n",
    "            \n",
    "# Connect Int2 to Pyr1\n",
    "if rng.random() < conn_prob_matrix[1,0]:\n",
    "    for i,neurite in enumerate(['soma','dend','apic']):\n",
    "        contacts = expected_contacts[1,0,i]\n",
    "        if contacts > 0:\n",
    "            contacts = m.floor(rng.normal(contacts))\n",
    "        if contacts < 0:\n",
    "            contacts = 0\n",
    "        for i in range(0,contacts):\n",
    "            nc = connect(Int2, Pyr1, target_neurite=neurite)\n",
    "            netcons.append(nc)\n",
    "\n",
    "############ Pyramidal 2\n",
    "# Connect Pyr1 to Pyr2\n",
    "if rng.random() < conn_prob_matrix[0,0]:\n",
    "    for i,neurite in enumerate(['soma','dend','apic']):\n",
    "        contacts = expected_contacts[0,0,i]\n",
    "        if contacts > 0:\n",
    "            contacts = m.floor(rng.normal(contacts))\n",
    "        if contacts < 0:\n",
    "            contacts = 0\n",
    "        for i in range(0,contacts):\n",
    "            nc = connect(Pyr1, Pyr2, target_neurite=neurite)\n",
    "            netcons.append(nc)\n",
    "\n",
    "# Connect Pyr3 to Pyr2\n",
    "if rng.random() < conn_prob_matrix[0,0]:\n",
    "    for i,neurite in enumerate(['soma','dend','apic']):\n",
    "        contacts = expected_contacts[0,0,i]\n",
    "        if contacts > 0:\n",
    "            contacts = m.floor(rng.normal(contacts))\n",
    "        if contacts < 0:\n",
    "            contacts = 0\n",
    "        for i in range(0,contacts):\n",
    "            nc = connect(Pyr3, Pyr2, target_neurite=neurite)\n",
    "            netcons.append(nc)\n",
    "\n",
    "# Connect Int1 to Pyr2\n",
    "if rng.random() < conn_prob_matrix[1,0]:\n",
    "    for i,neurite in enumerate(['soma','dend','apic']):\n",
    "        contacts = expected_contacts[1,0,i]\n",
    "        if contacts > 0:\n",
    "            contacts = m.floor(rng.normal(contacts))\n",
    "        if contacts < 0:\n",
    "            contacts = 0\n",
    "        for i in range(0,contacts):\n",
    "            nc = connect(Int1, Pyr2, target_neurite=neurite)\n",
    "            netcons.append(nc)\n",
    "            \n",
    "# Connect Int2 to Pyr2\n",
    "if rng.random() < conn_prob_matrix[1,0]:\n",
    "    for i,neurite in enumerate(['soma','dend','apic']):\n",
    "        contacts = expected_contacts[1,0,i]\n",
    "        if contacts > 0:\n",
    "            contacts = m.floor(rng.normal(contacts))\n",
    "        if contacts < 0:\n",
    "            contacts = 0\n",
    "        for i in range(0,contacts):\n",
    "            nc = connect(Int2, Pyr2, target_neurite=neurite)\n",
    "            netcons.append(nc)\n",
    "\n",
    "############ Pyramidal 3\n",
    "# Connect Pyr1 to Pyr3\n",
    "if rng.random() < conn_prob_matrix[0,0]:\n",
    "    for i,neurite in enumerate(['soma','dend','apic']):\n",
    "        contacts = expected_contacts[0,0,i]\n",
    "        if contacts > 0:\n",
    "            contacts = m.floor(rng.normal(contacts))\n",
    "        if contacts < 0:\n",
    "            contacts = 0\n",
    "        for i in range(0,contacts):\n",
    "            nc = connect(Pyr1, Pyr3, target_neurite=neurite)\n",
    "            netcons.append(nc)\n",
    "\n",
    "# Connect Pyr2 to Pyr3\n",
    "if rng.random() < conn_prob_matrix[0,0]:\n",
    "    for i,neurite in enumerate(['soma','dend','apic']):\n",
    "        contacts = expected_contacts[0,0,i]\n",
    "        if contacts > 0:\n",
    "            contacts = m.floor(rng.normal(contacts))\n",
    "        if contacts < 0:\n",
    "            contacts = 0\n",
    "        for i in range(0,contacts):\n",
    "            nc = connect(Pyr2, Pyr3, target_neurite=neurite)\n",
    "            netcons.append(nc)\n",
    "\n",
    "# Connect Int1 to Pyr3\n",
    "if rng.random() < conn_prob_matrix[1,0]:\n",
    "    for i,neurite in enumerate(['soma','dend','apic']):\n",
    "        contacts = expected_contacts[1,0,i]\n",
    "        if contacts > 0:\n",
    "            contacts = m.floor(rng.normal(contacts))\n",
    "        if contacts < 0:\n",
    "            contacts = 0\n",
    "        for i in range(0,contacts):\n",
    "            nc = connect(Int1, Pyr3, target_neurite=neurite)\n",
    "            netcons.append(nc)\n",
    "            \n",
    "# Connect Int2 to Pyr3\n",
    "if rng.random() < conn_prob_matrix[1,0]:\n",
    "    for i,neurite in enumerate(['soma','dend','apic']):\n",
    "        contacts = expected_contacts[1,0,i]\n",
    "        if contacts > 0:\n",
    "            contacts = m.floor(rng.normal(contacts))\n",
    "        if contacts < 0:\n",
    "            contacts = 0\n",
    "        for i in range(0,contacts):\n",
    "            nc = connect(Int2, Pyr3, target_neurite=neurite)\n",
    "            netcons.append(nc)\n",
    "\n",
    "############ Inhibitory 1\n",
    "# Connect Pyr1 to Int1\n",
    "if rng.random() < conn_prob_matrix[0,1]:\n",
    "    for i,neurite in enumerate(['soma','dend']):\n",
    "        contacts = expected_contacts[0,1,i]\n",
    "        if contacts > 0:\n",
    "            contacts = m.floor(rng.normal(contacts))\n",
    "        if contacts < 0:\n",
    "            contacts = 0\n",
    "        for i in range(0,contacts):\n",
    "            nc = connect(Pyr1, Int1, target_neurite=neurite)\n",
    "            netcons.append(nc)\n",
    "\n",
    "# Connect Pyr2 to Int1\n",
    "if rng.random() < conn_prob_matrix[0,1]:\n",
    "    for i,neurite in enumerate(['soma','dend']):\n",
    "        contacts = expected_contacts[0,1,i]\n",
    "        if contacts > 0:\n",
    "            contacts = m.floor(rng.normal(contacts))\n",
    "        if contacts < 0:\n",
    "            contacts = 0\n",
    "        for i in range(0,contacts):\n",
    "            nc = connect(Pyr2, Int1, target_neurite=neurite)\n",
    "            netcons.append(nc)\n",
    "\n",
    "# Connect Pyr3 to Int1\n",
    "if rng.random() < conn_prob_matrix[0,1]:\n",
    "    for i,neurite in enumerate(['soma','dend']):\n",
    "        contacts = expected_contacts[0,1,i]\n",
    "        if contacts > 0:\n",
    "            contacts = m.floor(rng.normal(contacts))\n",
    "        if contacts < 0:\n",
    "            contacts = 0\n",
    "        for i in range(0,contacts):\n",
    "            nc = connect(Pyr3, Int1, target_neurite=neurite)\n",
    "            netcons.append(nc)\n",
    "\n",
    "# Connect Int2 to Int1\n",
    "if rng.random() < conn_prob_matrix[1,1]:\n",
    "    for i,neurite in enumerate(['soma','dend']):\n",
    "        contacts = expected_contacts[1,1,i]\n",
    "        if contacts > 0:\n",
    "            contacts = m.floor(rng.normal(contacts))\n",
    "        if contacts < 0:\n",
    "            contacts = 0\n",
    "        for i in range(0,contacts):\n",
    "            nc = connect(Int2, Int1, target_neurite=neurite)\n",
    "            netcons.append(nc)\n",
    "\n",
    "############ Inhibitory 2\n",
    "# Connect Pyr1 to Int2\n",
    "if rng.random() < conn_prob_matrix[0,1]:\n",
    "    for i,neurite in enumerate(['soma','dend']):\n",
    "        contacts = expected_contacts[0,1,i]\n",
    "        if contacts > 0:\n",
    "            contacts = m.floor(rng.normal(contacts))\n",
    "        if contacts < 0:\n",
    "            contacts = 0\n",
    "        for i in range(0,contacts):\n",
    "            nc = connect(Pyr1, Int2, target_neurite=neurite)\n",
    "            netcons.append(nc)\n",
    "\n",
    "# Connect Pyr2 to Int2\n",
    "if rng.random() < conn_prob_matrix[0,1]:\n",
    "    for i,neurite in enumerate(['soma','dend']):\n",
    "        contacts = expected_contacts[0,1,i]\n",
    "        if contacts > 0:\n",
    "            contacts = m.floor(rng.normal(contacts))\n",
    "        if contacts < 0:\n",
    "            contacts = 0\n",
    "        for i in range(0,contacts):\n",
    "            nc = connect(Pyr2, Int2, target_neurite=neurite)\n",
    "            netcons.append(nc)\n",
    "\n",
    "# Connect Pyr3 to Int2\n",
    "if rng.random() < conn_prob_matrix[0,1]:\n",
    "    for i,neurite in enumerate(['soma','dend']):\n",
    "        contacts = expected_contacts[0,1,i]\n",
    "        if contacts > 0:\n",
    "            contacts = m.floor(rng.normal(contacts))\n",
    "        if contacts < 0:\n",
    "            contacts = 0\n",
    "        for i in range(0,contacts):\n",
    "            nc = connect(Pyr3, Int2, target_neurite=neurite)\n",
    "            netcons.append(nc)\n",
    "\n",
    "# Connect Int1 to Int2\n",
    "if rng.random() < conn_prob_matrix[1,1]:\n",
    "    for i,neurite in enumerate(['soma','dend']):\n",
    "        contacts = expected_contacts[1,1,i]\n",
    "        if contacts > 0:\n",
    "            contacts = m.floor(rng.normal(contacts))\n",
    "        if contacts < 0:\n",
    "            contacts = 0\n",
    "        for i in range(0,contacts):\n",
    "            nc = connect(Int1, Int2, target_neurite=neurite)\n",
    "            netcons.append(nc)"
   ]
  },
  {
   "cell_type": "code",
   "execution_count": 30,
   "metadata": {},
   "outputs": [
    {
     "data": {
      "text/plain": [
       "30"
      ]
     },
     "execution_count": 30,
     "metadata": {},
     "output_type": "execute_result"
    }
   ],
   "source": [
    "len(netcons)"
   ]
  },
  {
   "cell_type": "markdown",
   "metadata": {},
   "source": [
    "### What is the maximum number of contacts you observe in your connectome ? Between which two cells ? Show the results on a convergence matrix (how many contacts each of the cells receives from the others)."
   ]
  },
  {
   "cell_type": "markdown",
   "metadata": {},
   "source": [
    "#### --> Computing maximum number of contacts:"
   ]
  },
  {
   "cell_type": "code",
   "execution_count": 31,
   "metadata": {},
   "outputs": [
    {
     "name": "stdout",
     "output_type": "stream",
     "text": [
      "For pyramidal cell 1, it made at most 2 with Pyr3\n",
      "For pyramidal cell 2, it made at most 3 with Pyr1\n",
      "For pyramidal cell 3, it made at most 2 with Pyr2\n",
      "For inhibitory cell 1, it made at most 3 with Pyr2\n",
      "For inhibitory cell 2, it made at most 6 with Pyr3\n"
     ]
    }
   ],
   "source": [
    "cellnames = [x.name for x in cells]\n",
    "\n",
    "pyr_1_contacts = np.zeros((1,5))\n",
    "pyr_2_contacts = np.zeros((1,5))\n",
    "pyr_3_contacts = np.zeros((1,5))\n",
    "int_1_contacts = np.zeros((1,5))\n",
    "int_2_contacts = np.zeros((1,5))\n",
    "\n",
    "# iterate over netcons and count\n",
    "for nc in netcons:\n",
    "    pre = nc.precell().name\n",
    "    pos = nc.postcell().name\n",
    "    ipre = cellnames.index(pre)\n",
    "    ipos = cellnames.index(pos)\n",
    "    if ipre == 0:\n",
    "        pyr_1_contacts[0][ipos] += 1\n",
    "    if ipre == 1:\n",
    "        pyr_2_contacts[0][ipos] += 1\n",
    "    if ipre == 2:\n",
    "        pyr_3_contacts[0][ipos] += 1\n",
    "    if ipre == 3:\n",
    "        int_1_contacts[0][ipos] += 1\n",
    "    if ipre == 4:\n",
    "        int_2_contacts[0][ipos] += 1\n",
    "\n",
    "\n",
    "print(\"For pyramidal cell 1, it made at most \"+str(int(np.max(pyr_1_contacts)))+' with '+str(cellnames[np.argmax(pyr_1_contacts)]))\n",
    "print(\"For pyramidal cell 2, it made at most \"+str(int(np.max(pyr_2_contacts)))+' with '+str(cellnames[np.argmax(pyr_2_contacts)]))\n",
    "print(\"For pyramidal cell 3, it made at most \"+str(int(np.max(pyr_3_contacts)))+' with '+str(cellnames[np.argmax(pyr_3_contacts)]))\n",
    "print(\"For inhibitory cell 1, it made at most \"+str(int(np.max(int_1_contacts)))+' with '+str(cellnames[np.argmax(int_1_contacts)]))\n",
    "print(\"For inhibitory cell 2, it made at most \"+str(int(np.max(int_2_contacts)))+' with '+str(cellnames[np.argmax(int_2_contacts)]))"
   ]
  },
  {
   "cell_type": "markdown",
   "metadata": {},
   "source": [
    "In this particular connectome, we can deduce that the maximal number of contacts made was 5, and it was between inhibitory cell 2 and pyramidal cell 2."
   ]
  },
  {
   "cell_type": "markdown",
   "metadata": {},
   "source": [
    "#### --> Computing maximum number of contacts:"
   ]
  },
  {
   "cell_type": "code",
   "execution_count": 32,
   "metadata": {},
   "outputs": [],
   "source": [
    "# Convergence Matrix:\n",
    "\n",
    "convergence_matrix = np.zeros((5,5))\n",
    "cellnames = [x.name for x in cells]\n",
    "\n",
    "# iterate over netcons and count\n",
    "for nc in netcons:\n",
    "    pre = nc.precell().name\n",
    "    pos = nc.postcell().name\n",
    "    ipre = cellnames.index(pre)\n",
    "    ipos = cellnames.index(pos)\n",
    "    convergence_matrix[ipos,ipre] += 1 "
   ]
  },
  {
   "cell_type": "code",
   "execution_count": 33,
   "metadata": {},
   "outputs": [],
   "source": [
    "# Displaying Connection Probability Matrix (between all the different cells)\n",
    "\n",
    "def heatmap(data, row_labels, col_labels, ax=None, cbar_kw={}, cbarlabel=\"\", **kwargs):\n",
    "    \"\"\"\n",
    "    Create a heatmap from a numpy array and two lists of labels.\n",
    "\n",
    "    Parameters\n",
    "    ----------\n",
    "    data\n",
    "        A 2D numpy array of shape (N, M).\n",
    "    row_labels\n",
    "        A list or array of length N with the labels for the rows.\n",
    "    col_labels\n",
    "        A list or array of length M with the labels for the columns.\n",
    "    ax\n",
    "        A `matplotlib.axes.Axes` instance to which the heatmap is plotted.  If\n",
    "        not provided, use current axes or create a new one.  Optional.\n",
    "    cbar_kw\n",
    "        A dictionary with arguments to `matplotlib.Figure.colorbar`.  Optional.\n",
    "    cbarlabel\n",
    "        The label for the colorbar.  Optional.\n",
    "    **kwargs\n",
    "        All other arguments are forwarded to `imshow`.\n",
    "    \"\"\"\n",
    "\n",
    "    if not ax:\n",
    "        ax = plt.gca()\n",
    "\n",
    "    # Plot the heatmap\n",
    "    im = ax.imshow(data, **kwargs)\n",
    "\n",
    "    # Create colorbar\n",
    "    cbar = ax.figure.colorbar(im, ax=ax, **cbar_kw)\n",
    "    cbar.ax.set_ylabel(cbarlabel, rotation=-90, va=\"bottom\")\n",
    "\n",
    "    # We want to show all ticks...\n",
    "    ax.set_xticks(np.arange(data.shape[1]))\n",
    "    ax.set_yticks(np.arange(data.shape[0]))\n",
    "    # ... and label them with the respective list entries.\n",
    "    ax.set_xticklabels(col_labels)\n",
    "    ax.set_yticklabels(row_labels)\n",
    "\n",
    "    # Let the horizontal axes labeling appear on top.\n",
    "    ax.tick_params(top=True, bottom=False,\n",
    "                   labeltop=True, labelbottom=False)\n",
    "\n",
    "    # Rotate the tick labels and set their alignment.\n",
    "    plt.setp(ax.get_xticklabels(), rotation=-30, ha=\"right\",\n",
    "             rotation_mode=\"anchor\")\n",
    "\n",
    "    # Loop over data dimensions and create text annotations.\n",
    "    for i in range(5):\n",
    "        for j in range(5):\n",
    "            text = ax.text(j, i, \"%.0f\" %data[i, j],\n",
    "                           ha=\"center\", va=\"center\", color=\"w\")\n",
    "    \n",
    "    # Turn spines off and create white grid.\n",
    "    for edge, spine in ax.spines.items():\n",
    "        spine.set_visible(False)\n",
    "\n",
    "    ax.set_xticks(np.arange(data.shape[1]+1)-.5, minor=True)\n",
    "    ax.set_yticks(np.arange(data.shape[0]+1)-.5, minor=True)\n",
    "    ax.grid(which=\"minor\", color=\"w\", linestyle='-', linewidth=3)\n",
    "    ax.tick_params(which=\"minor\", bottom=False, left=False)\n",
    "    ax.set_title(\"Convergence Matrix\")\n",
    "    \n",
    "    \n",
    "    return im, cbar"
   ]
  },
  {
   "cell_type": "code",
   "execution_count": 34,
   "metadata": {},
   "outputs": [
    {
     "data": {
      "image/png": "[encoded data removed]",
      "text/plain": [
       "<Figure size 432x288 with 2 Axes>"
      ]
     },
     "metadata": {
      "needs_background": "light"
     },
     "output_type": "display_data"
    }
   ],
   "source": [
    "fig, ax = plt.subplots()\n",
    "\n",
    "im, cbar = heatmap(convergence_matrix, ['Pyr1', 'Pyr2', 'Pyr3', 'Inh1', 'Inh2'], ['Pyr1', 'Pyr2', 'Pyr3','Inh1', 'Inh2'], ax=ax, cmap=\"BuGn\", cbarlabel=\"Number of Contacts\")\n",
    "\n",
    "fig.tight_layout()"
   ]
  },
  {
   "cell_type": "markdown",
   "metadata": {},
   "source": [
    "# Ex4. Real Connectivity Rules\n",
    "\n",
    "<font size='3'>Read the articles uploaded on the HomeWork folder (Markram_1997.pdf and Gupta_2000.pdf). \n",
    "\n",
    "<font size='3'>Imaging that you have to build a network with your five cells (3 pyramidals and 2 GABAergic interneurons) from rat somatosensory cortex. Extract from the papers the data that you would need to connect your cells (connectivity rules). Enumerate the data chosen to connect your cells. Using and modifying (if needed) the code from the tutorials, connect your five cells in a more biological way using the connectivity rules found in the papers. [2.5 pts]"
   ]
  },
  {
   "cell_type": "markdown",
   "metadata": {},
   "source": [
    "#### Connectivity rules for the Pyramidal Excitatory Cells: (Markram 1997):\n",
    "\n",
    "According to the paper:\n",
    "\n",
    "- For both unidirectional and bidirectional:\n",
    "    - the synaptic connections between pairs of pyramidal neurons 70% were unidirectional and 30% were bidirectional\n",
    "    - Probability of finding a synaptic correction in dual recordings was: 0.1% (but this could be higher if no artefacts introduced with to the brain slices)\n",
    "    - number of potential synaptic contacts formed by a presynaptic neuron on a target neuron varied between 4 and 8 (mean 5.5 contacts)\n",
    "    - synaptic contacts were preferentially located on basal dendrites (63%), and apical oblique dendrites (27%) and 35% of all contacts were located on tertiatry basal dendritic branches\n",
    "    \n",
    "- For unidirectional synaptic connections:\n",
    "   - five or more contacts were established with the target neuron and these contacts were found on the entire dendritic tree\n",
    "   - 58% of all potential synaptic contacts identified were located on basal dendrites (of these, 91% were located on secondary and tertiary dendritic branches), and tertiary dendritic branches are at a distance of 60-100 µm from the soma\n",
    "   \n",
    "- For bidirectional synaptic connections:\n",
    "    - mean number of potential synaptic connections on target neurons is 5.5\n",
    "    - distribution of synaptic contacts was also similar to that found on target neurons of unidirectional pairs\n",
    "    - of all potential synaptic contacts identified: (66.7%) was located on basal dendrites\n",
    "\n",
    "#### Connectivity rules for the Inhibitory Interneuron Cells: (Gupta 2000):\n",
    "\n",
    "According to this paper:\n",
    "\n",
    "- 800 quadruple recordings, yielding 3000 potential GABAergic connections, and there were more than 240 GABAergic connections (this gives us the inhibitory to other cell connection probabiilty)\n",
    "- The GABAertic connections are characterized into 3 types according:\n",
    "    - F1 (facilitated recovery test response (RTR)) (13.4%)\n",
    "    - F2 (depressed RTR) (71.5%)\n",
    "    - F3 (recovered RTR) (15.1%)\n",
    "- For each of these 3 classification, the connectivity probability identified, as well as the number of synapses that were present:\n",
    "    - for F1:\n",
    "        - IN to PC: 7.6%\n",
    "        - IN to IN: 29.2%\n",
    "        - number of contacts: 9.3\n",
    "    - for F2:\n",
    "        - IN to PC: 76.3%\n",
    "        - IN to IN: 58.3%\n",
    "        - number of contacts: 16\n",
    "    - for F3:\n",
    "        - IN to PC: 16%\n",
    "        - IN to IN: 12.5%\n",
    "        - number of cnotacts: 16.7\n",
    "- Moreover, according to the type of interneuron we are considering, the type of synapse that is present differs (for instance, for basket cells, there are only F2 synapses), see table 2 for more information\n",
    "- Furthermore, to identify where the conctacts are distributed (on soma or on dendrites), we use the information provided by the \"anatomical diversity of GABAergic Interneurons\", giving some percentages for where the interneurons are contacting:\n",
    "    - for basket cells: 19% of the contacts made are to the somata of the target cells\n",
    "    - for the small basket cells: 5% form synapses on the somata of the target cells"
   ]
  },
  {
   "cell_type": "markdown",
   "metadata": {},
   "source": [
    "#### Enumerating the data we are going to use to connect our cells:\n",
    "\n",
    "According to the papers above:\n",
    "\n",
    "- For our pyramidal cells:\n",
    "    - the connection probability for pyramidal to pyramidal cells is 0.1\n",
    "    - according to the first article, 70% of the pyramidal cells were characterized as being unidirectional, and 30% as bidirectional. However, given that the paper indicates that the values number of contacts are similar between unidirectional and bidirectional cells (at around 5.5)\n",
    "    - Moreover, given that the percentages were also very similar between unidirectional and bidirectional distribution to the basal or apical dendrites, we are considering:\n",
    "        - that 58% of the contacts made are on basal dendrites\n",
    "        - the remaining 42% are on apical dendrites\n",
    "\n",
    "   - We specified where those contacts were made according to the distance from the soma, as was done in the paper (Table 3) by:\n",
    "        - randomly selecting sections that were closer than 100µm from the soma for the basal dendrites\n",
    "        - randomly selecting sections that were farther than 100 µm from the soma for the apical dendrites\n",
    "        \n",
    "        \n",
    "- For our interneurons:\n",
    "    - We took a look at the morphology of the two interneurons we were considering, in order to see what type they were:"
   ]
  },
  {
   "cell_type": "code",
   "execution_count": 35,
   "metadata": {
    "collapsed": true,
    "jupyter": {
     "outputs_hidden": true
    }
   },
   "outputs": [
    {
     "name": "stdout",
     "output_type": "stream",
     "text": [
      "Error in callback <function flush_figures at 0x7fe145784950> (for post_execute):\n"
     ]
    },
    {
     "ename": "KeyboardInterrupt",
     "evalue": "",
     "output_type": "error",
     "traceback": [
      "\u001b[0;31m---------------------------------------------------------------------------\u001b[0m",
      "\u001b[0;31mKeyboardInterrupt\u001b[0m                         Traceback (most recent call last)",
      "\u001b[0;32m/usr/local/lib/python3.6/dist-packages/ipykernel/pylab/backend_inline.py\u001b[0m in \u001b[0;36mflush_figures\u001b[0;34m()\u001b[0m\n\u001b[1;32m    118\u001b[0m         \u001b[0;31m# ignore the tracking, just draw and close all figures\u001b[0m\u001b[0;34m\u001b[0m\u001b[0;34m\u001b[0m\u001b[0;34m\u001b[0m\u001b[0m\n\u001b[1;32m    119\u001b[0m         \u001b[0;32mtry\u001b[0m\u001b[0;34m:\u001b[0m\u001b[0;34m\u001b[0m\u001b[0;34m\u001b[0m\u001b[0m\n\u001b[0;32m--> 120\u001b[0;31m             \u001b[0;32mreturn\u001b[0m \u001b[0mshow\u001b[0m\u001b[0;34m(\u001b[0m\u001b[0;32mTrue\u001b[0m\u001b[0;34m)\u001b[0m\u001b[0;34m\u001b[0m\u001b[0;34m\u001b[0m\u001b[0m\n\u001b[0m\u001b[1;32m    121\u001b[0m         \u001b[0;32mexcept\u001b[0m \u001b[0mException\u001b[0m \u001b[0;32mas\u001b[0m \u001b[0me\u001b[0m\u001b[0;34m:\u001b[0m\u001b[0;34m\u001b[0m\u001b[0;34m\u001b[0m\u001b[0m\n\u001b[1;32m    122\u001b[0m             \u001b[0;31m# safely show traceback if in IPython, else raise\u001b[0m\u001b[0;34m\u001b[0m\u001b[0;34m\u001b[0m\u001b[0;34m\u001b[0m\u001b[0m\n",
      "\u001b[0;32m/usr/local/lib/python3.6/dist-packages/ipykernel/pylab/backend_inline.py\u001b[0m in \u001b[0;36mshow\u001b[0;34m(close, block)\u001b[0m\n\u001b[1;32m     40\u001b[0m             display(\n\u001b[1;32m     41\u001b[0m                 \u001b[0mfigure_manager\u001b[0m\u001b[0;34m.\u001b[0m\u001b[0mcanvas\u001b[0m\u001b[0;34m.\u001b[0m\u001b[0mfigure\u001b[0m\u001b[0;34m,\u001b[0m\u001b[0;34m\u001b[0m\u001b[0;34m\u001b[0m\u001b[0m\n\u001b[0;32m---> 42\u001b[0;31m                 \u001b[0mmetadata\u001b[0m\u001b[0;34m=\u001b[0m\u001b[0m_fetch_figure_metadata\u001b[0m\u001b[0;34m(\u001b[0m\u001b[0mfigure_manager\u001b[0m\u001b[0;34m.\u001b[0m\u001b[0mcanvas\u001b[0m\u001b[0;34m.\u001b[0m\u001b[0mfigure\u001b[0m\u001b[0;34m)\u001b[0m\u001b[0;34m\u001b[0m\u001b[0;34m\u001b[0m\u001b[0m\n\u001b[0m\u001b[1;32m     43\u001b[0m             )\n\u001b[1;32m     44\u001b[0m     \u001b[0;32mfinally\u001b[0m\u001b[0;34m:\u001b[0m\u001b[0;34m\u001b[0m\u001b[0;34m\u001b[0m\u001b[0m\n",
      "\u001b[0;32m/usr/local/lib/python3.6/dist-packages/IPython/core/display.py\u001b[0m in \u001b[0;36mdisplay\u001b[0;34m(include, exclude, metadata, transient, display_id, *objs, **kwargs)\u001b[0m\n\u001b[1;32m    311\u001b[0m             \u001b[0mpublish_display_data\u001b[0m\u001b[0;34m(\u001b[0m\u001b[0mdata\u001b[0m\u001b[0;34m=\u001b[0m\u001b[0mobj\u001b[0m\u001b[0;34m,\u001b[0m \u001b[0mmetadata\u001b[0m\u001b[0;34m=\u001b[0m\u001b[0mmetadata\u001b[0m\u001b[0;34m,\u001b[0m \u001b[0;34m**\u001b[0m\u001b[0mkwargs\u001b[0m\u001b[0;34m)\u001b[0m\u001b[0;34m\u001b[0m\u001b[0;34m\u001b[0m\u001b[0m\n\u001b[1;32m    312\u001b[0m         \u001b[0;32melse\u001b[0m\u001b[0;34m:\u001b[0m\u001b[0;34m\u001b[0m\u001b[0;34m\u001b[0m\u001b[0m\n\u001b[0;32m--> 313\u001b[0;31m             \u001b[0mformat_dict\u001b[0m\u001b[0;34m,\u001b[0m \u001b[0mmd_dict\u001b[0m \u001b[0;34m=\u001b[0m \u001b[0mformat\u001b[0m\u001b[0;34m(\u001b[0m\u001b[0mobj\u001b[0m\u001b[0;34m,\u001b[0m \u001b[0minclude\u001b[0m\u001b[0;34m=\u001b[0m\u001b[0minclude\u001b[0m\u001b[0;34m,\u001b[0m \u001b[0mexclude\u001b[0m\u001b[0;34m=\u001b[0m\u001b[0mexclude\u001b[0m\u001b[0;34m)\u001b[0m\u001b[0;34m\u001b[0m\u001b[0;34m\u001b[0m\u001b[0m\n\u001b[0m\u001b[1;32m    314\u001b[0m             \u001b[0;32mif\u001b[0m \u001b[0;32mnot\u001b[0m \u001b[0mformat_dict\u001b[0m\u001b[0;34m:\u001b[0m\u001b[0;34m\u001b[0m\u001b[0;34m\u001b[0m\u001b[0m\n\u001b[1;32m    315\u001b[0m                 \u001b[0;31m# nothing to display (e.g. _ipython_display_ took over)\u001b[0m\u001b[0;34m\u001b[0m\u001b[0;34m\u001b[0m\u001b[0;34m\u001b[0m\u001b[0m\n",
      "\u001b[0;32m/usr/local/lib/python3.6/dist-packages/IPython/core/formatters.py\u001b[0m in \u001b[0;36mformat\u001b[0;34m(self, obj, include, exclude)\u001b[0m\n\u001b[1;32m    178\u001b[0m             \u001b[0mmd\u001b[0m \u001b[0;34m=\u001b[0m \u001b[0;32mNone\u001b[0m\u001b[0;34m\u001b[0m\u001b[0;34m\u001b[0m\u001b[0m\n\u001b[1;32m    179\u001b[0m             \u001b[0;32mtry\u001b[0m\u001b[0;34m:\u001b[0m\u001b[0;34m\u001b[0m\u001b[0;34m\u001b[0m\u001b[0m\n\u001b[0;32m--> 180\u001b[0;31m                 \u001b[0mdata\u001b[0m \u001b[0;34m=\u001b[0m \u001b[0mformatter\u001b[0m\u001b[0;34m(\u001b[0m\u001b[0mobj\u001b[0m\u001b[0;34m)\u001b[0m\u001b[0;34m\u001b[0m\u001b[0;34m\u001b[0m\u001b[0m\n\u001b[0m\u001b[1;32m    181\u001b[0m             \u001b[0;32mexcept\u001b[0m\u001b[0;34m:\u001b[0m\u001b[0;34m\u001b[0m\u001b[0;34m\u001b[0m\u001b[0m\n\u001b[1;32m    182\u001b[0m                 \u001b[0;31m# FIXME: log the exception\u001b[0m\u001b[0;34m\u001b[0m\u001b[0;34m\u001b[0m\u001b[0;34m\u001b[0m\u001b[0m\n",
      "\u001b[0;32m<decorator-gen-9>\u001b[0m in \u001b[0;36m__call__\u001b[0;34m(self, obj)\u001b[0m\n",
      "\u001b[0;32m/usr/local/lib/python3.6/dist-packages/IPython/core/formatters.py\u001b[0m in \u001b[0;36mcatch_format_error\u001b[0;34m(method, self, *args, **kwargs)\u001b[0m\n\u001b[1;32m    222\u001b[0m     \u001b[0;34m\"\"\"show traceback on failed format call\"\"\"\u001b[0m\u001b[0;34m\u001b[0m\u001b[0;34m\u001b[0m\u001b[0m\n\u001b[1;32m    223\u001b[0m     \u001b[0;32mtry\u001b[0m\u001b[0;34m:\u001b[0m\u001b[0;34m\u001b[0m\u001b[0;34m\u001b[0m\u001b[0m\n\u001b[0;32m--> 224\u001b[0;31m         \u001b[0mr\u001b[0m \u001b[0;34m=\u001b[0m \u001b[0mmethod\u001b[0m\u001b[0;34m(\u001b[0m\u001b[0mself\u001b[0m\u001b[0;34m,\u001b[0m \u001b[0;34m*\u001b[0m\u001b[0margs\u001b[0m\u001b[0;34m,\u001b[0m \u001b[0;34m**\u001b[0m\u001b[0mkwargs\u001b[0m\u001b[0;34m)\u001b[0m\u001b[0;34m\u001b[0m\u001b[0;34m\u001b[0m\u001b[0m\n\u001b[0m\u001b[1;32m    225\u001b[0m     \u001b[0;32mexcept\u001b[0m \u001b[0mNotImplementedError\u001b[0m\u001b[0;34m:\u001b[0m\u001b[0;34m\u001b[0m\u001b[0;34m\u001b[0m\u001b[0m\n\u001b[1;32m    226\u001b[0m         \u001b[0;31m# don't warn on NotImplementedErrors\u001b[0m\u001b[0;34m\u001b[0m\u001b[0;34m\u001b[0m\u001b[0;34m\u001b[0m\u001b[0m\n",
      "\u001b[0;32m/usr/local/lib/python3.6/dist-packages/IPython/core/formatters.py\u001b[0m in \u001b[0;36m__call__\u001b[0;34m(self, obj)\u001b[0m\n\u001b[1;32m    339\u001b[0m                 \u001b[0;32mpass\u001b[0m\u001b[0;34m\u001b[0m\u001b[0;34m\u001b[0m\u001b[0m\n\u001b[1;32m    340\u001b[0m             \u001b[0;32melse\u001b[0m\u001b[0;34m:\u001b[0m\u001b[0;34m\u001b[0m\u001b[0;34m\u001b[0m\u001b[0m\n\u001b[0;32m--> 341\u001b[0;31m                 \u001b[0;32mreturn\u001b[0m \u001b[0mprinter\u001b[0m\u001b[0;34m(\u001b[0m\u001b[0mobj\u001b[0m\u001b[0;34m)\u001b[0m\u001b[0;34m\u001b[0m\u001b[0;34m\u001b[0m\u001b[0m\n\u001b[0m\u001b[1;32m    342\u001b[0m             \u001b[0;31m# Finally look for special method names\u001b[0m\u001b[0;34m\u001b[0m\u001b[0;34m\u001b[0m\u001b[0;34m\u001b[0m\u001b[0m\n\u001b[1;32m    343\u001b[0m             \u001b[0mmethod\u001b[0m \u001b[0;34m=\u001b[0m \u001b[0mget_real_method\u001b[0m\u001b[0;34m(\u001b[0m\u001b[0mobj\u001b[0m\u001b[0;34m,\u001b[0m \u001b[0mself\u001b[0m\u001b[0;34m.\u001b[0m\u001b[0mprint_method\u001b[0m\u001b[0;34m)\u001b[0m\u001b[0;34m\u001b[0m\u001b[0;34m\u001b[0m\u001b[0m\n",
      "\u001b[0;32m/usr/local/lib/python3.6/dist-packages/IPython/core/pylabtools.py\u001b[0m in \u001b[0;36m<lambda>\u001b[0;34m(fig)\u001b[0m\n\u001b[1;32m    246\u001b[0m \u001b[0;34m\u001b[0m\u001b[0m\n\u001b[1;32m    247\u001b[0m     \u001b[0;32mif\u001b[0m \u001b[0;34m'png'\u001b[0m \u001b[0;32min\u001b[0m \u001b[0mformats\u001b[0m\u001b[0;34m:\u001b[0m\u001b[0;34m\u001b[0m\u001b[0;34m\u001b[0m\u001b[0m\n\u001b[0;32m--> 248\u001b[0;31m         \u001b[0mpng_formatter\u001b[0m\u001b[0;34m.\u001b[0m\u001b[0mfor_type\u001b[0m\u001b[0;34m(\u001b[0m\u001b[0mFigure\u001b[0m\u001b[0;34m,\u001b[0m \u001b[0;32mlambda\u001b[0m \u001b[0mfig\u001b[0m\u001b[0;34m:\u001b[0m \u001b[0mprint_figure\u001b[0m\u001b[0;34m(\u001b[0m\u001b[0mfig\u001b[0m\u001b[0;34m,\u001b[0m \u001b[0;34m'png'\u001b[0m\u001b[0;34m,\u001b[0m \u001b[0;34m**\u001b[0m\u001b[0mkwargs\u001b[0m\u001b[0;34m)\u001b[0m\u001b[0;34m)\u001b[0m\u001b[0;34m\u001b[0m\u001b[0;34m\u001b[0m\u001b[0m\n\u001b[0m\u001b[1;32m    249\u001b[0m     \u001b[0;32mif\u001b[0m \u001b[0;34m'retina'\u001b[0m \u001b[0;32min\u001b[0m \u001b[0mformats\u001b[0m \u001b[0;32mor\u001b[0m \u001b[0;34m'png2x'\u001b[0m \u001b[0;32min\u001b[0m \u001b[0mformats\u001b[0m\u001b[0;34m:\u001b[0m\u001b[0;34m\u001b[0m\u001b[0;34m\u001b[0m\u001b[0m\n\u001b[1;32m    250\u001b[0m         \u001b[0mpng_formatter\u001b[0m\u001b[0;34m.\u001b[0m\u001b[0mfor_type\u001b[0m\u001b[0;34m(\u001b[0m\u001b[0mFigure\u001b[0m\u001b[0;34m,\u001b[0m \u001b[0;32mlambda\u001b[0m \u001b[0mfig\u001b[0m\u001b[0;34m:\u001b[0m \u001b[0mretina_figure\u001b[0m\u001b[0;34m(\u001b[0m\u001b[0mfig\u001b[0m\u001b[0;34m,\u001b[0m \u001b[0;34m**\u001b[0m\u001b[0mkwargs\u001b[0m\u001b[0;34m)\u001b[0m\u001b[0;34m)\u001b[0m\u001b[0;34m\u001b[0m\u001b[0;34m\u001b[0m\u001b[0m\n",
      "\u001b[0;32m/usr/local/lib/python3.6/dist-packages/IPython/core/pylabtools.py\u001b[0m in \u001b[0;36mprint_figure\u001b[0;34m(fig, fmt, bbox_inches, **kwargs)\u001b[0m\n\u001b[1;32m    130\u001b[0m         \u001b[0mFigureCanvasBase\u001b[0m\u001b[0;34m(\u001b[0m\u001b[0mfig\u001b[0m\u001b[0;34m)\u001b[0m\u001b[0;34m\u001b[0m\u001b[0;34m\u001b[0m\u001b[0m\n\u001b[1;32m    131\u001b[0m \u001b[0;34m\u001b[0m\u001b[0m\n\u001b[0;32m--> 132\u001b[0;31m     \u001b[0mfig\u001b[0m\u001b[0;34m.\u001b[0m\u001b[0mcanvas\u001b[0m\u001b[0;34m.\u001b[0m\u001b[0mprint_figure\u001b[0m\u001b[0;34m(\u001b[0m\u001b[0mbytes_io\u001b[0m\u001b[0;34m,\u001b[0m \u001b[0;34m**\u001b[0m\u001b[0mkw\u001b[0m\u001b[0;34m)\u001b[0m\u001b[0;34m\u001b[0m\u001b[0;34m\u001b[0m\u001b[0m\n\u001b[0m\u001b[1;32m    133\u001b[0m     \u001b[0mdata\u001b[0m \u001b[0;34m=\u001b[0m \u001b[0mbytes_io\u001b[0m\u001b[0;34m.\u001b[0m\u001b[0mgetvalue\u001b[0m\u001b[0;34m(\u001b[0m\u001b[0;34m)\u001b[0m\u001b[0;34m\u001b[0m\u001b[0;34m\u001b[0m\u001b[0m\n\u001b[1;32m    134\u001b[0m     \u001b[0;32mif\u001b[0m \u001b[0mfmt\u001b[0m \u001b[0;34m==\u001b[0m \u001b[0;34m'svg'\u001b[0m\u001b[0;34m:\u001b[0m\u001b[0;34m\u001b[0m\u001b[0;34m\u001b[0m\u001b[0m\n",
      "\u001b[0;32m/usr/local/lib/python3.6/dist-packages/matplotlib/backend_bases.py\u001b[0m in \u001b[0;36mprint_figure\u001b[0;34m(self, filename, dpi, facecolor, edgecolor, orientation, format, bbox_inches, **kwargs)\u001b[0m\n\u001b[1;32m   2098\u001b[0m                            else suppress())\n\u001b[1;32m   2099\u001b[0m                     \u001b[0;32mwith\u001b[0m \u001b[0mctx\u001b[0m\u001b[0;34m:\u001b[0m\u001b[0;34m\u001b[0m\u001b[0;34m\u001b[0m\u001b[0m\n\u001b[0;32m-> 2100\u001b[0;31m                         \u001b[0mself\u001b[0m\u001b[0;34m.\u001b[0m\u001b[0mfigure\u001b[0m\u001b[0;34m.\u001b[0m\u001b[0mdraw\u001b[0m\u001b[0;34m(\u001b[0m\u001b[0mrenderer\u001b[0m\u001b[0;34m)\u001b[0m\u001b[0;34m\u001b[0m\u001b[0;34m\u001b[0m\u001b[0m\n\u001b[0m\u001b[1;32m   2101\u001b[0m                     \u001b[0mbbox_artists\u001b[0m \u001b[0;34m=\u001b[0m \u001b[0mkwargs\u001b[0m\u001b[0;34m.\u001b[0m\u001b[0mpop\u001b[0m\u001b[0;34m(\u001b[0m\u001b[0;34m\"bbox_extra_artists\"\u001b[0m\u001b[0;34m,\u001b[0m \u001b[0;32mNone\u001b[0m\u001b[0;34m)\u001b[0m\u001b[0;34m\u001b[0m\u001b[0;34m\u001b[0m\u001b[0m\n\u001b[1;32m   2102\u001b[0m                     bbox_inches = self.figure.get_tightbbox(renderer,\n",
      "\u001b[0;32m/usr/local/lib/python3.6/dist-packages/matplotlib/artist.py\u001b[0m in \u001b[0;36mdraw_wrapper\u001b[0;34m(artist, renderer, *args, **kwargs)\u001b[0m\n\u001b[1;32m     36\u001b[0m                 \u001b[0mrenderer\u001b[0m\u001b[0;34m.\u001b[0m\u001b[0mstart_filter\u001b[0m\u001b[0;34m(\u001b[0m\u001b[0;34m)\u001b[0m\u001b[0;34m\u001b[0m\u001b[0;34m\u001b[0m\u001b[0m\n\u001b[1;32m     37\u001b[0m \u001b[0;34m\u001b[0m\u001b[0m\n\u001b[0;32m---> 38\u001b[0;31m             \u001b[0;32mreturn\u001b[0m \u001b[0mdraw\u001b[0m\u001b[0;34m(\u001b[0m\u001b[0martist\u001b[0m\u001b[0;34m,\u001b[0m \u001b[0mrenderer\u001b[0m\u001b[0;34m,\u001b[0m \u001b[0;34m*\u001b[0m\u001b[0margs\u001b[0m\u001b[0;34m,\u001b[0m \u001b[0;34m**\u001b[0m\u001b[0mkwargs\u001b[0m\u001b[0;34m)\u001b[0m\u001b[0;34m\u001b[0m\u001b[0;34m\u001b[0m\u001b[0m\n\u001b[0m\u001b[1;32m     39\u001b[0m         \u001b[0;32mfinally\u001b[0m\u001b[0;34m:\u001b[0m\u001b[0;34m\u001b[0m\u001b[0;34m\u001b[0m\u001b[0m\n\u001b[1;32m     40\u001b[0m             \u001b[0;32mif\u001b[0m \u001b[0martist\u001b[0m\u001b[0;34m.\u001b[0m\u001b[0mget_agg_filter\u001b[0m\u001b[0;34m(\u001b[0m\u001b[0;34m)\u001b[0m \u001b[0;32mis\u001b[0m \u001b[0;32mnot\u001b[0m \u001b[0;32mNone\u001b[0m\u001b[0;34m:\u001b[0m\u001b[0;34m\u001b[0m\u001b[0;34m\u001b[0m\u001b[0m\n",
      "\u001b[0;32m/usr/local/lib/python3.6/dist-packages/matplotlib/figure.py\u001b[0m in \u001b[0;36mdraw\u001b[0;34m(self, renderer)\u001b[0m\n\u001b[1;32m   1734\u001b[0m             \u001b[0mself\u001b[0m\u001b[0;34m.\u001b[0m\u001b[0mpatch\u001b[0m\u001b[0;34m.\u001b[0m\u001b[0mdraw\u001b[0m\u001b[0;34m(\u001b[0m\u001b[0mrenderer\u001b[0m\u001b[0;34m)\u001b[0m\u001b[0;34m\u001b[0m\u001b[0;34m\u001b[0m\u001b[0m\n\u001b[1;32m   1735\u001b[0m             mimage._draw_list_compositing_images(\n\u001b[0;32m-> 1736\u001b[0;31m                 renderer, self, artists, self.suppressComposite)\n\u001b[0m\u001b[1;32m   1737\u001b[0m \u001b[0;34m\u001b[0m\u001b[0m\n\u001b[1;32m   1738\u001b[0m             \u001b[0mrenderer\u001b[0m\u001b[0;34m.\u001b[0m\u001b[0mclose_group\u001b[0m\u001b[0;34m(\u001b[0m\u001b[0;34m'figure'\u001b[0m\u001b[0;34m)\u001b[0m\u001b[0;34m\u001b[0m\u001b[0;34m\u001b[0m\u001b[0m\n",
      "\u001b[0;32m/usr/local/lib/python3.6/dist-packages/matplotlib/image.py\u001b[0m in \u001b[0;36m_draw_list_compositing_images\u001b[0;34m(renderer, parent, artists, suppress_composite)\u001b[0m\n\u001b[1;32m    135\u001b[0m     \u001b[0;32mif\u001b[0m \u001b[0mnot_composite\u001b[0m \u001b[0;32mor\u001b[0m \u001b[0;32mnot\u001b[0m \u001b[0mhas_images\u001b[0m\u001b[0;34m:\u001b[0m\u001b[0;34m\u001b[0m\u001b[0;34m\u001b[0m\u001b[0m\n\u001b[1;32m    136\u001b[0m         \u001b[0;32mfor\u001b[0m \u001b[0ma\u001b[0m \u001b[0;32min\u001b[0m \u001b[0martists\u001b[0m\u001b[0;34m:\u001b[0m\u001b[0;34m\u001b[0m\u001b[0;34m\u001b[0m\u001b[0m\n\u001b[0;32m--> 137\u001b[0;31m             \u001b[0ma\u001b[0m\u001b[0;34m.\u001b[0m\u001b[0mdraw\u001b[0m\u001b[0;34m(\u001b[0m\u001b[0mrenderer\u001b[0m\u001b[0;34m)\u001b[0m\u001b[0;34m\u001b[0m\u001b[0;34m\u001b[0m\u001b[0m\n\u001b[0m\u001b[1;32m    138\u001b[0m     \u001b[0;32melse\u001b[0m\u001b[0;34m:\u001b[0m\u001b[0;34m\u001b[0m\u001b[0;34m\u001b[0m\u001b[0m\n\u001b[1;32m    139\u001b[0m         \u001b[0;31m# Composite any adjacent images together\u001b[0m\u001b[0;34m\u001b[0m\u001b[0;34m\u001b[0m\u001b[0;34m\u001b[0m\u001b[0m\n",
      "\u001b[0;32m/usr/local/lib/python3.6/dist-packages/matplotlib/artist.py\u001b[0m in \u001b[0;36mdraw_wrapper\u001b[0;34m(artist, renderer, *args, **kwargs)\u001b[0m\n\u001b[1;32m     36\u001b[0m                 \u001b[0mrenderer\u001b[0m\u001b[0;34m.\u001b[0m\u001b[0mstart_filter\u001b[0m\u001b[0;34m(\u001b[0m\u001b[0;34m)\u001b[0m\u001b[0;34m\u001b[0m\u001b[0;34m\u001b[0m\u001b[0m\n\u001b[1;32m     37\u001b[0m \u001b[0;34m\u001b[0m\u001b[0m\n\u001b[0;32m---> 38\u001b[0;31m             \u001b[0;32mreturn\u001b[0m \u001b[0mdraw\u001b[0m\u001b[0;34m(\u001b[0m\u001b[0martist\u001b[0m\u001b[0;34m,\u001b[0m \u001b[0mrenderer\u001b[0m\u001b[0;34m,\u001b[0m \u001b[0;34m*\u001b[0m\u001b[0margs\u001b[0m\u001b[0;34m,\u001b[0m \u001b[0;34m**\u001b[0m\u001b[0mkwargs\u001b[0m\u001b[0;34m)\u001b[0m\u001b[0;34m\u001b[0m\u001b[0;34m\u001b[0m\u001b[0m\n\u001b[0m\u001b[1;32m     39\u001b[0m         \u001b[0;32mfinally\u001b[0m\u001b[0;34m:\u001b[0m\u001b[0;34m\u001b[0m\u001b[0;34m\u001b[0m\u001b[0m\n\u001b[1;32m     40\u001b[0m             \u001b[0;32mif\u001b[0m \u001b[0martist\u001b[0m\u001b[0;34m.\u001b[0m\u001b[0mget_agg_filter\u001b[0m\u001b[0;34m(\u001b[0m\u001b[0;34m)\u001b[0m \u001b[0;32mis\u001b[0m \u001b[0;32mnot\u001b[0m \u001b[0;32mNone\u001b[0m\u001b[0;34m:\u001b[0m\u001b[0;34m\u001b[0m\u001b[0;34m\u001b[0m\u001b[0m\n",
      "\u001b[0;32m/usr/local/lib/python3.6/dist-packages/mpl_toolkits/mplot3d/axes3d.py\u001b[0m in \u001b[0;36mdraw\u001b[0;34m(self, renderer)\u001b[0m\n\u001b[1;32m    291\u001b[0m                 sorted(self.collections,\n\u001b[1;32m    292\u001b[0m                        \u001b[0mkey\u001b[0m\u001b[0;34m=\u001b[0m\u001b[0;32mlambda\u001b[0m \u001b[0mcol\u001b[0m\u001b[0;34m:\u001b[0m \u001b[0mcol\u001b[0m\u001b[0;34m.\u001b[0m\u001b[0mdo_3d_projection\u001b[0m\u001b[0;34m(\u001b[0m\u001b[0mrenderer\u001b[0m\u001b[0;34m)\u001b[0m\u001b[0;34m,\u001b[0m\u001b[0;34m\u001b[0m\u001b[0;34m\u001b[0m\u001b[0m\n\u001b[0;32m--> 293\u001b[0;31m                        reverse=True)):\n\u001b[0m\u001b[1;32m    294\u001b[0m             \u001b[0mcol\u001b[0m\u001b[0;34m.\u001b[0m\u001b[0mzorder\u001b[0m \u001b[0;34m=\u001b[0m \u001b[0mzorder_offset\u001b[0m \u001b[0;34m+\u001b[0m \u001b[0mi\u001b[0m\u001b[0;34m\u001b[0m\u001b[0;34m\u001b[0m\u001b[0m\n\u001b[1;32m    295\u001b[0m         for i, patch in enumerate(\n",
      "\u001b[0;32m/usr/local/lib/python3.6/dist-packages/mpl_toolkits/mplot3d/axes3d.py\u001b[0m in \u001b[0;36m<lambda>\u001b[0;34m(col)\u001b[0m\n\u001b[1;32m    290\u001b[0m         for i, col in enumerate(\n\u001b[1;32m    291\u001b[0m                 sorted(self.collections,\n\u001b[0;32m--> 292\u001b[0;31m                        \u001b[0mkey\u001b[0m\u001b[0;34m=\u001b[0m\u001b[0;32mlambda\u001b[0m \u001b[0mcol\u001b[0m\u001b[0;34m:\u001b[0m \u001b[0mcol\u001b[0m\u001b[0;34m.\u001b[0m\u001b[0mdo_3d_projection\u001b[0m\u001b[0;34m(\u001b[0m\u001b[0mrenderer\u001b[0m\u001b[0;34m)\u001b[0m\u001b[0;34m,\u001b[0m\u001b[0;34m\u001b[0m\u001b[0;34m\u001b[0m\u001b[0m\n\u001b[0m\u001b[1;32m    293\u001b[0m                        reverse=True)):\n\u001b[1;32m    294\u001b[0m             \u001b[0mcol\u001b[0m\u001b[0;34m.\u001b[0m\u001b[0mzorder\u001b[0m \u001b[0;34m=\u001b[0m \u001b[0mzorder_offset\u001b[0m \u001b[0;34m+\u001b[0m \u001b[0mi\u001b[0m\u001b[0;34m\u001b[0m\u001b[0;34m\u001b[0m\u001b[0m\n",
      "\u001b[0;32m/usr/local/lib/python3.6/dist-packages/mpl_toolkits/mplot3d/art3d.py\u001b[0m in \u001b[0;36mdo_3d_projection\u001b[0;34m(self, renderer)\u001b[0m\n\u001b[1;32m    719\u001b[0m              \u001b[0;32mfor\u001b[0m \u001b[0midx\u001b[0m\u001b[0;34m,\u001b[0m \u001b[0;34m(\u001b[0m\u001b[0;34m(\u001b[0m\u001b[0mxs\u001b[0m\u001b[0;34m,\u001b[0m \u001b[0mys\u001b[0m\u001b[0;34m,\u001b[0m \u001b[0mzs\u001b[0m\u001b[0;34m)\u001b[0m\u001b[0;34m,\u001b[0m \u001b[0mfc\u001b[0m\u001b[0;34m,\u001b[0m \u001b[0mec\u001b[0m\u001b[0;34m)\u001b[0m\u001b[0;34m\u001b[0m\u001b[0;34m\u001b[0m\u001b[0m\n\u001b[1;32m    720\u001b[0m              in enumerate(zip(xyzlist, cface, cedge))),\n\u001b[0;32m--> 721\u001b[0;31m             key=lambda x: x[0], reverse=True)\n\u001b[0m\u001b[1;32m    722\u001b[0m \u001b[0;34m\u001b[0m\u001b[0m\n\u001b[1;32m    723\u001b[0m         \u001b[0msegments_2d\u001b[0m \u001b[0;34m=\u001b[0m \u001b[0;34m[\u001b[0m\u001b[0ms\u001b[0m \u001b[0;32mfor\u001b[0m \u001b[0mz\u001b[0m\u001b[0;34m,\u001b[0m \u001b[0ms\u001b[0m\u001b[0;34m,\u001b[0m \u001b[0mfc\u001b[0m\u001b[0;34m,\u001b[0m \u001b[0mec\u001b[0m\u001b[0;34m,\u001b[0m \u001b[0midx\u001b[0m \u001b[0;32min\u001b[0m \u001b[0mz_segments_2d\u001b[0m\u001b[0;34m]\u001b[0m\u001b[0;34m\u001b[0m\u001b[0;34m\u001b[0m\u001b[0m\n",
      "\u001b[0;32m/usr/local/lib/python3.6/dist-packages/mpl_toolkits/mplot3d/art3d.py\u001b[0m in \u001b[0;36m<genexpr>\u001b[0;34m(.0)\u001b[0m\n\u001b[1;32m    717\u001b[0m         z_segments_2d = sorted(\n\u001b[1;32m    718\u001b[0m             ((self._zsortfunc(zs), np.column_stack([xs, ys]), fc, ec, idx)\n\u001b[0;32m--> 719\u001b[0;31m              \u001b[0;32mfor\u001b[0m \u001b[0midx\u001b[0m\u001b[0;34m,\u001b[0m \u001b[0;34m(\u001b[0m\u001b[0;34m(\u001b[0m\u001b[0mxs\u001b[0m\u001b[0;34m,\u001b[0m \u001b[0mys\u001b[0m\u001b[0;34m,\u001b[0m \u001b[0mzs\u001b[0m\u001b[0;34m)\u001b[0m\u001b[0;34m,\u001b[0m \u001b[0mfc\u001b[0m\u001b[0;34m,\u001b[0m \u001b[0mec\u001b[0m\u001b[0;34m)\u001b[0m\u001b[0;34m\u001b[0m\u001b[0;34m\u001b[0m\u001b[0m\n\u001b[0m\u001b[1;32m    720\u001b[0m              in enumerate(zip(xyzlist, cface, cedge))),\n\u001b[1;32m    721\u001b[0m             key=lambda x: x[0], reverse=True)\n",
      "\u001b[0;32m<__array_function__ internals>\u001b[0m in \u001b[0;36maverage\u001b[0;34m(*args, **kwargs)\u001b[0m\n",
      "\u001b[0;32m/usr/local/lib/python3.6/dist-packages/numpy/lib/function_base.py\u001b[0m in \u001b[0;36maverage\u001b[0;34m(a, axis, weights, returned)\u001b[0m\n\u001b[1;32m    378\u001b[0m \u001b[0;34m\u001b[0m\u001b[0m\n\u001b[1;32m    379\u001b[0m     \u001b[0;32mif\u001b[0m \u001b[0mweights\u001b[0m \u001b[0;32mis\u001b[0m \u001b[0;32mNone\u001b[0m\u001b[0;34m:\u001b[0m\u001b[0;34m\u001b[0m\u001b[0;34m\u001b[0m\u001b[0m\n\u001b[0;32m--> 380\u001b[0;31m         \u001b[0mavg\u001b[0m \u001b[0;34m=\u001b[0m \u001b[0ma\u001b[0m\u001b[0;34m.\u001b[0m\u001b[0mmean\u001b[0m\u001b[0;34m(\u001b[0m\u001b[0maxis\u001b[0m\u001b[0;34m)\u001b[0m\u001b[0;34m\u001b[0m\u001b[0;34m\u001b[0m\u001b[0m\n\u001b[0m\u001b[1;32m    381\u001b[0m         \u001b[0mscl\u001b[0m \u001b[0;34m=\u001b[0m \u001b[0mavg\u001b[0m\u001b[0;34m.\u001b[0m\u001b[0mdtype\u001b[0m\u001b[0;34m.\u001b[0m\u001b[0mtype\u001b[0m\u001b[0;34m(\u001b[0m\u001b[0ma\u001b[0m\u001b[0;34m.\u001b[0m\u001b[0msize\u001b[0m\u001b[0;34m/\u001b[0m\u001b[0mavg\u001b[0m\u001b[0;34m.\u001b[0m\u001b[0msize\u001b[0m\u001b[0;34m)\u001b[0m\u001b[0;34m\u001b[0m\u001b[0;34m\u001b[0m\u001b[0m\n\u001b[1;32m    382\u001b[0m     \u001b[0;32melse\u001b[0m\u001b[0;34m:\u001b[0m\u001b[0;34m\u001b[0m\u001b[0;34m\u001b[0m\u001b[0m\n",
      "\u001b[0;32m/usr/local/lib/python3.6/dist-packages/numpy/core/_methods.py\u001b[0m in \u001b[0;36m_mean\u001b[0;34m(a, axis, dtype, out, keepdims)\u001b[0m\n\u001b[1;32m    168\u001b[0m             \u001b[0mret\u001b[0m \u001b[0;34m=\u001b[0m \u001b[0marr\u001b[0m\u001b[0;34m.\u001b[0m\u001b[0mdtype\u001b[0m\u001b[0;34m.\u001b[0m\u001b[0mtype\u001b[0m\u001b[0;34m(\u001b[0m\u001b[0mret\u001b[0m \u001b[0;34m/\u001b[0m \u001b[0mrcount\u001b[0m\u001b[0;34m)\u001b[0m\u001b[0;34m\u001b[0m\u001b[0;34m\u001b[0m\u001b[0m\n\u001b[1;32m    169\u001b[0m         \u001b[0;32melse\u001b[0m\u001b[0;34m:\u001b[0m\u001b[0;34m\u001b[0m\u001b[0;34m\u001b[0m\u001b[0m\n\u001b[0;32m--> 170\u001b[0;31m             \u001b[0mret\u001b[0m \u001b[0;34m=\u001b[0m \u001b[0mret\u001b[0m\u001b[0;34m.\u001b[0m\u001b[0mdtype\u001b[0m\u001b[0;34m.\u001b[0m\u001b[0mtype\u001b[0m\u001b[0;34m(\u001b[0m\u001b[0mret\u001b[0m \u001b[0;34m/\u001b[0m \u001b[0mrcount\u001b[0m\u001b[0;34m)\u001b[0m\u001b[0;34m\u001b[0m\u001b[0;34m\u001b[0m\u001b[0m\n\u001b[0m\u001b[1;32m    171\u001b[0m     \u001b[0;32melse\u001b[0m\u001b[0;34m:\u001b[0m\u001b[0;34m\u001b[0m\u001b[0;34m\u001b[0m\u001b[0m\n\u001b[1;32m    172\u001b[0m         \u001b[0mret\u001b[0m \u001b[0;34m=\u001b[0m \u001b[0mret\u001b[0m \u001b[0;34m/\u001b[0m \u001b[0mrcount\u001b[0m\u001b[0;34m\u001b[0m\u001b[0;34m\u001b[0m\u001b[0m\n",
      "\u001b[0;31mKeyboardInterrupt\u001b[0m: "
     ]
    }
   ],
   "source": [
    "import neurom as nm\n",
    "from neurom import viewer\n",
    "from neurom.view import view\n",
    "from neurom.view.common import update_plot_limits\n",
    "import matplotlib.pyplot as plt\n",
    "\n",
    "#Get Neuron Path, Load Neuron Morphology, Extract Neurites from Neuron object\n",
    "nrn = 'morph_03.swc'\n",
    "neuron = nm.load_neuron(nrn)\n",
    "neurites = neuron.neurites\n",
    "\n",
    "# Create Figure to include all subplots\n",
    "fig = plt.figure(figsize=(10, 40))\n",
    "\n",
    "# Plot neuron in 3D in a subplot\n",
    "axes = fig.add_subplot(12, 2, (1,4), projection='3d') # Add to the last subplot\n",
    "nm.viewer.plot_neuron3d(axes, neuron)\n",
    "axes.set_ylim((-1000, 1000))\n",
    "axes.set_xlim((-1000, 1000))\n",
    "axes.set_zlim(-200,200)\n",
    "axes.set_title('3D')\n",
    "\n",
    "# Plot Neuron in 2D in 3 planes\n",
    "planes = ['xy', 'xz', 'yz']\n",
    "for i, plane in enumerate(planes):\n",
    "    axes = fig.add_subplot(12, 2, i+5)\n",
    "    nm.viewer.plot_neuron(axes, neuron, plane=plane)\n",
    "    axes.set_ylim((-500, 500))\n",
    "    axes.set_xlim((-1000, 1000))\n",
    "    axes.set_title(str(plane))\n",
    "\n",
    "# Plot Neurites separately\n",
    "for i, neurite in enumerate(neurites):\n",
    "    current_axes = fig.add_subplot(12, 2, i+8)\n",
    "    view.plot_tree(current_axes, neurite, plane='xy')\n",
    "    update_plot_limits(current_axes, white_space=10)\n",
    "    current_axes.set_title(str(neurite.type).split('.')[1])\n",
    "\n",
    "# set a global title for the figure\n",
    "fig.suptitle(neuron.name, y=1, fontsize=20)\n",
    "fig.tight_layout()"
   ]
  },
  {
   "cell_type": "code",
   "execution_count": 36,
   "metadata": {
    "collapsed": true,
    "jupyter": {
     "outputs_hidden": true
    }
   },
   "outputs": [
    {
     "name": "stdout",
     "output_type": "stream",
     "text": [
      "Error in callback <function flush_figures at 0x7fe145784950> (for post_execute):\n"
     ]
    },
    {
     "ename": "KeyboardInterrupt",
     "evalue": "",
     "output_type": "error",
     "traceback": [
      "\u001b[0;31m---------------------------------------------------------------------------\u001b[0m",
      "\u001b[0;31mKeyboardInterrupt\u001b[0m                         Traceback (most recent call last)",
      "\u001b[0;32m/usr/local/lib/python3.6/dist-packages/ipykernel/pylab/backend_inline.py\u001b[0m in \u001b[0;36mflush_figures\u001b[0;34m()\u001b[0m\n\u001b[1;32m    118\u001b[0m         \u001b[0;31m# ignore the tracking, just draw and close all figures\u001b[0m\u001b[0;34m\u001b[0m\u001b[0;34m\u001b[0m\u001b[0;34m\u001b[0m\u001b[0m\n\u001b[1;32m    119\u001b[0m         \u001b[0;32mtry\u001b[0m\u001b[0;34m:\u001b[0m\u001b[0;34m\u001b[0m\u001b[0;34m\u001b[0m\u001b[0m\n\u001b[0;32m--> 120\u001b[0;31m             \u001b[0;32mreturn\u001b[0m \u001b[0mshow\u001b[0m\u001b[0;34m(\u001b[0m\u001b[0;32mTrue\u001b[0m\u001b[0;34m)\u001b[0m\u001b[0;34m\u001b[0m\u001b[0;34m\u001b[0m\u001b[0m\n\u001b[0m\u001b[1;32m    121\u001b[0m         \u001b[0;32mexcept\u001b[0m \u001b[0mException\u001b[0m \u001b[0;32mas\u001b[0m \u001b[0me\u001b[0m\u001b[0;34m:\u001b[0m\u001b[0;34m\u001b[0m\u001b[0;34m\u001b[0m\u001b[0m\n\u001b[1;32m    122\u001b[0m             \u001b[0;31m# safely show traceback if in IPython, else raise\u001b[0m\u001b[0;34m\u001b[0m\u001b[0;34m\u001b[0m\u001b[0;34m\u001b[0m\u001b[0m\n",
      "\u001b[0;32m/usr/local/lib/python3.6/dist-packages/ipykernel/pylab/backend_inline.py\u001b[0m in \u001b[0;36mshow\u001b[0;34m(close, block)\u001b[0m\n\u001b[1;32m     40\u001b[0m             display(\n\u001b[1;32m     41\u001b[0m                 \u001b[0mfigure_manager\u001b[0m\u001b[0;34m.\u001b[0m\u001b[0mcanvas\u001b[0m\u001b[0;34m.\u001b[0m\u001b[0mfigure\u001b[0m\u001b[0;34m,\u001b[0m\u001b[0;34m\u001b[0m\u001b[0;34m\u001b[0m\u001b[0m\n\u001b[0;32m---> 42\u001b[0;31m                 \u001b[0mmetadata\u001b[0m\u001b[0;34m=\u001b[0m\u001b[0m_fetch_figure_metadata\u001b[0m\u001b[0;34m(\u001b[0m\u001b[0mfigure_manager\u001b[0m\u001b[0;34m.\u001b[0m\u001b[0mcanvas\u001b[0m\u001b[0;34m.\u001b[0m\u001b[0mfigure\u001b[0m\u001b[0;34m)\u001b[0m\u001b[0;34m\u001b[0m\u001b[0;34m\u001b[0m\u001b[0m\n\u001b[0m\u001b[1;32m     43\u001b[0m             )\n\u001b[1;32m     44\u001b[0m     \u001b[0;32mfinally\u001b[0m\u001b[0;34m:\u001b[0m\u001b[0;34m\u001b[0m\u001b[0;34m\u001b[0m\u001b[0m\n",
      "\u001b[0;32m/usr/local/lib/python3.6/dist-packages/IPython/core/display.py\u001b[0m in \u001b[0;36mdisplay\u001b[0;34m(include, exclude, metadata, transient, display_id, *objs, **kwargs)\u001b[0m\n\u001b[1;32m    311\u001b[0m             \u001b[0mpublish_display_data\u001b[0m\u001b[0;34m(\u001b[0m\u001b[0mdata\u001b[0m\u001b[0;34m=\u001b[0m\u001b[0mobj\u001b[0m\u001b[0;34m,\u001b[0m \u001b[0mmetadata\u001b[0m\u001b[0;34m=\u001b[0m\u001b[0mmetadata\u001b[0m\u001b[0;34m,\u001b[0m \u001b[0;34m**\u001b[0m\u001b[0mkwargs\u001b[0m\u001b[0;34m)\u001b[0m\u001b[0;34m\u001b[0m\u001b[0;34m\u001b[0m\u001b[0m\n\u001b[1;32m    312\u001b[0m         \u001b[0;32melse\u001b[0m\u001b[0;34m:\u001b[0m\u001b[0;34m\u001b[0m\u001b[0;34m\u001b[0m\u001b[0m\n\u001b[0;32m--> 313\u001b[0;31m             \u001b[0mformat_dict\u001b[0m\u001b[0;34m,\u001b[0m \u001b[0mmd_dict\u001b[0m \u001b[0;34m=\u001b[0m \u001b[0mformat\u001b[0m\u001b[0;34m(\u001b[0m\u001b[0mobj\u001b[0m\u001b[0;34m,\u001b[0m \u001b[0minclude\u001b[0m\u001b[0;34m=\u001b[0m\u001b[0minclude\u001b[0m\u001b[0;34m,\u001b[0m \u001b[0mexclude\u001b[0m\u001b[0;34m=\u001b[0m\u001b[0mexclude\u001b[0m\u001b[0;34m)\u001b[0m\u001b[0;34m\u001b[0m\u001b[0;34m\u001b[0m\u001b[0m\n\u001b[0m\u001b[1;32m    314\u001b[0m             \u001b[0;32mif\u001b[0m \u001b[0;32mnot\u001b[0m \u001b[0mformat_dict\u001b[0m\u001b[0;34m:\u001b[0m\u001b[0;34m\u001b[0m\u001b[0;34m\u001b[0m\u001b[0m\n\u001b[1;32m    315\u001b[0m                 \u001b[0;31m# nothing to display (e.g. _ipython_display_ took over)\u001b[0m\u001b[0;34m\u001b[0m\u001b[0;34m\u001b[0m\u001b[0;34m\u001b[0m\u001b[0m\n",
      "\u001b[0;32m/usr/local/lib/python3.6/dist-packages/IPython/core/formatters.py\u001b[0m in \u001b[0;36mformat\u001b[0;34m(self, obj, include, exclude)\u001b[0m\n\u001b[1;32m    178\u001b[0m             \u001b[0mmd\u001b[0m \u001b[0;34m=\u001b[0m \u001b[0;32mNone\u001b[0m\u001b[0;34m\u001b[0m\u001b[0;34m\u001b[0m\u001b[0m\n\u001b[1;32m    179\u001b[0m             \u001b[0;32mtry\u001b[0m\u001b[0;34m:\u001b[0m\u001b[0;34m\u001b[0m\u001b[0;34m\u001b[0m\u001b[0m\n\u001b[0;32m--> 180\u001b[0;31m                 \u001b[0mdata\u001b[0m \u001b[0;34m=\u001b[0m \u001b[0mformatter\u001b[0m\u001b[0;34m(\u001b[0m\u001b[0mobj\u001b[0m\u001b[0;34m)\u001b[0m\u001b[0;34m\u001b[0m\u001b[0;34m\u001b[0m\u001b[0m\n\u001b[0m\u001b[1;32m    181\u001b[0m             \u001b[0;32mexcept\u001b[0m\u001b[0;34m:\u001b[0m\u001b[0;34m\u001b[0m\u001b[0;34m\u001b[0m\u001b[0m\n\u001b[1;32m    182\u001b[0m                 \u001b[0;31m# FIXME: log the exception\u001b[0m\u001b[0;34m\u001b[0m\u001b[0;34m\u001b[0m\u001b[0;34m\u001b[0m\u001b[0m\n",
      "\u001b[0;32m<decorator-gen-9>\u001b[0m in \u001b[0;36m__call__\u001b[0;34m(self, obj)\u001b[0m\n",
      "\u001b[0;32m/usr/local/lib/python3.6/dist-packages/IPython/core/formatters.py\u001b[0m in \u001b[0;36mcatch_format_error\u001b[0;34m(method, self, *args, **kwargs)\u001b[0m\n\u001b[1;32m    222\u001b[0m     \u001b[0;34m\"\"\"show traceback on failed format call\"\"\"\u001b[0m\u001b[0;34m\u001b[0m\u001b[0;34m\u001b[0m\u001b[0m\n\u001b[1;32m    223\u001b[0m     \u001b[0;32mtry\u001b[0m\u001b[0;34m:\u001b[0m\u001b[0;34m\u001b[0m\u001b[0;34m\u001b[0m\u001b[0m\n\u001b[0;32m--> 224\u001b[0;31m         \u001b[0mr\u001b[0m \u001b[0;34m=\u001b[0m \u001b[0mmethod\u001b[0m\u001b[0;34m(\u001b[0m\u001b[0mself\u001b[0m\u001b[0;34m,\u001b[0m \u001b[0;34m*\u001b[0m\u001b[0margs\u001b[0m\u001b[0;34m,\u001b[0m \u001b[0;34m**\u001b[0m\u001b[0mkwargs\u001b[0m\u001b[0;34m)\u001b[0m\u001b[0;34m\u001b[0m\u001b[0;34m\u001b[0m\u001b[0m\n\u001b[0m\u001b[1;32m    225\u001b[0m     \u001b[0;32mexcept\u001b[0m \u001b[0mNotImplementedError\u001b[0m\u001b[0;34m:\u001b[0m\u001b[0;34m\u001b[0m\u001b[0;34m\u001b[0m\u001b[0m\n\u001b[1;32m    226\u001b[0m         \u001b[0;31m# don't warn on NotImplementedErrors\u001b[0m\u001b[0;34m\u001b[0m\u001b[0;34m\u001b[0m\u001b[0;34m\u001b[0m\u001b[0m\n",
      "\u001b[0;32m/usr/local/lib/python3.6/dist-packages/IPython/core/formatters.py\u001b[0m in \u001b[0;36m__call__\u001b[0;34m(self, obj)\u001b[0m\n\u001b[1;32m    339\u001b[0m                 \u001b[0;32mpass\u001b[0m\u001b[0;34m\u001b[0m\u001b[0;34m\u001b[0m\u001b[0m\n\u001b[1;32m    340\u001b[0m             \u001b[0;32melse\u001b[0m\u001b[0;34m:\u001b[0m\u001b[0;34m\u001b[0m\u001b[0;34m\u001b[0m\u001b[0m\n\u001b[0;32m--> 341\u001b[0;31m                 \u001b[0;32mreturn\u001b[0m \u001b[0mprinter\u001b[0m\u001b[0;34m(\u001b[0m\u001b[0mobj\u001b[0m\u001b[0;34m)\u001b[0m\u001b[0;34m\u001b[0m\u001b[0;34m\u001b[0m\u001b[0m\n\u001b[0m\u001b[1;32m    342\u001b[0m             \u001b[0;31m# Finally look for special method names\u001b[0m\u001b[0;34m\u001b[0m\u001b[0;34m\u001b[0m\u001b[0;34m\u001b[0m\u001b[0m\n\u001b[1;32m    343\u001b[0m             \u001b[0mmethod\u001b[0m \u001b[0;34m=\u001b[0m \u001b[0mget_real_method\u001b[0m\u001b[0;34m(\u001b[0m\u001b[0mobj\u001b[0m\u001b[0;34m,\u001b[0m \u001b[0mself\u001b[0m\u001b[0;34m.\u001b[0m\u001b[0mprint_method\u001b[0m\u001b[0;34m)\u001b[0m\u001b[0;34m\u001b[0m\u001b[0;34m\u001b[0m\u001b[0m\n",
      "\u001b[0;32m/usr/local/lib/python3.6/dist-packages/IPython/core/pylabtools.py\u001b[0m in \u001b[0;36m<lambda>\u001b[0;34m(fig)\u001b[0m\n\u001b[1;32m    246\u001b[0m \u001b[0;34m\u001b[0m\u001b[0m\n\u001b[1;32m    247\u001b[0m     \u001b[0;32mif\u001b[0m \u001b[0;34m'png'\u001b[0m \u001b[0;32min\u001b[0m \u001b[0mformats\u001b[0m\u001b[0;34m:\u001b[0m\u001b[0;34m\u001b[0m\u001b[0;34m\u001b[0m\u001b[0m\n\u001b[0;32m--> 248\u001b[0;31m         \u001b[0mpng_formatter\u001b[0m\u001b[0;34m.\u001b[0m\u001b[0mfor_type\u001b[0m\u001b[0;34m(\u001b[0m\u001b[0mFigure\u001b[0m\u001b[0;34m,\u001b[0m \u001b[0;32mlambda\u001b[0m \u001b[0mfig\u001b[0m\u001b[0;34m:\u001b[0m \u001b[0mprint_figure\u001b[0m\u001b[0;34m(\u001b[0m\u001b[0mfig\u001b[0m\u001b[0;34m,\u001b[0m \u001b[0;34m'png'\u001b[0m\u001b[0;34m,\u001b[0m \u001b[0;34m**\u001b[0m\u001b[0mkwargs\u001b[0m\u001b[0;34m)\u001b[0m\u001b[0;34m)\u001b[0m\u001b[0;34m\u001b[0m\u001b[0;34m\u001b[0m\u001b[0m\n\u001b[0m\u001b[1;32m    249\u001b[0m     \u001b[0;32mif\u001b[0m \u001b[0;34m'retina'\u001b[0m \u001b[0;32min\u001b[0m \u001b[0mformats\u001b[0m \u001b[0;32mor\u001b[0m \u001b[0;34m'png2x'\u001b[0m \u001b[0;32min\u001b[0m \u001b[0mformats\u001b[0m\u001b[0;34m:\u001b[0m\u001b[0;34m\u001b[0m\u001b[0;34m\u001b[0m\u001b[0m\n\u001b[1;32m    250\u001b[0m         \u001b[0mpng_formatter\u001b[0m\u001b[0;34m.\u001b[0m\u001b[0mfor_type\u001b[0m\u001b[0;34m(\u001b[0m\u001b[0mFigure\u001b[0m\u001b[0;34m,\u001b[0m \u001b[0;32mlambda\u001b[0m \u001b[0mfig\u001b[0m\u001b[0;34m:\u001b[0m \u001b[0mretina_figure\u001b[0m\u001b[0;34m(\u001b[0m\u001b[0mfig\u001b[0m\u001b[0;34m,\u001b[0m \u001b[0;34m**\u001b[0m\u001b[0mkwargs\u001b[0m\u001b[0;34m)\u001b[0m\u001b[0;34m)\u001b[0m\u001b[0;34m\u001b[0m\u001b[0;34m\u001b[0m\u001b[0m\n",
      "\u001b[0;32m/usr/local/lib/python3.6/dist-packages/IPython/core/pylabtools.py\u001b[0m in \u001b[0;36mprint_figure\u001b[0;34m(fig, fmt, bbox_inches, **kwargs)\u001b[0m\n\u001b[1;32m    130\u001b[0m         \u001b[0mFigureCanvasBase\u001b[0m\u001b[0;34m(\u001b[0m\u001b[0mfig\u001b[0m\u001b[0;34m)\u001b[0m\u001b[0;34m\u001b[0m\u001b[0;34m\u001b[0m\u001b[0m\n\u001b[1;32m    131\u001b[0m \u001b[0;34m\u001b[0m\u001b[0m\n\u001b[0;32m--> 132\u001b[0;31m     \u001b[0mfig\u001b[0m\u001b[0;34m.\u001b[0m\u001b[0mcanvas\u001b[0m\u001b[0;34m.\u001b[0m\u001b[0mprint_figure\u001b[0m\u001b[0;34m(\u001b[0m\u001b[0mbytes_io\u001b[0m\u001b[0;34m,\u001b[0m \u001b[0;34m**\u001b[0m\u001b[0mkw\u001b[0m\u001b[0;34m)\u001b[0m\u001b[0;34m\u001b[0m\u001b[0;34m\u001b[0m\u001b[0m\n\u001b[0m\u001b[1;32m    133\u001b[0m     \u001b[0mdata\u001b[0m \u001b[0;34m=\u001b[0m \u001b[0mbytes_io\u001b[0m\u001b[0;34m.\u001b[0m\u001b[0mgetvalue\u001b[0m\u001b[0;34m(\u001b[0m\u001b[0;34m)\u001b[0m\u001b[0;34m\u001b[0m\u001b[0;34m\u001b[0m\u001b[0m\n\u001b[1;32m    134\u001b[0m     \u001b[0;32mif\u001b[0m \u001b[0mfmt\u001b[0m \u001b[0;34m==\u001b[0m \u001b[0;34m'svg'\u001b[0m\u001b[0;34m:\u001b[0m\u001b[0;34m\u001b[0m\u001b[0;34m\u001b[0m\u001b[0m\n",
      "\u001b[0;32m/usr/local/lib/python3.6/dist-packages/matplotlib/backend_bases.py\u001b[0m in \u001b[0;36mprint_figure\u001b[0;34m(self, filename, dpi, facecolor, edgecolor, orientation, format, bbox_inches, **kwargs)\u001b[0m\n\u001b[1;32m   2098\u001b[0m                            else suppress())\n\u001b[1;32m   2099\u001b[0m                     \u001b[0;32mwith\u001b[0m \u001b[0mctx\u001b[0m\u001b[0;34m:\u001b[0m\u001b[0;34m\u001b[0m\u001b[0;34m\u001b[0m\u001b[0m\n\u001b[0;32m-> 2100\u001b[0;31m                         \u001b[0mself\u001b[0m\u001b[0;34m.\u001b[0m\u001b[0mfigure\u001b[0m\u001b[0;34m.\u001b[0m\u001b[0mdraw\u001b[0m\u001b[0;34m(\u001b[0m\u001b[0mrenderer\u001b[0m\u001b[0;34m)\u001b[0m\u001b[0;34m\u001b[0m\u001b[0;34m\u001b[0m\u001b[0m\n\u001b[0m\u001b[1;32m   2101\u001b[0m                     \u001b[0mbbox_artists\u001b[0m \u001b[0;34m=\u001b[0m \u001b[0mkwargs\u001b[0m\u001b[0;34m.\u001b[0m\u001b[0mpop\u001b[0m\u001b[0;34m(\u001b[0m\u001b[0;34m\"bbox_extra_artists\"\u001b[0m\u001b[0;34m,\u001b[0m \u001b[0;32mNone\u001b[0m\u001b[0;34m)\u001b[0m\u001b[0;34m\u001b[0m\u001b[0;34m\u001b[0m\u001b[0m\n\u001b[1;32m   2102\u001b[0m                     bbox_inches = self.figure.get_tightbbox(renderer,\n",
      "\u001b[0;32m/usr/local/lib/python3.6/dist-packages/matplotlib/artist.py\u001b[0m in \u001b[0;36mdraw_wrapper\u001b[0;34m(artist, renderer, *args, **kwargs)\u001b[0m\n\u001b[1;32m     36\u001b[0m                 \u001b[0mrenderer\u001b[0m\u001b[0;34m.\u001b[0m\u001b[0mstart_filter\u001b[0m\u001b[0;34m(\u001b[0m\u001b[0;34m)\u001b[0m\u001b[0;34m\u001b[0m\u001b[0;34m\u001b[0m\u001b[0m\n\u001b[1;32m     37\u001b[0m \u001b[0;34m\u001b[0m\u001b[0m\n\u001b[0;32m---> 38\u001b[0;31m             \u001b[0;32mreturn\u001b[0m \u001b[0mdraw\u001b[0m\u001b[0;34m(\u001b[0m\u001b[0martist\u001b[0m\u001b[0;34m,\u001b[0m \u001b[0mrenderer\u001b[0m\u001b[0;34m,\u001b[0m \u001b[0;34m*\u001b[0m\u001b[0margs\u001b[0m\u001b[0;34m,\u001b[0m \u001b[0;34m**\u001b[0m\u001b[0mkwargs\u001b[0m\u001b[0;34m)\u001b[0m\u001b[0;34m\u001b[0m\u001b[0;34m\u001b[0m\u001b[0m\n\u001b[0m\u001b[1;32m     39\u001b[0m         \u001b[0;32mfinally\u001b[0m\u001b[0;34m:\u001b[0m\u001b[0;34m\u001b[0m\u001b[0;34m\u001b[0m\u001b[0m\n\u001b[1;32m     40\u001b[0m             \u001b[0;32mif\u001b[0m \u001b[0martist\u001b[0m\u001b[0;34m.\u001b[0m\u001b[0mget_agg_filter\u001b[0m\u001b[0;34m(\u001b[0m\u001b[0;34m)\u001b[0m \u001b[0;32mis\u001b[0m \u001b[0;32mnot\u001b[0m \u001b[0;32mNone\u001b[0m\u001b[0;34m:\u001b[0m\u001b[0;34m\u001b[0m\u001b[0;34m\u001b[0m\u001b[0m\n",
      "\u001b[0;32m/usr/local/lib/python3.6/dist-packages/matplotlib/figure.py\u001b[0m in \u001b[0;36mdraw\u001b[0;34m(self, renderer)\u001b[0m\n\u001b[1;32m   1734\u001b[0m             \u001b[0mself\u001b[0m\u001b[0;34m.\u001b[0m\u001b[0mpatch\u001b[0m\u001b[0;34m.\u001b[0m\u001b[0mdraw\u001b[0m\u001b[0;34m(\u001b[0m\u001b[0mrenderer\u001b[0m\u001b[0;34m)\u001b[0m\u001b[0;34m\u001b[0m\u001b[0;34m\u001b[0m\u001b[0m\n\u001b[1;32m   1735\u001b[0m             mimage._draw_list_compositing_images(\n\u001b[0;32m-> 1736\u001b[0;31m                 renderer, self, artists, self.suppressComposite)\n\u001b[0m\u001b[1;32m   1737\u001b[0m \u001b[0;34m\u001b[0m\u001b[0m\n\u001b[1;32m   1738\u001b[0m             \u001b[0mrenderer\u001b[0m\u001b[0;34m.\u001b[0m\u001b[0mclose_group\u001b[0m\u001b[0;34m(\u001b[0m\u001b[0;34m'figure'\u001b[0m\u001b[0;34m)\u001b[0m\u001b[0;34m\u001b[0m\u001b[0;34m\u001b[0m\u001b[0m\n",
      "\u001b[0;32m/usr/local/lib/python3.6/dist-packages/matplotlib/image.py\u001b[0m in \u001b[0;36m_draw_list_compositing_images\u001b[0;34m(renderer, parent, artists, suppress_composite)\u001b[0m\n\u001b[1;32m    135\u001b[0m     \u001b[0;32mif\u001b[0m \u001b[0mnot_composite\u001b[0m \u001b[0;32mor\u001b[0m \u001b[0;32mnot\u001b[0m \u001b[0mhas_images\u001b[0m\u001b[0;34m:\u001b[0m\u001b[0;34m\u001b[0m\u001b[0;34m\u001b[0m\u001b[0m\n\u001b[1;32m    136\u001b[0m         \u001b[0;32mfor\u001b[0m \u001b[0ma\u001b[0m \u001b[0;32min\u001b[0m \u001b[0martists\u001b[0m\u001b[0;34m:\u001b[0m\u001b[0;34m\u001b[0m\u001b[0;34m\u001b[0m\u001b[0m\n\u001b[0;32m--> 137\u001b[0;31m             \u001b[0ma\u001b[0m\u001b[0;34m.\u001b[0m\u001b[0mdraw\u001b[0m\u001b[0;34m(\u001b[0m\u001b[0mrenderer\u001b[0m\u001b[0;34m)\u001b[0m\u001b[0;34m\u001b[0m\u001b[0;34m\u001b[0m\u001b[0m\n\u001b[0m\u001b[1;32m    138\u001b[0m     \u001b[0;32melse\u001b[0m\u001b[0;34m:\u001b[0m\u001b[0;34m\u001b[0m\u001b[0;34m\u001b[0m\u001b[0m\n\u001b[1;32m    139\u001b[0m         \u001b[0;31m# Composite any adjacent images together\u001b[0m\u001b[0;34m\u001b[0m\u001b[0;34m\u001b[0m\u001b[0;34m\u001b[0m\u001b[0m\n",
      "\u001b[0;32m/usr/local/lib/python3.6/dist-packages/matplotlib/artist.py\u001b[0m in \u001b[0;36mdraw_wrapper\u001b[0;34m(artist, renderer, *args, **kwargs)\u001b[0m\n\u001b[1;32m     36\u001b[0m                 \u001b[0mrenderer\u001b[0m\u001b[0;34m.\u001b[0m\u001b[0mstart_filter\u001b[0m\u001b[0;34m(\u001b[0m\u001b[0;34m)\u001b[0m\u001b[0;34m\u001b[0m\u001b[0;34m\u001b[0m\u001b[0m\n\u001b[1;32m     37\u001b[0m \u001b[0;34m\u001b[0m\u001b[0m\n\u001b[0;32m---> 38\u001b[0;31m             \u001b[0;32mreturn\u001b[0m \u001b[0mdraw\u001b[0m\u001b[0;34m(\u001b[0m\u001b[0martist\u001b[0m\u001b[0;34m,\u001b[0m \u001b[0mrenderer\u001b[0m\u001b[0;34m,\u001b[0m \u001b[0;34m*\u001b[0m\u001b[0margs\u001b[0m\u001b[0;34m,\u001b[0m \u001b[0;34m**\u001b[0m\u001b[0mkwargs\u001b[0m\u001b[0;34m)\u001b[0m\u001b[0;34m\u001b[0m\u001b[0;34m\u001b[0m\u001b[0m\n\u001b[0m\u001b[1;32m     39\u001b[0m         \u001b[0;32mfinally\u001b[0m\u001b[0;34m:\u001b[0m\u001b[0;34m\u001b[0m\u001b[0;34m\u001b[0m\u001b[0m\n\u001b[1;32m     40\u001b[0m             \u001b[0;32mif\u001b[0m \u001b[0martist\u001b[0m\u001b[0;34m.\u001b[0m\u001b[0mget_agg_filter\u001b[0m\u001b[0;34m(\u001b[0m\u001b[0;34m)\u001b[0m \u001b[0;32mis\u001b[0m \u001b[0;32mnot\u001b[0m \u001b[0;32mNone\u001b[0m\u001b[0;34m:\u001b[0m\u001b[0;34m\u001b[0m\u001b[0;34m\u001b[0m\u001b[0m\n",
      "\u001b[0;32m/usr/local/lib/python3.6/dist-packages/mpl_toolkits/mplot3d/axes3d.py\u001b[0m in \u001b[0;36mdraw\u001b[0;34m(self, renderer)\u001b[0m\n\u001b[1;32m    291\u001b[0m                 sorted(self.collections,\n\u001b[1;32m    292\u001b[0m                        \u001b[0mkey\u001b[0m\u001b[0;34m=\u001b[0m\u001b[0;32mlambda\u001b[0m \u001b[0mcol\u001b[0m\u001b[0;34m:\u001b[0m \u001b[0mcol\u001b[0m\u001b[0;34m.\u001b[0m\u001b[0mdo_3d_projection\u001b[0m\u001b[0;34m(\u001b[0m\u001b[0mrenderer\u001b[0m\u001b[0;34m)\u001b[0m\u001b[0;34m,\u001b[0m\u001b[0;34m\u001b[0m\u001b[0;34m\u001b[0m\u001b[0m\n\u001b[0;32m--> 293\u001b[0;31m                        reverse=True)):\n\u001b[0m\u001b[1;32m    294\u001b[0m             \u001b[0mcol\u001b[0m\u001b[0;34m.\u001b[0m\u001b[0mzorder\u001b[0m \u001b[0;34m=\u001b[0m \u001b[0mzorder_offset\u001b[0m \u001b[0;34m+\u001b[0m \u001b[0mi\u001b[0m\u001b[0;34m\u001b[0m\u001b[0;34m\u001b[0m\u001b[0m\n\u001b[1;32m    295\u001b[0m         for i, patch in enumerate(\n",
      "\u001b[0;32m/usr/local/lib/python3.6/dist-packages/mpl_toolkits/mplot3d/axes3d.py\u001b[0m in \u001b[0;36m<lambda>\u001b[0;34m(col)\u001b[0m\n\u001b[1;32m    290\u001b[0m         for i, col in enumerate(\n\u001b[1;32m    291\u001b[0m                 sorted(self.collections,\n\u001b[0;32m--> 292\u001b[0;31m                        \u001b[0mkey\u001b[0m\u001b[0;34m=\u001b[0m\u001b[0;32mlambda\u001b[0m \u001b[0mcol\u001b[0m\u001b[0;34m:\u001b[0m \u001b[0mcol\u001b[0m\u001b[0;34m.\u001b[0m\u001b[0mdo_3d_projection\u001b[0m\u001b[0;34m(\u001b[0m\u001b[0mrenderer\u001b[0m\u001b[0;34m)\u001b[0m\u001b[0;34m,\u001b[0m\u001b[0;34m\u001b[0m\u001b[0;34m\u001b[0m\u001b[0m\n\u001b[0m\u001b[1;32m    293\u001b[0m                        reverse=True)):\n\u001b[1;32m    294\u001b[0m             \u001b[0mcol\u001b[0m\u001b[0;34m.\u001b[0m\u001b[0mzorder\u001b[0m \u001b[0;34m=\u001b[0m \u001b[0mzorder_offset\u001b[0m \u001b[0;34m+\u001b[0m \u001b[0mi\u001b[0m\u001b[0;34m\u001b[0m\u001b[0;34m\u001b[0m\u001b[0m\n",
      "\u001b[0;32m/usr/local/lib/python3.6/dist-packages/mpl_toolkits/mplot3d/art3d.py\u001b[0m in \u001b[0;36mdo_3d_projection\u001b[0;34m(self, renderer)\u001b[0m\n\u001b[1;32m    719\u001b[0m              \u001b[0;32mfor\u001b[0m \u001b[0midx\u001b[0m\u001b[0;34m,\u001b[0m \u001b[0;34m(\u001b[0m\u001b[0;34m(\u001b[0m\u001b[0mxs\u001b[0m\u001b[0;34m,\u001b[0m \u001b[0mys\u001b[0m\u001b[0;34m,\u001b[0m \u001b[0mzs\u001b[0m\u001b[0;34m)\u001b[0m\u001b[0;34m,\u001b[0m \u001b[0mfc\u001b[0m\u001b[0;34m,\u001b[0m \u001b[0mec\u001b[0m\u001b[0;34m)\u001b[0m\u001b[0;34m\u001b[0m\u001b[0;34m\u001b[0m\u001b[0m\n\u001b[1;32m    720\u001b[0m              in enumerate(zip(xyzlist, cface, cedge))),\n\u001b[0;32m--> 721\u001b[0;31m             key=lambda x: x[0], reverse=True)\n\u001b[0m\u001b[1;32m    722\u001b[0m \u001b[0;34m\u001b[0m\u001b[0m\n\u001b[1;32m    723\u001b[0m         \u001b[0msegments_2d\u001b[0m \u001b[0;34m=\u001b[0m \u001b[0;34m[\u001b[0m\u001b[0ms\u001b[0m \u001b[0;32mfor\u001b[0m \u001b[0mz\u001b[0m\u001b[0;34m,\u001b[0m \u001b[0ms\u001b[0m\u001b[0;34m,\u001b[0m \u001b[0mfc\u001b[0m\u001b[0;34m,\u001b[0m \u001b[0mec\u001b[0m\u001b[0;34m,\u001b[0m \u001b[0midx\u001b[0m \u001b[0;32min\u001b[0m \u001b[0mz_segments_2d\u001b[0m\u001b[0;34m]\u001b[0m\u001b[0;34m\u001b[0m\u001b[0;34m\u001b[0m\u001b[0m\n",
      "\u001b[0;32m/usr/local/lib/python3.6/dist-packages/mpl_toolkits/mplot3d/art3d.py\u001b[0m in \u001b[0;36m<genexpr>\u001b[0;34m(.0)\u001b[0m\n\u001b[1;32m    717\u001b[0m         z_segments_2d = sorted(\n\u001b[1;32m    718\u001b[0m             ((self._zsortfunc(zs), np.column_stack([xs, ys]), fc, ec, idx)\n\u001b[0;32m--> 719\u001b[0;31m              \u001b[0;32mfor\u001b[0m \u001b[0midx\u001b[0m\u001b[0;34m,\u001b[0m \u001b[0;34m(\u001b[0m\u001b[0;34m(\u001b[0m\u001b[0mxs\u001b[0m\u001b[0;34m,\u001b[0m \u001b[0mys\u001b[0m\u001b[0;34m,\u001b[0m \u001b[0mzs\u001b[0m\u001b[0;34m)\u001b[0m\u001b[0;34m,\u001b[0m \u001b[0mfc\u001b[0m\u001b[0;34m,\u001b[0m \u001b[0mec\u001b[0m\u001b[0;34m)\u001b[0m\u001b[0;34m\u001b[0m\u001b[0;34m\u001b[0m\u001b[0m\n\u001b[0m\u001b[1;32m    720\u001b[0m              in enumerate(zip(xyzlist, cface, cedge))),\n\u001b[1;32m    721\u001b[0m             key=lambda x: x[0], reverse=True)\n",
      "\u001b[0;32m<__array_function__ internals>\u001b[0m in \u001b[0;36mcolumn_stack\u001b[0;34m(*args, **kwargs)\u001b[0m\n",
      "\u001b[0;32m/usr/local/lib/python3.6/dist-packages/numpy/lib/shape_base.py\u001b[0m in \u001b[0;36mcolumn_stack\u001b[0;34m(tup)\u001b[0m\n\u001b[1;32m    654\u001b[0m             \u001b[0marr\u001b[0m \u001b[0;34m=\u001b[0m \u001b[0marray\u001b[0m\u001b[0;34m(\u001b[0m\u001b[0marr\u001b[0m\u001b[0;34m,\u001b[0m \u001b[0mcopy\u001b[0m\u001b[0;34m=\u001b[0m\u001b[0;32mFalse\u001b[0m\u001b[0;34m,\u001b[0m \u001b[0msubok\u001b[0m\u001b[0;34m=\u001b[0m\u001b[0;32mTrue\u001b[0m\u001b[0;34m,\u001b[0m \u001b[0mndmin\u001b[0m\u001b[0;34m=\u001b[0m\u001b[0;36m2\u001b[0m\u001b[0;34m)\u001b[0m\u001b[0;34m.\u001b[0m\u001b[0mT\u001b[0m\u001b[0;34m\u001b[0m\u001b[0;34m\u001b[0m\u001b[0m\n\u001b[1;32m    655\u001b[0m         \u001b[0marrays\u001b[0m\u001b[0;34m.\u001b[0m\u001b[0mappend\u001b[0m\u001b[0;34m(\u001b[0m\u001b[0marr\u001b[0m\u001b[0;34m)\u001b[0m\u001b[0;34m\u001b[0m\u001b[0;34m\u001b[0m\u001b[0m\n\u001b[0;32m--> 656\u001b[0;31m     \u001b[0;32mreturn\u001b[0m \u001b[0m_nx\u001b[0m\u001b[0;34m.\u001b[0m\u001b[0mconcatenate\u001b[0m\u001b[0;34m(\u001b[0m\u001b[0marrays\u001b[0m\u001b[0;34m,\u001b[0m \u001b[0;36m1\u001b[0m\u001b[0;34m)\u001b[0m\u001b[0;34m\u001b[0m\u001b[0;34m\u001b[0m\u001b[0m\n\u001b[0m\u001b[1;32m    657\u001b[0m \u001b[0;34m\u001b[0m\u001b[0m\n\u001b[1;32m    658\u001b[0m \u001b[0;34m\u001b[0m\u001b[0m\n",
      "\u001b[0;32m<__array_function__ internals>\u001b[0m in \u001b[0;36mconcatenate\u001b[0;34m(*args, **kwargs)\u001b[0m\n",
      "\u001b[0;31mKeyboardInterrupt\u001b[0m: "
     ]
    }
   ],
   "source": [
    "import neurom as nm\n",
    "from neurom import viewer\n",
    "from neurom.view import view\n",
    "from neurom.view.common import update_plot_limits\n",
    "import matplotlib.pyplot as plt\n",
    "\n",
    "#Get Neuron Path, Load Neuron Morphology, Extract Neurites from Neuron object\n",
    "nrn = 'morph_10.swc'\n",
    "neuron = nm.load_neuron(nrn)\n",
    "neurites = neuron.neurites\n",
    "\n",
    "# Create Figure to include all subplots\n",
    "fig = plt.figure(figsize=(10, 40))\n",
    "\n",
    "# Plot neuron in 3D in a subplot\n",
    "axes = fig.add_subplot(12, 2, (1,4), projection='3d') # Add to the last subplot\n",
    "nm.viewer.plot_neuron3d(axes, neuron)\n",
    "axes.set_ylim((-1000, 1000))\n",
    "axes.set_xlim((-1000, 1000))\n",
    "axes.set_zlim(-200,200)\n",
    "axes.set_title('3D')\n",
    "\n",
    "# Plot Neuron in 2D in 3 planes\n",
    "planes = ['xy', 'xz', 'yz']\n",
    "for i, plane in enumerate(planes):\n",
    "    axes = fig.add_subplot(12, 2, i+5)\n",
    "    nm.viewer.plot_neuron(axes, neuron, plane=plane)\n",
    "    axes.set_ylim((-500, 500))\n",
    "    axes.set_xlim((-1000, 1000))\n",
    "    axes.set_title(str(plane))\n",
    "\n",
    "# Plot Neurites separately\n",
    "for i, neurite in enumerate(neurites):\n",
    "    current_axes = fig.add_subplot(12, 2, i+8)\n",
    "    view.plot_tree(current_axes, neurite, plane='xy')\n",
    "    update_plot_limits(current_axes, white_space=10)\n",
    "    current_axes.set_title(str(neurite.type).split('.')[1])\n",
    "\n",
    "# set a global title for the figure\n",
    "fig.suptitle(neuron.name, y=1, fontsize=20)\n",
    "fig.tight_layout()"
   ]
  },
  {
   "cell_type": "markdown",
   "metadata": {
    "jupyter": {
     "source_hidden": true
    }
   },
   "source": [
    "- From observing the morphologies, we deduced that:\n",
    "    - interneuron 03 was: a basket cell\n",
    "    - interneuron 10 was: a small basket cell\n",
    "\n",
    "- With this information and looking at table 2, one can notice the type of GABAergic synapse of the interneuron we are considering:\n",
    "    - the basket cell have GABAergic F2 synapses\n",
    "    - the small basket cell forms GABAergic F1, F2 and F3 synapses\n",
    "        - in this case, given that the majority of the synapses from the paper are of type F2, we also selected the GABAergic synapses to be of type F2\n",
    "\n",
    "- With these assumptions, we can deduce the connection probabilities and the number of contacts:\n",
    "    - connectivity from inhibitory to pyramidal: 76.3%\n",
    "    - connectivity from inhibitory to inhibitory: 58.3%\n",
    "    - number of contacts: 16\n",
    "\n",
    "- For the basket cells: 19% of those contacts are on the soma of the target cell\n",
    "    - It was not specified how the remaining 81% were distributed: as a result we will distribute them randomly\n",
    "- For the small baket cells: 5% of those contacts are on the soma of the target cell\n",
    "    - It was not specifed how the remainning 95% were distributed: as a result we will distributed them randomly"
   ]
  },
  {
   "cell_type": "markdown",
   "metadata": {},
   "source": [
    "In both papers above, the connection probability was not mentionned from pyramidal to interneurons.  As a result, we refered to [\"Pyramidal Cell-Interneuron Circuit Architecture and Dynamics in Hippocampal Networks\"](https://www.cell.com/neuron/pdfExtended/S0896-6273(17)30902-9), in order to obtain a connection probability of 0.2 from pyramidal cells to interneurons.\n",
    "\n",
    "- given that we were not able to find the corresponding number of contacts or an adequate paper giving the correct number of contacts, we used the value which was given in exercise 3 (meaning we have PC_axon $\\rightarrow$ Inh_basal equal to 4)"
   ]
  },
  {
   "cell_type": "markdown",
   "metadata": {},
   "source": [
    "NB: We also checked out the paper [\"Parvalbumin+ interneurons obey unique connectivity rules and establish a powerful lateral-inhibition microcircuit in dentate gyrus\"](https://www.nature.com/articles/s41467-018-06899-3), which provided connectivity probability values which where of the same order as those we considered above."
   ]
  },
  {
   "cell_type": "markdown",
   "metadata": {},
   "source": [
    "Now let's create our connections!\n",
    "\n",
    "### Step 1: Creating Cell Class"
   ]
  },
  {
   "cell_type": "code",
   "execution_count": 1,
   "metadata": {},
   "outputs": [],
   "source": [
    "# Importing usefull packages:\n",
    "%matplotlib inline\n",
    "\n",
    "from neuron import h, gui\n",
    "import matplotlib.pyplot as plt\n",
    "import numpy as np\n",
    "\n",
    "class Cell:\n",
    "    def __init__(self, filename, name, cell_type):\n",
    "        self.name = name\n",
    "        self.type = cell_type\n",
    "        self.synapses = []\n",
    "        self.build_morphology(filename)\n",
    "        self.biophysics()\n",
    "        \n",
    "    def build_morphology(self, filename):\n",
    "        h.load_file('import3d.hoc')\n",
    "        h.load_file('stdlib.hoc')\n",
    "        #morph_reader = h.Import3d_Neurolucida3()\n",
    "        morph_reader = h.Import3d_SWC_read()\n",
    "        morph_reader.input(filename)\n",
    "        i3d = h.Import3d_GUI(morph_reader, 0)\n",
    "        i3d.instantiate(self)\n",
    "    \n",
    "    def biophysics(self):\n",
    "        for sec in h.allsec():\n",
    "            sec.Ra = 100    # Axial resistance in Ohm * cm\n",
    "            sec.cm = 1      # Membrane capacitance in micro Farads / cm^2\n",
    "            sec.insert(\"pas\")\n",
    "            for seg in sec:\n",
    "                seg.pas.g = 0.00003\n",
    "                seg.pas.e = -75\n",
    "        \n",
    "        # Insert passive current in the dendrite\n",
    "        for sec in self.soma:\n",
    "            sec.insert('hh')\n",
    "            for seg in sec:\n",
    "                seg.hh.gnabar = 0.12  # Sodium conductance in S/cm2\n",
    "                seg.hh.gkbar = 0.036  # Potassium conductance in S/cm2\n",
    "        \n",
    "        if hasattr(self, 'apic'):\n",
    "            for sec in self.apic:\n",
    "                sec.insert('hh')\n",
    "                for seg in sec:\n",
    "                    seg.hh.gnabar = 0.12  # Sodium conductance in S/cm2\n",
    "                    seg.hh.gkbar = 0.036  # Potassium conductance in S/cm2\n",
    "        \n",
    "        for sec in self.dend:\n",
    "            sec.insert('hh')\n",
    "            for seg in sec:\n",
    "                seg.hh.gnabar = 0.12  # Sodium conductance in S/cm2\n",
    "                seg.hh.gkbar = 0.036  # Potassium conductance in S/cm2\n",
    "                \n",
    "        for sec in self.axon:\n",
    "            sec.insert('hh')\n",
    "            for seg in sec:    \n",
    "                seg.hh.gnabar = 0.12  # Sodium conductance in S/cm2\n",
    "                seg.hh.gkbar = 0.036  # Potassium conductance in S/cm2"
   ]
  },
  {
   "cell_type": "markdown",
   "metadata": {},
   "source": [
    "### Step 2: Instanciating the Cells from Homework 2"
   ]
  },
  {
   "cell_type": "code",
   "execution_count": 2,
   "metadata": {},
   "outputs": [
    {
     "name": "stdout",
     "output_type": "stream",
     "text": [
      "error morph_06.swc line 17828: could not parse: \n",
      "error morph_07.swc line 19678: could not parse: \n",
      "error morph_09.swc line 6173: could not parse: \n",
      "error morph_03.swc line 7281: could not parse: \n",
      "error morph_10.swc line 3377: could not parse: \n"
     ]
    }
   ],
   "source": [
    "Pyr1 = Cell('morph_06.swc','Pyr1','Pyr')\n",
    "Pyr2 = Cell('morph_07.swc','Pyr2','Pyr')\n",
    "Pyr3 = Cell('morph_09.swc','Pyr3','Pyr')\n",
    "Int1 = Cell('morph_03.swc','Int1','Int')\n",
    "Int2 = Cell('morph_10.swc','Int2','Int')\n",
    "\n",
    "# Classing the cells by group:\n",
    "cells_Pyr = [Pyr1, Pyr2, Pyr3]\n",
    "cells_Int = [Int1, Int2]\n",
    "cells = cells_Pyr + cells_Int"
   ]
  },
  {
   "cell_type": "code",
   "execution_count": 3,
   "metadata": {},
   "outputs": [
    {
     "name": "stdout",
     "output_type": "stream",
     "text": [
      "Pyr1: 95 apical sections, 72 basal sections, 2 soma sections and 131 axon senctions\n",
      "Pyr2: 131 apical sections, 82 basal sections, 2 soma sections and 125 axon senctions\n",
      "Pyr3: 37 apical sections, 69 basal sections, 2 soma sections and 67 axon senctions\n",
      "Int1: 45 basal sections, 2 soma sections and 103 axon senctions\n",
      "Int2: 33 basal sections, 2 soma sections and 120 axon senctions\n"
     ]
    }
   ],
   "source": [
    "for c in cells_Pyr:\n",
    "    print('%s: %d apical sections, %d basal sections, %d soma sections and %d axon senctions' % (c.name,len(c.apic),len(c.dend), len(c.soma), len(c.axon)))\n",
    "for c in cells_Int:\n",
    "    print('%s: %d basal sections, %d soma sections and %d axon senctions' % (c.name,len(c.dend), len(c.soma), len(c.axon)))"
   ]
  },
  {
   "cell_type": "markdown",
   "metadata": {},
   "source": [
    "### Step 3: Connecting Cells based on Connection Probabilities"
   ]
  },
  {
   "cell_type": "code",
   "execution_count": 4,
   "metadata": {},
   "outputs": [],
   "source": [
    "# connect two cells with an exponential synapse at given locations\n",
    "# returns the netcon\n",
    "def connect(source, target, weight = None, delay = 5, source_sec = None, source_neurite = 'axon', target_sec = None, target_neurite = 'dend'):\n",
    "    rng = np.random.default_rng()\n",
    "    \n",
    "    if weight is None:\n",
    "        weight = rng.uniform() # random weight\n",
    "    \n",
    "    target_neurite_ = getattr(target, target_neurite)\n",
    "    if target_sec is None:\n",
    "        target_sec = rng.integers(0,len(target_neurite_)) # random dendritic section\n",
    "    \n",
    "    source_neurite_ = getattr(source, source_neurite)\n",
    "    if source_sec is None:\n",
    "        source_sec = rng.integers(0,len(source_neurite_)) # random axonal section\n",
    "    \n",
    "    target_syn = h.ExpSyn(target_neurite_[target_sec](0.5))\n",
    "    target.synapses.append(target_syn) # store synapse\n",
    "    \n",
    "    netcon = h.NetCon(source_neurite_[source_sec](0.5)._ref_v, target_syn, sec=source_neurite_[source_sec])\n",
    "    netcon.weight[0] = weight\n",
    "    netcon.delay = delay\n",
    "    \n",
    "    print('Connected cells %s -> %s with weight %g and delay %g, from %s[%d] to %s[%d]' % (source.name,target.name,weight,delay,source_neurite,source_sec,target_neurite,target_sec))\n",
    "    return netcon"
   ]
  },
  {
   "cell_type": "code",
   "execution_count": 5,
   "metadata": {},
   "outputs": [],
   "source": [
    "# specify connection probabilites between cell types\n",
    "conn_prob_matrix = np.zeros((2,2))\n",
    "\n",
    "conn_prob_matrix[0,0] = 0.1 # Pyr to Pyr\n",
    "conn_prob_matrix[0,1] = 0.2 # Pyr to Int\n",
    "conn_prob_matrix[1,0] = 0.76 # Int to Pyr\n",
    "conn_prob_matrix[1,1] = 0.58 # Int to Int\n"
   ]
  },
  {
   "cell_type": "code",
   "execution_count": 6,
   "metadata": {},
   "outputs": [],
   "source": [
    "# specify expected number of contacts between cell types, considering target neurite\n",
    "expected_contacts = np.zeros((3,3,3), dtype=int)\n",
    "\n",
    "expected_contacts[0,0,0] = 0 # Pyr to Pyr (soma)\n",
    "expected_contacts[0,0,1] = 3.19 # Pyr to Pyr (basal) 58% of 5.5\n",
    "expected_contacts[0,0,2] = 2.31 # Pyr to Pyr (apic) 42% of 5.5\n",
    "\n",
    "# Considering the Basket Cell\n",
    "expected_contacts[1,0,0] = 3.04 # Int_BC to Pyr (soma) 19% of 16\n",
    "expected_contacts[1,0,1] = 6.48 # Int_BC to Pyr (dend) 40.5% of 16 (splitting the remaining contacts to the basal dendrites and the apical dendrites)\n",
    "expected_contacts[1,0,2] = 6.48 # Int_BC to Pyr (apic) 40.5% of 16\n",
    "\n",
    "# Considering the Small Basket Cell\n",
    "expected_contacts[2,0,0] = 0.8 # Int_SBC to Pyr (soma) 5% of 16\n",
    "expected_contacts[2,0,1] = 7.6 # Int_SBC to Pyr (dend) 95% of 16\n",
    "expected_contacts[2,0,2] = 7.6 # Int_SBC to Pyr (apic) 95% of 16\n",
    "\n",
    "# Considering the Basket Cell\n",
    "expected_contacts[0,1,0] = 0 # Pyr to Int_BC (soma)\n",
    "expected_contacts[0,1,1] = 4 # Pyr to Int_BC (dend)\n",
    "\n",
    "# Considering the Small Basket Cell\n",
    "expected_contacts[0,2,0] = 0 # Pyr to Int_SBC (soma)\n",
    "expected_contacts[0,2,1] = 4 # Pyr to Int_SBC (dend)\n",
    "\n",
    "# Considering the Basket Cell\n",
    "expected_contacts[1,1,0] = 0 # Int_BC to Int_BC (soma)\n",
    "expected_contacts[1,1,1] = 0 # Int_BC to Int_BC (dend)\n",
    "\n",
    "# Considering the Small Basket Cell\n",
    "expected_contacts[2,2,0] = 0 # Int_BC to Int_BC (soma)\n",
    "expected_contacts[2,2,1] = 0 # Int_BC to Int_BC (dend)\n",
    "\n",
    "# Considering the Basket Cell\n",
    "expected_contacts[1,2,0] = 3.04 # Int_BC to Int_SBC (soma) 19% of 16\n",
    "expected_contacts[1,2,1] = 12.96 # Int_BC to Int_SBC (dend) 81% of 16\n",
    "\n",
    "# Considering the Small Basket Cell\n",
    "expected_contacts[2,1,0] = 0.8 # Int_SBC to Int_BC (soma) 5% of 16\n",
    "expected_contacts[2,1,1] = 15.2 # Int_SBC to Int_BC (dend) 95% of 16\n"
   ]
  },
  {
   "cell_type": "code",
   "execution_count": 9,
   "metadata": {},
   "outputs": [],
   "source": [
    "def get_eligible_sec(cell):\n",
    "    eligible_basal_sec = []\n",
    "    eligible_apical_sec = []\n",
    "    for sec in cell.dend:\n",
    "        dist = h.distance(cell.soma[0](0), sec(0))\n",
    "        if dist >= 60 and dist <= 100:\n",
    "            eligible_basal_sec.append(sec)\n",
    "    for sec in cell.apic:\n",
    "        dist = h.distance(cell.soma[0](0), sec(0))\n",
    "        if dist >= 100:\n",
    "            eligible_apical_sec.append(sec) \n",
    "    return eligible_basal_sec, eligible_apical_sec"
   ]
  },
  {
   "cell_type": "code",
   "execution_count": 8,
   "metadata": {},
   "outputs": [
    {
     "name": "stderr",
     "output_type": "stream",
     "text": [
      "NEURON: interpreter stack type error\n",
      " near line 0\n",
      " ^\n",
      "        distance(..., ...)\n"
     ]
    },
    {
     "ename": "RuntimeError",
     "evalue": "hoc error",
     "output_type": "error",
     "traceback": [
      "\u001b[0;31m---------------------------------------------------------------------------\u001b[0m",
      "\u001b[0;31mRuntimeError\u001b[0m                              Traceback (most recent call last)",
      "\u001b[0;32m<ipython-input-8-68384f3481ee>\u001b[0m in \u001b[0;36m<module>\u001b[0;34m\u001b[0m\n\u001b[0;32m----> 1\u001b[0;31m \u001b[0mPyr1_eligible_basal_sec\u001b[0m\u001b[0;34m,\u001b[0m \u001b[0mPyr1_eligible_apical_sec\u001b[0m \u001b[0;34m=\u001b[0m \u001b[0mget_eligible_sec\u001b[0m\u001b[0;34m(\u001b[0m\u001b[0mPyr1\u001b[0m\u001b[0;34m)\u001b[0m\u001b[0;34m\u001b[0m\u001b[0;34m\u001b[0m\u001b[0m\n\u001b[0m\u001b[1;32m      2\u001b[0m \u001b[0mPyr2_eligible_basal_sec\u001b[0m\u001b[0;34m,\u001b[0m \u001b[0mPyr2_eligible_apical_sec\u001b[0m \u001b[0;34m=\u001b[0m \u001b[0mget_eligible_sec\u001b[0m\u001b[0;34m(\u001b[0m\u001b[0mPyr2\u001b[0m\u001b[0;34m)\u001b[0m\u001b[0;34m\u001b[0m\u001b[0;34m\u001b[0m\u001b[0m\n\u001b[1;32m      3\u001b[0m \u001b[0mPyr3_eligible_basal_sec\u001b[0m\u001b[0;34m,\u001b[0m \u001b[0mPyr3_eligible_apical_sec\u001b[0m \u001b[0;34m=\u001b[0m \u001b[0mget_eligible_sec\u001b[0m\u001b[0;34m(\u001b[0m\u001b[0mPyr3\u001b[0m\u001b[0;34m)\u001b[0m\u001b[0;34m\u001b[0m\u001b[0;34m\u001b[0m\u001b[0m\n\u001b[1;32m      4\u001b[0m \u001b[0;34m\u001b[0m\u001b[0m\n\u001b[1;32m      5\u001b[0m \u001b[0mprint\u001b[0m\u001b[0;34m(\u001b[0m\u001b[0;34m'Number of Eligible Sections for connections in Pyr1 Basal/Apical: '\u001b[0m\u001b[0;34m+\u001b[0m\u001b[0mstr\u001b[0m\u001b[0;34m(\u001b[0m\u001b[0mlen\u001b[0m\u001b[0;34m(\u001b[0m\u001b[0mPyr1_eligible_basal_sec\u001b[0m\u001b[0;34m)\u001b[0m\u001b[0;34m)\u001b[0m\u001b[0;34m+\u001b[0m\u001b[0;34m'/'\u001b[0m \u001b[0;34m+\u001b[0m\u001b[0mstr\u001b[0m\u001b[0;34m(\u001b[0m\u001b[0mlen\u001b[0m\u001b[0;34m(\u001b[0m\u001b[0mPyr1_eligible_apical_sec\u001b[0m\u001b[0;34m)\u001b[0m\u001b[0;34m)\u001b[0m\u001b[0;34m)\u001b[0m\u001b[0;34m\u001b[0m\u001b[0;34m\u001b[0m\u001b[0m\n",
      "\u001b[0;32m<ipython-input-7-b853b17df253>\u001b[0m in \u001b[0;36mget_eligible_sec\u001b[0;34m(cell)\u001b[0m\n\u001b[1;32m      3\u001b[0m     \u001b[0meligible_apical_sec\u001b[0m \u001b[0;34m=\u001b[0m \u001b[0;34m[\u001b[0m\u001b[0;34m]\u001b[0m\u001b[0;34m\u001b[0m\u001b[0;34m\u001b[0m\u001b[0m\n\u001b[1;32m      4\u001b[0m     \u001b[0;32mfor\u001b[0m \u001b[0msec\u001b[0m \u001b[0;32min\u001b[0m \u001b[0mcell\u001b[0m\u001b[0;34m.\u001b[0m\u001b[0mdend\u001b[0m\u001b[0;34m:\u001b[0m\u001b[0;34m\u001b[0m\u001b[0;34m\u001b[0m\u001b[0m\n\u001b[0;32m----> 5\u001b[0;31m         \u001b[0mdist\u001b[0m \u001b[0;34m=\u001b[0m \u001b[0mh\u001b[0m\u001b[0;34m.\u001b[0m\u001b[0mdistance\u001b[0m\u001b[0;34m(\u001b[0m\u001b[0mcell\u001b[0m\u001b[0;34m.\u001b[0m\u001b[0msoma\u001b[0m\u001b[0;34m[\u001b[0m\u001b[0;36m0\u001b[0m\u001b[0;34m]\u001b[0m\u001b[0;34m(\u001b[0m\u001b[0;36m0\u001b[0m\u001b[0;34m)\u001b[0m\u001b[0;34m,\u001b[0m \u001b[0msec\u001b[0m\u001b[0;34m(\u001b[0m\u001b[0;36m0\u001b[0m\u001b[0;34m)\u001b[0m\u001b[0;34m)\u001b[0m\u001b[0;34m\u001b[0m\u001b[0;34m\u001b[0m\u001b[0m\n\u001b[0m\u001b[1;32m      6\u001b[0m         \u001b[0;32mif\u001b[0m \u001b[0mdist\u001b[0m \u001b[0;34m>=\u001b[0m \u001b[0;36m60\u001b[0m \u001b[0;32mand\u001b[0m \u001b[0mdist\u001b[0m \u001b[0;34m<=\u001b[0m \u001b[0;36m100\u001b[0m\u001b[0;34m:\u001b[0m\u001b[0;34m\u001b[0m\u001b[0;34m\u001b[0m\u001b[0m\n\u001b[1;32m      7\u001b[0m             \u001b[0meligible_basal_sec\u001b[0m\u001b[0;34m.\u001b[0m\u001b[0mappend\u001b[0m\u001b[0;34m(\u001b[0m\u001b[0msec\u001b[0m\u001b[0;34m)\u001b[0m\u001b[0;34m\u001b[0m\u001b[0;34m\u001b[0m\u001b[0m\n",
      "\u001b[0;31mRuntimeError\u001b[0m: hoc error"
     ]
    }
   ],
   "source": [
    "Pyr1_eligible_basal_sec, Pyr1_eligible_apical_sec = get_eligible_sec(Pyr1)\n",
    "Pyr2_eligible_basal_sec, Pyr2_eligible_apical_sec = get_eligible_sec(Pyr2)\n",
    "Pyr3_eligible_basal_sec, Pyr3_eligible_apical_sec = get_eligible_sec(Pyr3)\n",
    "\n",
    "print('Number of Eligible Sections for connections in Pyr1 Basal/Apical: '+str(len(Pyr1_eligible_basal_sec))+'/' +str(len(Pyr1_eligible_apical_sec)))\n",
    "print('Number of Eligible Sections for connections in Pyr2 Basal/Apical: '+str(len(Pyr2_eligible_basal_sec))+'/'  +str(len(Pyr2_eligible_apical_sec)))\n",
    "print('Number of Eligible Sections for connections in Pyr3 Basal/Apical: '+str(len(Pyr3_eligible_basal_sec))+'/'  +str(len(Pyr3_eligible_apical_sec)))"
   ]
  },
  {
   "cell_type": "code",
   "execution_count": null,
   "metadata": {},
   "outputs": [],
   "source": [
    "# generate number of contacts per cell type, by selecting them from a normal distribution \n",
    "# in which the mean is the expected_contacts value\n",
    "import math as m\n",
    "\n",
    "netcons = [] # store all netcons\n",
    "\n",
    "rng = np.random.default_rng(5)\n",
    "\n",
    "############ Pyramidal 1\n",
    "# Connect Pyr2 to Pyr1\n",
    "if rng.random() < conn_prob_matrix[0,0]:\n",
    "    for i,neurite in enumerate(['soma','dend','apic']):\n",
    "        contacts = expected_contacts[0,0,i]\n",
    "        if contacts > 0:\n",
    "            contacts = m.floor(rng.normal(contacts))\n",
    "        if contacts < 0:\n",
    "            contacts = 0\n",
    "        for i in range(0,contacts):\n",
    "            if neurite == 'dend':\n",
    "                rnd_num = np.random.randint(0,len(Pyr1_eligible_basal_sec))\n",
    "            if neurite == 'apic':\n",
    "                rnd_num = np.random.randint(0,len(Pyr1_eligible_apical_sec))\n",
    "            nc = connect_ex4(Pyr2, Pyr1, target_sec = rnd_num, target_neurite=neurite)\n",
    "            netcons.append(nc)\n",
    "\n",
    "# Connect Pyr3 to Pyr1\n",
    "if rng.random() < conn_prob_matrix[0,0]:\n",
    "    for i,neurite in enumerate(['soma','dend','apic']):\n",
    "        contacts = expected_contacts[0,0,i]\n",
    "        if contacts > 0:\n",
    "            contacts = m.floor(rng.normal(contacts))\n",
    "        if contacts < 0:\n",
    "            contacts = 0\n",
    "        for i in range(0,contacts):\n",
    "            if neurite == 'dend':\n",
    "                rnd_num = np.random.randint(0,len(Pyr1_eligible_basal_sec))\n",
    "            if neurite == 'apic':\n",
    "                rnd_num = np.random.randint(0,len(Pyr1_eligible_apical_sec))\n",
    "            nc = connect_ex4(Pyr3, Pyr1, target_sec = rnd_num, target_neurite=neurite)\n",
    "            netcons.append(nc)\n",
    "\n",
    "############ Pyramidal 2\n",
    "# Connect Pyr1 to Pyr2\n",
    "if rng.random() < conn_prob_matrix[0,0]:\n",
    "    for i,neurite in enumerate(['soma','dend','apic']):\n",
    "        contacts = expected_contacts[0,0,i]\n",
    "        if contacts > 0:\n",
    "            contacts = m.floor(rng.normal(contacts))\n",
    "        if contacts < 0:\n",
    "            contacts = 0\n",
    "        for i in range(0,contacts):\n",
    "            if neurite == 'dend':\n",
    "                rnd_num = np.random.randint(0,len(Pyr2_eligible_basal_sec))\n",
    "            if neurite == 'apic':\n",
    "                rnd_num = np.random.randint(0,len(Pyr2_eligible_apical_sec))\n",
    "            nc = connect_ex4(Pyr1, Pyr2, target_sec = rnd_num, target_neurite=neurite)\n",
    "            netcons.append(nc)\n",
    "\n",
    "# Connect Pyr3 to Pyr2\n",
    "if rng.random() < conn_prob_matrix[0,0]:\n",
    "    for i,neurite in enumerate(['soma','dend','apic']):\n",
    "        contacts = expected_contacts[0,0,i]\n",
    "        if contacts > 0:\n",
    "            contacts = m.floor(rng.normal(contacts))\n",
    "        if contacts < 0:\n",
    "            contacts = 0\n",
    "        for i in range(0,contacts):\n",
    "            if neurite == 'dend':\n",
    "                rnd_num = np.random.randint(0,len(Pyr2_eligible_basal_sec))\n",
    "            if neurite == 'apic':\n",
    "                rnd_num = np.random.randint(0,len(Pyr2_eligible_apical_sec))\n",
    "            nc = connect_ex4(Pyr3, Pyr2, target_sec = rnd_num, target_neurite=neurite)\n",
    "            netcons.append(nc)\n",
    "\n",
    "############ Pyramidal 3\n",
    "# Connect Pyr1 to Pyr3\n",
    "if rng.random() < conn_prob_matrix[0,0]:\n",
    "    for i,neurite in enumerate(['soma','dend','apic']):\n",
    "        contacts = expected_contacts[0,0,i]\n",
    "        if contacts > 0:\n",
    "            contacts = m.floor(rng.normal(contacts))\n",
    "        if contacts < 0:\n",
    "            contacts = 0\n",
    "        for i in range(0,contacts):\n",
    "            if neurite == 'dend':\n",
    "                rnd_num = np.random.randint(0,len(Pyr3_eligible_basal_sec))\n",
    "            if neurite == 'apic':\n",
    "                rnd_num = np.random.randint(0,len(Pyr3_eligible_apical_sec))\n",
    "            nc = connect_ex4(Pyr1, Pyr3, target_sec = rnd_num, target_neurite=neurite)\n",
    "            netcons.append(nc)\n",
    "\n",
    "# Connect Pyr2 to Pyr3\n",
    "if rng.random() < conn_prob_matrix[0,0]:\n",
    "    for i,neurite in enumerate(['soma','dend','apic']):\n",
    "        contacts = expected_contacts[0,0,i]\n",
    "        if contacts > 0:\n",
    "            contacts = m.floor(rng.normal(contacts))\n",
    "        if contacts < 0:\n",
    "            contacts = 0\n",
    "        for i in range(0,contacts):\n",
    "            if neurite == 'dend':\n",
    "                rnd_num = np.random.randint(0,len(Pyr3_eligible_basal_sec))\n",
    "            if neurite == 'apic':\n",
    "                rnd_num = np.random.randint(0,len(Pyr3_eligible_apical_sec))\n",
    "            nc = connect_ex4(Pyr2, Pyr3, target_sec = rnd_num, target_neurite=neurite)\n",
    "            netcons.append(nc)"
   ]
  },
  {
   "cell_type": "markdown",
   "metadata": {},
   "source": [
    "### Step 4: Probability Matrix and number of contacts each of our cell has"
   ]
  },
  {
   "cell_type": "code",
   "execution_count": null,
   "metadata": {},
   "outputs": [],
   "source": []
  },
  {
   "cell_type": "code",
   "execution_count": null,
   "metadata": {},
   "outputs": [],
   "source": []
  }
 ],
 "metadata": {
  "kernelspec": {
   "display_name": "Python 3",
   "language": "python",
   "name": "python3"
  },
  "language_info": {
   "codemirror_mode": {
    "name": "ipython",
    "version": 3
   },
   "file_extension": ".py",
   "mimetype": "text/x-python",
   "name": "python",
   "nbconvert_exporter": "python",
   "pygments_lexer": "ipython3",
   "version": "3.6.9"
  }
 },
 "nbformat": 4,
 "nbformat_minor": 4
}
