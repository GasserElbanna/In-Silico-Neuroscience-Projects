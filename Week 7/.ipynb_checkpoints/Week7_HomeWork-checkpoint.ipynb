{
 "cells": [
  {
   "cell_type": "markdown",
   "metadata": {},
   "source": [
    "<center><font size = \"10\"> Week 7 - Connections <center>\n",
    "<center><font size = \"8\">Home work<center>"
   ]
  },
  {
   "cell_type": "markdown",
   "metadata": {},
   "source": [
    "<font size = \"3\">Please, write your group number and the names and surnames of the group members here\n",
    "<br>Group number: 1\n",
    "<br>Group member1: Gasser Elbanna\n",
    "<br>Group member2: Milo Imbeni\n",
    "<br>Group member3: Louise Placidet"
   ]
  },
  {
   "cell_type": "markdown",
   "metadata": {},
   "source": [
    "# Ex1. Connect all-to-all with random weights.\n",
    "\n",
    "<font size='3'>In week 2 Home Work (Morphologies) you've received a set of ten morphology files you were asked to check for quality. Each set of cells contains __FIVE__ good-quality morphology files you were asked to make note of and keep for future assignments. If you think that you only have three, please go through Week2_HomeWorks_Solutions.ipynb posted on Moodle to help you identify good morphologies for your group. For this exercise, connect your five cells all to all (unidirectionally) with uniform probability and display a connectivity matrix with weights and cell labels. (refer to tutorial 01 of this week for sample code). [1 pt]"
   ]
  },
  {
   "cell_type": "code",
   "execution_count": 1,
   "metadata": {},
   "outputs": [],
   "source": [
    "# Importing usefull packages:\n",
    "%matplotlib inline\n",
    "\n",
    "from neuron import h, gui\n",
    "import matplotlib.pyplot as plt\n",
    "import numpy as np"
   ]
  },
  {
   "cell_type": "markdown",
   "metadata": {},
   "source": [
    "### Step 1: Creating the Cell Class"
   ]
  },
  {
   "cell_type": "code",
   "execution_count": 2,
   "metadata": {},
   "outputs": [],
   "source": [
    "class Cell:\n",
    "    def __init__(self, filename, name, cell_type):\n",
    "        self.name = name\n",
    "        self.type = cell_type\n",
    "        self.synapses = []\n",
    "        self.build_morphology(filename)\n",
    "        self.biophysics()\n",
    "        \n",
    "    def build_morphology(self, filename):\n",
    "        h.load_file('import3d.hoc')\n",
    "        h.load_file('stdlib.hoc')\n",
    "        #morph_reader = h.Import3d_Neurolucida3()\n",
    "        morph_reader = h.Import3d_SWC_read()\n",
    "        morph_reader.input(filename)\n",
    "        i3d = h.Import3d_GUI(morph_reader, 0)\n",
    "        i3d.instantiate(self) # Notice this change to be able to instantiate several cells\n",
    "    \n",
    "    def biophysics(self):\n",
    "        for sec in h.allsec():\n",
    "            sec.Ra = 100    # Axial resistance in Ohm * cm\n",
    "            sec.cm = 1      # Membrane capacitance in micro Farads / cm^2\n",
    "            sec.insert(\"pas\")\n",
    "            for seg in sec:\n",
    "                seg.pas.g = 0.00003\n",
    "                seg.pas.e = -75\n",
    "        \n",
    "        # Insert passive current in the dendrite\n",
    "        for sec in self.soma:\n",
    "            sec.insert('hh')\n",
    "            for seg in sec:\n",
    "                seg.hh.gnabar = 0.12  # Sodium conductance in S/cm2\n",
    "                seg.hh.gkbar = 0.036  # Potassium conductance in S/cm2\n",
    "        \n",
    "        if hasattr(self, 'apic'):\n",
    "            for sec in self.apic:\n",
    "                sec.insert('hh')\n",
    "                for seg in sec:\n",
    "                    seg.hh.gnabar = 0.12  # Sodium conductance in S/cm2\n",
    "                    seg.hh.gkbar = 0.036  # Potassium conductance in S/cm2\n",
    "        \n",
    "        for sec in self.dend:\n",
    "            sec.insert('hh')\n",
    "            for seg in sec:\n",
    "                seg.hh.gnabar = 0.12  # Sodium conductance in S/cm2\n",
    "                seg.hh.gkbar = 0.036  # Potassium conductance in S/cm2\n",
    "                \n",
    "        for sec in self.axon:\n",
    "            sec.insert('hh')\n",
    "            for seg in sec:    \n",
    "                seg.hh.gnabar = 0.12  # Sodium conductance in S/cm2\n",
    "                seg.hh.gkbar = 0.036  # Potassium conductance in S/cm2"
   ]
  },
  {
   "cell_type": "markdown",
   "metadata": {},
   "source": [
    "### Step 2: Instanciate the Cells from Homework 2"
   ]
  },
  {
   "cell_type": "code",
   "execution_count": null,
   "metadata": {},
   "outputs": [],
   "source": [
    "FILL_IN = Cell('FILL_IN.swc','FILL_IN','FILL_IN')\n",
    "FILL_IN = Cell('FILL_IN.swc','FILL_IN','FILL_IN')\n",
    "FILL_IN = Cell('FILL_IN.swc','FILL_IN','FILL_IN')\n",
    "FILL_IN = Cell('FILL_IN.swc','FILL_IN','FILL_IN')\n",
    "FILL_IN = Cell('FILL_IN.swc','FILL_IN','FILL_IN')\n",
    "\n",
    "# Classing the cells by group:\n",
    "cells_Pyr = [Pyr1, Pyr2]\n",
    "cells_Int = [Int1]\n",
    "cells = cells_Pyr + cells_Int"
   ]
  },
  {
   "cell_type": "code",
   "execution_count": null,
   "metadata": {},
   "outputs": [],
   "source": [
    "for c in cells_Pyr:\n",
    "    print('%s: %d apical sections, %d basal sections, %d soma sections and %d axon senctions' % (c.name,len(c.apic),len(c.dend), len(c.soma), len(c.axon)))\n",
    "for c in cells_Int:\n",
    "    print('%s: %d basal sections, %d soma sections and %d axon senctions' % (c.name,len(c.dend), len(c.soma), len(c.axon)))"
   ]
  },
  {
   "cell_type": "markdown",
   "metadata": {},
   "source": [
    "### Step 3: Connecting the Cells All-to-All with Random Weights"
   ]
  },
  {
   "cell_type": "code",
   "execution_count": null,
   "metadata": {},
   "outputs": [],
   "source": [
    "# returns NxN matrix of random weights in [0,1) with zero diagonal\n",
    "def random_weights(n):\n",
    "    rng = np.random.default_rng()\n",
    "    weights = rng.random((n,n))\n",
    "    np.fill_diagonal(weights,0.0)\n",
    "    return weights"
   ]
  },
  {
   "cell_type": "code",
   "execution_count": null,
   "metadata": {},
   "outputs": [],
   "source": [
    "# connect two cells with an exponential synapse at given locations\n",
    "# returns the netcon\n",
    "def connect(source, target, weight = None, delay = 5, source_sec = None, source_neurite = 'axon', target_sec = None, target_neurite = 'dend'):\n",
    "    rng = np.random.default_rng()\n",
    "    \n",
    "    if weight is None:\n",
    "        weight = rng.uniform() # random weight\n",
    "    \n",
    "    target_neurite_ = getattr(target, target_neurite)\n",
    "    if target_sec is None:\n",
    "        target_sec = rng.integers(0,len(target_neurite_)) # random dendritic section\n",
    "    \n",
    "    source_neurite_ = getattr(source, source_neurite)\n",
    "    if source_sec is None:\n",
    "        source_sec = rng.integers(0,len(source_neurite_)) # random axonal section\n",
    "    \n",
    "    target_syn = h.ExpSyn(target_neurite_[target_sec](0.5))\n",
    "    target.synapses.append(target_syn) # store synapse\n",
    "    \n",
    "    netcon = h.NetCon(source_neurite_[source_sec](0.5)._ref_v, target_syn, sec=source_neurite_[source_sec])\n",
    "    netcon.weight[0] = weight\n",
    "    netcon.delay = delay\n",
    "    \n",
    "    print('Connected cells %s -> %s with weight %g and delay %g, from %s[%d] to %s[%d]' % (source.name,target.name,weight,delay,source_neurite,source_sec,target_neurite,target_sec))\n",
    "    return netcon"
   ]
  },
  {
   "cell_type": "code",
   "execution_count": null,
   "metadata": {},
   "outputs": [],
   "source": [
    "weight_matrix = random_weights(5)\n",
    "\n",
    "netcons = [] # save the netcons in case we want to modify them later\n",
    "\n",
    "# NEED TO MODIFY SO THAT IT FITS NICELY EVERYTHING\n",
    "# Connect FILL and Int1 to Pyr1\n",
    "nc = connect(Pyr2,Pyr1,weight_matrix[0,1])\n",
    "netcons.append(nc)\n",
    "nc = connect(Int1,Pyr1,weight_matrix[0,2],target_neurite='soma')\n",
    "netcons.append(nc)\n",
    "\n",
    "# Connect Pyr1 and Int1 to Pyr2\n",
    "nc = connect(Pyr1,Pyr2,weight_matrix[1,0])\n",
    "netcons.append(nc)\n",
    "nc = connect(Int1,Pyr2,weight_matrix[1,2],target_neurite='soma')\n",
    "netcons.append(nc)\n",
    "\n",
    "# Connect Pyr1 and Pyr2 to Int1\n",
    "nc = connect(Pyr1,Int1,weight_matrix[2,0])\n",
    "netcons.append(nc)\n",
    "nc = connect(Pyr2,Int1,weight_matrix[2,1])\n",
    "netcons.append(nc)"
   ]
  },
  {
   "cell_type": "markdown",
   "metadata": {},
   "source": [
    "### Step 4: Plotting the Weight Matrix with Weights and Cell Labels"
   ]
  },
  {
   "cell_type": "code",
   "execution_count": null,
   "metadata": {},
   "outputs": [],
   "source": [
    "def heatmap(data, row_labels, col_labels, ax=None, cbar_kw={}, cbarlabel=\"\", **kwargs):\n",
    "    \"\"\"\n",
    "    Create a heatmap from a numpy array and two lists of labels.\n",
    "\n",
    "    Parameters\n",
    "    ----------\n",
    "    data\n",
    "        A 2D numpy array of shape (N, M).\n",
    "    row_labels\n",
    "        A list or array of length N with the labels for the rows.\n",
    "    col_labels\n",
    "        A list or array of length M with the labels for the columns.\n",
    "    ax\n",
    "        A `matplotlib.axes.Axes` instance to which the heatmap is plotted.  If\n",
    "        not provided, use current axes or create a new one.  Optional.\n",
    "    cbar_kw\n",
    "        A dictionary with arguments to `matplotlib.Figure.colorbar`.  Optional.\n",
    "    cbarlabel\n",
    "        The label for the colorbar.  Optional.\n",
    "    **kwargs\n",
    "        All other arguments are forwarded to `imshow`.\n",
    "    \"\"\"\n",
    "\n",
    "    if not ax:\n",
    "        ax = plt.gca()\n",
    "\n",
    "    # Plot the heatmap\n",
    "    im = ax.imshow(data, **kwargs)\n",
    "\n",
    "    # Create colorbar\n",
    "    cbar = ax.figure.colorbar(im, ax=ax, **cbar_kw)\n",
    "    cbar.ax.set_ylabel(cbarlabel, rotation=-90, va=\"bottom\")\n",
    "\n",
    "    # We want to show all ticks...\n",
    "    ax.set_xticks(np.arange(data.shape[1]))\n",
    "    ax.set_yticks(np.arange(data.shape[0]))\n",
    "    # ... and label them with the respective list entries.\n",
    "    ax.set_xticklabels(col_labels)\n",
    "    ax.set_yticklabels(row_labels)\n",
    "\n",
    "    # Let the horizontal axes labeling appear on top.\n",
    "    ax.tick_params(top=True, bottom=False,\n",
    "                   labeltop=True, labelbottom=False)\n",
    "\n",
    "    # Rotate the tick labels and set their alignment.\n",
    "    plt.setp(ax.get_xticklabels(), rotation=-30, ha=\"right\",\n",
    "             rotation_mode=\"anchor\")\n",
    "\n",
    "    # Turn spines off and create white grid.\n",
    "    for edge, spine in ax.spines.items():\n",
    "        spine.set_visible(False)\n",
    "\n",
    "    ax.set_xticks(np.arange(data.shape[1]+1)-.5, minor=True)\n",
    "    ax.set_yticks(np.arange(data.shape[0]+1)-.5, minor=True)\n",
    "    ax.grid(which=\"minor\", color=\"w\", linestyle='-', linewidth=3)\n",
    "    ax.tick_params(which=\"minor\", bottom=False, left=False)\n",
    "\n",
    "    return im, cbar"
   ]
  },
  {
   "cell_type": "code",
   "execution_count": null,
   "metadata": {},
   "outputs": [],
   "source": [
    "fig, ax = plt.subplots()\n",
    "\n",
    "im, cbar = heatmap(weight_matrix, ['Pyr1', 'Pyr2', 'Inh1'], ['Pyr1', 'Pyr2', 'Inh1'], ax=ax, cmap=\"viridis\", cbarlabel=\"harvest [t/year]\")\n",
    "\n",
    "fig.tight_layout()"
   ]
  },
  {
   "cell_type": "markdown",
   "metadata": {},
   "source": [
    "# Ex2. Connect your cells considering connection probability\n",
    "\n",
    "<font size='3'>Connect your five cells as it is done in tutorial 02, considering the following connection probabilities between cell types:\n",
    "<br> PC - PC: 75 %\n",
    "<br> PC - Inh: 19 %\n",
    "<br> Inh - PC: 48 %\n",
    "<br> Inh - Inh: 23 %\n",
    "\n",
    "<font size='3'>Show the results on a probability matrix and the number of contacts each of your cells has. [1 pt]"
   ]
  },
  {
   "cell_type": "markdown",
   "metadata": {},
   "source": [
    "<span style=\"color:red\"> Restaring Kernel out of precaution...\n",
    "    \n",
    "    \n",
    "### Step 1: Creating Cell Class"
   ]
  },
  {
   "cell_type": "code",
   "execution_count": null,
   "metadata": {},
   "outputs": [],
   "source": [
    "# Importing usefull packages:\n",
    "%matplotlib inline\n",
    "\n",
    "from neuron import h, gui\n",
    "import matplotlib.pyplot as plt\n",
    "import numpy as np\n",
    "\n",
    "class Cell:\n",
    "    def __init__(self, filename, name, cell_type):\n",
    "        self.name = name\n",
    "        self.type = cell_type\n",
    "        self.synapses = []\n",
    "        self.build_morphology(filename)\n",
    "        self.biophysics()\n",
    "        \n",
    "    def build_morphology(self, filename):\n",
    "        h.load_file('import3d.hoc')\n",
    "        h.load_file('stdlib.hoc')\n",
    "        #morph_reader = h.Import3d_Neurolucida3()\n",
    "        morph_reader = h.Import3d_SWC_read()\n",
    "        morph_reader.input(filename)\n",
    "        i3d = h.Import3d_GUI(morph_reader, 0)\n",
    "        i3d.instantiate(self) # Notice this change to be able to instantiate several cells\n",
    "    \n",
    "    def biophysics(self):\n",
    "        for sec in h.allsec():\n",
    "            sec.Ra = 100    # Axial resistance in Ohm * cm\n",
    "            sec.cm = 1      # Membrane capacitance in micro Farads / cm^2\n",
    "            sec.insert(\"pas\")\n",
    "            for seg in sec:\n",
    "                seg.pas.g = 0.00003\n",
    "                seg.pas.e = -75\n",
    "        \n",
    "        # Insert passive current in the dendrite\n",
    "        for sec in self.soma:\n",
    "            sec.insert('hh')\n",
    "            for seg in sec:\n",
    "                seg.hh.gnabar = 0.12  # Sodium conductance in S/cm2\n",
    "                seg.hh.gkbar = 0.036  # Potassium conductance in S/cm2\n",
    "        \n",
    "        if hasattr(self, 'apic'):\n",
    "            for sec in self.apic:\n",
    "                sec.insert('hh')\n",
    "                for seg in sec:\n",
    "                    seg.hh.gnabar = 0.12  # Sodium conductance in S/cm2\n",
    "                    seg.hh.gkbar = 0.036  # Potassium conductance in S/cm2\n",
    "        \n",
    "        for sec in self.dend:\n",
    "            sec.insert('hh')\n",
    "            for seg in sec:\n",
    "                seg.hh.gnabar = 0.12  # Sodium conductance in S/cm2\n",
    "                seg.hh.gkbar = 0.036  # Potassium conductance in S/cm2\n",
    "                \n",
    "        for sec in self.axon:\n",
    "            sec.insert('hh')\n",
    "            for seg in sec:    \n",
    "                seg.hh.gnabar = 0.12  # Sodium conductance in S/cm2\n",
    "                seg.hh.gkbar = 0.036  # Potassium conductance in S/cm2"
   ]
  },
  {
   "cell_type": "markdown",
   "metadata": {},
   "source": [
    "### Step 2: Instanciate our Cells from Homework 2"
   ]
  },
  {
   "cell_type": "code",
   "execution_count": null,
   "metadata": {},
   "outputs": [],
   "source": [
    "FILL_IN = Cell('FILL_IN.swc','FILL_IN','FILL_IN')\n",
    "FILL_IN = Cell('FILL_IN.swc','FILL_IN','FILL_IN')\n",
    "FILL_IN = Cell('FILL_IN.swc','FILL_IN','FILL_IN')\n",
    "FILL_IN = Cell('FILL_IN.swc','FILL_IN','FILL_IN')\n",
    "FILL_IN = Cell('FILL_IN.swc','FILL_IN','FILL_IN')\n",
    "\n",
    "# Classing the cells by group:\n",
    "cells_Pyr = [Pyr1, Pyr2]\n",
    "cells_Int = [Int1]\n",
    "cells = cells_Pyr + cells_Int"
   ]
  },
  {
   "cell_type": "code",
   "execution_count": null,
   "metadata": {},
   "outputs": [],
   "source": [
    "for c in cells_Pyr:\n",
    "    print('%s: %d apical sections, %d basal sections, %d soma sections and %d axon senctions' % (c.name,len(c.apic),len(c.dend), len(c.soma), len(c.axon)))\n",
    "for c in cells_Int:\n",
    "    print('%s: %d basal sections, %d soma sections and %d axon senctions' % (c.name,len(c.dend), len(c.soma), len(c.axon)))"
   ]
  },
  {
   "cell_type": "markdown",
   "metadata": {},
   "source": [
    "### Step 3: Connecting Cells based on Connection Probabilities"
   ]
  },
  {
   "cell_type": "code",
   "execution_count": null,
   "metadata": {},
   "outputs": [],
   "source": [
    "# connect two cells with an exponential synapse at given locations\n",
    "# returns the netcon\n",
    "def connect(source, target, weight = None, delay = 5, source_sec = None, source_neurite = 'axon', target_sec = None, target_neurite = 'dend'):\n",
    "    rng = np.random.default_rng()\n",
    "    \n",
    "    if weight is None:\n",
    "        weight = rng.uniform() # random weight\n",
    "    \n",
    "    target_neurite_ = getattr(target, target_neurite)\n",
    "    if target_sec is None:\n",
    "        target_sec = rng.integers(0,len(target_neurite_)) # random dendritic section\n",
    "    \n",
    "    source_neurite_ = getattr(source, source_neurite)\n",
    "    if source_sec is None:\n",
    "        source_sec = rng.integers(0,len(source_neurite_)) # random axonal section\n",
    "    \n",
    "    target_syn = h.ExpSyn(target_neurite_[target_sec](0.5))\n",
    "    target.synapses.append(target_syn) # store synapse\n",
    "    \n",
    "    netcon = h.NetCon(source_neurite_[source_sec](0.5)._ref_v, target_syn, sec=source_neurite_[source_sec])\n",
    "    netcon.weight[0] = weight\n",
    "    netcon.delay = delay\n",
    "    \n",
    "    print('Connected cells %s -> %s with weight %g and delay %g, from %s[%d] to %s[%d]' % (source.name,target.name,weight,delay,source_neurite,source_sec,target_neurite,target_sec))\n",
    "    return netcon"
   ]
  },
  {
   "cell_type": "code",
   "execution_count": null,
   "metadata": {},
   "outputs": [],
   "source": [
    "# specify connection probabilites between cell types\n",
    "conn_prob_matrix = np.zeros((2,2))\n",
    "conn_prob_matrix[0,0] = 0.75 # Pyr to Pyr\n",
    "conn_prob_matrix[0,1] = 0.19 # Pyr to Int\n",
    "conn_prob_matrix[1,0] = 0.48 # Int to Pyr\n",
    "conn_prob_matrix[1,1] = 0.23 # Int to Int"
   ]
  },
  {
   "cell_type": "code",
   "execution_count": null,
   "metadata": {},
   "outputs": [],
   "source": [
    "netcons = [] # store all netcons\n",
    "\n",
    "rng = np.random.default_rng()\n",
    "\n",
    "# ADAPT TO THE CORRECT ONES\n",
    "# Connect Pyr2 to Pyr1\n",
    "if rng.random() < conn_prob_matrix[0,0]:\n",
    "    nc = connect(Pyr2, Pyr1)\n",
    "    netcons.append(nc)\n",
    "\n",
    "# Connect Int1 to Pyr1\n",
    "if rng.random() < conn_prob_matrix[1,0]:\n",
    "    nc = connect(Int1, Pyr1, target_neurite='soma')\n",
    "    netcons.append(nc)\n",
    "\n",
    "# Connect Pyr1 to Pyr2\n",
    "if rng.random() < conn_prob_matrix[0,0]:\n",
    "    nc = connect(Pyr1, Pyr2)\n",
    "    netcons.append(nc)\n",
    "\n",
    "# Connect Int1 to Pyr2\n",
    "if rng.random() < conn_prob_matrix[1,0]:\n",
    "    nc = connect(Int1, Pyr2, target_neurite='soma')\n",
    "    netcons.append(nc)\n",
    "\n",
    "# Connect Pyr1 to Int1\n",
    "if rng.random() < conn_prob_matrix[0,1]:\n",
    "    nc = connect(Pyr1, Int1)\n",
    "    netcons.append(nc)\n",
    "\n",
    "# Connect Pyr2 to Int1\n",
    "if rng.random() < conn_prob_matrix[0,1]:\n",
    "    nc = connect(Pyr2, Int1)\n",
    "    netcons.append(nc)"
   ]
  },
  {
   "cell_type": "markdown",
   "metadata": {},
   "source": [
    "### Step 4: Probability Matrix and number of contacts each of our cell has"
   ]
  },
  {
   "cell_type": "markdown",
   "metadata": {},
   "source": [
    "<span style=\"color:red\"> SHOULD WE MAKE A NICE HEATMAP TOO? OR JUST USE IMSHOW?"
   ]
  },
  {
   "cell_type": "code",
   "execution_count": null,
   "metadata": {},
   "outputs": [],
   "source": [
    "# Displaying Probabilty Matrix\n",
    "\n",
    "plt.imshow(conn_prob_matrix, cmap=\"viridis\", vmin=0.0, vmax=1.0)\n",
    "plt.colorbar()"
   ]
  },
  {
   "cell_type": "markdown",
   "metadata": {},
   "source": [
    "<span style=\"color:red\"> HOW DO WE HAVE CONTACTS?????"
   ]
  },
  {
   "cell_type": "code",
   "execution_count": null,
   "metadata": {},
   "outputs": [],
   "source": [
    "## Printing the number of contacts each of our cell has:\n",
    "\n"
   ]
  },
  {
   "cell_type": "markdown",
   "metadata": {},
   "source": [
    "# Ex3. Distribution of contacts: Convergence Matrix\n",
    "\n",
    "<font size='3'>Considering the following mean contact points between cell types: \n",
    "<br> PC_axon - PC_basal: 3\n",
    "<br> PC_axon - PC_apical: 1.5\n",
    "<br> PC_axon - Inh_basal: 4\n",
    "<br> Inh_axon - PC_soma: 3.5\n",
    "<br> Inh_axon - PC_basal: 2.2\n",
    "<br> Inh_axon - Inh_soma: 3.8\n",
    "<br> Inh_axon - Inh_basal: 1.9\n",
    "\n",
    "<font size='3'>Connect your cells by selecting the contact points from a normal distribution with a specific mean value per connection (values above). What is the maximum number of contacts you observe in your connectome ? Between which two cells ? Show the results on a __convergence__ matrix (how many contacts each of the cells receives from the others). [1.5 pts] "
   ]
  },
  {
   "cell_type": "markdown",
   "metadata": {},
   "source": [
    "<span style=\"color:red\"> Restarting Kernel out of precaution..."
   ]
  },
  {
   "cell_type": "markdown",
   "metadata": {},
   "source": [
    "### Step 1: Defining Cell Class"
   ]
  },
  {
   "cell_type": "code",
   "execution_count": null,
   "metadata": {},
   "outputs": [],
   "source": [
    "# Load usefull packages\n",
    "%matplotlib inline\n",
    "\n",
    "from neuron import h, gui\n",
    "import matplotlib.pyplot as plt\n",
    "import numpy as np\n",
    "import math as m"
   ]
  },
  {
   "cell_type": "code",
   "execution_count": null,
   "metadata": {},
   "outputs": [],
   "source": [
    "class Cell:\n",
    "    def __init__(self, filename, name, cell_type):\n",
    "        self.name = name\n",
    "        self.type = cell_type\n",
    "        self.synapses = []\n",
    "        self.build_morphology(filename)\n",
    "        self.biophysics()\n",
    "        \n",
    "    def build_morphology(self, filename):\n",
    "        h.load_file('import3d.hoc')\n",
    "        h.load_file('stdlib.hoc')\n",
    "        #morph_reader = h.Import3d_Neurolucida3()\n",
    "        morph_reader = h.Import3d_SWC_read()\n",
    "        morph_reader.input(filename)\n",
    "        i3d = h.Import3d_GUI(morph_reader, 0)\n",
    "        i3d.instantiate(self)\n",
    "    \n",
    "    def biophysics(self):\n",
    "        for sec in h.allsec():\n",
    "            sec.Ra = 100    # Axial resistance in Ohm * cm\n",
    "            sec.cm = 1      # Membrane capacitance in micro Farads / cm^2\n",
    "            sec.insert(\"pas\")\n",
    "            for seg in sec:\n",
    "                seg.pas.g = 0.00003\n",
    "                seg.pas.e = -75\n",
    "        \n",
    "        # Insert passive current in the dendrite\n",
    "        for sec in self.soma:\n",
    "            sec.insert('hh')\n",
    "            for seg in sec:\n",
    "                seg.hh.gnabar = 0.12  # Sodium conductance in S/cm2\n",
    "                seg.hh.gkbar = 0.036  # Potassium conductance in S/cm2\n",
    "        \n",
    "        if hasattr(self, 'apic'):\n",
    "            for sec in self.apic:\n",
    "                sec.insert('hh')\n",
    "                for seg in sec:\n",
    "                    seg.hh.gnabar = 0.12  # Sodium conductance in S/cm2\n",
    "                    seg.hh.gkbar = 0.036  # Potassium conductance in S/cm2\n",
    "        \n",
    "        for sec in self.dend:\n",
    "            sec.insert('hh')\n",
    "            for seg in sec:\n",
    "                seg.hh.gnabar = 0.12  # Sodium conductance in S/cm2\n",
    "                seg.hh.gkbar = 0.036  # Potassium conductance in S/cm2\n",
    "                \n",
    "        for sec in self.axon:\n",
    "            sec.insert('hh')\n",
    "            for seg in sec:    \n",
    "                seg.hh.gnabar = 0.12  # Sodium conductance in S/cm2\n",
    "                seg.hh.gkbar = 0.036  # Potassium conductance in S/cm2"
   ]
  },
  {
   "cell_type": "markdown",
   "metadata": {},
   "source": [
    "### Step 2: Instanciating the Cells from Homework 2"
   ]
  },
  {
   "cell_type": "code",
   "execution_count": null,
   "metadata": {},
   "outputs": [],
   "source": [
    "FILL_IN = Cell('FILL_IN.swc','FILL_IN','FILL_IN')\n",
    "FILL_IN = Cell('FILL_IN.swc','FILL_IN','FILL_IN')\n",
    "FILL_IN = Cell('FILL_IN.swc','FILL_IN','FILL_IN')\n",
    "FILL_IN = Cell('FILL_IN.swc','FILL_IN','FILL_IN')\n",
    "FILL_IN = Cell('FILL_IN.swc','FILL_IN','FILL_IN')\n",
    "\n",
    "# Classing the cells by group:\n",
    "cells_Pyr = [Pyr1, Pyr2]\n",
    "cells_Int = [Int1]\n",
    "cells = cells_Pyr + cells_Int"
   ]
  },
  {
   "cell_type": "code",
   "execution_count": null,
   "metadata": {},
   "outputs": [],
   "source": [
    "for c in cells_Pyr:\n",
    "    print('%s: %d apical sections, %d basal sections, %d soma sections and %d axon senctions' % (c.name,len(c.apic),len(c.dend), len(c.soma), len(c.axon)))\n",
    "for c in cells_Int:\n",
    "    print('%s: %d basal sections, %d soma sections and %d axon senctions' % (c.name,len(c.dend), len(c.soma), len(c.axon)))"
   ]
  },
  {
   "cell_type": "markdown",
   "metadata": {},
   "source": [
    "### Step 3: Connecting Cells by selecting contact point distribution"
   ]
  },
  {
   "cell_type": "code",
   "execution_count": null,
   "metadata": {},
   "outputs": [],
   "source": [
    "# connect two cells with an exponential synapse at given locations\n",
    "# returns the netcon\n",
    "def connect(source, target, weight = None, delay = 5, source_sec = None, source_neurite = 'axon', target_sec = None, target_neurite = 'dend'):\n",
    "    rng = np.random.default_rng()\n",
    "    \n",
    "    if weight is None:\n",
    "        weight = rng.uniform() # random weight\n",
    "    \n",
    "    target_neurite_ = getattr(target, target_neurite)\n",
    "    if target_sec is None:\n",
    "        target_sec = rng.integers(0,len(target_neurite_)) # random dendritic section\n",
    "    \n",
    "    source_neurite_ = getattr(source, source_neurite)\n",
    "    if source_sec is None:\n",
    "        source_sec = rng.integers(0,len(source_neurite_)) # random axonal section\n",
    "    \n",
    "    target_syn = h.ExpSyn(target_neurite_[target_sec](0.5))\n",
    "    target.synapses.append(target_syn) # store synapse\n",
    "    \n",
    "    netcon = h.NetCon(source_neurite_[source_sec](0.5)._ref_v, target_syn, sec=source_neurite_[source_sec])\n",
    "    netcon.weight[0] = weight\n",
    "    netcon.delay = delay\n",
    "    \n",
    "    print('Connected cells %s -> %s with weight %g and delay %g, from %s[%d] to %s[%d]' % (source.name,target.name,weight,delay,source_neurite,source_sec,target_neurite,target_sec))\n",
    "    return netcon"
   ]
  },
  {
   "cell_type": "code",
   "execution_count": null,
   "metadata": {},
   "outputs": [],
   "source": [
    "# specify connection probabilites between cell types\n",
    "conn_prob_matrix = np.zeros((2,2))\n",
    "conn_prob_matrix[0,0] = 0.75 # Pyr to Pyr\n",
    "conn_prob_matrix[0,1] = 0.19 # Pyr to Int\n",
    "conn_prob_matrix[1,0] = 0.48 # Int to Pyr\n",
    "conn_prob_matrix[1,1] = 0.23 # Int to Int"
   ]
  },
  {
   "cell_type": "code",
   "execution_count": null,
   "metadata": {},
   "outputs": [],
   "source": [
    "# specify expected number of contacts between cell types, considering target neurite\n",
    "expected_contacts = np.zeros((2,2,3), dtype=int)\n",
    "\n",
    "expected_contacts[0,0,0] = 0 # Pyr to Pyr (soma)\n",
    "expected_contacts[0,0,1] = 3 # Pyr to Pyr (dend)\n",
    "expected_contacts[0,0,2] = 1.5 # Pyr to Pyr (apic)\n",
    "\n",
    "expected_contacts[1,0,0] = 3.5 # Int to Pyr (soma)\n",
    "expected_contacts[1,0,1] = 0 # Int to Pyr (dend)\n",
    "expected_contacts[1,0,2] = 0 # Int to Pyr (apic)\n",
    "\n",
    "expected_contacts[0,1,0] = 0 # Pyr to Int (soma)\n",
    "expected_contacts[0,1,1] = 4 # Pyr to Int (dend)\n",
    "\n",
    "expected_contacts[1,1,0] = 3.8 # Int to Int (soma)\n",
    "expected_contacts[1,1,1] = 1.9 # Int to Int (dend)"
   ]
  },
  {
   "cell_type": "code",
   "execution_count": null,
   "metadata": {},
   "outputs": [],
   "source": [
    "# generate number of contacts per cell type, by selecting them from a normal distribution \n",
    "# in which the mean is the expected_contacts value\n",
    "\n",
    "netcons = [] # store all netcons\n",
    "\n",
    "rng = np.random.default_rng()\n",
    "\n",
    "# Connect Pyr2 to Pyr1\n",
    "if rng.random() < conn_prob_matrix[0,0]:\n",
    "    for i,neurite in enumerate(['soma','dend','apic']):\n",
    "        contacts = expected_contacts[0,0,i]\n",
    "        if contacts > 0:\n",
    "            contacts = m.floor(rng.normal(contacts))\n",
    "        if contacts < 0:\n",
    "            contacts = 0\n",
    "        for i in range(0,contacts):\n",
    "            nc = connect(Pyr2, Pyr1, target_neurite=neurite)\n",
    "            netcons.append(nc)\n",
    "\n",
    "# Connect Int1 to Pyr1\n",
    "if rng.random() < conn_prob_matrix[1,0]:\n",
    "    for i,neurite in enumerate(['soma','dend','apic']):\n",
    "        contacts = expected_contacts[1,0,i]\n",
    "        if contacts > 0:\n",
    "            contacts = m.floor(rng.normal(contacts))\n",
    "        if contacts < 0:\n",
    "            contacts = 0\n",
    "        for i in range(0,contacts):\n",
    "            nc = connect(Int1, Pyr1, target_neurite=neurite)\n",
    "            netcons.append(nc)\n",
    "\n",
    "# Connect Pyr1 to Pyr2\n",
    "if rng.random() < conn_prob_matrix[0,0]:\n",
    "    for i,neurite in enumerate(['soma','dend','apic']):\n",
    "        contacts = expected_contacts[0,0,i]\n",
    "        if contacts > 0:\n",
    "            contacts = m.floor(rng.normal(contacts))\n",
    "        if contacts < 0:\n",
    "            contacts = 0\n",
    "        for i in range(0,contacts):\n",
    "            nc = connect(Pyr1, Pyr2, target_neurite=neurite)\n",
    "            netcons.append(nc)\n",
    "\n",
    "# Connect Int1 to Pyr2\n",
    "if rng.random() < conn_prob_matrix[1,0]:\n",
    "    for i,neurite in enumerate(['soma','dend','apic']):\n",
    "        contacts = expected_contacts[1,0,i]\n",
    "        if contacts > 0:\n",
    "            contacts = m.floor(rng.normal(contacts))\n",
    "        if contacts < 0:\n",
    "            contacts = 0\n",
    "        for i in range(0,contacts):\n",
    "            nc = connect(Int1, Pyr2, target_neurite=neurite)\n",
    "            netcons.append(nc)\n",
    "\n",
    "# Connect Pyr1 to Int1\n",
    "if rng.random() < conn_prob_matrix[0,1]:\n",
    "    for i,neurite in enumerate(['soma','dend']):\n",
    "        contacts = expected_contacts[0,1,i]\n",
    "        if contacts > 0:\n",
    "            contacts = m.floor(rng.normal(contacts))\n",
    "        if contacts < 0:\n",
    "            contacts = 0\n",
    "        for i in range(0,contacts):\n",
    "            nc = connect(Pyr1, Int1, target_neurite=neurite)\n",
    "            netcons.append(nc)\n",
    "\n",
    "# Connect Pyr2 to Int1\n",
    "if rng.random() < conn_prob_matrix[0,1]:\n",
    "    for i,neurite in enumerate(['soma','dend']):\n",
    "        contacts = expected_contacts[0,1,i]\n",
    "        if contacts > 0:\n",
    "            contacts = m.floor(rng.normal(contacts))\n",
    "        if contacts < 0:\n",
    "            contacts = 0\n",
    "        for i in range(0,contacts):\n",
    "            nc = connect(Pyr2, Int1, target_neurite=neurite)\n",
    "            netcons.append(nc)"
   ]
  },
  {
   "cell_type": "markdown",
   "metadata": {},
   "source": [
    "### Step 4: Connection Probability Between Cells"
   ]
  },
  {
   "cell_type": "code",
   "execution_count": null,
   "metadata": {},
   "outputs": [],
   "source": [
    "plt.imshow(conn_prob_matrix, cmap=\"viridis\", vmin=0.0, vmax=1.0)\n",
    "plt.colorbar()"
   ]
  },
  {
   "cell_type": "markdown",
   "metadata": {},
   "source": [
    "### What is the maximum number of contacts you observe in your connectome ? Between which two cells ? Show the results on a convergence matrix (how many contacts each of the cells receives from the others)."
   ]
  },
  {
   "cell_type": "code",
   "execution_count": null,
   "metadata": {},
   "outputs": [],
   "source": [
    "# Convergence Matrix:\n",
    "\n",
    "contacts_matrix = np.zeros((3,3))\n",
    "cellnames = [x.name for x in cells]\n",
    "\n",
    "# iterate over netcons and count\n",
    "for nc in netcons:\n",
    "    pre = nc.precell().name\n",
    "    pos = nc.postcell().name\n",
    "    ipre = cellnames.index(pre)\n",
    "    ipos = cellnames.index(pos)\n",
    "    contacts_matrix[ipos,ipre] += 1 # CHANGED THIS LINE BUT NOT SURE AT ALL\n",
    "\n",
    "plt.imshow(contacts_matrix, cmap=\"YlGn\")\n",
    "plt.colorbar()"
   ]
  },
  {
   "cell_type": "markdown",
   "metadata": {},
   "source": [
    "<span style=\"color:red\"> MAKE SOME NICE CONCLUSIONS"
   ]
  },
  {
   "cell_type": "markdown",
   "metadata": {},
   "source": [
    "# Ex4. Real Connectivity Rules\n",
    "\n",
    "<font size='3'>Read the articles uploaded on the HomeWork folder (Markram_1997.pdf and Gupta_2000.pdf). \n",
    "\n",
    "<font size='3'>Imaging that you have to build a network with your five cells (3 pyramidals and 2 GABAergic interneurons) from rat somatosensory cortex. Extract from the papers the data that you would need to connect your cells (connectivity rules). Enumerate the data chosen to connect your cells. Using and modifying (if needed) the code from the tutorials, connect your five cells in a more biological way using the connectivity rules found in the papers. [2.5 pts]"
   ]
  },
  {
   "cell_type": "code",
   "execution_count": null,
   "metadata": {},
   "outputs": [],
   "source": []
  }
 ],
 "metadata": {
  "kernelspec": {
   "display_name": "Python 3",
   "language": "python",
   "name": "python3"
  },
  "language_info": {
   "codemirror_mode": {
    "name": "ipython",
    "version": 3
   },
   "file_extension": ".py",
   "mimetype": "text/x-python",
   "name": "python",
   "nbconvert_exporter": "python",
   "pygments_lexer": "ipython3",
   "version": "3.6.9"
  }
 },
 "nbformat": 4,
 "nbformat_minor": 4
}
